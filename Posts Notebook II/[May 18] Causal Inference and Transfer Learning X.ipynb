{
 "cells": [
  {
   "cell_type": "markdown",
   "id": "a4ecbc3a",
   "metadata": {},
   "source": [
    "## [May 18] Causal Inference and Transfer Learning X\n",
    "\n",
    "Presenter: Yuchen Ge  \n",
    "Affiliation: University of Oxford  \n",
    "Contact Email: gycdwwd@gmail.com  \n",
    "Website: https://yuchenge-am.github.io\n",
    "\n",
    "We follow the notations in $\\textit{Stochastic Differential Equations and Diffusion Processes}$ by Nobuyuki Ikeda. "
   ]
  },
  {
   "cell_type": "markdown",
   "id": "9cd53c1a-7b00-4471-90e9-65cd0ae3c359",
   "metadata": {},
   "source": [
    "---\n",
    "\n"
   ]
  },
  {
   "cell_type": "markdown",
   "id": "99fd183e-4cbd-4e45-8b0d-139b20201e96",
   "metadata": {},
   "source": [
    "### 1.Itô's Formula "
   ]
  },
  {
   "cell_type": "markdown",
   "id": "977e0e2d-ebee-41b2-b6a7-a35945ba6ee9",
   "metadata": {},
   "source": [
    "Recall that for continuous semimartingales, we have\n",
    "\n",
    "> 1. (**Itô's Formula**) If  $X^{1}, X^{2}, \\ldots, X^{d} \\in \\mathscr{Q}$  and  $f \\in \\boldsymbol{C}^{2}\\left(\\boldsymbol{R}^{d} \\longrightarrow \\boldsymbol{R}\\right)$, then $Y=f\\left(X^{1}, X^{2}, \\ldots, X^{d}\\right) \\in \\mathscr{Q}$ and \n",
    ">\n",
    "> $$ d Y=\\sum_{i=1}^{d}\\left(\\partial_{i} f\\right) \\cdot d X^{t}+\\frac{1}{2} \\sum_{i, j=1}^{d}\\left(\\partial_{t} \\partial_{j} f\\right) \\cdot d X^{i} \\cdot d X^{j}.$$\n",
    ">\n",
    "> 2. (**Martingale Characterization Theorem**) If  $d X^{i} \\in d \\mathscr{M}$  and $ d X^{i} \\cdot d X^{j}=\\delta_{i j} d t$, then  $\\left(X^{1}(t), X^{2}(t), \\ldots, X^{d}(t)\\right)$  is a  $d$-dimensional Wiener process."
   ]
  },
  {
   "cell_type": "markdown",
   "id": "dc678a9a-ff10-4e53-b913-18ce4f8e450e",
   "metadata": {},
   "source": [
    "Note that for general $X$ where we set\n",
    "\n",
    "$$ X(t)=X(0) + M(t)+A(t)+\\int_{0}^{t+} \\int_{X} f(s, x, \\cdot) N_{p}(d s d x) + \\int_{0}^{t+} \\int_{X} g(s, x, \\cdot) \\tilde{N}_{p}(d s d x)$$\n",
    "\n",
    "and restrict that $f(s, x, \\omega) g(s, x, \\omega)=0$, it suffices we add \n",
    "\n",
    "$$\\begin{aligned}\n",
    "& \\int_{0}^{t+} \\int_{X}\\{F(X(s-)+f(s, x, \\cdot))-F(X(s-))\\} N_{p}(d s d x) + \\int_{0}^{t+} \\int_{X}\\{F(X(s-)+g(s, x, \\cdot))-F(X(s-))\\} N_{p}(d s d x) \\\\\n",
    "& - \\int_{0}^{t} \\int_{X} \\sum_{i=1}^{d} g^{i}(s, x, \\cdot) F_{i}^{\\prime}(X(s)) \\hat{N}_{p}(d s d x) \\\\\n",
    "= \\text{ } & \\int_{0}^{t+} \\int_{X}\\{F(X(s-)+f(s, x, \\cdot))-F(X(s-))\\} N_{p}(d s d x) + \\int_{0}^{t+} \\int_{X}\\{F(X(s-)+g(s, x, \\cdot))-F(X(s-))\\} \\tilde{N}_{p}(d s d x) \\\\\n",
    "& + \\int_{0}^{t} \\int_{X}\\{F(X(s)+g(s, x, \\cdot))-F(X(s))  -\\sum_{i=1}^{d} g^{i}(s, x, \\cdot) F_{i}^{\\prime}(X(s))\\} \\hat{N}_{p}(d s d x) .\n",
    "\\end{aligned}$$\n",
    "\n",
    "\n",
    "\n",
    "\n",
    "\n",
    "\n",
    "Then we consider **symmetric multiplication** $ Y \\circ d X = Y \\cdot d X+\\frac{1}{2} d X \\cdot d Y$, with which we have $d Y=\\sum_{i=1}^{d} \\partial_{i} f \\circ d X^{t}$. It also assumes a connection with **Fisk integral** \n",
    "\n",
    "$$\\int_0^t Y \\circ d X = \\text{limit in probability of} \\sum_{i=1}^{n} \\frac{1}{2}(Y\\left(t_{t}\\right)+Y\\left(t_{i-1}\\right))\\left(X\\left(t_{i}\\right)-X\\left(t_{i-1}\\right)\\right).$$ "
   ]
  },
  {
   "cell_type": "markdown",
   "id": "fcbf1215-87fb-4a74-b4fe-5906bbd4a744",
   "metadata": {},
   "source": [
    "Finally, with **Itô's formula** and **Holder's inequality** we know that \n",
    "\n",
    "> Fix $0<p<\\infty$ and $M \\in \\mathscr{M} = \\mathscr{M}_{2}^{c, l o c}$, then \n",
    ">\n",
    "> $$c_{p} E\\left(M_{t}^{* 2 p}\\right) \\leq E\\left(\\langle M, M\\rangle_{t}^{p}\\right) \\leq C_{p} E\\left(M_{t}^{* 2 p}\\right) \\text{ for some universal constants } c_{p}, C_{p}$$\n",
    ">\n",
    "> where $M_{t}^{*}=\\max _{0 \\leq s \\leq t}\\left|M_{s}\\right|$."
   ]
  },
  {
   "cell_type": "markdown",
   "id": "f1242186-ba8e-49f8-80ce-8c1b2431b768",
   "metadata": {},
   "source": [
    "---\n",
    "\n",
    "### 2. Stochastic Differential Equations"
   ]
  },
  {
   "cell_type": "markdown",
   "id": "68f9ec46-96c5-4734-a8a1-95bd7cf6c49d",
   "metadata": {},
   "source": [
    "A **stochastic time change** is some $\\phi=\\left(\\phi_{t}\\right) \\in \\mathscr{A}_{+}$ s.t.  $t \\longmapsto \\phi_{t}$  is strictly increasing and  $\\lim _{t+\\infty} \\phi_{t}=\\infty$. We set $\\tau_{t}=\\inf \\left\\{u ; \\phi_{u}>t\\right\\}$"
   ]
  },
  {
   "cell_type": "code",
   "execution_count": null,
   "id": "12a14a97-c7de-4a8e-ae12-18d91d768834",
   "metadata": {},
   "outputs": [],
   "source": []
  },
  {
   "cell_type": "code",
   "execution_count": null,
   "id": "dcef607b-6625-4b7e-9852-d2df8056a3c1",
   "metadata": {},
   "outputs": [],
   "source": []
  },
  {
   "cell_type": "code",
   "execution_count": null,
   "id": "54be4534-5e1f-45fd-9a54-9eabe8d2fd1b",
   "metadata": {},
   "outputs": [],
   "source": []
  },
  {
   "cell_type": "code",
   "execution_count": null,
   "id": "07bdbb60-d328-48b9-8c41-89b16d144ee3",
   "metadata": {},
   "outputs": [],
   "source": []
  },
  {
   "cell_type": "code",
   "execution_count": null,
   "id": "e8db7603-d53a-4bc0-8e29-32b253a3555a",
   "metadata": {},
   "outputs": [],
   "source": []
  },
  {
   "cell_type": "code",
   "execution_count": null,
   "id": "a46daaa4-6ca9-4bd3-ab04-77b3e855d130",
   "metadata": {},
   "outputs": [],
   "source": []
  },
  {
   "cell_type": "code",
   "execution_count": null,
   "id": "2df333e1-3612-48b4-b16e-71a4b893c739",
   "metadata": {},
   "outputs": [],
   "source": []
  },
  {
   "cell_type": "code",
   "execution_count": null,
   "id": "4c3f21d7-95e9-46d6-9197-936c3b46d240",
   "metadata": {},
   "outputs": [],
   "source": []
  },
  {
   "cell_type": "code",
   "execution_count": null,
   "id": "4e343f01-be87-40f6-93ad-afd17f77530b",
   "metadata": {},
   "outputs": [],
   "source": []
  },
  {
   "cell_type": "code",
   "execution_count": null,
   "id": "da70800f-61bc-4a0c-a47d-f0492e9cdeee",
   "metadata": {},
   "outputs": [],
   "source": []
  },
  {
   "cell_type": "code",
   "execution_count": null,
   "id": "6ae5c903-4a07-4c80-a586-b2545ec8b9a7",
   "metadata": {},
   "outputs": [],
   "source": []
  },
  {
   "cell_type": "code",
   "execution_count": null,
   "id": "6e4433c2-cbd0-4571-99ea-bc3f6b29c8d8",
   "metadata": {},
   "outputs": [],
   "source": []
  },
  {
   "cell_type": "code",
   "execution_count": null,
   "id": "56b349cb-2941-4ea0-a171-e96981221b07",
   "metadata": {},
   "outputs": [],
   "source": []
  },
  {
   "cell_type": "markdown",
   "id": "98f28c99-02ff-45bf-ac85-baba30c40ef6",
   "metadata": {},
   "source": [
    "---\n",
    "\n",
    "### Reference\n",
    "\n",
    "1. Shuxiao Chen. Minimax Rates and Adaptivity in Combining Experimental and Observational Data.\n",
    "2. Qingyuan Zhao. Lecture Notes on Causal Inference. \n",
    "3. Joaquin Quiñonero-Candela. Dataset Shift In Machine Learning.\n",
    "4. Geoff K. Nicholls. Bayes Methods.\n",
    "5. Patrick J. Laub. Hawkes Processes.\n",
    "6. Tomas Björk. An Introduction to Point Processes from a Martingale Point of View.\n",
    "7. Jonas Peters. Elements of Causal Inference.\n",
    "8. Alessio Zanga. A Survey on Causal Discovery.\n",
    "9. Qing Zhou. Directed Mixed Graphs for Latent Variables.\n",
    "10. Peter Spirtes. Causation, Prediction, and Search. \n",
    "11. Thomas Richardson. Ancestral Graph Markov Models.\n",
    "12. Jonas Peters. Causal Inference Using Invariant Prediction.\n",
    "13. Jonathan Baxter. A Bayesian/Information Theoretic Model of Learning to Learn via Multiple Task Sampling."
   ]
  }
 ],
 "metadata": {
  "kernelspec": {
   "display_name": "Python 3 (ipykernel)",
   "language": "python",
   "name": "python3"
  },
  "language_info": {
   "codemirror_mode": {
    "name": "ipython",
    "version": 3
   },
   "file_extension": ".py",
   "mimetype": "text/x-python",
   "name": "python",
   "nbconvert_exporter": "python",
   "pygments_lexer": "ipython3",
   "version": "3.9.18"
  }
 },
 "nbformat": 4,
 "nbformat_minor": 5
}
