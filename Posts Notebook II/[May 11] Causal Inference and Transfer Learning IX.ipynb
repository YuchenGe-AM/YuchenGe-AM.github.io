{
 "cells": [
  {
   "cell_type": "markdown",
   "id": "a4ecbc3a",
   "metadata": {},
   "source": [
    "## [May 10] Causal Inference and Transfer Learning IX\n",
    "\n",
    "Presenter: Yuchen Ge  \n",
    "Affiliation: University of Oxford  \n",
    "Contact Email: gycdwwd@gmail.com  \n",
    "Website: https://yuchenge-am.github.io\n",
    "\n",
    "The following is first reading of $\\textit{Point Processes and Their Statistical Inference}$ by Alan Karr."
   ]
  },
  {
   "cell_type": "markdown",
   "id": "9cd53c1a-7b00-4471-90e9-65cd0ae3c359",
   "metadata": {},
   "source": [
    "---\n",
    "\n"
   ]
  },
  {
   "cell_type": "markdown",
   "id": "ce220575-10d1-4295-9052-f5f969ff0c7c",
   "metadata": {},
   "source": [
    "### 1. Random Measure"
   ]
  },
  {
   "cell_type": "markdown",
   "id": "6f5f0a4c-2564-4cef-8a54-468f18db770b",
   "metadata": {},
   "source": [
    "We consider a probability space $(\\Omega, \\mathcal{F}, P)$  and set \n",
    "\n",
    "> $(E$, $\\mathcal{E})$ = LCCB space (locally compact $T_2$ space with a countable base) with ring of bounded Borel sets $\\mathcal{B}$.\n",
    ">\n",
    "> $ \\mathbf{M} = \\{\\text {Radon measures}$ on $\\mathcal{B}\\} = \\{\\mu: \\mu(A)<\\infty, \\forall A \\in \\mathcal{B} \\}$.\n",
    ">\n",
    "> A **random measure** on  $E$  is a measurable mapping  $M$: $(\\Omega, \\mathcal{F}) \\to (\\mathbf{M}, \\mathcal{M})$ where $\\mathcal{M}=\\sigma\\left(\\mu \\rightarrow \\mu(f): f \\in C_{K}\\right)$. It can be considered as a random distribution of mass/charge.\n",
    "\n",
    "A Radon measure  $\\mu$  can be decomposed as\n",
    "\n",
    "$$\\mu=\\mu_{d}+\\sum_{i=1}^{K} a_{i} \\varepsilon_{x_{i}}$$\n",
    "\n",
    "where $\\mu_{d}$ is diffuse, $0 \\leq K \\leq \\infty$, $a_{i}>0$. Inspired from the decomposition, we define $\\mathbf{M}_{d}$ = totality of diffuse random measures, $\\mathbf{M}_{p}$ = $\\{\\mu \\in \\mathbf{M}: \\mu(A) \\in \\mathbf{N}, \\forall A \\in \\mathcal{B}\\}$, and $\\mathbf{M}_{s}$ = $\\left\\{\\mu \\in \\mathbf{M}_{p}: \\mu(\\{x\\}) \\leq 1\\right\\}$ with corresponding trace $\\sigma$-algebras. \n",
    "\n",
    "> A point process on  $E$  is a measurable mapping  $N$: $(\\Omega, \\mathcal{F})\\to  \\left(\\mathbf{M}_{p}, \\mathcal{M}_{p}\\right)$.\n",
    ">\n",
    "> A simple point process $N$ is a measurable mapping  $N$: $(\\Omega, \\mathcal{F})\\to  \\left(\\mathbf{M}_{s}, \\mathcal{M}_{s}\\right)$. (e.g. empirical process $ N=\\sum_{i=1}^{n} \\varepsilon_{X_{i}}$ with i.i.d. $X_{i}$'s)"
   ]
  },
  {
   "cell_type": "markdown",
   "id": "d5b25bfa-57e0-40fd-a2fe-307c40cee123",
   "metadata": {},
   "source": [
    "For a point process, $\\exists$ a representation \n",
    "$$N=\\sum_{i=1}^{K} \\varepsilon_{X_{i}}$$ \n",
    "\n",
    "where the $X_{i}:(\\Omega, \\mathcal{F}) \\to (E, \\mathcal{E})$ are measurable. Then we know $N(f) = \\int_{E} f(x) M(d x) = \\sum_{i=1}^{K} f\\left(X_{i}\\right)$. If it's moreover simple, the points  $X_{i}$  are distinct a.s.and on  $\\mathbf{R}_{+}$ we may take  $0 \\leq T_{1}< T_{2}<\\ldots$. For $P\\left\\{M \\in \\mathbf{M}_{a}\\right\\}=1$, above generaizes to $M=\\sum_{i=1}^{K} U_{i} \\varepsilon_{X_{i}}$ where $U_i \\geq 0$."
   ]
  },
  {
   "cell_type": "markdown",
   "id": "87be9f84-48f4-4a53-93a2-153b055d3a31",
   "metadata": {},
   "source": [
    "> Complete knowledge of $M$ over a set $A$ is $\\mathcal{F}^{M}(A)=\\sigma(M(B): B \\in \\mathcal{E}, B \\subseteq A)$.\n",
    "\n",
    "In short, $\\mathcal{F}^{M}=\\mathcal{F}^{M}(E)$. Distribution of $N$ is the probability measure $\\mathcal{L}_{N}=P N^{-1}$ on $\\left(\\mathbf{M}_{p}, \\mathcal{M}_{p}\\right)$ and equality in distribution is written as $N_{1} \\stackrel{d}{=} N_{2}$. The Laplace functional of $N$  is the mapping  $L_{N}(f)=E\\left[e^{-N(f)}\\right]=E\\left[e^{-\\sum_{i} f\\left(X_{i}\\right)}\\right]$ where  $f \\in \\mathcal{E}^{+}$. Then the following provides their connections.\n",
    "\n",
    "> 1. $L_{N_{1}}(f)=L_{N_{2}}(f), \\forall f \\in \\mathcal{E}^{+}$ $\\implies$ $N_{1} \\stackrel{d}{=} N_{2} $.\n",
    "> 2. $L_{N_{n}}(f) \\rightarrow L_{N}(f), \\forall$ nonnegative $f \\in C_{K}$ $\\implies$ $N_{n} \\xrightarrow{d} N$."
   ]
  },
  {
   "cell_type": "markdown",
   "id": "6e6b0496-e9f4-4c83-846a-223dd3244216",
   "metadata": {},
   "source": [
    "We prove 1: first observe $\\{\\mu: \\mu(A)=0\\}$ constitute a $\\pi$-system on $\\mathbf{M}_{s}$ generating $\\mathcal{M}_{s}$, then apply the Dynkin $\\pi-\\lambda$ theorem.\n",
    "\n",
    "> The mean measure is given by $\\mu_{N}(A)=E[N(A)]$."
   ]
  },
  {
   "cell_type": "code",
   "execution_count": null,
   "id": "6bd0a41c-1ba3-4b76-91c1-36ef757662d2",
   "metadata": {},
   "outputs": [],
   "source": []
  },
  {
   "cell_type": "code",
   "execution_count": null,
   "id": "e303990f-302f-463f-8b0f-c51cabdd5942",
   "metadata": {},
   "outputs": [],
   "source": []
  },
  {
   "cell_type": "code",
   "execution_count": null,
   "id": "2e2754e0-afe8-430f-bb6f-70bd97e08407",
   "metadata": {},
   "outputs": [],
   "source": []
  },
  {
   "cell_type": "code",
   "execution_count": null,
   "id": "cde01e60-3509-465d-b945-71c1792d12b8",
   "metadata": {},
   "outputs": [],
   "source": []
  },
  {
   "cell_type": "code",
   "execution_count": null,
   "id": "ca389b27-5585-46c1-90d4-a46800b8f261",
   "metadata": {},
   "outputs": [],
   "source": []
  },
  {
   "cell_type": "code",
   "execution_count": null,
   "id": "3bb3997b-be8a-4492-90ca-64d9ed09b0c5",
   "metadata": {},
   "outputs": [],
   "source": []
  },
  {
   "cell_type": "code",
   "execution_count": null,
   "id": "23d11512-445b-4917-a57f-979ce15da51b",
   "metadata": {},
   "outputs": [],
   "source": []
  },
  {
   "cell_type": "markdown",
   "id": "b0e42572-9eee-44fa-b59d-e9fe8b293a35",
   "metadata": {},
   "source": [
    "---\n",
    "\n",
    "### 2. Marked Point Process"
   ]
  },
  {
   "cell_type": "markdown",
   "id": "27e162f1-cb81-4d61-ba1a-38123cea6ffb",
   "metadata": {},
   "source": [
    "Let $N=\\sum_{n=1}^{\\infty} \\varepsilon_{\\left(T_{n}, Z_{n}\\right)}$  be a marked point process on  $\\mathbf{R}_{+}$ with mark space  $(E, \\mathcal{E})$. Throughout we assume $\\sum_{n=1}^{\\infty} \\varepsilon_{T_{n}}$ is simple.\n",
    "\n",
    "> $N_{t}(B)=\\sum_{n=1}^{\\infty} \\mathbf{1}\\left(T_{n} \\leq t, Z_{n} \\in B\\right), \\text { with } N_{t}=N_{t}(E)$."
   ]
  },
  {
   "cell_type": "markdown",
   "id": "3832603a-d45e-482b-aa42-e8e221c68d56",
   "metadata": {},
   "source": [
    "We would like to study the structure of the **internal\n",
    "history** $\\mathcal{F}_{t}^{N}=\\sigma\\left(N_{s}(B): 0 \\leq s \\leq t, B \\in \\mathcal{E}\\right)$, virtually all of which is inherited by $\\tilde{\\mathcal{F}}_{t}^{N}=\\mathcal{F}_{t}^{N} \\bigvee \\mathcal{N}$."
   ]
  },
  {
   "cell_type": "markdown",
   "id": "df32011e-87be-48e2-a6ff-6f4d07bce0e1",
   "metadata": {},
   "source": [
    "> $\\mathcal{F}_{T}^{N}=\\left\\{\\Lambda \\in \\mathcal{F}_{\\infty}^{N}: \\Lambda \\cap\\{T \\leq t\\} \\in \\mathcal{F}_{t}^{N}\\right\\}$ and $\\mathcal{F}_{T-}^{N}=\\sigma\\left(\\Lambda \\cap\\{T>t\\}: t \\geq 0, \\Lambda \\in \\mathcal{F}_{t}^{N}\\right) \\vee \\mathcal{F}_{0}^{N}$\n",
    ">\n",
    "> "
   ]
  },
  {
   "cell_type": "code",
   "execution_count": null,
   "id": "edffc5a0-ca61-47fc-9f11-56c65b44c242",
   "metadata": {},
   "outputs": [],
   "source": []
  },
  {
   "cell_type": "code",
   "execution_count": null,
   "id": "b078418e-438a-43aa-8257-8975900ebcd5",
   "metadata": {},
   "outputs": [],
   "source": []
  },
  {
   "cell_type": "code",
   "execution_count": null,
   "id": "fa1b6ef7-9781-4acf-9bd2-92c4ac268d23",
   "metadata": {},
   "outputs": [],
   "source": []
  },
  {
   "cell_type": "code",
   "execution_count": null,
   "id": "b8204f67-77d2-43eb-919a-85a00a1511eb",
   "metadata": {},
   "outputs": [],
   "source": []
  },
  {
   "cell_type": "code",
   "execution_count": null,
   "id": "79594cc8-3d98-4b5a-ba23-4824f20be7d3",
   "metadata": {},
   "outputs": [],
   "source": []
  },
  {
   "cell_type": "code",
   "execution_count": null,
   "id": "e8db7603-d53a-4bc0-8e29-32b253a3555a",
   "metadata": {},
   "outputs": [],
   "source": []
  },
  {
   "cell_type": "code",
   "execution_count": null,
   "id": "a46daaa4-6ca9-4bd3-ab04-77b3e855d130",
   "metadata": {},
   "outputs": [],
   "source": []
  },
  {
   "cell_type": "markdown",
   "id": "f14699cc-0be6-44ad-811e-2a88341b093d",
   "metadata": {},
   "source": [
    "---\n",
    "\n",
    "### 3. Statistical Framework of Point Processes"
   ]
  },
  {
   "cell_type": "code",
   "execution_count": null,
   "id": "45217b27-b066-4906-8bce-6150af0242a0",
   "metadata": {},
   "outputs": [],
   "source": []
  },
  {
   "cell_type": "code",
   "execution_count": null,
   "id": "b95dc04f-0064-4dba-b7cc-33ee2b574cb9",
   "metadata": {},
   "outputs": [],
   "source": []
  },
  {
   "cell_type": "code",
   "execution_count": null,
   "id": "930243ad-f8c3-494b-8fc9-877a7bf63674",
   "metadata": {},
   "outputs": [],
   "source": []
  },
  {
   "cell_type": "code",
   "execution_count": null,
   "id": "26d5e76e-9112-40f2-bdc1-49dadd77b323",
   "metadata": {},
   "outputs": [],
   "source": []
  },
  {
   "cell_type": "code",
   "execution_count": null,
   "id": "34417da8-35d5-489f-a813-4afa9a96d0ca",
   "metadata": {},
   "outputs": [],
   "source": []
  },
  {
   "cell_type": "code",
   "execution_count": null,
   "id": "3f596d70-2a2c-4bdd-8a2c-592c6131cb36",
   "metadata": {},
   "outputs": [],
   "source": []
  },
  {
   "cell_type": "code",
   "execution_count": null,
   "id": "903edd8b-43a0-42e0-a3d5-27f1430ae798",
   "metadata": {},
   "outputs": [],
   "source": []
  },
  {
   "cell_type": "code",
   "execution_count": null,
   "id": "6e4433c2-cbd0-4571-99ea-bc3f6b29c8d8",
   "metadata": {},
   "outputs": [],
   "source": []
  },
  {
   "cell_type": "code",
   "execution_count": null,
   "id": "56b349cb-2941-4ea0-a171-e96981221b07",
   "metadata": {},
   "outputs": [],
   "source": []
  },
  {
   "cell_type": "markdown",
   "id": "98f28c99-02ff-45bf-ac85-baba30c40ef6",
   "metadata": {},
   "source": [
    "---\n",
    "\n",
    "### Reference\n",
    "\n",
    "1. Shuxiao Chen. Minimax Rates and Adaptivity in Combining Experimental and Observational Data.\n",
    "2. Qingyuan Zhao. Lecture Notes on Causal Inference. \n",
    "3. Joaquin Quiñonero-Candela. Dataset Shift In Machine Learning.\n",
    "4. Geoff K. Nicholls. Bayes Methods.\n",
    "5. Patrick J. Laub. Hawkes Processes.\n",
    "6. Tomas Björk. An Introduction to Point Processes from a Martingale Point of View.\n",
    "7. Jonas Peters. Elements of Causal Inference.\n",
    "8. Alessio Zanga. A Survey on Causal Discovery.\n",
    "9. Qing Zhou. Directed Mixed Graphs for Latent Variables.\n",
    "10. Peter Spirtes. Causation, Prediction, and Search. \n",
    "11. Thomas Richardson. Ancestral Graph Markov Models.\n",
    "12. Jonas Peters. Causal Inference Using Invariant Prediction.\n",
    "13. Jonathan Baxter. A Bayesian/Information Theoretic Model of Learning to Learn via Multiple Task Sampling.\n",
    "14. Nobuyuki Ikeda. Stochastic Differential Equations and Diffusion Processes.\n",
    "15. Alan F. Karr. Point Processes and Their Statistical Inference."
   ]
  }
 ],
 "metadata": {
  "kernelspec": {
   "display_name": "Python 3 (ipykernel)",
   "language": "python",
   "name": "python3"
  },
  "language_info": {
   "codemirror_mode": {
    "name": "ipython",
    "version": 3
   },
   "file_extension": ".py",
   "mimetype": "text/x-python",
   "name": "python",
   "nbconvert_exporter": "python",
   "pygments_lexer": "ipython3",
   "version": "3.9.18"
  }
 },
 "nbformat": 4,
 "nbformat_minor": 5
}
