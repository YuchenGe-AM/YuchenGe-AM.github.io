{
 "cells": [
  {
   "cell_type": "markdown",
   "id": "a4ecbc3a",
   "metadata": {},
   "source": [
    "## [May 10] Causal Inference and Transfer Learning VIII\n",
    "\n",
    "Presenter: Yuchen Ge  \n",
    "Affiliation: University of Oxford  \n",
    "Contact Email: gycdwwd@gmail.com  \n",
    "Website: https://yuchenge-am.github.io"
   ]
  },
  {
   "cell_type": "markdown",
   "id": "f5239b1c-6921-4027-9a82-52b42c3e86b1",
   "metadata": {},
   "source": [
    "The following is a recap of stochastic calculus based on $\\textit{Stochastic Differential Equations and Diffusion Processes}$ by Nobuyuki Ikeda."
   ]
  },
  {
   "cell_type": "markdown",
   "id": "9cd53c1a-7b00-4471-90e9-65cd0ae3c359",
   "metadata": {},
   "source": [
    "---\n",
    "\n"
   ]
  },
  {
   "cell_type": "markdown",
   "id": "22894031-2edf-4676-996b-7f5d9b027385",
   "metadata": {},
   "source": [
    "### 1. Topological Preliminary"
   ]
  },
  {
   "cell_type": "markdown",
   "id": "a290d5b5-e5b3-47a7-aea5-8775f3600ba1",
   "metadata": {},
   "source": [
    "Recall some basic topological properpties. \n",
    "\n",
    "> 1. Every locally compact hausdorff space is regular. (consider one-point compactification) \n",
    ">\n",
    "> 2. **Urysohn's metrization theorem**: Every second-countable $T_3$ space is metrisable.\n",
    ">\n",
    "> 3. Every second-countable metric space is separable.\n",
    ">\n",
    "> 4. Every locally compact metric space is completely metrizable. (consider completion) "
   ]
  },
  {
   "cell_type": "markdown",
   "id": "7b3e58f9-5457-47e9-b6e8-659dcd7993cb",
   "metadata": {},
   "source": [
    "Therefore, a locally compact $T_2$ space with a countable base is a **Polish space** (i.e. a separable and completely metrizable space). \n",
    "\n",
    "We know that \n",
    "\n",
    "> 1. Any Polish space is homeomorphic to a Borel set in  $[0,1]^{\\mathbb{N}}$ and is Borel isomorphic to a Borel set in $[0,1]$. (see thm 1.1 in $\\textit{Random Measures, Theory and Applications}$)\n",
    ">\n",
    "> 2. Any Polish space is a **standard measurable space** and thus admits a unique regular\n",
    "conditional probability.\n",
    "\n",
    "---\n",
    "\n",
    "Let $S$  be a separable metric space with the metric  $\\rho$. Recall that $P_{n} \\xrightarrow{w} P $.  on  $(S, \\mathscr{B}(S))$  if $\\forall  f \\in C_{b}(S)$, \n",
    "\n",
    "$$\\lim _{n \\rightarrow \\infty} \\int_{s} f(x) P_{n}(d x)=\\int_{s} f(x) P(d x) .$$"
   ]
  },
  {
   "cell_type": "markdown",
   "id": "02e6805b-84c6-478f-b39d-da7da88ec7bc",
   "metadata": {
    "tags": []
   },
   "source": [
    "This is a metric concept. Actually, from the well known fact \n",
    "\n",
    "> A separable metric space is homeomorphic to a subset of $[0, 1]^N$\n",
    "\n",
    "we can choose an equivalent metric so that  $S$  is totally bounded under this metric. Then, the set of all uniformly continuous functions has a countable dense subset $\\left\\{f_{n}\\right\\}$ w.r.t. $\\|\\cdot\\|_{\\infty}$ and we set\n",
    "\n",
    "$$d(P, Q)=\\sum_{j=1}^{\\infty} 2^{-j}\\left\\{1 \\wedge\\left(\\left|\\int_{s} f_{j}(x) P(d x)-\\int_{s} f_{j}(x) Q(d x)\\right|\\right)\\right\\} .$$\n",
    "\n",
    "which is a compatible metric using the fact that $P_{n} \\xrightarrow{w} P $ iff $\\lim _{n \\rightarrow \\infty} \\int_{S} f(x) P_{n}(d x)=\\int_{S} f(x) P(d x)$, $\\forall$ uniformly continuous  $f \\in C_{b}(S)$.\n",
    "Then we discuss the **Prokhorov’s theorem**.\n",
    "\n",
    "> A family  $\\Lambda \\subset \\mathscr{P}(S) $ is **tight** if $\\forall \\varepsilon>0$  $\\exists K \\subset S$  s.t.  $\\inf _{p \\in \\Lambda} P(K) \\geq 1-\\varepsilon$.\n",
    ">\n",
    "> **Thm. (Prokhorov’s Theorem)** $\\Lambda \\subset \\mathscr{P}(S)$ is tight $\\implies$  $\\Lambda$  is relatively compact in  $\\mathscr{P}(S)$.\n",
    "\n",
    "Note that when $S$  is complete, the converse of Prokhorov’s Theorem is true. \n",
    "\n",
    "We prove a special case. If  $S$  is a compact metric space then  $\\mathscr{P}(S)$  is compact and hence every  $\\Lambda \\subset \\mathscr{P}(S)$  is relatively compact. Indeed, by Riesz's theorem,  $\\mathscr{P}(S)=\\left\\{\\mu \\in C^{*}(S) ; \\mu(f) \\geq 0\\right.$  for  $f \\geq 0$  and  $\\mu(\\boldsymbol{1})=1\\}$, and since  $C(S)=C_{b}(S)$ weak convergence is equivalent to convergence in the weak $*$-topology on $C^{*}(S)$. Thus  $\\mathscr{P}(S)$  is compact since it is a weak $*$-closed subset of the unit ball in  $C^{*}(S)$  and we have\n",
    "\n",
    "> **Thm. (Banach Alaoglu Theorem)** the unit ball is weak $*$-compact."
   ]
  },
  {
   "cell_type": "markdown",
   "id": "6f3f8c27-bc69-467b-ae4b-6a0ec8f4a470",
   "metadata": {},
   "source": [
    "Finally, via constructions of intervals on $[0,1)$ we have\n",
    "\n",
    "> **Thm.** Let  $(S, \\rho)$  be a complete separable metric space, and  $P_{n}$ and  $P$  be probabilities on  $(S, \\mathscr{B}(S))$ s.t. $P_{n} \\xrightarrow{w}   P$  as  $n \\rightarrow \\infty$. Then, on another $(\\tilde{\\Omega}, \\tilde{\\mathscr{B}}, \\tilde{P})$, we can construct  $S$-valued random variables  $X_{n}$, and  $X$ s.t.\n",
    ">\n",
    "> 1.  $P_{n}=\\tilde{P}^{X_{n}}$  and  $P=\\tilde{P}^{X}$.\n",
    "> 2.  $X_{n}$  converges to  $X$  almost everywhere.\n",
    "\n",
    "In particular, convergence in law can be realized by an a.s. convergence without changing the law of any  $X_{n}$."
   ]
  },
  {
   "cell_type": "markdown",
   "id": "a2d60713-2e23-4f5c-8801-4044911447f6",
   "metadata": {},
   "source": [
    "---\n",
    "\n",
    "### 2. Martingale Theory\n",
    "\n",
    "Let  $(\\Omega, \\mathscr{F}, P)$  be **complete** with right-continuous $\\left(\\mathscr{F}_{t}\\right)_{t \\geq 0}$  of sub  $\\sigma$-fields of  $\\mathscr{F}$. Set  $\\boldsymbol{T}=\\{0,1,2, \\ldots\\}$ or $[0, \\infty)$ and $\\overline{\\boldsymbol{T}}=\\boldsymbol{T} \\cup\\{\\infty\\} $ be the one-point compactification.\n"
   ]
  },
  {
   "cell_type": "markdown",
   "id": "a54a5bd3-c863-47f8-b49c-e9df93d2f7cf",
   "metadata": {},
   "source": [
    "> A real $\\left(\\mathscr{F}_{t}\\right)$-adapted stochastic process  $X=\\left(X_{t}\\right)_{t \\in T}$  is a **submartingale** w.r.t. $\\left(\\mathscr{F}_{t}\\right)$ if  $X_{t}$  is integrable for each  $t \\in T$, and  $E\\left(X_{\\tau} \\mid \\mathscr{F}_{\\sigma}\\right) \\geq X_{\\tau \\wedge \\sigma}$ for any bounded stopping times $\\sigma$ and $\\tau$."
   ]
  },
  {
   "cell_type": "markdown",
   "id": "81e43212-bce4-4b28-a060-a6162a502f9b",
   "metadata": {},
   "source": [
    "Let $X=\\left(X_{n}\\right)$ be a submartingale w.r.t. some reference family $\\big($equivalently, $X$  is a martingale w.r.t. the proper reference family  $\\mathscr{F}_{n}^{X} = \\sigma\\left[X_{t}, t \\leq n\\right]$$\\big)$. Recall some basic inequalities\n",
    "\n",
    "> 1. $ \\lambda P\\left(\\max _{0 \\leq n \\leq N} X_{n} \\geq \\lambda\\right) \\leq E\\left(X_{N}: \\max _{0 \\leq n \\leq N} X_{n} \\geq \\lambda\\right) \\leq E\\left(X_{N}^{+}\\right) \\leq E\\left(\\left|X_{N}\\right|\\right)$ for $N\\in T$.\n",
    ">\n",
    "> 2. $E\\left(U_{N}^{X}(a, b)\\right) \\leq \\frac{1}{b-a}\\left(E\\left\\{\\left(X_{N}-a\\right)^{+}-\\left(X_{0}-a\\right)^{+}\\right\\}\\right)$ for $a<b$.\n",
    "\n",
    "Here $U_{N}^{X}(a, b)$ = $\\lim_{N \\rightarrow \\infty}\\#$ upcrossings of $\\left(X_{n}\\right)_{n=0}^{N}$ for $[a,b]$. Next we show"
   ]
  },
  {
   "cell_type": "markdown",
   "id": "2084d7d0-c3d5-424b-bfa9-56250f9188ec",
   "metadata": {},
   "source": [
    "\n",
    "> If  $X=\\left(X_{n}\\right)_{n \\in T}$  is a submartingale s.t. $\\sup _{n} E\\left(X_{n}^{+}\\right)<\\infty$, then \n",
    ">\n",
    "> $$X_{\\infty}=\\lim _{n \\rightarrow \\infty} X_{n}$$  \n",
    ">\n",
    "> exists almost surely and  $X_{\\infty}$  is integrable."
   ]
  },
  {
   "cell_type": "markdown",
   "id": "f63a5d37-c5e0-4346-baee-8bdcdbb67ed9",
   "metadata": {},
   "source": [
    "**Proof.** Since $E\\left(\\left|X_{n}\\right|\\right)=2 E\\left(X_{n}^{+}\\right)-E\\left(X_{n}\\right) \\leq 2 E\\left(X_{n}^{+}\\right)-E\\left(X_{0}\\right)$, we have  $\\sup E\\left(\\left|X_{n}\\right|\\right)<\\infty$. Thus, if $X_{\\infty}=\\lim _{n \\rightarrow \\infty} X_{n}$ exists, then  $X_{\\infty}$  is integrable by Fatou's lemma. Set  $U_{\\infty}^{x}(a, b) = \\lim _{N \\rightarrow \\infty} U_{N}^{X}(a, b)$, then\n",
    "\n",
    "$$\\left\\{\\omega ; \\underline{\\lim}_{n \\rightarrow \\infty} X_{n}(\\omega)<\\overline{\\lim}_{n \\rightarrow \\infty} X_{n}(\\omega)\\right\\}=\\underset{r, r^{\\prime} \\in Q, r<r^{\\prime}}{\\bigcup}\\left\\{\\omega ; U_{\\infty}^{X}\\left(r, r^{\\prime}\\right)=\\infty\\right\\}$$\n",
    "\n",
    "\n",
    "But we know that \n",
    "\n",
    "$$ E\\left(U_{\\infty}^{X}\\left(r, r^{\\prime}\\right)\\right) = \\lim _{N \\rightarrow \\infty} E\\left(U_{N}^{X}\\left(r, r^{\\prime}\\right)\\right) \\leq \\frac{1}{r^{\\prime}-r} \\lim _{N \\rightarrow \\infty} E\\left\\{\\left(X_{N}-r\\right)^{+}-\\left(X_{0}-r\\right)^{+}\\right\\} $$\n",
    "\n",
    "and this is finite. Consequently  $P\\left[\\underline{\\lim}_{n \\rightarrow \\infty} X_{n}<\\overline{\\lim}_{n \\rightarrow \\infty} X_{n}\\right]=0$, which proves that  $\\lim _{n \\rightarrow \\infty} X_{n}$  exists a.s."
   ]
  },
  {
   "cell_type": "markdown",
   "id": "e871b85a-531b-4ce8-a726-9401a1d6eddc",
   "metadata": {},
   "source": [
    "> $\\Lambda \\subset \\mathscr{L}_{1}(\\Omega, \\mathscr{F}, P)$ is **equi-integrable** if $\\lim _{\\lambda \\rightarrow \\infty} \\sup _{x \\in \\Lambda} E(|X|:|X|>\\lambda)=0$."
   ]
  },
  {
   "cell_type": "markdown",
   "id": "bd83b247-0346-492f-9120-88ffa1d43c61",
   "metadata": {},
   "source": [
    "Suppose $X_{n} \\leq E\\left(X_{\\infty} \\mid \\mathscr{F}_{n}\\right)$, then by Jensen's inequality,  \n",
    "\n",
    "$$ X_{n}^{+} \\leq E\\left(X_{\\infty}^{+} \\mid \\mathscr{F}_{n}\\right)  \\implies  E\\left(X_{n}^{+}: X_{n}^{+}>\\lambda\\right) \\leq E\\left(X_{\\infty}^{+}: X_{n}^{+}>\\lambda\\right) .$$ \n",
    "\n",
    "Also,  $P\\left(X_{n}^{+}>\\lambda\\right) \\leq E\\left(X_{n}^{+}\\right) / \\lambda \\leq E\\left(X_{\\infty}^{+}\\right) / \\lambda$  and thus it is clear that  $\\left\\{X_{n}^{+}\\right\\}_{n \\in \\boldsymbol{x}}$  is equi-integrable. Conversely, $\\left\\{X_{n}^{+}\\right\\}_{n \\in T}$ is equi-integrable implies that $X_{n} \\leq E\\left(X_{\\infty} \\mid \\mathscr{F}_{n}\\right)$ since **equi-integrable and in-probability convergence implies a convergence in $\\mathscr{L}_{1}(\\Omega)$**."
   ]
  },
  {
   "cell_type": "markdown",
   "id": "be5e05a1-6abc-4ea5-a296-28e83011e2fe",
   "metadata": {},
   "source": [
    "> For  $Y \\in \\mathscr{L}_{1}(\\Omega, \\mathscr{F}, P)$, $X_{n}=E\\left(Y \\mid \\mathscr{F}_{n}\\right), n \\in T$  is an equi-integrable martingale and  $\\lim _{n \\rightarrow \\infty} X_{n}=X_{\\infty}$  exists almost surely and in $ \\mathscr{L}_{1}(\\Omega)$. Furthermore, $X_{\\infty}=E\\left(Y \\mid \\mathscr{F}_{\\infty}\\right)$ where $\\mathscr{F}_{\\infty}=\\bigvee_{n} \\mathscr{F}_{n}$."
   ]
  },
  {
   "cell_type": "markdown",
   "id": "d18f3017-ed9f-43b4-94e5-3f83af12ae27",
   "metadata": {},
   "source": [
    "Only the last part is nontrivial, Consider the totality  $\\mathscr{B}$  of sets  $B \\in \\mathscr{F}$  s.t. $E\\left(X_{\\infty}: B\\right)=E(Y: B)$. If  $B \\in \\mathscr{F}_{n}$, then  $E(Y: B)=E\\left(X_{n}: B\\right)=E\\left(X_{\\infty}: B\\right)$  and hence  $\\mathscr{B} \\supset \\cup_{n} \\mathscr{F}_{n}$. Clearly  $\\mathscr{C}$  is a  d-system and hence, by applying the fact \n",
    "\n",
    "> $\\forall$  $\\pi$-system  $\\mathscr{C}$, $d[\\mathscr{C}]=   \\sigma[\\mathscr{C}]$. $\\big($ $d[\\mathscr{C}]$ =  the smallest $d$-system containing $\\mathscr{C}$ $\\big)$\n",
    "\n",
    "we see $\\mathscr{C} \\supset \\mathscr{F}_{\\infty}=   \\sigma\\left[\\bigcup_{n} \\mathscr{F}_{n}\\right]$, which proves the last part. Finally, using the inequalities 1 and 2, we know that when $\\boldsymbol{T}=[0, \\infty)$\n",
    "\n",
    "> with probability one,  $t \\in \\boldsymbol{T} \\cap \\boldsymbol{Q} \\longmapsto X_{t}$  is bounded and  $\\lim _{\\boldsymbol{Q}\\cap \\boldsymbol{T} \\ni s \\downarrow t } X_{s}$ exists."
   ]
  },
  {
   "cell_type": "markdown",
   "id": "bf00de6d-3d55-46cb-a4a9-67491175dab8",
   "metadata": {},
   "source": [
    "It follows that the càdlàg process $\\hat{X}_{t}=\\lim _{r \\downarrow t, r \\in Q} X_{r}, t \\in \\boldsymbol{T}$ exists  and simple computation shows that it's a submartingale with respect to $\\left(\\mathscr{F}_{\\mathrm{t}}\\right)$. Finally, we discuss **Doob-Meyer's decomposition**."
   ]
  },
  {
   "cell_type": "markdown",
   "id": "9256215f-7d0c-4c3d-8af3-311bbb2edccb",
   "metadata": {},
   "source": [
    "> An integrable increasing process is **natural** if $E\\left[M_t A_t\\right] = E\\left[\\int_{0}^{t} M_{s} d A_{s}\\right]=E\\left[\\int_{0}^{t} M_{s-} d A_{s}\\right]$ for all bounded martingale $M=\\left(M_{t}\\right)$.\n",
    ">\n",
    "> **Remark.** An integrable increasing process is natural iff it is predictable.\n"
   ]
  },
  {
   "cell_type": "markdown",
   "id": "240a386c-80d0-4c95-80bc-0a256bc61f83",
   "metadata": {},
   "source": [
    "Let  $S_{a}, a>0,$ be the set of all stopping times  $\\sigma$  s.t.  $\\sigma \\leq a$  a.s. and recall that we set $X=\\left(X_{t}\\right)$ as a submartingale.\n",
    "\n",
    "> $ X=\\left(X_{t}\\right)$  is of class  ($DL$)  if $\\forall a>0$, $\\{X_{\\sigma} ; \\sigma \\in S_{a}\\}$  is equi-integrable.\n",
    ">\n",
    "> **Thm. (Doob-Meyer's Decomposition)** If  $X=\\left(X_{t}\\right)$  is of class (DL), then it is **uniquely** expressible as the sum of a martingale  $M=\\left(M_{t}\\right)$  and a natural integrable increasing process  $A=\\left(A_{t}\\right)$."
   ]
  },
  {
   "cell_type": "markdown",
   "id": "ebc69321-e90f-4b57-a4ef-e705dd97b893",
   "metadata": {},
   "source": [
    "**Proof.** The uniqueness result is clear. Set $Y_{t}=X_{t}-E\\left[X_{a} \\mid \\mathscr{F}_{t}\\right], t \\in[0, a]$. Let $\\Delta_{n}$  be the partition  $0=t_{0}^{(n)}<t_{1}^{(n)}<\\cdots<   t_{2^{n}}^{(n)}=a$  of  $[0, a]$  given by  $t_{j}^{(n)}=j a / 2^{n}$ . Define a discrete time increasing process  \n",
    "\n",
    "$$ A_{{t}^{(n)}_k}^{(n)}=\\sum_{j=0}^{k-1}\\left\\{E\\left(Y_{t_{j+1}^{(n)}} \\mid \\mathscr{F}_{t_{j}^{(n)}}\\right)-Y_{t_{j}^{(n)}}\\right\\}, \\quad t_{k}^{(n)} \\in \\Delta_{n}\n",
    "$$\n",
    "\n",
    "where $Y_{t}=-E\\left[A_{a}^{(n)} \\mid \\mathscr{F}_{t}\\right]+A_{t}^{(n)}, t \\in \\Delta_{n},$ and $\\left\\{A_{a}^{(n)}, n=1,2, \\ldots\\right\\}$ is equi-integrable. Recall \n",
    "\n",
    "> **Dunford-Pettis Thm.** In $\\sigma\\left(\\mathscr{L}_{1}, \\mathscr{L}_{\\infty}\\right)$ (weak topology on $\\mathscr{L}_{1}$; note that $\\mathscr{L}_{\\infty} = (\\mathscr{L}_{1})^*$ and $\\mathscr{L}_{\\infty} \\subseteq (\\mathscr{L}_{1})^*$ if the measure is **semifinite** in general), a subset is  relatively compactness iff it's uniformly integrable. \n",
    "\n",
    "This implies $\\exists$ a subsequence  $n_{l}$, and  $A_{a} \\in \\mathscr{L}_{1}(\\Omega)$  s.t.  $A_{a}^{\\left(n_{l}\\right)} \\longrightarrow A_{a}$  in  $\\sigma\\left(\\mathscr{L}_{1}, \\mathscr{L}_{\\infty}\\right)$. Define $ A_{t} $ by $ A_{t}=Y_{t}+E\\left[A_{a} \\mid \\mathscr{F}_t\\right], t \\in[0, a]$, where $E\\left[A_{a} \\mid \\mathscr{F}_{\\imath}\\right]$ is taken to be right-continuous. "
   ]
  },
  {
   "cell_type": "markdown",
   "id": "92b9241a-5c95-4f40-aa42-8bb41c0f4434",
   "metadata": {},
   "source": [
    "Since also  $A_{t}^{\\left(n_{l}\\right)} \\longrightarrow A_{t}$ in  $\\sigma\\left(\\mathscr{L}_{1}, \\mathscr{L}_{\\infty}\\right)$  for each  $t \\in \\cup_{n} \\Delta_{n}$, $t \\longmapsto A_{t}$  is increasing.  Since  $X_{t}=E\\left[X_{a}-A_{a} \\mid \\mathscr{F}_{t}\\right]+A_{t}$, it suffices  $A=   \\left(A_{t}\\right)$  is natural. If  $m_{t}$  is a bounded martingale, then\n",
    "\n",
    "$$\\begin{aligned}\n",
    "E\\left[m_{a} A_{a}^{(n)}\\right] & =\\sum_{k=0}^{2^{n}-1} E\\left[m_{a}\\left(A_{t_{k+1}^{(n)}}^{(n)}-A_{t_{k}^{(n)}}^{(n)}\\right)\\right] =\\sum_{k=0}^{2^{n}-1} E\\left[m_{t_{k}^{(n)}}\\left(A_{t_{k+1}^{(n)}}^{(n)}-A_{t_{k}^{(n)}}^{(n)}\\right)\\right] \\\\\n",
    "& = \\sum_{k=0}^{2^{n}-1} E\\left[m_{t_{k}^{(n)}}\\left(Y_{t_{k+1}^{(n)}}-Y_{t_{k}^{(n)}}\\right)\\right] =\\sum_{k=0}^{2^{n}-1} E\\left[m_{t_{k}^{(n)}}\\left(A_{t_{k+1}^{(n)}}-A_{t_{k}^{(n)}}\\right)\\right].\n",
    "\\end{aligned}$$\n",
    "\n",
    "\n",
    "Letting  $n \\longrightarrow \\infty$, we have $E\\left[m_{a} A_{a}\\right]=E\\left[\\int_{0}^{a} m_{s-} d A_{s}\\right]$. Replacing  $m=\\left(m_{s}\\right)$  by  $m=\\left(m_{t \\wedge s}\\right)$  we conclude that $E\\left[m_{t} A_{t}\\right]=E\\left[\\int_{0}^{t} m_{s-} d A_{s}\\right]$. Thus  $A=\\left(A_{t}\\right)$  is natural."
   ]
  },
  {
   "cell_type": "markdown",
   "id": "5114ba28-88b1-49e4-8740-9f47a519bb04",
   "metadata": {},
   "source": [
    "---\n",
    "\n",
    "### 3. Stochastic Integrals "
   ]
  },
  {
   "cell_type": "markdown",
   "id": "b2653a5e-53f2-41e9-b1f6-6fb65594f504",
   "metadata": {},
   "source": [
    "Let  $M$, $N \\in \\mathscr{M}_{2}$. Then $\\exists ! A=  (  A_{t}  )$ = difference of two natural integrable increasing processes s.t.  $M_{t} N_{t}-A_{t}$  is an  $\\left(\\mathscr{F}_{t}\\right)$-martingale from Doob-Meyer's decomposition. \n",
    "\n",
    "$A=\\left(A_{t}\\right) = \\langle M, N\\rangle $ is called the **quadratic variational process**.\n",
    "\n",
    "> $\\mathscr{L}_{2}$ = the space of $\\Phi=\\{\\Phi(t, \\omega)\\}_{t \\geq 0}$  on  $\\Omega$  adapted to  $\\left(\\mathscr{F}_{t}\\right)$  s.t.  $\\|\\Phi\\|_{2, T}^{2}=E\\left[\\int_{0}^{T} \\Phi^{2}(s, \\omega) d s\\right]<\\infty$.\n",
    ">\n",
    "> $\\mathscr{L}_{2}(M)$ = the space of $\\Phi=\\{\\Phi(t, \\omega)\\}_{t \\geq 0}$  on  $\\Omega$  adapted to  $\\left(\\mathscr{F}_{t}\\right)$  s.t.  $(\\|\\Phi\\|^M_{2, T})^{2}=E\\left[\\int_{0}^{T} \\Phi^{2}(s, \\omega) d\\langle M\\rangle(s)\\right]<\\infty$.\n",
    "> \n",
    "> $\\mathscr{L}_{0}$ = subcollection of $\\mathscr{L}_{2}$ in the form $\\Phi(t, \\omega)=f_{0}(\\omega) I_{(t=0)}(t)+\\sum_{i=0}^{\\infty} f_{i}(\\omega) I_{\\left(t, t_{t+1}\\right]}(t)$.\n",
    "\n",
    "We write $\\Phi = \\Phi^{\\prime}$  in $ \\mathscr{L}_{2}$  if  $\\left\\|\\Phi-\\Phi^{\\prime}\\right\\|_{2, T}=0$. For $\\Phi \\in \\mathscr{L}_{2}$, we set\n",
    "$$\\|\\Phi\\|_{2}=\\sum_{n=1}^{\\infty} 2^{-n}\\left(\\|\\Phi\\|_{2, n} \\wedge 1\\right) $$"
   ]
  },
  {
   "cell_type": "markdown",
   "id": "ff2ee482-b0b8-4a6b-8fa1-9f345c6e8586",
   "metadata": {},
   "source": [
    "which defines a complete metric space. If we set $\\Phi^{\\prime}(t, \\omega)=\\varlimsup_{h \\downarrow 0} \\frac{1}{h} \\int_{t-h}^{t} \\Phi(s, \\omega) d s$, then $\\Phi^{\\prime}$ is predictable and $\\Phi=\\Phi^{\\prime}$. We claim that $\\mathscr{L}_{0}$ is dense in $\\mathscr{L}_{2}$ w.r.t. $\\|\\cdot\\|_{2}$. Similar settings hold for $\\|\\cdot\\|^M_{2}$."
   ]
  },
  {
   "cell_type": "markdown",
   "id": "bba1417b-9155-46cc-a3ab-34dccd1d64bc",
   "metadata": {},
   "source": [
    "> $\\mathscr{M}_{2}=\\left\\{X=\\left(X_{t}\\right)_{t \\geq 0} ; X\\right.$  is a square integrable martingale on  $\\left(\\Omega, \\mathscr{F}, P\\right)$  w.r.t.  $\\left(\\mathscr{F}_{t}\\right)_{t \\geq 0}$  and $X_{0}=0$  a.s. $\\}.$\n",
    ">\n",
    "> \n",
    "> $\\mathscr{M}_{2}^{c} =   \\left\\{X \\in \\mathscr{M}_{2} ; t \\longmapsto X_{t}\\right.$  is continuous a.s.  \\} .\n",
    "\n",
    "We identify two  $X, X^{\\prime} \\in \\mathscr{M}_{2}$  if  $t \\longmapsto X_{t}$  and  $t \\longmapsto X_{t}^{\\prime}$ coincide a.s. For $X \\in $, we define \n",
    "\n",
    "$$ \\mathbf{|} X \\mathbf{|}_{T}=E\\left[X_{T}^{2}\\right]^{1 / 2} \\text{ and } \\mathbf{|} X \\mathbf{|}=\\sum_{n=1}^{\\infty} 2^{-n}\\left(\\mathbf{|} X \\mathbf{|}_{n} \\wedge 1\\right). $$"
   ]
  },
  {
   "cell_type": "markdown",
   "id": "528096f1-9386-498c-8f91-450e18093b1e",
   "metadata": {},
   "source": [
    "Then $\\mathscr{M}_{2}^{c}$ is a closed subspace of $\\mathscr{M}_{2}$ w.r.t. $ \\mathbf{|} X-Y  \\mathbf{|} $. Now we have defined a map $\\Phi \\in \\mathscr{L}_{2} \\longmapsto I(\\Phi) \\in \\mathscr{M}_{2}^{c}$ where \n",
    "\n",
    "$$ \\Phi(t, \\omega)=f_{0}(\\omega) I_{(z=0)}(t)+\\sum_{i=0}^{\\infty} f_{i}(\\omega) I_{\\left(s_{i}, r_{i}+1\\right)}(t) \\quad \\mapsto \\quad I(\\Phi)(t)=\\sum_{i=0}^{\\infty} f_{i}\\left(B\\left(t \\wedge t_{i+1}\\right)-B\\left(t \\wedge t_{i}\\right)\\right).\n",
    "$$"
   ]
  },
  {
   "cell_type": "markdown",
   "id": "f759fc3d-cdf8-460e-9954-c5a66e4f7313",
   "metadata": {},
   "source": [
    "Then we know $\\mathbf{|} I(\\Phi) \\mathbf{|}_{T}= \\| \\Phi \\|_{2, T}$, $\\mathbf{|} I(\\Phi) \\mathbf{|}= \\| \\Phi \\|_{2}$, and write $I(\\Phi)(t) = \\int_{0}^{t} \\Phi(s) d B(s) .$ Next we consider stochastic integrals w.r.t. martingales. Similarly, we define $I^{M}(\\cdot): \\mathscr{L}_{2}(M) \\to \\mathscr{M}_{2}$ which enjoys parallel properties. We write $I^{M}(\\Phi)(t) = \\int_{0}^{t} \\Phi(s) d M(s)$."
   ]
  },
  {
   "cell_type": "markdown",
   "id": "d102adff-815f-4278-9d00-166e93ae5a7f",
   "metadata": {},
   "source": [
    "---\n"
   ]
  },
  {
   "cell_type": "markdown",
   "id": "1fc8becb-ab5a-4275-a0bc-6ab0812e29eb",
   "metadata": {},
   "source": [
    "The above definition of stochastic integrals carries over to the case of **local martingales**. Finally, we discuss stochastic integrals w.r.t. point processes. Let  $\\left(\\boldsymbol{X}, \\mathscr{B}_{\\boldsymbol{X}}\\right)$  be a measurable space. \n",
    "\n",
    "> A point function $p$  on  $\\boldsymbol{X}$  is a mapping  $p: \\boldsymbol{D}_{p} \\subset(0, \\infty) \\longrightarrow \\boldsymbol{X}$, where $\\boldsymbol{D}_{p}$  is a countable subset of  $(0, \\infty)$. \n",
    "\n",
    "Then $p$  defines a counting measure  $N_{p}(d t d x) $ on  $(0, \\infty) \\times   X$  by\n",
    "\n",
    "$$N_{p}((0, t] \\times U)=\\#\\left\\{s \\in \\boldsymbol{D}_{p} ; s \\leq t, p(s) \\in U\\right\\}, \\quad t>0, U \\in \\mathscr{B}_{\\boldsymbol{X}} .$$"
   ]
  },
  {
   "cell_type": "markdown",
   "id": "94d6cf88-ad54-494b-a343-ecc1b3b7616c",
   "metadata": {},
   "source": [
    "A point process  $p$  on  $X$  is a  $\\left(\\Pi_{X}, \\mathscr{P}\\left(\\Pi_{X}\\right)\\right)$-valued random variable where $\\Pi_{X}$ = space of point functions on $\\boldsymbol{X}$ and $\\mathscr{B}\\left(\\Pi_{X}\\right)$ is the smallest $\\sigma$-field s.t. \n",
    "\n",
    "$$ p \\longmapsto N_{p}((0, t] \\times U) = N_{p}(t, U)=\\sum_{s \\in D_{p}, s \\leq t} I_{U}(p(s))\n",
    "$$\n",
    "is measurable. Suppose $p$ is adapted. Let  $\\Gamma_{p}=   \\left\\{U \\in \\mathscr{B}(\\boldsymbol{X}) ; E\\left[N_{p}(t, U)\\right]<\\infty\\right.$  for all  $\\left.t>0\\right\\}$. If  $U \\in \\Gamma_{p}$, then  $N_{p}(t, U)$  is an integrable increasing process and hence $\\exists$ a natural integrable increasing process $\\hat{N}_{p}(t, U)$  s.t. $\\tilde{N}_{p}: t \\to \\tilde{N}_{p}(t, U)=N_{p}(t, U)-\\hat{N}_{p}(t, U)$  is a martingale. \n",
    "\n",
    "> An  $\\left(\\mathscr{F}_{t}\\right)$-adapted point process  $p$  on  $(\\Omega, \\mathscr{F}, P)$  is of $(\\mathrm{QL})$ if it is  $\\sigma$-finite and $\\exists \\hat{N}_{p}=(\\hat{N}_{p}(t, U))$ s.t.\n",
    "> 1. $t \\longmapsto \\hat{N}_{p}(t, U)$  is a continuous  $\\left(\\mathscr{F}_{t}\\right)$-adapted increasing process,\n",
    "> 2. $U \\longmapsto \\hat{N}_{p}(t, U)$  is a  $\\sigma$-finite measure on  $(\\boldsymbol{X}, \\mathscr{B}(\\boldsymbol{X}))$,\n",
    "> 3. $t \\longmapsto \\tilde{N}_{p}(t, U)=N_{p}(t, U)-\\hat{N}_{p}(t, U)$  is an $\\left(\\mathscr{F}_{t}\\right)$-martingale.\n",
    "\n",
    "$\\{\\hat{N}_{p}(t, U)\\}$ is called the **compensator**. We have the following satisfactory properties.\n",
    "\n",
    "> 1. For bounded predictable $f(s, \\omega)$ and $U \\in \\Gamma_{p}$, \n",
    "> $$X(t)=\\int_{0}^{t} f(s) d \\tilde{N}_{p}(s, U)^{*}\\left(=\\sum_{\\substack{s \\in t \\\\ s \\in \\boldsymbol{D}_{p}}} f(s) I_{U}(p(s))-\\int_{0}^{t} f(s) d \\hat{N}_{p}(s, U)\\right)$$\n",
    "> is an $\\left(\\mathscr{F}_{t}\\right)$-martingale. \n",
    ">\n",
    "> 2. For $p$ of the class (QL) and $U \\in \\Gamma_{p}$, $\\left\\langle\\tilde{N}_{p}\\left(\\cdot, U_{1}\\right), \\bar{N}_{p}\\left(\\cdot, U_{2}\\right)\\right\\rangle(t)=\\hat{N}_{p}\\left(t, U_{1} \\cap U_{2}\\right)$.\n"
   ]
  },
  {
   "cell_type": "markdown",
   "id": "98757cbe-ff67-4684-8e3a-00d492a9bd7c",
   "metadata": {},
   "source": [
    "we shall generalize predictable processes, with which we introduce stochastic integrals w.r.t.\n",
    "point process of the class (QL). \n",
    "\n",
    "> A real function  $f(t, x, \\omega)$  defined on  $[0, \\infty) \\times \\boldsymbol{X} \\times \\Omega$  is **$\\left(\\mathscr{F}_{t}\\right)$-predictable** if $(t, x, \\omega) \\longmapsto f(t, x, \\omega)$  is $\\mathscr{S} / \\mathscr{P}\\left(\\boldsymbol{R}^{1}\\right)$ -measurable where  $\\mathscr{S}$  is the smallest  $\\sigma$-field s.t. all $g$ satisfying $(x, \\omega) \\longmapsto g(t, x, \\omega)$ is  $\\mathscr{B}(\\boldsymbol{X}) \\times \\mathscr{F}_{t}$-measurable and $t \\longmapsto g(t, x, \\omega)$  is left continuous are measurable."
   ]
  },
  {
   "cell_type": "markdown",
   "id": "c909b158-bb99-4d04-9ac5-01bcc27687d4",
   "metadata": {},
   "source": [
    "We introduce the following classes:\n",
    "\n",
    "> $\\boldsymbol{F}_{p}=\\left\\{f(t, x, \\omega) ; f \\text { is }\\left(\\mathscr{F}_{t}\\right) \\text {-predictable and for each } t>0\\right. \\text {, } \\int_{0}^{t+} \\int_{x}|f(s, x, \\omega)| N_{p}(d s d x)<\\infty \\},$\n",
    ">\n",
    "> $\\boldsymbol{F}_{p}^{1}=\\left\\{f(t, x, \\omega) ; f \\text { is }\\left(\\mathscr{F}_{t}\\right) \\text {-predictable and for every } t>0,\\right. E\\left[\\int_{0}^{t} \\int_{X}|f(s, x, \\cdot)| \\hat{N}_{p}(d s d x)\\right]<\\infty \\}, $\n",
    ">\n",
    "> $\\boldsymbol{F}_{p}^{2}=\\left\\{f(t, x, \\omega) ; f \\text { is }\\left(\\mathscr{F}_{t}\\right) \\text {-predictable and for every } t>0,\\right. E\\left[\\int_{0}^{t} \\int_{X}|f(s, x, \\cdot)|^{2} \\hat{N}_{p}(d s d x)\\right]<\\infty \\},$"
   ]
  },
  {
   "cell_type": "markdown",
   "id": "93c492dd-7f4f-407a-a3d2-fce2e13476df",
   "metadata": {},
   "source": [
    "Note that for  $f \\in \\boldsymbol{F}_{p}$, we set\n",
    "\n",
    "$$\\int_{0}^{t+} \\int_{X} f(s, x, \\cdot) N_{p}(d s d x) = \\sum_{\\substack{s \\leq t \\\\ s \\in \\boldsymbol{D}_p}} f(s, p(s), \\cdot) \\quad (\\text{absolutely convergent sum})\n",
    "$$\n",
    "and as in the proof of 1 and 2, we know $\\boldsymbol{F}_{p}^{1} \\subset \\boldsymbol{F}_{p}$. We can also consider the **compensated sum**\n",
    "\n",
    "$$\\int_{0}^{t+} \\int_{X} f(s, x, \\cdot) \\tilde{N}_{p}(d s d x) \n",
    "\\quad=\\int_{0}^{t+} \\int_{X} f(s, x, \\cdot) N_{p}(d s d x)-\\int_{0}^{t} \\int_{X} f(s, x, \\cdot) \\hat{N}_{p}(d s d x)$$"
   ]
  },
  {
   "cell_type": "markdown",
   "id": "1ab64b8c-72e7-41f2-906e-6c9702583641",
   "metadata": {},
   "source": [
    "which is an $\\left(\\mathscr{F}_{t}\\right)$-martingale. However, life is not easy for $f \\in \\boldsymbol{F}_{p}^{2, l o c}$, where we study $\\int_{X} f(s, x, \\cdot) \\tilde{N}_{p}(d s d x)$, the well-defined definition can be derived essentially the same as the martingale case."
   ]
  },
  {
   "cell_type": "markdown",
   "id": "82105a99-414e-404c-bd31-c4352bf87bac",
   "metadata": {},
   "source": [
    "---\n",
    "\n",
    "### 4. Stochastic Differentials "
   ]
  },
  {
   "cell_type": "markdown",
   "id": "be932d23-3185-4f95-9da5-93de9f5457cc",
   "metadata": {},
   "source": [
    "Let  $X=\\left(X_{t}\\right)$  be a continuous semimartingale (i.e. **quasimartingale**, the family of which is denoted $\\mathscr{Q}$), which assumes the **canonical decomposition** \n",
    "\n",
    "$$X_{t}=X_{0}+M_{t}+A_{t}$$\n",
    "\n",
    "where  $X_{0}$  is an  $\\mathscr{F}_{0}$-measurable random variable,  $M=\\left(M_{t}\\right) \\in \\mathscr{M}$  and  $A \\in \\mathscr{A}$. Here $\\mathscr{M}$ = family of continuous locally square integrable martingales and $\\mathscr{A}$ = family of continuous processes of bounded variation. We also consider $\\mathscr{B}$ = predictable processes bounded on bounded intervals."
   ]
  },
  {
   "cell_type": "markdown",
   "id": "303b47bc-87de-4b1a-825e-f82636df6e92",
   "metadata": {},
   "source": [
    ">  The **canonical decomposition** of quasimartingales is unique.\n",
    "\n",
    "The proof requires the **observation** that $\\langle M\\rangle_{t}$  = limit in probability of  $\\sum_{i=1}^{n}\\left(M_{t_{i}}-M_{t_{t-1}}\\right)^{2}$."
   ]
  },
  {
   "cell_type": "markdown",
   "id": "f9edf81c-ce92-4d38-964f-55b75513ea3a",
   "metadata": {},
   "source": [
    "For  $X, Y \\in \\mathscr{Q}$, we write $X \\sim Y$  if, with probability one, $X(t)-X(s)=Y(t)-Y(s)$ for every  $0 \\leq s \\leq t$. The equivalence class containing  $X$  is denoted by  $d X$  and is called the **stochastic differential** of  $X$. Let $d \\mathscr{Q}=\\{d X ; X \\in   \\mathscr{Q}\\}$ and simiarly for other classes. We shall introduce the following operations gathering together the conlusions above.\n",
    "\n",
    "> 1. **Intuitive understanding**: $\\int_{s}^{t} d X(u) = X(t)-X(s)$. \n",
    "> 2. **Addition**: $d X+d Y=d(X+Y)$\n",
    "> 3. **Product**: $d X \\cdot d Y=d\\left\\langle M_{X}, M_{Y}\\right\\rangle$ where $M_{X} (M_{Y})$ is the martingale part of $X(Y)$.\n",
    "> 4. **Multiplication**: For  $\\Phi \\in \\mathscr{B}$  and  $X \\in \\mathscr{Q}$, $(\\Phi \\cdot X)=X(0)+\\int_{0}^{t} \\Phi(s, \\omega) d M_{X}(s)+\\int_{0}^{t} \\Phi(s, \\omega) d A_{X}(s)$.\n"
   ]
  },
  {
   "cell_type": "markdown",
   "id": "e8813428-2f59-4377-af69-de1d53714508",
   "metadata": {},
   "source": [
    "Write $\\Phi \\cdot d X=d(\\Phi \\cdot X)$ and we conclude that \n",
    "\n",
    "> The space  $d \\mathscr{Q}$  with the operations addition, multiplication, and product  is a commutative algebra over  $\\mathscr{B}$."
   ]
  },
  {
   "cell_type": "markdown",
   "id": "98f28c99-02ff-45bf-ac85-baba30c40ef6",
   "metadata": {},
   "source": [
    "---\n",
    "\n",
    "### Reference\n",
    "\n",
    "1. Shuxiao Chen. Minimax Rates and Adaptivity in Combining Experimental and Observational Data.\n",
    "2. Qingyuan Zhao. Lecture Notes on Causal Inference. \n",
    "3. Joaquin Quiñonero-Candela. Dataset Shift In Machine Learning.\n",
    "4. Geoff K. Nicholls. Bayes Methods.\n",
    "5. Patrick J. Laub. Hawkes Processes.\n",
    "6. Tomas Björk. An Introduction to Point Processes from a Martingale Point of View.\n",
    "7. Jonas Peters. Elements of Causal Inference.\n",
    "8. Alessio Zanga. A Survey on Causal Discovery.\n",
    "9. Qing Zhou. Directed Mixed Graphs for Latent Variables.\n",
    "10. Peter Spirtes. Causation, Prediction, and Search. \n",
    "11. Thomas Richardson. Ancestral Graph Markov Models.\n",
    "12. Jonas Peters. Causal Inference Using Invariant Prediction.\n",
    "13. Jonathan Baxter. A Bayesian/Information Theoretic Model of Learning to Learn via Multiple Task Sampling.\n",
    "14. Nobuyuki Ikeda. Stochastic Differential Equations and Diffusion Processes.\n",
    "15. Alan F. Karr. Point Processes and Their Statistical Inference.\n",
    "16. Olav Kallenberg. Random Measures, Theory and Applications.\n",
    "17. Gunter Last. Lectures on the Poisson Process."
   ]
  }
 ],
 "metadata": {
  "kernelspec": {
   "display_name": "Python 3 (ipykernel)",
   "language": "python",
   "name": "python3"
  },
  "language_info": {
   "codemirror_mode": {
    "name": "ipython",
    "version": 3
   },
   "file_extension": ".py",
   "mimetype": "text/x-python",
   "name": "python",
   "nbconvert_exporter": "python",
   "pygments_lexer": "ipython3",
   "version": "3.9.18"
  }
 },
 "nbformat": 4,
 "nbformat_minor": 5
}
