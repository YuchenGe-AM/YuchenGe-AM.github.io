{
 "cells": [
  {
   "cell_type": "markdown",
   "id": "a4ecbc3a",
   "metadata": {},
   "source": [
    "## [Apr 29] Topological Groups I\n",
    "\n",
    "Presenter: Yuchen Ge  \n",
    "Affiliation: University of Oxford  \n",
    "Contact Email: gycdwwd@gmail.com  \n",
    "Website: https://yuchenge-am.github.io"
   ]
  },
  {
   "cell_type": "markdown",
   "id": "4c9f4f87-8543-42fb-9743-918cd46c4d70",
   "metadata": {},
   "source": [
    "---"
   ]
  },
  {
   "cell_type": "markdown",
   "id": "3f47d0ec-97bd-49e9-a48f-8568632724a0",
   "metadata": {},
   "source": [
    "### 1. Between topologized and topological"
   ]
  },
  {
   "cell_type": "markdown",
   "id": "228f35c8-14d5-4ec4-992f-620124751836",
   "metadata": {},
   "source": [
    "Here are some basic definitions. A topologized group $G$ is a group & a topological space. For a topologized group,\n",
    "\n",
    "> semitopological = left-topological ($y \\mapsto x y$ is continuous) & right-topological.\n",
    ">\n",
    "> quasitopological = semitopological & $x \\mapsto x^{-1}$ is continuous = left-topological & $x \\mapsto x^{-1}$ is continuous. (the last = is from the fact that left multiplication can be a composition of right multiplication and inversion)\n",
    ">\n",
    "> paratopological = $(x,y) \\mapsto xy$ is continuous."
   ]
  },
  {
   "cell_type": "markdown",
   "id": "76942269-caca-4552-995d-6dd066972a06",
   "metadata": {},
   "source": [
    "For example, for a group  $G$  and  $H \\leqslant G$, equipping  $G$  with topology $G \\setminus \\{ \\text{unions of left cosets of  $H$}\\}$  makes it left-topological. Right multiplication is continuous iff $H$ is normal, which follows that left-topological $\\;\\;\\not\\!\\!\\!\\!\\implies$ semitopological. Also,\n",
    "\n",
    "> quasitopological $\\;\\;\\not\\!\\!\\!\\!\\implies$ paratopological from $\\mathbb{R}_{\\mathrm{CF}}$ (seeing that $U, V \\neq \\emptyset$ open $\\implies U+V=\\mathbb{R}$)\n",
    ">\n",
    "> paratopological $\\;\\;\\not\\!\\!\\!\\!\\implies$ quasitopological from $\\mathbb{R}_{\\mathrm{RO}}$. (seeing that $(-\\infty,-a)$ is not open)"
   ]
  },
  {
   "cell_type": "markdown",
   "id": "f9665f51-963f-41aa-bbdf-9ff46bcc92a7",
   "metadata": {},
   "source": [
    "---"
   ]
  },
  {
   "cell_type": "markdown",
   "id": "b8a21071-36e9-4e0b-a1d5-91270c40cb85",
   "metadata": {},
   "source": [
    "Topology of pointwise converge has basis $U\\left(x_{1}, \\ldots, x_{n} ; U_{1}, \\ldots, U_{n}\\right):=\\left\\{g \\in G: g \\cdot x_{1} \\in U_{1}, \\ldots, g \\cdot x_{n} \\in U_{n}\\right\\}$."
   ]
  },
  {
   "cell_type": "markdown",
   "id": "cf624335-c31c-427b-8ee9-77bf7051ffb1",
   "metadata": {},
   "source": [
    "> Suppose $G$  is a group of homeomorphisms of topological space $X$. Then  $G$  with the topology of pointwise convergence w.r.t. the evaluation action is a semitopological group."
   ]
  },
  {
   "cell_type": "markdown",
   "id": "be7934b6-8b6d-46c8-a28d-cddcbeda70ab",
   "metadata": {},
   "source": [
    "**Proof.** This can be seen directly via \n",
    "\n",
    "> $U\\left(x_{1}, \\ldots, x_{n} ; U_{1}, \\ldots, U_{n}\\right) g^{-1}=U\\left(g \\cdot x_{1}, \\ldots, g \\cdot x_{n} ; U_{1}, \\ldots, U_{n}\\right)$\n",
    ">\n",
    "> $g^{-1} U\\left(x_{1}, \\ldots, x_{n} ; U_{1}, \\ldots, U_{n}\\right)=U\\left(x_{1}, \\ldots, x_{n} ; g^{-1} . U_{1}, \\ldots, g^{-1} . U_{n}\\right)$.\n",
    "\n",
    "\n",
    "\n",
    "\n",
    "\n",
    "\n"
   ]
  },
  {
   "cell_type": "markdown",
   "id": "34f22255-395f-411a-9ad5-a6fedab8c6ce",
   "metadata": {},
   "source": [
    "---\n",
    "\n",
    "### 2. Technical Lemmas \n",
    "\n",
    "In the following we present some technial lemmas."
   ]
  },
  {
   "cell_type": "markdown",
   "id": "731d9f70-4cc7-42d1-b576-7e38d7dc413f",
   "metadata": {},
   "source": [
    "> **Lemma I.** For topologized  $G$  with continuous inversion,\n",
    ">\n",
    "> 1. if  $1_G \\in U$  is open, then $\\exists$ symmetric open $W$ s.t. $1_G \\in W \\subset U$;\n",
    ">\n",
    "> 2. if  $S$  is symmetric, then  $\\overline{S}$  is symmetric.\n",
    "\n",
    "Actually, every conclusion may fail for paratopological group (by considering $\\mathbb{R}_{\\mathrm{RO}}$)."
   ]
  },
  {
   "cell_type": "markdown",
   "id": "4c487a17-0736-4a52-a49f-c05f0ccecc53",
   "metadata": {},
   "source": [
    "> **Lemma II.** For left-topological $G$ where  $U$  is open, and  $V \\subset G$, we know that \n",
    ">\n",
    "> 1. $V U$  is open; \n",
    ">\n",
    "> 2. $V$ is open iff $xV$ is ; \n",
    ">\n",
    "> 3. $\\overline{x V}=x \\bar{V}$."
   ]
  },
  {
   "cell_type": "markdown",
   "id": "3b46546d-0a52-4669-a05f-afd34c7bd4ac",
   "metadata": {},
   "source": [
    "It's clear that **Lemma II** admits a right-topological version. Here are some applications. \n",
    "\n",
    "> **Prop I.** For semitopological $G$, \n",
    ">\n",
    "> 1. $S \\subset G$ is normal $\\implies \\overline{S}$ is normal; \n",
    ">\n",
    "> 2. $S \\subset G$  is closed under multiplication $\\implies \\overline{S}$ is closed under multiplication;\n",
    ">\n",
    "> 3. $G$ has continuous inversion & $S \\leq G$ $\\implies \\overline{S} \\leq G$ (use 2 of **lemma I**)\n",
    ">\n",
    "> 4.  $G$ is compact $\\implies \\overline{1_G} \\leq G$ (only nontrivial thing is to show it's closed under inverse)\n",
    "\n",
    "**Proof.** In the following we use **lemma II**. For 1 it suffices that $x \\overline{S}=\\overline{x S}=\\overline{S x}=\\overline{S} x$. For 2 we first show $S \\overline{S} \\subset \\overline{S}$ since $S$ is closed under multiplication, then $\\overline{S} \\overline{S}=\\overline{S \\overline{S}} \\subset \\overline{\\overline{S}}=\\overline{S}$."
   ]
  },
  {
   "cell_type": "markdown",
   "id": "37df24e0-6c6b-437a-b46d-30aefb95f246",
   "metadata": {},
   "source": [
    "---\n",
    "\n",
    "> **Lemma III.** For left-topological $G$ with  $S \\subseteq G$  and $1_G \\in V$  open, we know  $\\overline{S V} \\subset S V V^{-1}$."
   ]
  },
  {
   "cell_type": "markdown",
   "id": "6ffb6d86-a02b-411d-ab52-c08cb750a27c",
   "metadata": {},
   "source": [
    "**Proof.** Let $A:=G \\backslash\\left(S V V^{-1}\\right)$ and $B:=G \\backslash(A V)$. It suffices $S V \\subset B$ and since $B$ is closed $\\overline{S V} \\subset B$. Now if $x \\in B$  then  $x \\notin A$ and hence  $x \\in S V V^{-1}$  as claimed."
   ]
  },
  {
   "cell_type": "markdown",
   "id": "4cb7d81f-db5f-4d11-a813-7267cfb52481",
   "metadata": {},
   "source": [
    "As a corollary,\n",
    "\n",
    "> For left-topological $G$ where $H \\leq G$, we know $H$ is open $\\implies$ $H$ is closed. (observing $\\overline{H} \\subset H H^{-1}=H$) "
   ]
  },
  {
   "cell_type": "markdown",
   "id": "ddf5f636-cb65-4677-822b-5bb5ece58ca2",
   "metadata": {},
   "source": [
    "---\n",
    "\n",
    "> Use the fact that $(x, y) \\mapsto x y \\text { is continuous }$ for paratopological $G$,\n",
    ">\n",
    "> **Lemma IV.** Suppose that  $G$  is paratopological and $\\exists$ open $X \\ni z$. Then $\\exists$ open $V\\ni 1_G$  s.t. $z V^{2} \\subset   X$.\n",
    ">\n",
    "> Seeing $z V \\subseteq z V^{2}$ directly, we have \n",
    ">\n",
    "> **lemma V**: Suppose that  $G$  is paratopological, $K \\subset G$  is compact, and  $\\mathcal{U}$  is an open cover of  $K$. Then $\\exists$ open $U$ s.t. $1_G \\in U \\subset G$  s.t. $\\{x U: x \\in K\\}$  is a refinement of  $\\mathcal{U}$. \n",
    "\n",
    "Note that if  G  is a topological group then  $V$ in **lemma IV** and $U$ in **lemma V** may be taken symmetrically. Also, this has a higher dimensional analogue:\n",
    "\n",
    ">  Suppose that  $X$  is a topological space,  $K \\subset X$  is compact, and  $\\mathcal{U}$  is an open cover of  $K \\times K$. Then $\\exists$ open cover  $\\mathcal{W}$  of  $K$  s.t.  $\\left\\{W \\times W^{\\prime}: W, W^{\\prime} \\in \\mathcal{W}\\right\\}$  refines  $\\mathcal{U}$.\n",
    "\n",
    "Finally, we come to \n",
    "\n",
    "> **Thm I.** Suppose that  $G$  is compact paratopological. Then  $G$  is a topological group.\n",
    ">\n",
    "> **Thm II.** Suppose that  $G$  is topological. Then  $G$  is regular.\n",
    "\n",
    "**Proof.** We first consider **thm I.** Suppose that  $K \\subset G$  is closed and  $x \\notin K^{-1}$. For  $y \\in K$, by **lemma II** $\\exists$ open $U_{y} \\ni y$ s.t. $U_{y} x \\cap \\overline{\\left\\{1_{G}\\right\\}}=\\varnothing$  and in particular  $1_{G} \\notin U_{y} $ .\n",
    "\n",
    "Apply **lemma V** to the cover  $\\left\\{U_{y}: y \\in K\\right\\}$  of  $K$  to get an open   $U \\ni 1_G$  s.t. $\\forall y \\in K$, $y U \\subset U_{z}$  for some $z=z(y) \\in K$. It follows that  $1_{G} \\notin y U x$  for all  $y \\in K$, so  $K^{-1} \\cap U x=\\varnothing$. Thus  $K^{-1}$  is closed and the result is proved."
   ]
  },
  {
   "cell_type": "markdown",
   "id": "6ca93af3-b5ea-4843-b9e9-00214b36034c",
   "metadata": {},
   "source": [
    "Then we consider **thm II**. Let  $V$  be open s.t.  $x \\in V$. By **lemma IV** $\\exists$ a symmetric open $U \\ni 1_G$  s.t.  $x U^{2} \\subset V$. Therefore, by **lemma III**, $x \\overline{U} \\subset   x U U^{-1} = x U^{2} \\subset V$  as required."
   ]
  }
 ],
 "metadata": {
  "kernelspec": {
   "display_name": "Python 3 (ipykernel)",
   "language": "python",
   "name": "python3"
  },
  "language_info": {
   "codemirror_mode": {
    "name": "ipython",
    "version": 3
   },
   "file_extension": ".py",
   "mimetype": "text/x-python",
   "name": "python",
   "nbconvert_exporter": "python",
   "pygments_lexer": "ipython3",
   "version": "3.9.18"
  }
 },
 "nbformat": 4,
 "nbformat_minor": 5
}
