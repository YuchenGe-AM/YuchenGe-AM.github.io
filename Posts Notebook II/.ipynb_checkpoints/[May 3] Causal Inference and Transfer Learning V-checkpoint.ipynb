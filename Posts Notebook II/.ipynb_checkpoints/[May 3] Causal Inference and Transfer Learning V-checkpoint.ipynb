{
 "cells": [
  {
   "cell_type": "markdown",
   "id": "a4ecbc3a",
   "metadata": {},
   "source": [
    "## [May 3] Causal Inference and Transfer Learning V\n",
    "\n",
    "Presenter: Yuchen Ge  \n",
    "Affiliation: University of Oxford  \n",
    "Contact Email: gycdwwd@gmail.com  \n",
    "Website: https://yuchenge-am.github.io"
   ]
  },
  {
   "cell_type": "markdown",
   "id": "9cd53c1a-7b00-4471-90e9-65cd0ae3c359",
   "metadata": {},
   "source": [
    "---\n",
    "\n"
   ]
  },
  {
   "cell_type": "markdown",
   "id": "57a1a35b-c1a6-4040-a77b-244b6ce58dfa",
   "metadata": {},
   "source": [
    "### 1. Sklar's theorem\n",
    "\n",
    "An **n-copula**  $C\\left(u_{1}, \\ldots, u_{n}\\right)$ $[0,1]^{n} \\rightarrow[0,1]$  is a multivariate cdf with uniform univariate marginals: $C\\left(u_{1}, u_{2}, \\ldots, u_{n}\\right)$ = $P\\left(U_{1} \\leq u_{1}, U_{2} \\leq u_{2}, \\ldots, U_{n} \\leq u_{n}\\right)$ where $U_i \\sim U[0,1]$."
   ]
  },
  {
   "cell_type": "markdown",
   "id": "5aa7db5b-daa2-4324-a046-12a36500767a",
   "metadata": {},
   "source": [
    "> (**Sklar's theorem**) Let  $H$  be an n-dimensional distribution function with marginal distribution functions  $F_{1}, F_{2}, \\ldots, F_{n}$. Then $\\exists$ an  n-copula  $C$  s.t. for all  $\\left(x_{1}, x_{2}, \\ldots, x_{n}\\right) \\in[-\\infty, \\infty]^{n}$,\n",
    ">\n",
    "> $$H\\left(x_{1}, x_{2}, \\ldots, x_{n}\\right)=C\\left(F_{1}\\left(x_{1}\\right), F_{2}\\left(x_{2}\\right), \\ldots, F_{n}\\left(x_{n}\\right)\\right)=C\\left(u_{1}, u_{2}, \\ldots, u_{n}\\right)$$\n",
    ">\n",
    "> where $C$ is uniquely determined on $\\operatorname{Range}\\left(F_{1}\\right) \\times \\cdots \\times \\operatorname{Range}\\left(F_{d}\\right)$.\n",
    "\n"
   ]
  },
  {
   "cell_type": "markdown",
   "id": "57116bbd-7246-4bac-a2a3-bc6ce8ff5e99",
   "metadata": {},
   "source": [
    "**Proof.** Details can be seen in [2012, Nonlinear Analysis: Theory, Methods & Applications, 75(2), 769-774]. Define $\\varphi_{\\varepsilon}: \\mathbb{R}^{d} \\rightarrow \\mathbb{R}$  by\n",
    "\n",
    "$$\\varphi_{\\varepsilon}(\\mathbf{x}):=\\frac{1}{\\varepsilon^{d}} \\varphi\\left(\\frac{\\mathbf{x}}{\\varepsilon}\\right) \\quad \\text{where} \\quad \\varphi(\\mathbf{x}):=k \\exp \\left(\\frac{1}{|\\mathbf{x}|^{2}-1}\\right) \\mathbf{1}_{B_{1}(\\mathbf{0})}(\\mathbf{x}).$$\n"
   ]
  },
  {
   "cell_type": "markdown",
   "id": "d3aa3ad4-02c8-4442-81ca-1bce879e36d6",
   "metadata": {},
   "source": [
    "Consider $H_{n}(\\mathbf{x}):=\\int_{\\mathbb{R}^{d}} H(\\mathbf{x}-\\mathbf{y}) \\varphi_{1 / n}(\\mathbf{y}) d \\mathbf{y}=\\int_{\\mathbb{R}^{d}} \\varphi_{1 / n}(\\mathbf{x}-\\mathbf{y}) H(\\mathbf{y}) d \\mathbf{y}$, and we know"
   ]
  },
  {
   "cell_type": "markdown",
   "id": "4af7d802-6034-4070-9634-c309657621d0",
   "metadata": {},
   "source": [
    "> If $H$ is continuous at $\\mathbf{x} \\in \\mathbb{R}^{d}$, then $\\lim _{n \\rightarrow+\\infty} H_{n}(\\mathbf{x})=H(\\mathbf{x})$."
   ]
  },
  {
   "cell_type": "markdown",
   "id": "4929a4b7-a8e1-41f9-a38e-c7dcab4ecb63",
   "metadata": {},
   "source": [
    "The continuous case (proved stratforward via inverse) ensures that $\\exists$ a  d -copula  $C_{n}$ s.t.\n",
    "\n",
    "$$H_{n}(\\mathbf{x})=C_{n}\\left(F_{n, 1}\\left(x_{1}\\right), \\ldots, F_{n, d}\\left(x_{d}\\right)\\right).$$\n",
    "\n",
    "Because of the compactness of  $\\mathscr{C}_{d}$ (set of all copulas), Ascoli–Arzela Theorem shows that $\\exists$ a subsequence  $\\left(C_{n(k)}\\right)_{k \\in \\mathbb{N}} \\subset\\left(C_{n}\\right)_{n \\in \\mathbb{N}}$  that converges to a copula  $C$. "
   ]
  },
  {
   "cell_type": "markdown",
   "id": "461f97af-5c90-490d-94cf-ac44666ea0be",
   "metadata": {},
   "source": [
    "---\n",
    "\n",
    "### 2. Multivariate Point Processes and Copula"
   ]
  },
  {
   "cell_type": "code",
   "execution_count": null,
   "id": "9b7aba86-b496-4a9d-a8f3-dde22c367ab6",
   "metadata": {},
   "outputs": [],
   "source": []
  },
  {
   "cell_type": "code",
   "execution_count": null,
   "id": "4ca9329f-4367-45aa-a84d-01f11a71aa7c",
   "metadata": {},
   "outputs": [],
   "source": []
  },
  {
   "cell_type": "code",
   "execution_count": null,
   "id": "b47e612f-f8f3-4b8f-9644-c31e85e53e47",
   "metadata": {},
   "outputs": [],
   "source": []
  },
  {
   "cell_type": "code",
   "execution_count": null,
   "id": "1b7cab6e-95af-453d-8d95-fa08324b1e71",
   "metadata": {},
   "outputs": [],
   "source": []
  },
  {
   "cell_type": "code",
   "execution_count": null,
   "id": "807a86e7-e651-4984-8990-b0be9cc168ce",
   "metadata": {},
   "outputs": [],
   "source": []
  },
  {
   "cell_type": "code",
   "execution_count": null,
   "id": "d89e5407-5a15-42b9-8027-e6e6badfd381",
   "metadata": {},
   "outputs": [],
   "source": []
  },
  {
   "cell_type": "code",
   "execution_count": null,
   "id": "a5ad00d5-5cdd-4000-8fa6-4b98722987a6",
   "metadata": {},
   "outputs": [],
   "source": []
  },
  {
   "cell_type": "code",
   "execution_count": null,
   "id": "ef523029-70d5-404a-9c49-defa7d1f78dd",
   "metadata": {},
   "outputs": [],
   "source": []
  },
  {
   "cell_type": "code",
   "execution_count": null,
   "id": "11790fc3-13d9-4209-9053-6818b037ff8e",
   "metadata": {},
   "outputs": [],
   "source": []
  },
  {
   "cell_type": "code",
   "execution_count": null,
   "id": "8c797d0e-a9d2-43cf-b829-8a6d551b40cd",
   "metadata": {},
   "outputs": [],
   "source": []
  },
  {
   "cell_type": "code",
   "execution_count": null,
   "id": "bff0fc71-1bb6-4f2f-b0fb-e48ef8410977",
   "metadata": {},
   "outputs": [],
   "source": []
  },
  {
   "cell_type": "code",
   "execution_count": null,
   "id": "ad5df143-5735-42f6-a088-a865dfa05c78",
   "metadata": {},
   "outputs": [],
   "source": []
  },
  {
   "cell_type": "code",
   "execution_count": null,
   "id": "95cb5e59-30fb-426d-ba35-15e503414e89",
   "metadata": {},
   "outputs": [],
   "source": []
  },
  {
   "cell_type": "markdown",
   "id": "99fd183e-4cbd-4e45-8b0d-139b20201e96",
   "metadata": {},
   "source": [
    "---\n",
    "\n",
    "### 3. Multivariate Processes and Causal Inference"
   ]
  },
  {
   "cell_type": "code",
   "execution_count": null,
   "id": "4dd098d5-d7ec-44c8-8de1-f8825ca76d0d",
   "metadata": {},
   "outputs": [],
   "source": []
  },
  {
   "cell_type": "code",
   "execution_count": null,
   "id": "3943cb0e-aef0-4a0d-9184-bce8ba6a985b",
   "metadata": {},
   "outputs": [],
   "source": []
  },
  {
   "cell_type": "code",
   "execution_count": null,
   "id": "1bb90939-8f7b-4383-aeb2-aae3b7036fcd",
   "metadata": {},
   "outputs": [],
   "source": []
  },
  {
   "cell_type": "code",
   "execution_count": null,
   "id": "992582ab-e5f0-4f80-97c5-b944e15d04b7",
   "metadata": {},
   "outputs": [],
   "source": []
  },
  {
   "cell_type": "code",
   "execution_count": null,
   "id": "1afa1014-0a91-4244-be93-7ed981610270",
   "metadata": {},
   "outputs": [],
   "source": []
  },
  {
   "cell_type": "code",
   "execution_count": null,
   "id": "2575cd2f-1d93-459b-b0ef-f4cd8c454608",
   "metadata": {},
   "outputs": [],
   "source": []
  },
  {
   "cell_type": "code",
   "execution_count": null,
   "id": "23177ded-20ec-4ace-aed5-dbf18223d40c",
   "metadata": {},
   "outputs": [],
   "source": []
  },
  {
   "cell_type": "code",
   "execution_count": null,
   "id": "4849078f-c75e-47c3-b19f-78b63a536d42",
   "metadata": {},
   "outputs": [],
   "source": []
  },
  {
   "cell_type": "code",
   "execution_count": null,
   "id": "306a171c-1c97-43d4-b302-fd4991188c11",
   "metadata": {},
   "outputs": [],
   "source": []
  },
  {
   "cell_type": "code",
   "execution_count": null,
   "id": "5e40a04e-9e3a-4b22-be8c-380766698256",
   "metadata": {},
   "outputs": [],
   "source": []
  },
  {
   "cell_type": "code",
   "execution_count": null,
   "id": "019b254d-366c-4a7b-bf76-f9488393598c",
   "metadata": {},
   "outputs": [],
   "source": []
  },
  {
   "cell_type": "code",
   "execution_count": null,
   "id": "b2ce5fb9-ae66-4e59-a1f7-40e4ce77ea87",
   "metadata": {},
   "outputs": [],
   "source": []
  },
  {
   "cell_type": "code",
   "execution_count": null,
   "id": "e088843f-87b7-4ec0-b1fd-d61e32848017",
   "metadata": {},
   "outputs": [],
   "source": []
  },
  {
   "cell_type": "code",
   "execution_count": null,
   "id": "61a1559a-3d19-486d-8dd0-7cee42bf097d",
   "metadata": {},
   "outputs": [],
   "source": []
  },
  {
   "cell_type": "markdown",
   "id": "98f28c99-02ff-45bf-ac85-baba30c40ef6",
   "metadata": {},
   "source": [
    "---\n",
    "\n",
    "### Reference\n",
    "\n",
    "1. Shuxiao Chen. Minimax Rates and Adaptivity in Combining Experimental and Observational Data.\n",
    "2. Qingyuan Zhao. Lecture Notes on Causal Inference. \n",
    "3. Joaquin Quiñonero-Candela. Dataset Shift In Machine Learning.\n",
    "4. Geoff K. Nicholls. Bayes Methods.\n",
    "5. Patrick J. Laub. Hawkes Processes.\n",
    "6. Tomas Björk. An Introduction to Point Processes from a Martingale Point of View.\n",
    "7. Jonas Peters. Elements of Causal Inference.\n",
    "8. Alessio Zanga. A Survey on Causal Discovery.\n",
    "9. Qing Zhou. Directed Mixed Graphs for Latent Variables.\n",
    "10. Peter Spirtes. Causation, Prediction, and Search. \n",
    "11. Thomas Richardson. Ancestral Graph Markov Models.\n",
    "12. Jonas Peters. Causal Inference Using Invariant Prediction.\n",
    "13. Fabrizio Durante. Sklar’s Theorem Obtained via Regularization Techniques.\n",
    "14. Nilesh Tripuraneni. On the Theory of Transfer Learning: The Importance of Task Diversity.\n",
    "15. Nir Friedman. On the Sample Complexity of Learning Bayesian Networks.\n",
    "16. Bodhisattva Sen. A Gentle Introduction to Empirical Process Theory and Applications."
   ]
  },
  {
   "cell_type": "code",
   "execution_count": null,
   "id": "de4f6384-af33-46a3-ae8d-130a1cdff713",
   "metadata": {},
   "outputs": [],
   "source": []
  }
 ],
 "metadata": {
  "kernelspec": {
   "display_name": "Python 3 (ipykernel)",
   "language": "python",
   "name": "python3"
  },
  "language_info": {
   "codemirror_mode": {
    "name": "ipython",
    "version": 3
   },
   "file_extension": ".py",
   "mimetype": "text/x-python",
   "name": "python",
   "nbconvert_exporter": "python",
   "pygments_lexer": "ipython3",
   "version": "3.9.18"
  }
 },
 "nbformat": 4,
 "nbformat_minor": 5
}
