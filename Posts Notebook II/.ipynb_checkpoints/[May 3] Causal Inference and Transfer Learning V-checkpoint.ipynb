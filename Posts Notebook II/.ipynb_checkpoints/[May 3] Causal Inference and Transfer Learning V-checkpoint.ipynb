{
 "cells": [
  {
   "cell_type": "markdown",
   "id": "a4ecbc3a",
   "metadata": {},
   "source": [
    "## [May 3] Causal Inference and Transfer Learning V\n",
    "\n",
    "Presenter: Yuchen Ge  \n",
    "Affiliation: University of Oxford  \n",
    "Contact Email: gycdwwd@gmail.com  \n",
    "Website: https://yuchenge-am.github.io\n",
    "\n",
    "#### $\\textit{There is nothing as practical as a good theory.}$ "
   ]
  },
  {
   "cell_type": "markdown",
   "id": "9cd53c1a-7b00-4471-90e9-65cd0ae3c359",
   "metadata": {},
   "source": [
    "---\n",
    "\n"
   ]
  },
  {
   "cell_type": "markdown",
   "id": "57a1a35b-c1a6-4040-a77b-244b6ce58dfa",
   "metadata": {},
   "source": [
    "### 1. A Proof of Sklar's Theorem\n",
    "\n",
    "The following is first reading of $\\textit{Principles of Copula Theory}$ by Fabrizio Durante. An **n-copula**  $C\\left(u_{1}, \\ldots, u_{n}\\right)$: $[0,1]^{n} \\rightarrow[0,1]$  is a multivariate cdf with uniform univariate marginals: $C\\left(u_{1}, u_{2}, \\ldots, u_{n}\\right)$ = $P(U_{1} \\leq u_{1}, U_{2} \\leq u_{2},$ $\\ldots, U_{n} \\leq u_{n})$ where $U_i \\sim U[0,1]$."
   ]
  },
  {
   "cell_type": "markdown",
   "id": "5aa7db5b-daa2-4324-a046-12a36500767a",
   "metadata": {},
   "source": [
    "> **Thm I.** (**Sklar's theorem**) Let  $H$  be an $n$-dim df of $\\mathbf{X}$ with marginal df  $F_{1}, F_{2}, \\ldots, F_{n}$. Then $\\exists$ an  n-copula  $C$  s.t. $\\forall $ $\\left(x_{1}, x_{2}, \\ldots, x_{n}\\right) \\in[-\\infty, \\infty]^{n}$,\n",
    ">\n",
    "> $$H\\left(x_{1}, x_{2}, \\ldots, x_{n}\\right)=C\\left(F_{1}\\left(x_{1}\\right), F_{2}\\left(x_{2}\\right), \\ldots, F_{n}\\left(x_{n}\\right)\\right)=C\\left(u_{1}, u_{2}, \\ldots, u_{n}\\right)$$\n",
    ">\n",
    "> where $C=C_\\mathbf{X}$ is uniquely determined on $\\operatorname{Range}\\left(F_{1}\\right) \\times \\cdots \\times \\operatorname{Range}\\left(F_{d}\\right)$.\n",
    "\n"
   ]
  },
  {
   "cell_type": "markdown",
   "id": "57116bbd-7246-4bac-a2a3-bc6ce8ff5e99",
   "metadata": {},
   "source": [
    "**Proof.** Details can be seen in [2012, Nonlinear Analysis: Theory, Methods & Applications, 75(2), 769-774]. Define $\\varphi_{\\varepsilon}: \\mathbb{R}^{d} \\rightarrow \\mathbb{R}$  by\n",
    "\n",
    "$$\\varphi_{\\varepsilon}(\\mathbf{x}):=\\frac{1}{\\varepsilon^{d}} \\varphi\\left(\\frac{\\mathbf{x}}{\\varepsilon}\\right) \\quad \\text{where} \\quad \\varphi(\\mathbf{x}):=k \\exp \\left(\\frac{1}{|\\mathbf{x}|^{2}-1}\\right) \\mathbf{1}_{B_{1}(\\mathbf{0})}(\\mathbf{x}).$$\n"
   ]
  },
  {
   "cell_type": "markdown",
   "id": "d3aa3ad4-02c8-4442-81ca-1bce879e36d6",
   "metadata": {},
   "source": [
    "Consider $H_{n}(\\mathbf{x}):=\\int_{\\mathbb{R}^{d}} H(\\mathbf{x}-\\mathbf{y}) \\varphi_{1 / n}(\\mathbf{y}) d \\mathbf{y}=\\int_{\\mathbb{R}^{d}} \\varphi_{1 / n}(\\mathbf{x}-\\mathbf{y}) H(\\mathbf{y}) d \\mathbf{y}$, and we know"
   ]
  },
  {
   "cell_type": "markdown",
   "id": "4af7d802-6034-4070-9634-c309657621d0",
   "metadata": {},
   "source": [
    "> If $H$ is continuous at $\\mathbf{x} \\in \\mathbb{R}^{d}$, then $\\lim _{n \\rightarrow+\\infty} H_{n}(\\mathbf{x})=H(\\mathbf{x})$."
   ]
  },
  {
   "cell_type": "markdown",
   "id": "4929a4b7-a8e1-41f9-a38e-c7dcab4ecb63",
   "metadata": {},
   "source": [
    "The continuous case ($\\exists$ straightforward proof via inverse) ensures that $\\exists$ a  d -copula  $C_{n}$ s.t.\n",
    "\n",
    "$$H_{n}(\\mathbf{x})=C_{n}\\left(F_{n, 1}\\left(x_{1}\\right), \\ldots, F_{n, d}\\left(x_{d}\\right)\\right).$$\n",
    "\n",
    "Because of the compactness of  $\\mathscr{C}_{d}$ (= set of all copulas), Ascoli–Arzela Theorem shows that $\\exists$ a subsequence  $\\left(C_{n(k)}\\right)_{k \\in \\mathbb{N}} \\subset\\left(C_{n}\\right)_{n \\in \\mathbb{N}}$  that converges to a copula  $C$. \n",
    "\n",
    "> **Cor I.** If $H$ is absolutely continuous, then the density is given by $h(\\mathbf{x})=c\\left(F_{1}\\left(x_{1}\\right), \\ldots, F_{d}\\left(x_{d}\\right)\\right) f_{1}\\left(x_{1}\\right) \\cdots f_{d}\\left(x_{d}\\right)$."
   ]
  },
  {
   "cell_type": "markdown",
   "id": "461f97af-5c90-490d-94cf-ac44666ea0be",
   "metadata": {},
   "source": [
    "---\n",
    "\n",
    "### 2. Basic Aspects of Copulas"
   ]
  },
  {
   "cell_type": "markdown",
   "id": "a78cc555-a721-47fe-947f-8dced46079fc",
   "metadata": {},
   "source": [
    "> A function $H: [-\\infty,+\\infty]^{d} \\rightarrow \\mathbb{R}$  is  $d$-increasing if $V_{H}(] \\mathbf{a}, \\mathbf{b}]) \\geq 0$ for every $ ] \\mathbf{a}, \\mathbf{b} ]$. Here we write \n",
    ">\n",
    "> $$V_{H}(] \\mathbf{a}, \\mathbf{b}]):=\\sum_{\\mathbf{v} \\in \\operatorname{ver}(] \\mathbf{a}, \\mathbf{b}])} \\operatorname{sign}(\\mathbf{v}) H(\\mathbf{v}).$$\n",
    "\n",
    "Then we can state the equivalent definition of copulas and some elegent properties. \n",
    "\n",
    "> $C: [0,1]^{d} \\rightarrow [0,1]$ is a $d$-copula iff $C\\left(u_{1}, \\ldots, 0 , \\ldots, u_{d}\\right)=0$, $C\\left(1, \\ldots, u_j , \\ldots, 1\\right)=u_j$, and $C$ is $d$-increasing. \n",
    ">\n",
    "> **Prop I.** $C = \\alpha C_{0} + \\beta C_{1} \\implies  V_{C}(] \\mathbf{a}, \\mathbf{b} ])= \\alpha V_{C_0}(] \\mathbf{a}, \\mathbf{b}]) + \\beta V_{C_1}(] \\mathbf{a}, \\mathbf{b}])$ implies $\\mathscr{C}_{d}$ is a convex set.\n",
    ">\n",
    "> **Prop II.** $|C(\\mathbf{u})-C(\\mathbf{v})| \\leq\\|\\mathbf{u}-\\mathbf{v}\\|_{1}$, which follows that \n",
    ">\n",
    "> $$C(\\mathbf{u})=\\int_{0}^{u_{j}} \\partial_{j} C\\left(u_{1}, \\ldots, u_{j-1}, t, u_{j+1}, \\ldots, u_{d}\\right) \\mathrm{d} t$$\n",
    ">\n",
    "> where $0 \\leq$ $\\partial_{j} C\\left(\\mathbf{u}_{j}(t)\\right)$ $\\leq 1$ is measurable. $\\big($theorem 3.11 in $\\textit{Real Analysis}$ by Stein$\\big)$\n",
    ">\n",
    "> **Prop III.** Let $W_{d}(\\mathbf{u}):=\\max \\left\\{0, \\sum_{j=1}^{d} u_{j}-(d-1)\\right\\}$ and $M_{d}\\left(u_{1}, u_{2}, \\ldots, u_{d}\\right):=\\min \\left\\{u_{1}, \\ldots, u_{d}\\right\\}$ be the lower and upper **Hoeffding–Frechet bounds**. Then $\\forall$ $d$-coupla $C$ \n",
    ">\n",
    "> $$W_{d}(\\mathbf{u}) \\leq C(\\mathbf{u}) \\leq M_{d}(\\mathbf{u}).$$\n",
    ">\n",
    "> **Prop IV.** $\\mathscr{C}_{d}$ is closed under pointwise convergence and compact in the continuous function space $\\left(\\Xi\\left([0,1]^{d}\\right), d_{\\infty}\\right)$.\n",
    ">\n",
    "> **Prop V.** (**Rank-invariant Property**) Suppose $\\exists$ strictly increasing $\\varphi_{j}: \\operatorname{Ran} X_{j} \\rightarrow \\mathbb{R}$, $j\\in [d]$. Then for $\\mathbf{X}=\\left(X_{1}, \\ldots, X_{d}\\right)$  and  $\\mathbf{Y}$=$\\left(\\varphi_{1} \\circ X_{1}, \\ldots, \\varphi_{d} \\circ X_{d}\\right)$, we have $C_{\\mathbf{X}}=C_{\\mathbf{Y}}$.\n",
    "> "
   ]
  },
  {
   "cell_type": "markdown",
   "id": "9ec8f6da-4905-40ad-8147-628db5f15e68",
   "metadata": {},
   "source": [
    "The graph of a copula  $C \\in \\mathscr{C}_{d}$  is the set of all points $\\mathbf{x}=(\\mathbf{u}, C(\\mathbf{u}))$ for  $\\mathbf{u} \\in [0,1]^{d}$ where we consider the level sets $L_{C}^{>t} $=$\\left\\{\\mathbf{u} \\in \\mathbb{I}^{d}: C(\\mathbf{u}) \\geq t\\right\\}$ and $L_{C}^{\\leq t}$ = $\\left\\{\\mathbf{u} \\in \\mathbb{I}^{d}: C(\\mathbf{u}) \\leq t\\right\\}$."
   ]
  },
  {
   "cell_type": "markdown",
   "id": "d8c2cea4-9f05-4c90-ad64-526ea87c1745",
   "metadata": {},
   "source": [
    "---\n",
    "\n",
    "Next we study measures induced by copulas, the totality of which is denoted by $\\mathscr{P}_{C}\\left([0,1]^{d}\\right) = \\{ \\mu_{C}: C \\text{ is a coupla } \\}$. Then \n",
    "\n",
    "> $\\mathscr{P}_{C}\\left([0,1]^{d}\\right)$ is closed in $\\left(\\mathscr{P}\\left([0,1]^{d}\\right), h\\right)$, $d \\geq 2$, where $h(\\mu, \\nu):=\\sup \\left\\{\\left|\\int_{\\mathbb{I}^{d}} f \\mathrm{~d} \\mu-\\int_{\\mathbb{I}^{d}} f \\mathrm{~d} \\nu\\right|: f \\in \\operatorname{Lip}_{1}\\left(\\mathbb{I}^{d}, \\mathbb{R}\\right)\\right\\}$ is a metrisation of the topology of weak convergence."
   ]
  },
  {
   "cell_type": "markdown",
   "id": "d79e85ff-2f15-417f-8af6-887f0647a3de",
   "metadata": {},
   "source": [
    "In view of the Lebesgue decomposition, $\\mu_{C}=\\mu_{C}^{a c}+\\mu_{C}^{s}$ where $\\mu_C^s$  is concentrated on a set of lebesgue measure $0$. If $C$ is absolutely continuous, then it can be written in the form\n",
    "\n",
    "$$C(\\mathbf{u})=\\int_{[0, \\mathbf{u}]^{d}} c(\\mathbf{s}) \\mathrm{ds}+C_{s}(\\mathbf{u}), \\text{ where } c(\\mathbf{u})=\\frac{\\partial^{d} C(\\mathbf{u})}{\\partial u_{1} \\cdots \\partial u_{d}} \\text{ a.s.}$$\n",
    "\n",
    "whose proof is non-trivial. Then we discuss Markov kernel representation and transformations of Copulas."
   ]
  },
  {
   "cell_type": "markdown",
   "id": "0581cc2f-b8bb-47e4-9901-8b6e47eb9470",
   "metadata": {},
   "source": [
    "> 1. $\\exists$ a link between copulas and conditional expectations.\n",
    ">\n",
    "> $$ \\mathbb{P}(\\mathbf{Y} \\leq \\mathbf{y} \\mid X) :=\\mathbb{E}\\left(\\mathbf{1}_{]-\\infty, \\mathbf{y}]} \\circ \\mathbf{Y} \\mid X\\right)(\\omega) = \\partial_{1} C\\left(F_{X}(X(\\omega)), F_{Y_{1}}\\left(y_{1}\\right), \\ldots, F_{Y_{d-1}}\\left(y_{d-1}\\right)\\right). $$\n",
    ">\n",
    "> In Markov kernel representation, $ K_{C}(x,[\\mathbf{0}, \\mathbf{y}]) = \\partial_{1} C(x, \\mathbf{y}) $.\n",
    ">\n",
    "> 2. If $f_{1}, \\ldots, f_{d}$ are measure-preserving, then \n",
    ">\n",
    "> $$ C_{f_{1}, \\ldots, f_{d}}\\left(u_{1}, \\ldots, u_{d}\\right):=\\lambda\\left(f_{1}^{-1}\\left[0, u_{1}\\right] \\cap \\cdots \\cap f_{d}^{-1}\\left[0, u_{d}\\right]\\right). $$\n",
    ">\n",
    "> is a $d$-copula. Converse is also true. Then we also know\n",
    ">\n",
    "> $$ C_{f_{1} \\circ \\varphi, \\ldots, f_{d} \\circ \\varphi}=C_{f_{1}, \\ldots, f_{d}} $$\n",
    ">\n",
    ">"
   ]
  },
  {
   "cell_type": "code",
   "execution_count": null,
   "id": "aab2f56b-fbaf-4270-b5df-b93e9b0cbf9f",
   "metadata": {},
   "outputs": [],
   "source": []
  },
  {
   "cell_type": "markdown",
   "id": "9720eccb-e2e6-4ca6-aba3-aa17b208d0bd",
   "metadata": {},
   "source": [
    "---\n",
    "\n",
    "Finally, we explore the correspondence between copulas and Markov operators for approximation of copulas.\n",
    "\n",
    "> A linear operator  $T: L^{\\infty}\\left(\\Omega_{1}\\right) \\rightarrow L^{\\infty}\\left(\\Omega_{2}\\right)$  is a **Markov operator** if\n",
    "> 1.  $T$  is positive $\\big($viz. $T f \\geq 0$  whenever  $f \\geq 0$ $\\big)$ and $T 1=1$.\n",
    "> 2. $\\mathbb{E}_{2}(T f)=\\mathbb{E}_{1}(f)$, where  $\\mathbb{E}_{j}$  denotes the expectation in $\\left(\\Omega_{j}, \\mathscr{F}_{j}, \\mathbb{P}_{j}\\right)$."
   ]
  },
  {
   "cell_type": "markdown",
   "id": "d5d8a3e1-cfd8-4cd6-83fd-f34e5578100a",
   "metadata": {},
   "source": [
    "Since $L^{\\infty}\\left(\\Omega_{1}\\right) \\text { is dense in } L^{1}\\left(\\Omega_{1}\\right)$ and \n",
    "\n",
    "$$\\int_{\\Omega_{2}}|T f| \\mathrm{d} \\mathbb{P}_{2} \\leq \\int_{\\Omega_{2}} T|f| \\mathrm{d} \\mathbb{P}_{2}=\\int_{\\Omega_{1}}|f| \\mathrm{d} \\mathbb{P}_{1}$$\n",
    "\n",
    "$T$ has a unique extension to $T: L^{1}\\left(\\Omega_{1}\\right) \\rightarrow L^{1}\\left(\\Omega_{2}\\right)$. Then a unique extension to **bounded** $T: L^{p}\\left(\\Omega_{1}\\right) \\rightarrow L^{p}\\left(\\Omega_{2}\\right)$ with the **Riesz-Thorin theorem**. Then we establish the following one-to-one correspondences.\n",
    "\n",
    "> 1. $ \\big\\{ T: L^{\\infty}\\left(\\Omega_{1}\\right) \\to L^{\\infty}\\left(\\Omega_{2}\\right)\\big\\} \\stackrel{1-1}{\\Longleftrightarrow} \\{ \\text{ probability on }\\left(\\Omega_{1} \\times \\Omega_{2}, \\mathscr{F}_{1} \\otimes \\mathscr{F}_{2}\\right) \\}$ via \n",
    ">\n",
    "> $$\\mathbb{P}(A \\times B):=\\int_{\\Omega_{2}}\\left(T \\mathbf{1}_{A}\\right) \\mathbf{1}_{B} \\mathrm{~d} \\mathbb{P}_{2} \\text{ and } \\int_{\\Omega_{2}}(T f) g \\mathrm{~d} \\mathbb{P}_{2}=\\int_{\\Omega_{1} \\times \\Omega_{2}} f g \\mathrm{~d} \\mathbb{P} .$$\n",
    ">\n",
    "> 2. $ \\big\\{ T: L^{\\infty}\\left([0,1]\\right) \\to L^{\\infty}\\left([0,1]\\right)\\big\\} \\stackrel{1-1}{\\Longleftrightarrow} \\mathscr{C}_2$ via \n",
    ">\n",
    "> $$C_{T}(u, v):=\\int_{0}^{u}\\left(T 1_{[0, v]}\\right)(s) \\mathrm{d} s \\text{ and } \\left(T_{C} f\\right)(x):=\\frac{d}{d x} \\int_{0}^{1} \\partial_{2} C(x, t) f(t) \\mathrm{d} t.$$"
   ]
  },
  {
   "cell_type": "code",
   "execution_count": null,
   "id": "d89e5407-5a15-42b9-8027-e6e6badfd381",
   "metadata": {},
   "outputs": [],
   "source": []
  },
  {
   "cell_type": "code",
   "execution_count": null,
   "id": "a5ad00d5-5cdd-4000-8fa6-4b98722987a6",
   "metadata": {},
   "outputs": [],
   "source": []
  },
  {
   "cell_type": "code",
   "execution_count": null,
   "id": "ef523029-70d5-404a-9c49-defa7d1f78dd",
   "metadata": {},
   "outputs": [],
   "source": []
  },
  {
   "cell_type": "code",
   "execution_count": null,
   "id": "11790fc3-13d9-4209-9053-6818b037ff8e",
   "metadata": {},
   "outputs": [],
   "source": []
  },
  {
   "cell_type": "code",
   "execution_count": null,
   "id": "8c797d0e-a9d2-43cf-b829-8a6d551b40cd",
   "metadata": {},
   "outputs": [],
   "source": []
  },
  {
   "cell_type": "code",
   "execution_count": null,
   "id": "bff0fc71-1bb6-4f2f-b0fb-e48ef8410977",
   "metadata": {},
   "outputs": [],
   "source": []
  },
  {
   "cell_type": "code",
   "execution_count": null,
   "id": "ad5df143-5735-42f6-a088-a865dfa05c78",
   "metadata": {},
   "outputs": [],
   "source": []
  },
  {
   "cell_type": "code",
   "execution_count": null,
   "id": "95cb5e59-30fb-426d-ba35-15e503414e89",
   "metadata": {},
   "outputs": [],
   "source": []
  },
  {
   "cell_type": "code",
   "execution_count": null,
   "id": "4dd098d5-d7ec-44c8-8de1-f8825ca76d0d",
   "metadata": {},
   "outputs": [],
   "source": []
  },
  {
   "cell_type": "code",
   "execution_count": null,
   "id": "3943cb0e-aef0-4a0d-9184-bce8ba6a985b",
   "metadata": {},
   "outputs": [],
   "source": []
  },
  {
   "cell_type": "code",
   "execution_count": null,
   "id": "1bb90939-8f7b-4383-aeb2-aae3b7036fcd",
   "metadata": {},
   "outputs": [],
   "source": []
  },
  {
   "cell_type": "code",
   "execution_count": null,
   "id": "992582ab-e5f0-4f80-97c5-b944e15d04b7",
   "metadata": {},
   "outputs": [],
   "source": []
  },
  {
   "cell_type": "code",
   "execution_count": null,
   "id": "1afa1014-0a91-4244-be93-7ed981610270",
   "metadata": {},
   "outputs": [],
   "source": []
  },
  {
   "cell_type": "code",
   "execution_count": null,
   "id": "2575cd2f-1d93-459b-b0ef-f4cd8c454608",
   "metadata": {},
   "outputs": [],
   "source": []
  },
  {
   "cell_type": "code",
   "execution_count": null,
   "id": "23177ded-20ec-4ace-aed5-dbf18223d40c",
   "metadata": {},
   "outputs": [],
   "source": []
  },
  {
   "cell_type": "markdown",
   "id": "445d9c70-793e-4a9b-b6ff-6efe73590510",
   "metadata": {},
   "source": [
    "---\n",
    "\n",
    "### 3. Markov Products of Copulas"
   ]
  },
  {
   "cell_type": "markdown",
   "id": "da702efc-45e8-412f-9949-973d7cc3e4b5",
   "metadata": {},
   "source": [
    "> For $A,B \\in \\mathscr{C}_2$, the $2$-copula **Markov product** is given by $(A * B)(u, v):=\\int_{0}^{1} \\partial_{2} A(u, t) \\partial_{1} B(t, v) \\mathrm{d} t$"
   ]
  },
  {
   "cell_type": "markdown",
   "id": "6f2ebdb1-c693-40ca-853c-0caa8f06bb5e",
   "metadata": {},
   "source": [
    "Then computation varifies that $\\left(\\mathscr{C}_{2}, *\\right)$  is a semigroup with identity. "
   ]
  },
  {
   "cell_type": "code",
   "execution_count": null,
   "id": "019b254d-366c-4a7b-bf76-f9488393598c",
   "metadata": {},
   "outputs": [],
   "source": []
  },
  {
   "cell_type": "code",
   "execution_count": null,
   "id": "b2ce5fb9-ae66-4e59-a1f7-40e4ce77ea87",
   "metadata": {},
   "outputs": [],
   "source": []
  },
  {
   "cell_type": "code",
   "execution_count": null,
   "id": "e088843f-87b7-4ec0-b1fd-d61e32848017",
   "metadata": {},
   "outputs": [],
   "source": []
  },
  {
   "cell_type": "code",
   "execution_count": null,
   "id": "61a1559a-3d19-486d-8dd0-7cee42bf097d",
   "metadata": {},
   "outputs": [],
   "source": []
  },
  {
   "cell_type": "markdown",
   "id": "98f28c99-02ff-45bf-ac85-baba30c40ef6",
   "metadata": {},
   "source": [
    "---\n",
    "\n",
    "### Reference\n",
    "\n",
    "1. Shuxiao Chen. Minimax Rates and Adaptivity in Combining Experimental and Observational Data.\n",
    "2. Qingyuan Zhao. Lecture Notes on Causal Inference. \n",
    "3. Joaquin Quiñonero-Candela. Dataset Shift In Machine Learning.\n",
    "4. Geoff K. Nicholls. Bayes Methods.\n",
    "5. Patrick J. Laub. Hawkes Processes.\n",
    "6. Tomas Björk. An Introduction to Point Processes from a Martingale Point of View.\n",
    "7. Jonas Peters. Elements of Causal Inference.\n",
    "8. Alessio Zanga. A Survey on Causal Discovery.\n",
    "9. Qing Zhou. Directed Mixed Graphs for Latent Variables.\n",
    "10. Peter Spirtes. Causation, Prediction, and Search. \n",
    "11. Thomas Richardson. Ancestral Graph Markov Models.\n",
    "12. Jonas Peters. Causal Inference Using Invariant Prediction.\n",
    "13. Fabrizio Durante. Sklar’s Theorem Obtained via Regularization Techniques.\n",
    "14. Nilesh Tripuraneni. On the Theory of Transfer Learning: The Importance of Task Diversity.\n",
    "15. Nir Friedman. On the Sample Complexity of Learning Bayesian Networks.\n",
    "16. Bodhisattva Sen. A Gentle Introduction to Empirical Process Theory and Applications."
   ]
  }
 ],
 "metadata": {
  "kernelspec": {
   "display_name": "Python 3 (ipykernel)",
   "language": "python",
   "name": "python3"
  },
  "language_info": {
   "codemirror_mode": {
    "name": "ipython",
    "version": 3
   },
   "file_extension": ".py",
   "mimetype": "text/x-python",
   "name": "python",
   "nbconvert_exporter": "python",
   "pygments_lexer": "ipython3",
   "version": "3.9.18"
  }
 },
 "nbformat": 4,
 "nbformat_minor": 5
}
