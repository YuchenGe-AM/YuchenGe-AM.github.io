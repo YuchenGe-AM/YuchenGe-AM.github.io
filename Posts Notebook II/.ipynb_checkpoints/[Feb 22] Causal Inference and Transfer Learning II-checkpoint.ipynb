{
 "cells": [
  {
   "cell_type": "markdown",
   "id": "a4ecbc3a",
   "metadata": {},
   "source": [
    "## [Feb 22] Causal Inference and Transfer Learning II\n",
    "\n",
    "Presenter: Yuchen Ge  \n",
    "Affiliation: University of Oxford  \n",
    "Contact Email: gycdwwd@gmail.com  \n",
    "Website: https://yuchenge-am.github.io"
   ]
  },
  {
   "cell_type": "markdown",
   "id": "fd5f2a81-37b9-435e-8710-90c1034d79c6",
   "metadata": {},
   "source": [
    "---\n",
    "\n",
    "### 1. Counting Process Preliminary\n",
    "\n",
    "> A **counting process** is an a.s. finite $\\big($ i.e. $\\mathbb{P}(\\bigcup_t N(t)<\\infty )=1$ $\\big)$ stochastic process  $(N(t): t \\geqslant 0)$  taking values in  $\\mathbb{N}_{0}$  s.t.  $N(0)=0$, and is a right-continuous step function with increments of size +1.\n",
    "\n",
    "It can be considered as a **Point Process**: a sequence of random variables  $T=   \\left\\{T_{1}, T_{2}, \\ldots\\right\\}$, taking values in  $[0, \\infty)$, has $ \\mathbb{P}\\left(0 \\leqslant T_{1} \\leqslant T_{2} \\leqslant \\ldots\\right)=1$, and # points in a bounded region is a.s. finite."
   ]
  },
  {
   "cell_type": "markdown",
   "id": "0fa72a71-f5d9-4645-bb3a-39eaf1c8926f",
   "metadata": {},
   "source": [
    "> For all choices of  $0\\leq t_{1}<t_{2}<\\cdots<t_{n}$, a process has **independent** increments if $N\\left(t_{i}\\right)-N\\left(t_{i-1}\\right)$, $i \\leq n$, are independent; a process has **stationary** increments if $N\\left(t+h\\right)-N\\left(t\\right)$ depends only on $h$, $\\forall t \\geq 0$."
   ]
  },
  {
   "cell_type": "markdown",
   "id": "ade39c2b-e1df-47b1-9d28-9240570c82f0",
   "metadata": {},
   "source": [
    "Now we may define \n",
    "\n",
    "> ( **Poisson Process** ) A counting process  $(N(t): t \\geqslant 0)$  is a homogeneous Poisson process with rate  $\\lambda>0$  if $N(I) \\sim \\operatorname{Poi}(\\lambda|I|)$; $N\\left(I_{1}\\right)$, $ N\\left(I_{2}\\right), \\ldots, N\\left(I_{n}\\right)$  are independent, $\\forall$ disjoint intervals  $I_{1}, I_{2}, \\ldots, I_{n}$.\n"
   ]
  },
  {
   "cell_type": "markdown",
   "id": "f77fb0f0-87ab-4e25-911d-f6b387a1b548",
   "metadata": {},
   "source": [
    "It follows that \n",
    "\n",
    "$$ \\mathbb{P}(N(t)=n)=\\frac{(\\lambda t)^{n}}{n !} \\mathrm{e}^{-\\lambda t}, \\quad n=0,1,2, \\ldots\n",
    "$$"
   ]
  },
  {
   "cell_type": "markdown",
   "id": "c3203432-1e67-4f94-98e8-69bfdd632179",
   "metadata": {},
   "source": [
    "There is a link between Bernoulli and Poisson processes. Fixing some $h>0$, partition time into disjoint intervals  $J_{1}^{(h)}=(0, h], J_{2}^{(h)}=(h, 2 h], \\ldots$\n",
    "\n",
    "Set $X_{n}$ = # arrivals in  $J_{n}^{(h)} \\sim \\operatorname{Ber}(p) = \\operatorname{Ber}(\\lambda h)$. Defining  $Y_{n}=   X_{1}+\\cdots+X_{n}, Y_{n}$ = # arrivals in the interval  $(0, n h]$.\n",
    "\n",
    "> The random variables $ N(t)$  and  $Y_{n}$  have approximately the same distribution.\n",
    "\n",
    "**Proof.** Now consider a fixed time  $t>0$, which falls in the interval  $n=\\lfloor t / h\\rfloor$. Then,  $Y_{n} \\sim \\operatorname{Bin}(n, p)$  and\n",
    "\n",
    "$$\\begin{aligned}\n",
    "\\mathbb{P}\\left(Y_{n}=m\\right) & =\\left(\\begin{array}{l}\n",
    "n \\\\\n",
    "m\n",
    "\\end{array}\\right)(\\lambda h)^{m}(1-\\lambda h)^{n-m} \\approx\\left(\\begin{array}{l}\n",
    "n \\\\\n",
    "m\n",
    "\\end{array}\\right)(\\lambda t / n)^{m}(1-\\lambda t / n)^{n-m} \\\\\n",
    "& =\\frac{n !}{(n-m) ! n^{m}} \\frac{(\\lambda t)^{m}}{m !}\\left(1-\\frac{\\lambda t}{n}\\right)^{n-m}.\n",
    "\\end{aligned}$$\n",
    "\n",
    "As $ n \\rightarrow \\infty$, $\\lim _{n \\rightarrow \\infty} \\mathbb{P}\\left(Y_{n}=m\\right)=\\frac{(\\lambda t)^{m}}{m !} \\mathrm{e}^{-\\lambda t}$.\n",
    "\n",
    "> **Thm I.** The interarrival times of the Bernoulli process are geometric, and those of the Poisson process are exponential. Furthermore, They both have independent interarrival times.\n",
    ">\n",
    "> **Thm II.** Both processes have superposition and thinning property.\n",
    "\n",
    "**Proof.** We only prove thm I for Poisson process. Define $\\mathbb{P}(N(t_2 - t_1) = k) = P(k; t_2 - t_1)$. Computation shows that for $\\Delta T_k = T_k - T_{k-1}$ where $T_k$'s are the stopping times,\n",
    "\n",
    "$$\\begin{aligned}\n",
    "\\mathbb{P}\\left(t_{1} \\leq \\Delta T_{1} \\leq t_{1}+\\delta,\\right. & \\left.t_{2} \\leq \\Delta T_{2} \\leq t_{2}+\\delta\\right) \\\\\n",
    "\\approx & P\\left(0 ; t_{1}\\right) \\cdot P(1 ; \\delta) \\cdot P\\left(0 ; t_{2}-t_{1}-\\delta\\right) \\cdot P(1 ; \\delta) \\\\\n",
    "= & e^{-\\lambda t_{1}} \\lambda \\delta e^{-\\lambda\\left(t_{2}-\\delta\\right)} \\lambda \\delta.\n",
    "\\end{aligned}$$\n",
    "\n",
    "\n",
    "We divide both sides by  $\\delta^{2}$, and take the limit as  $\\delta \\downarrow 0$, to obtain\n",
    "\n",
    "$$f_{\\Delta T_{1}, \\Delta T_{2}}\\left(t_{1}, t_{2}\\right)=\\lambda e^{-\\lambda t_{1}} \\lambda e^{-\\lambda t_{2}} . \\quad t_{1}, t_{2}>0.$$\n",
    "\n",
    "\n",
    "This shows that  $\\Delta T_{2}$  is independent of  $\\Delta T_{1}$ and has the same exponential distribution, which can easily generalize.\n"
   ]
  },
  {
   "cell_type": "markdown",
   "id": "b20cb64e-9d9c-4152-9d81-a21d5d78fede",
   "metadata": {},
   "source": [
    "### 2. Stochastic Intensity from a Martingale Viewpoint"
   ]
  },
  {
   "cell_type": "markdown",
   "id": "85f6a201-e8e1-422e-868e-66104a1f94c2",
   "metadata": {},
   "source": [
    "> $A \\in \\mathcal{V}_{T}$ (i.e. of finite variation) if it's an adapted cadlag process s.t. $\\int_{0}^{T}\\left|d A_{t}\\right|<\\infty$.\n",
    ">\n",
    "> $A \\in \\mathcal{A}_{T}$ (i.e. of integrable variation) if $A \\in  \\mathcal{V}_{T}$ s.t. $E\\left[\\int_{0}^{T}\\left|d A_{t}\\right|\\right]<\\infty$.\n",
    "\n",
    "The optional  $\\sigma$-algebra on $ R_{+} \\times \\Omega$  is generated by all $Y_{t}(\\omega)=Z(\\omega) I\\{r \\leq t<s\\}$ () where $Z$ is ()-measurable. Also,\n",
    "\n",
    "> The optional $\\sigma$-algebra is generated by the class of adapted cadlag processes.\n",
    "\n",
    "For “practical” purposes, **the difference between an adapted process and an optional process is very small and one may, without great risk, interpret the term “optional” as “adapted”.**"
   ]
  },
  {
   "cell_type": "markdown",
   "id": "16588a82-6eea-4b8d-b168-f088ab16b9ba",
   "metadata": {},
   "source": []
  },
  {
   "cell_type": "markdown",
   "id": "139bbd51-28ed-48a0-a570-b98cd077634b",
   "metadata": {},
   "source": []
  },
  {
   "cell_type": "markdown",
   "id": "fcc08525-a6dd-4a1f-b4b9-57dc65e32002",
   "metadata": {},
   "source": []
  },
  {
   "cell_type": "markdown",
   "id": "b7a507a9-3391-456b-bf7e-03fa616eca34",
   "metadata": {},
   "source": []
  },
  {
   "cell_type": "markdown",
   "id": "b06de1f3-5cef-4e00-85f6-aa2a02db95c3",
   "metadata": {},
   "source": []
  },
  {
   "cell_type": "markdown",
   "id": "f9b4086f-8840-467f-9e98-645057954175",
   "metadata": {},
   "source": []
  },
  {
   "cell_type": "markdown",
   "id": "d80024a4-a69d-44ec-8cf3-5ddda40c3262",
   "metadata": {},
   "source": []
  },
  {
   "cell_type": "markdown",
   "id": "479e25b7-18b2-456a-b658-be82fd849423",
   "metadata": {},
   "source": []
  },
  {
   "cell_type": "markdown",
   "id": "5c50a16d-8129-4349-be03-b53112472e3c",
   "metadata": {},
   "source": []
  },
  {
   "cell_type": "markdown",
   "id": "c3795ecf-5f5b-4217-9544-a3e7af06617c",
   "metadata": {},
   "source": []
  },
  {
   "cell_type": "code",
   "execution_count": null,
   "id": "3b2ca0fc-98f0-455a-a7db-b0bb32826e75",
   "metadata": {},
   "outputs": [],
   "source": []
  },
  {
   "cell_type": "code",
   "execution_count": null,
   "id": "74d03d30-62ed-4bfe-82c0-881eca2be050",
   "metadata": {},
   "outputs": [],
   "source": []
  },
  {
   "cell_type": "code",
   "execution_count": null,
   "id": "c7797fcf-2c79-486c-b223-ae0097d537e9",
   "metadata": {},
   "outputs": [],
   "source": []
  },
  {
   "cell_type": "markdown",
   "id": "3b69058b-b8db-4c39-abd6-5c46f876ea85",
   "metadata": {},
   "source": [
    "\n",
    "> Given the history up until the last arrival $u$, $H(u)$, the conditional cumulative distribution function (CDF) is \n",
    ">\n",
    "> $$ \\begin{aligned} F^*(t) & = F(t \\mid \\mathcal{H}(u))=\\int_{u}^{t} \\frac{\\mathbb{P}\\left(T_{k+1} \\in(s, s+\\mathrm{d} s] \\mid \\mathcal{H}(u)\\right)}{\\mathrm{d} s} \\mathrm{d} s \\\\ & = \\int_{u}^{t} f(s \\mid \\mathcal{H}(u)) \\mathrm{d} s = \\int_{u}^{t} f^*(s) \\mathrm{d} s. \\end{aligned}$$\n",
    "\n",
    "Then we define \n",
    "\n",
    "$$\\lambda^{*}(t, \\omega) =  \\lambda^{*}(t)=\\frac{f^{*}(t)}{1-F^{*}(t)}$$\n",
    "\n",
    "$$\\lim _{h \\searrow 0} \\frac{\\mathbb{E}[N(t+h)-N(t) \\mid \\mathcal{H}(t)]}{h}\n",
    "$$\n",
    "\n",
    "Intuitively,  $\\lambda^{*}(t) \\mathrm{d} t = \\mathrm{E}\\left[N(\\mathrm{~d} t) \\mid \\mathcal{H}_{t}\\right]$."
   ]
  },
  {
   "cell_type": "markdown",
   "id": "65d60b25-d230-45ca-a904-c57e7bcf1f4a",
   "metadata": {},
   "source": [
    "### 3. Hawkes Process\n",
    "\n",
    "A **Hawkes Process** is a generalization of Poission process as is shown below.\n",
    "\n",
    "> A **Hawkes Process** is   a counting process $(N(t): t \\geqslant 0)$, with associated history  $(\\mathcal{H}(t): t \\geqslant 0)$, s.t.\n",
    ">\n",
    "> $$\n",
    "\\mathbb{P}(N(t+h)-N(t)=m \\mid \\mathcal{H}(t))=\\left\\{\\begin{array}{ll}\n",
    "1-\\lambda^{*}(t) h+\\mathrm{o}(h), & m=0 \\\\\n",
    "\\lambda^{*}(t) h+\\mathrm{o}(h), & m=1 \\\\\n",
    "\\mathrm{o}(h), & m>1.\n",
    "\\end{array}\\right. $$\n",
    "\n",
    "Here we supppose $\\lambda^{*}(t)=\\lambda+\\int_{0}^{t} \\mu(t-u) \\mathrm{d} N(u)$ where  $\\lambda>0$  and  $\\mu:(0, \\infty) \\rightarrow[0, \\infty)$  which are called the background intensity and excitation function, respectively. \n",
    "\n",
    "> $\\mu(\\cdot) = 0 $ refers to a homogeneous Poisson process.\n",
    "\n",
    "\n",
    "\n",
    "\n"
   ]
  },
  {
   "cell_type": "code",
   "execution_count": null,
   "id": "368c6c6b-ae9b-4a6e-ad18-116e2f643446",
   "metadata": {},
   "outputs": [],
   "source": []
  },
  {
   "cell_type": "markdown",
   "id": "98f28c99-02ff-45bf-ac85-baba30c40ef6",
   "metadata": {},
   "source": [
    "---\n",
    "\n",
    "### Reference\n",
    "\n",
    "1. Shuxiao Chen. Minimax Rates and Adaptivity in Combining Experimental and Observational Data.\n",
    "2. Qingyuan Zhao. Lecture Notes on Causal Inference. \n",
    "2. Joaquin Quiñonero-Candela. Dataset Shift In Machine Learning.\n",
    "3. Geoff K. Nicholls. Bayes Methods.\n",
    "4. Patrick J. Laub. Hawkes Processes.\n",
    "5. Tomas Björk. An Introduction to Point Processes from a Martingale Point of View."
   ]
  },
  {
   "cell_type": "code",
   "execution_count": null,
   "id": "81cb05f0-953e-4651-bc8d-168f35c2099d",
   "metadata": {},
   "outputs": [],
   "source": []
  }
 ],
 "metadata": {
  "kernelspec": {
   "display_name": "Python 3",
   "language": "python",
   "name": "python3"
  },
  "language_info": {
   "codemirror_mode": {
    "name": "ipython",
    "version": 3
   },
   "file_extension": ".py",
   "mimetype": "text/x-python",
   "name": "python",
   "nbconvert_exporter": "python",
   "pygments_lexer": "ipython3",
   "version": "3.8.13"
  }
 },
 "nbformat": 4,
 "nbformat_minor": 5
}
