{
 "cells": [
  {
   "cell_type": "markdown",
   "id": "a4ecbc3a",
   "metadata": {},
   "source": [
    "## [Feb 13] Computational Complexity and Quantum Information I\n",
    "\n",
    "Presenter: Yuchen Ge  \n",
    "Affiliation: University of Oxford  \n",
    "Contact Email: gycdwwd@gmail.com  \n",
    "Website: https://yuchenge-am.github.io"
   ]
  },
  {
   "cell_type": "markdown",
   "id": "4c9f4f87-8543-42fb-9743-918cd46c4d70",
   "metadata": {},
   "source": [
    "---\n",
    "\n",
    "### 1. Complexity Classes concerning TM\n",
    "\n",
    "\n",
    "\n",
    "\n"
   ]
  },
  {
   "cell_type": "markdown",
   "id": "5ac677a3-340d-4a0b-979d-3cd0763d36f7",
   "metadata": {},
   "source": [
    "> A Turing machine (TM) is specified by a triple $(\\Sigma, K, \\delta)$ with the transition function $\\delta: K \\times \\Sigma^{k} \\rightarrow K \\times(\\Sigma \\times\\{\\leftarrow,-, \\rightarrow\\})^{k}$. Here  $\\{ \\text{blank}, \\text{start} \\} \\subseteq \\Sigma$  and $\\{ \\text{START}, \\text{HALT} \\} \\subseteq K$.\n",
    "\n",
    "Then we immediately know that \n",
    "\n",
    "> Let  $M$  be a TM using space  $s(n)$. Then the number of configurations  $\\mathcal{C}_{M}(n)$  of  $M$ is bounded by\n",
    "$$\\mathcal{C}_{M}(n) \\leq\\left|Q\\right| \\cdot n \\cdot s(n) \\cdot\\left|\\Sigma\\right|^{s(n)},$$\n",
    "where  $Q$  and $\\Sigma_{M}$  are the states and alphabet respectively. In particular, when  $s(n)=   \\Omega(\\log n)$  we have  $\\mathcal{C}_{M}(n)=2^{O(s(n))}$.\n",
    "\n",
    "It follows that \n",
    "\n",
    "> If the computation of $M(w)$ exceeds $\\mathcal{C}_{M}(|w|)$ steps, then $M(w)$ will run forever. \n",
    ">\n",
    "> If $s(n)=\\Omega(\\log n)$, then $\\operatorname{DSPACE}(s(n)) \\subseteq \\operatorname{DTIME}\\left(2^{O(s(n))}\\right)$.\n",
    "\n",
    "For completeness, we give\n",
    "\n",
    "> $\\operatorname{DTIME}(s(n)) \\subseteq \\operatorname{DSPACE}(s(n))$. ( TM cannot write on more than one work-tape cell per move )"
   ]
  },
  {
   "cell_type": "markdown",
   "id": "ef478de1-0410-4897-814b-763bcc8121c1",
   "metadata": {},
   "source": [
    "Here follows the significant Hierachy Thm. \n",
    "\n",
    "> Let  $f(n), g(n) \\geq \\log n$  be space constructible functions such that  $f=o(g)$, then\n",
    "$$\\operatorname{DSPACE}(f(n))\\subsetneq\\operatorname{DSPACE}(g(n)) \\text{ and } \\operatorname{NSPACE}(f(n))\\subsetneq\\operatorname{NSPACE}(g(n)).$$\n",
    ">\n",
    "> Let  $f(n), g(n) \\geq \\log n$  be space constructible functions such that  $f\\log f=o(g)$, then\n",
    "$$\\operatorname{DTIME}(f(n))\\subsetneq\\operatorname{DTIME}(g(n)).$$\n",
    "\n",
    "This requires us to consider the UTM (interpreter for a particular programming language).\n",
    "\n",
    "> $\\exists$ a universal TM  $\\mathcal{U}$ s.t. $\\forall$ Tm $M$  and inputs  $x$, run in time  $O\\big(M t \\log t \\big)$, and outputs whatever  $M$  outputs on input  $x$. Here  $t = t(n)$ = the time  $M$  takes before it halts on input $x$.\n",
    ">\n",
    "> $\\exists$ a universal TM  $\\mathcal{U}$ s.t. $\\forall$ Tm $M$  and inputs  $x$, run in space  $O\\big(M t \\big)$, and outputs whatever  $M$  outputs on input  $x$. Here  $t = t(n)$ = the space  $M$  takes before it halts on input $x$.\n",
    "\n",
    "There's no slack! The key intuition behind the difference in slack is that time unlike space is not re-usable. We can overwrite existing cells, but we cannot re-use time. Thus space can be used more efficiently.\n"
   ]
  },
  {
   "cell_type": "markdown",
   "id": "898ccbad-8323-4a34-8ffb-ca16207f0845",
   "metadata": {},
   "source": [
    "### 2. Complexity Classes concerning NDTM\n",
    "\n",
    "Nondeterministic Turing machines (NDTMs) are generalisations of the Turing machine model with several transition function  $\\delta_{1}, \\ldots, \\delta_{K}$. A **computational path** is a sequence of choices of transition functions (i.e. integers between $1$ and  $K$  ). NDTMs have a special ACCEPT state.\n",
    "\n",
    "> An NDTM  $M$  decides a language  $\\mathcal{L} \\subseteq\\{0,1\\}^{*}$  if: \n",
    "> - all computational paths reach either the state HALT or the state ACCEPT; \n",
    "> - $\\forall x \\in \\mathcal{L}$, on input  $x$  at least one path reaches the ACCEPT state; \n",
    "> - $\\forall x \\notin \\mathcal{L}$, on input  $x$  no path reaches the ACCEPT state.\n",
    "\n",
    "Then we define \n",
    "\n",
    "> A NDTM $M$  runs in time  $T(n)$  if, for every input  $x \\in\\{0,1\\}^{*}$  and every sequence of nondeterministic choices,  $M$  reaches either the state HALT or the state ACCEPT in at most  $T(|x|)$  steps. \n",
    ">\n",
    "> $\\mathcal{L} \\in  \\operatorname{NTIME}(T(n)) $ if $\\exists$ a NDTM $M$ that runs in time  $O(T(n))$ and decides  $\\mathcal{L}$.\n"
   ]
  },
  {
   "cell_type": "markdown",
   "id": "0262799b-e1b7-4f2b-be16-e4f7053028b1",
   "metadata": {},
   "source": [
    "An important capstone for the following definition is the poly-time reductions. Write FP = $\\{$ poly-time computable $f:\\{0,1\\}^{*} \\rightarrow\\{0,1\\}^{*} \\}$, where $f$  is poly-time computable if $\\exists$ a TM that halts in time $poly(|x|)$  with output  $f(x)$ with input $x$. \n",
    "\n",
    "> $\\mathcal{A} \\leq_{\\mathrm{p}} \\mathcal{B}$  if $\\exists f\\in \\text{FP}$  such that  $w \\in \\mathcal{A}$  iff  $f(w) \\in \\mathcal{B}$. Here  $f$  is called a polynomial-time reduction from $ \\mathcal{A}$  to $ \\mathcal{B}$.\n",
    ">\n",
    "> $\\mathcal{L} \\subseteq \\text{NP}$  if $\\exists$ a polynomial  $p: \\mathbb{N} \\rightarrow \\mathbb{N}$  and a poly-time TM $M$ (verifier) s.t. $\\forall  x \\in\\{0,1\\}^{*}$, $x \\in \\mathcal{L}$  iff $\\exists w \\in\\{0,1\\}^{p(|x|)}$  (certificate/witness) s.t. $ M(x, w)=1$.\n",
    ">\n",
    ">  $\\mathcal{A}$  is NP-hard if, $\\forall  \\mathcal{B} \\in \\mathrm{NP}, \\mathcal{B} \\leq_{\\mathrm{P}} \\mathcal{A}$. $\\mathcal{A}$  is NP-complete if  $\\mathcal{A} \\in \\mathrm{NP}$, and  $\\mathcal{A}$  is NP-hard.\n",
    "\n",
    "The language Composites =  $\\{ lex(N) : N = p \\times q, p, q \\geq 2 \\}$. A certificate is the factorisation $(p, q)$; given $p$ and $q$, it can be checked in time polynomial in the input size (i.e. $poly(log N)$) that $N = pq$."
   ]
  },
  {
   "cell_type": "markdown",
   "id": "990d3f02-f9d1-4ab7-9a45-ddda23b3eef5",
   "metadata": {},
   "source": [
    "The following Thm connects NP and NDTM.\n",
    "\n",
    "> $N P=\\bigcup_{c \\geq 1} \\operatorname{NTIME}\\left(n^{c}\\right) .$ (computational path serves as a certificate)"
   ]
  },
  {
   "cell_type": "markdown",
   "id": "6b7fb0ad-46df-4ef1-b594-b014d71f7a65",
   "metadata": {},
   "source": [
    "Finally,\n",
    "\n",
    "> For any $f: \\mathbb{N} \\rightarrow \\mathbb{N}$  s.t. $ f \\geq \\log n$,\n",
    ">\n",
    "> $$\\operatorname{DTIME}(f(n)) \\subseteq \\operatorname{NTIME}(f(n)) \\subseteq \\operatorname{SPACE}(f(n)) \\subseteq \\operatorname{NSPACE}(f(n)) \\subseteq \\operatorname{DTIME}\\left(2^{O(f(n))}\\right).$$\n"
   ]
  },
  {
   "cell_type": "markdown",
   "id": "12d78558-ab3d-4c87-bdeb-2e9d312ec20c",
   "metadata": {},
   "source": [
    "**Proof.** The first and third inclusions are obvious. The second is based on the exponential-time simulation of NDTMs by DTMs: to iterate through each of these transition functions requires only $O(T)$ space (to store a counter). The final inclusion uses the configuration graph."
   ]
  },
  {
   "cell_type": "markdown",
   "id": "07257d72-89cf-4677-9319-02286486d8c4",
   "metadata": {},
   "source": [
    "### 3. A Diverse in Fourier Transformation"
   ]
  },
  {
   "cell_type": "markdown",
   "id": "8d7d8009-4e75-4aa0-961d-a5ad6dec0e0c",
   "metadata": {},
   "source": [
    "A vector  $\\boldsymbol{\\theta}=\\left(\\theta_{0}, \\ldots, \\theta_{n-1}\\right)$ has a corresponding circulant matrix  $\\mathbf{C}(\\boldsymbol{\\theta})=   \\left(\\theta_{u-v \\bmod n}\\right) $. Circulant matrices are synonymous with discrete convolutions, i.e. \n",
    "$$ (\\mathbf{x} \\star \\boldsymbol{\\theta})_{u}=\\sum_{v=0}^{n-1} x_{v \\bmod n} \\theta_{u-v \\bmod n} = \\mathbf{C}(\\boldsymbol{\\theta}) \\mathbf{x}\n",
    "$$"
   ]
  },
  {
   "cell_type": "markdown",
   "id": "793e5ca8-264d-4cd8-b38d-3b352e792d6e",
   "metadata": {},
   "source": [
    "A particular choice of  $\\boldsymbol{\\theta}=(0,1,0, \\ldots, 0)^{\\top}$  yields the shift operator $\\mathbf{S}$, for which the eigenvectors happen to be the discrete Fourier basis\n",
    "\n",
    "$$\\boldsymbol{\\varphi}_{k}=\\frac{1}{\\sqrt{n}}\\left(1, e^{\\frac{2 \\pi \\mathrm{i} k}{n}}, e^{\\frac{4 \\pi \\mathrm{i} k}{n}}, \\ldots, e^{\\frac{2 \\pi \\mathrm{i}(n-1) k}{n}}\\right)^{\\top}, \\quad k=0,1, \\ldots, n-1.$$\n",
    "\n",
    "We can arrange them into Fourier matrix  $\\Phi=\\left(\\varphi_{0}, \\ldots, \\varphi_{n-1}\\right)$. \n",
    "\n",
    "> ( **Convolution\n",
    "Theorem**) Multiplication by  $\\Phi^{*}$, i.e. $\\hat{\\boldsymbol{x}}=\\boldsymbol{\\Phi}^{*} \\boldsymbol{x}$ , gives the Discrete Fourier Transform (DFT), and by  $\\Phi$  the inverse DFT. Then by an observation from the eigenvalues of $C(\\theta)$ is $\\hat{\\boldsymbol{\\theta}}=\\boldsymbol{\\Phi}^{*} \\boldsymbol{\\theta}$,\n",
    ">\n",
    "> $$\\mathbf{C}(\\boldsymbol{\\theta}) \\mathbf{x}=\\boldsymbol{\\Phi}\\left[\\begin{array}{ccc}\n",
    "\\hat{\\theta}_{0} & & \\\\\n",
    "& \\ddots & \\\\\n",
    "& & \\hat{\\theta}_{n-1}\n",
    "\\end{array}\\right] \\boldsymbol{\\Phi}^{*} \\mathbf{x}=\\boldsymbol{\\Phi}(\\hat{\\boldsymbol{\\theta}} \\odot \\hat{\\mathbf{x}})$$\n",
    ">\n",
    "> where $\\hat{\\boldsymbol{\\theta}}=\\boldsymbol{\\Phi}^{*} \\boldsymbol{\\theta}$."
   ]
  },
  {
   "cell_type": "markdown",
   "id": "7d1f8706-34a8-4b05-850f-6e2c2e12a749",
   "metadata": {},
   "source": [
    "We then consider the continuous translation operator  $\\left(S_{v} f\\right)(u)=f(u-v)$. Applying  $S_{v}$  to the Fourier basis functions  $\\varphi_{\\xi}(u)=e^{\\mathrm{i} \\xi u}$  yields, \n",
    "\n",
    "$$S_{v} \\varphi_{\\xi}(u) = e^{\\mathrm{i} \\xi(u-v)}=e^{-\\mathrm{i} \\xi v} e^{\\mathrm{i} \\xi u},$$\n",
    "\n",
    "i.e.,  $\\varphi_{\\xi}(u)$  is the complex eigenvector of  $S_{v}$  with the complex eigenvalue  $e^{-\\mathrm{i} \\xi v}$.\n",
    "\n",
    "> The spectrum of the translation operator is simple, meaning that two functions sharing the same eigenvalue must necessarily be collinear. \n",
    "\n",
    "**Proof.** Suppose that  $S_{v} f=e^{-\\mathrm{i} \\xi_{0} v} f$. Taking the Fourier transform in both sides (slice the function in $[-n,n]$ if necessary), we obtain\n",
    "\n",
    "$$\\forall \\xi, e^{-\\mathrm{i} \\xi v} \\hat{f}(\\xi)=e^{-\\mathrm{i} \\xi_{0} v} \\hat{f}(\\xi),$$\n",
    "\n",
    "which implies that  $\\hat{f}(\\xi)=0$  for  $\\xi \\neq \\xi_{0}$, thus  $f=\\alpha \\varphi_{\\xi_{0}}$."
   ]
  },
  {
   "cell_type": "markdown",
   "id": "59bebc55-05d4-4ba7-9198-f7345724e8ea",
   "metadata": {},
   "source": [
    "> Linear translation equivariant operator is a convolution.\n",
    "\n",
    "**Proof.** For a general linear translation equivariant operator  $C$,\n",
    "\n",
    "$$S_{v} C e^{\\mathrm{i} \\xi u}=C S_{v} e^{\\mathrm{i} \\xi u}=e^{-\\mathrm{i} \\xi v} C e^{\\mathrm{i} \\xi u},$$\n",
    "\n",
    "which follows from the simplicity of spectrum that  $C e^{\\mathrm{i} \\xi u}=\\beta \\varphi_{\\xi}(u)$. Finally, for arbitrary $x(u)$\n",
    "\n",
    "$$\\begin{aligned}\n",
    "(C x)(u) & =C \\int_{-\\infty}^{+\\infty} \\hat{x}(\\xi) e^{\\mathrm{i} \\xi u} \\mathrm{~d} \\xi=\\int_{-\\infty}^{+\\infty} \\hat{x}(\\xi) \\hat{p}_{C}(\\xi) e^{\\mathrm{i} \\xi u} \\mathrm{~d} \\xi \\\\\n",
    "& =\\int_{-\\infty}^{+\\infty} p_{C}(v) x(u-v) \\mathrm{d} v=\\left(x \\star p_{C}\\right)(u)\n",
    "\\end{aligned}$$\n",
    "\n",
    "where  $p_{C}(u)$  is the inverse Fourier transform of  $\\hat{p}_{C}(\\xi)$. It thus follows that every linear translation equivariant operator is a convolution."
   ]
  },
  {
   "cell_type": "markdown",
   "id": "d298e5cc-6911-4850-937b-e571578956ee",
   "metadata": {},
   "source": [
    "---\n",
    "\n",
    "Then for  Quantum Fourier transform  $\\bmod N$, we set\n",
    "\n",
    "$$\\text { QFT : }|a\\rangle \\mapsto \\frac{1}{\\sqrt{N}} \\sum_{b=0}^{N-1} e^{2 \\pi i a b / N}|b\\rangle.$$\n",
    "\n",
    "The matrix entries are $[\\mathrm{QFT}]_{a b}=\\frac{1}{\\sqrt{N}} \\omega^{a b}, \\quad \\omega=e^{2 \\pi i / N}$, which follows that $\\mathrm{QFT} = \\Phi$, the inverse DFT."
   ]
  }
 ],
 "metadata": {
  "kernelspec": {
   "display_name": "Python 3 (ipykernel)",
   "language": "python",
   "name": "python3"
  },
  "language_info": {
   "codemirror_mode": {
    "name": "ipython",
    "version": 3
   },
   "file_extension": ".py",
   "mimetype": "text/x-python",
   "name": "python",
   "nbconvert_exporter": "python",
   "pygments_lexer": "ipython3",
   "version": "3.9.18"
  }
 },
 "nbformat": 4,
 "nbformat_minor": 5
}
