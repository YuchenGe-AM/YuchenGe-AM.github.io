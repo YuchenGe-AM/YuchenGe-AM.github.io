{
 "cells": [
  {
   "cell_type": "markdown",
   "id": "a4ecbc3a",
   "metadata": {},
   "source": [
    "## Causal Inference VII\n",
    "\n",
    "Presenter: Yuchen Ge  \n",
    "Affiliation: University of Oxford  \n",
    "Contact Email: gycdwwd@gmail.com  \n",
    "Website: https://yuchenge-am.github.io\n",
    "\n",
    "#### $\\textit{There is nothing as practical as a good theory.}$ "
   ]
  },
  {
   "cell_type": "markdown",
   "id": "9cd53c1a-7b00-4471-90e9-65cd0ae3c359",
   "metadata": {},
   "source": [
    "---\n",
    "\n"
   ]
  },
  {
   "cell_type": "markdown",
   "id": "57a1a35b-c1a6-4040-a77b-244b6ce58dfa",
   "metadata": {},
   "source": [
    "### 1. A Proof of Sklar's Theorem\n",
    "\n",
    "The following is first reading of $\\textit{Principles of Copula Theory}$ by Fabrizio Durante. An **n-copula**  $C\\left(u_{1}, \\ldots, u_{n}\\right)$: $[0,1]^{n} \\rightarrow[0,1]$  is a multivariate cdf with uniform univariate marginals: $C\\left(u_{1}, u_{2}, \\ldots, u_{n}\\right)$ = $P(U_{1} \\leq u_{1}, U_{2} \\leq u_{2},$ $\\ldots, U_{n} \\leq u_{n})$ where $U_i \\sim U[0,1]$."
   ]
  },
  {
   "cell_type": "markdown",
   "id": "5aa7db5b-daa2-4324-a046-12a36500767a",
   "metadata": {},
   "source": [
    "> **Thm I.** (**Sklar's theorem**) Let  $H$  be an $n$-dim df of $\\mathbf{X}$ with marginal df  $F_{1}, F_{2}, \\ldots, F_{n}$. Then $\\exists$ an  n-copula  $C$  s.t. $\\forall $ $\\left(x_{1}, x_{2}, \\ldots, x_{n}\\right) \\in[-\\infty, \\infty]^{n}$,\n",
    ">\n",
    "> $$H\\left(x_{1}, x_{2}, \\ldots, x_{n}\\right)=C\\left(F_{1}\\left(x_{1}\\right), F_{2}\\left(x_{2}\\right), \\ldots, F_{n}\\left(x_{n}\\right)\\right)=C\\left(u_{1}, u_{2}, \\ldots, u_{n}\\right)$$\n",
    ">\n",
    "> where $C=C_\\mathbf{X}$ is uniquely determined on $\\operatorname{Range}\\left(F_{1}\\right) \\times \\cdots \\times \\operatorname{Range}\\left(F_{d}\\right)$.\n",
    "\n"
   ]
  },
  {
   "cell_type": "markdown",
   "id": "57116bbd-7246-4bac-a2a3-bc6ce8ff5e99",
   "metadata": {},
   "source": [
    "**Proof.** Details can be seen in [2012, Nonlinear Analysis: Theory, Methods & Applications, 75(2), 769-774]. Define $\\varphi_{\\varepsilon}: \\mathbb{R}^{d} \\rightarrow \\mathbb{R}$  by\n",
    "\n",
    "$$\\varphi_{\\varepsilon}(\\mathbf{x}):=\\frac{1}{\\varepsilon^{d}} \\varphi\\left(\\frac{\\mathbf{x}}{\\varepsilon}\\right) \\quad \\text{where} \\quad \\varphi(\\mathbf{x}):=k \\exp \\left(\\frac{1}{|\\mathbf{x}|^{2}-1}\\right) \\mathbf{1}_{B_{1}(\\mathbf{0})}(\\mathbf{x}).$$\n"
   ]
  },
  {
   "cell_type": "markdown",
   "id": "d3aa3ad4-02c8-4442-81ca-1bce879e36d6",
   "metadata": {},
   "source": [
    "Consider $H_{n}(\\mathbf{x}):=\\int_{\\mathbb{R}^{d}} H(\\mathbf{x}-\\mathbf{y}) \\varphi_{1 / n}(\\mathbf{y}) d \\mathbf{y}=\\int_{\\mathbb{R}^{d}} \\varphi_{1 / n}(\\mathbf{x}-\\mathbf{y}) H(\\mathbf{y}) d \\mathbf{y}$, and we know"
   ]
  },
  {
   "cell_type": "markdown",
   "id": "4af7d802-6034-4070-9634-c309657621d0",
   "metadata": {},
   "source": [
    "> If $H$ is continuous at $\\mathbf{x} \\in \\mathbb{R}^{d}$, then $\\lim _{n \\rightarrow+\\infty} H_{n}(\\mathbf{x})=H(\\mathbf{x})$."
   ]
  },
  {
   "cell_type": "markdown",
   "id": "4929a4b7-a8e1-41f9-a38e-c7dcab4ecb63",
   "metadata": {},
   "source": [
    "The continuous case ($\\exists$ straightforward proof via inverse) ensures that $\\exists$ a  d -copula  $C_{n}$ s.t.\n",
    "\n",
    "$$H_{n}(\\mathbf{x})=C_{n}\\left(F_{n, 1}\\left(x_{1}\\right), \\ldots, F_{n, d}\\left(x_{d}\\right)\\right).$$\n",
    "\n",
    "Because of the compactness of  $\\mathscr{C}_{d}$ (= set of all copulas), Ascoli–Arzela Theorem shows that $\\exists$ a subsequence  $\\left(C_{n(k)}\\right)_{k \\in \\mathbb{N}} \\subset\\left(C_{n}\\right)_{n \\in \\mathbb{N}}$  that converges to a copula  $C$. \n",
    "\n",
    "> **Cor I.** If $H$ is absolutely continuous, then the density is given by $h(\\mathbf{x})=c\\left(F_{1}\\left(x_{1}\\right), \\ldots, F_{d}\\left(x_{d}\\right)\\right) f_{1}\\left(x_{1}\\right) \\cdots f_{d}\\left(x_{d}\\right)$."
   ]
  },
  {
   "cell_type": "markdown",
   "id": "461f97af-5c90-490d-94cf-ac44666ea0be",
   "metadata": {},
   "source": [
    "---\n",
    "\n",
    "### 2. Basic Aspects of Copulas"
   ]
  },
  {
   "cell_type": "markdown",
   "id": "a78cc555-a721-47fe-947f-8dced46079fc",
   "metadata": {},
   "source": [
    "> A function $H: [-\\infty,+\\infty]^{d} \\rightarrow \\mathbb{R}$  is  $d$-increasing if $V_{H}(] \\mathbf{a}, \\mathbf{b}]) \\geq 0$ for every $ ] \\mathbf{a}, \\mathbf{b} ]$. Here we write \n",
    ">\n",
    "> $$V_{H}(] \\mathbf{a}, \\mathbf{b}]):=\\sum_{\\mathbf{v} \\in \\operatorname{ver}(] \\mathbf{a}, \\mathbf{b}])} \\operatorname{sign}(\\mathbf{v}) H(\\mathbf{v}).$$\n",
    "\n",
    "Then we can state the equivalent definition of copulas and some elegent properties. \n",
    "\n",
    "> $C: [0,1]^{d} \\rightarrow [0,1]$ is a $d$-copula iff $C\\left(u_{1}, \\ldots, 0 , \\ldots, u_{d}\\right)=0$, $C\\left(1, \\ldots, u_j , \\ldots, 1\\right)=u_j$, and $C$ is $d$-increasing. \n",
    ">\n",
    "> **Prop I.** $C = \\alpha C_{0} + \\beta C_{1} \\implies  V_{C}(] \\mathbf{a}, \\mathbf{b} ])= \\alpha V_{C_0}(] \\mathbf{a}, \\mathbf{b}]) + \\beta V_{C_1}(] \\mathbf{a}, \\mathbf{b}])$ implies $\\mathscr{C}_{d}$ is a convex set.\n",
    ">\n",
    "> **Prop II.** $|C(\\mathbf{u})-C(\\mathbf{v})| \\leq\\|\\mathbf{u}-\\mathbf{v}\\|_{1}$, which follows that \n",
    ">\n",
    "> $$C(\\mathbf{u})=\\int_{0}^{u_{j}} \\partial_{j} C\\left(u_{1}, \\ldots, u_{j-1}, t, u_{j+1}, \\ldots, u_{d}\\right) \\mathrm{d} t$$\n",
    ">\n",
    "> where $0 \\leq$ $\\partial_{j} C\\left(\\mathbf{u}_{j}(t)\\right)$ $\\leq 1$ is measurable. $\\big($theorem 3.11 in $\\textit{Real Analysis}$ by Stein$\\big)$\n",
    ">\n",
    "> **Prop III.** Let $W_{d}(\\mathbf{u}):=\\max \\left\\{0, \\sum_{j=1}^{d} u_{j}-(d-1)\\right\\}$ and $M_{d}\\left(u_{1}, u_{2}, \\ldots, u_{d}\\right):=\\min \\left\\{u_{1}, \\ldots, u_{d}\\right\\}$ be the lower and upper **Hoeffding–Frechet bounds**. Then $\\forall$ $d$-coupla $C$ \n",
    ">\n",
    "> $$W_{d}(\\mathbf{u}) \\leq C(\\mathbf{u}) \\leq M_{d}(\\mathbf{u}).$$\n",
    ">\n",
    "> **Prop IV.** $\\mathscr{C}_{d}$ is closed under pointwise convergence and compact in the continuous function space $\\left(\\Xi\\left([0,1]^{d}\\right), d_{\\infty}\\right)$.\n",
    ">\n",
    "> **Prop V.** (**Rank-invariant Property**) Suppose $\\exists$ strictly increasing $\\varphi_{j}: \\operatorname{Ran} X_{j} \\rightarrow \\mathbb{R}$, $j\\in [d]$. Then for $\\mathbf{X}=\\left(X_{1}, \\ldots, X_{d}\\right)$  and  $\\mathbf{Y}$=$\\left(\\varphi_{1} \\circ X_{1}, \\ldots, \\varphi_{d} \\circ X_{d}\\right)$, we have $C_{\\mathbf{X}}=C_{\\mathbf{Y}}$.\n",
    "> "
   ]
  },
  {
   "cell_type": "markdown",
   "id": "9ec8f6da-4905-40ad-8147-628db5f15e68",
   "metadata": {},
   "source": [
    "The graph of a copula  $C \\in \\mathscr{C}_{d}$  is the set of all points $\\mathbf{x}=(\\mathbf{u}, C(\\mathbf{u}))$ for  $\\mathbf{u} \\in [0,1]^{d}$ where we consider the level sets $L_{C}^{>t} $=$\\left\\{\\mathbf{u} \\in \\mathbb{I}^{d}: C(\\mathbf{u}) \\geq t\\right\\}$ and $L_{C}^{\\leq t}$ = $\\left\\{\\mathbf{u} \\in \\mathbb{I}^{d}: C(\\mathbf{u}) \\leq t\\right\\}$."
   ]
  },
  {
   "cell_type": "markdown",
   "id": "d8c2cea4-9f05-4c90-ad64-526ea87c1745",
   "metadata": {},
   "source": [
    "---\n",
    "\n",
    "Next we study measures induced by copulas, the totality of which is denoted by $\\mathscr{P}_{C}\\left([0,1]^{d}\\right) = \\{ \\mu_{C}: C \\text{ is a coupla } \\}$. Then \n",
    "\n",
    "> $\\mathscr{P}_{C}\\left([0,1]^{d}\\right)$ is closed in $\\left(\\mathscr{P}\\left([0,1]^{d}\\right), h\\right)$, $d \\geq 2$, where $h(\\mu, \\nu):=\\sup \\left\\{\\left|\\int_{\\mathbb{I}^{d}} f \\mathrm{~d} \\mu-\\int_{\\mathbb{I}^{d}} f \\mathrm{~d} \\nu\\right|: f \\in \\operatorname{Lip}_{1}\\left(\\mathbb{I}^{d}, \\mathbb{R}\\right)\\right\\}$ is a metrisation of the topology of weak convergence."
   ]
  },
  {
   "cell_type": "markdown",
   "id": "d79e85ff-2f15-417f-8af6-887f0647a3de",
   "metadata": {},
   "source": [
    "In view of the Lebesgue decomposition, $\\mu_{C}=\\mu_{C}^{a c}+\\mu_{C}^{s}$ where $\\mu_C^s$  is concentrated on a set of lebesgue measure $0$. If $C$ is absolutely continuous, then it can be written in the form\n",
    "\n",
    "$$C(\\mathbf{u})=\\int_{[0, \\mathbf{u}]^{d}} c(\\mathbf{s}) \\mathrm{ds}+C_{s}(\\mathbf{u}), \\text{ where } c(\\mathbf{u})=\\frac{\\partial^{d} C(\\mathbf{u})}{\\partial u_{1} \\cdots \\partial u_{d}} \\text{ a.s.}$$\n",
    "\n",
    "whose proof is non-trivial. Then we discuss Markov kernel representation and transformations of copulas."
   ]
  },
  {
   "cell_type": "markdown",
   "id": "0581cc2f-b8bb-47e4-9901-8b6e47eb9470",
   "metadata": {},
   "source": [
    "> **Prop VI.** $\\exists$ a link between copulas and conditional expectations:\n",
    ">\n",
    "> $$ \\mathbb{P}(\\mathbf{Y} \\leq \\mathbf{y} \\mid X) :=\\mathbb{E}\\left(\\mathbf{1}_{]-\\infty, \\mathbf{y}]} \\circ \\mathbf{Y} \\mid X\\right)(\\omega) = \\partial_{1} C\\left(F_{X}(X(\\omega)), F_{Y_{1}}\\left(y_{1}\\right), \\ldots, F_{Y_{d-1}}\\left(y_{d-1}\\right)\\right). $$\n",
    ">\n",
    "> In Markov kernel representation, we write $ K_{C}(x,[\\mathbf{0}, \\mathbf{y}]) = \\partial_{1} C(x, \\mathbf{y}) $.\n",
    ">\n",
    "> **Prop VII.** If $f_{1}, \\ldots, f_{d}$ are measure-preserving on $([0,1], \\mathscr{B}([0,1]), \\lambda)$, then \n",
    ">\n",
    "> $$ C_{f_{1}, \\ldots, f_{d}}\\left(u_{1}, \\ldots, u_{d}\\right):=\\lambda\\left(f_{1}^{-1}\\left[0, u_{1}\\right] \\cap \\cdots \\cap f_{d}^{-1}\\left[0, u_{d}\\right]\\right). $$\n",
    ">\n",
    "> is a $d$-copula where $\\lambda$ is the Lebesgue measure. Converse is also true. Then we also know\n",
    ">\n",
    "> $$ C_{f_{1} \\circ \\varphi, \\ldots, f_{d} \\circ \\varphi}=C_{f_{1}, \\ldots, f_{d}}\\quad \\& \\quad C_{f, \\mathrm{id}}(s, t)=\\lambda\\left(f^{-1}[0, s] \\cap[0, t]\\right)=\\int_{0}^{t} \\mathbf{1}_{f^{-1}[0, s]} \\mathrm{d} \\lambda. $$\n",
    ">\n",
    "> Similarly, we would know $\\partial_{1} C_{i d_{1}, f}(s, t)=\\mathbf{1}_{f^{-1}[0, t]}(s)=\\mathbf{1}_{[0, t]}(f(s))=\\mathbf{1}_{[f(s), 1]}(t)$.\n",
    ">\n",
    "> **Prop VIII.** Extend the probability integral transform, the $H_2$ distribution function of $H_1$ is\n",
    ">\n",
    "> $$ \\left(H_{1} \\mid H_{2}\\right)(t) := \\mathbb{P}\\left(\\left\\langle H_{1} \\mid H_{2}\\right\\rangle\\left(X_{1}, \\ldots, X_{d}\\right) \\leq t\\right) = \\mu_{H_{2}}\\left(\\left\\{\\mathbf{x} \\in \\mathbb{R}^{d}: H_{1}(\\mathbf{x}) \\leq t\\right\\}\\right) $$\n",
    ">\n",
    "> where $X_{1}, \\ldots, X_{d}$ have joint d.f. given by $H_2$. If $C_{1}$ and $C_{2}$ are the copulas of $H_{1}$ and $H_{2}$ from Sklar's theorem, then it's good to know $\\left(H_{1} \\mid H_{2}\\right)=\\left(C_{1} \\mid C_{2}\\right)$. Specially we consider **Kendall distribution function** of $\\mathbf{X}$\n",
    ">\n",
    "> $$\\kappa_{H}(t):=\\mathbb{P}\\left(H\\left(X_{1}, \\ldots, X_{d}\\right) \\leq t\\right)=\\mu_{H}\\left(\\left\\{\\mathbf{x} \\in \\mathbb{R}^{d}: H(\\mathbf{x}) \\leq t\\right\\}\\right).$$"
   ]
  },
  {
   "cell_type": "markdown",
   "id": "c06c546f-9ee0-405a-9615-c9760e30d564",
   "metadata": {},
   "source": [
    "---\n",
    "\n",
    "$\\exists$ three different methods to approximate a copula (in the $L^\\infty$-norm): checkerboard copulas, Bernstein copulas, and sparse copulas. We consider Bernstein copula specifically where\n",
    "\n",
    "$$B_{n}^{C}(\\mathbf{u}):=\\sum_{j_{1}, \\ldots, j_{d}=0}^{n} C\\left(\\frac{j_{1}}{n}, \\ldots, \\frac{j_{d}}{n}\\right) p_{j_{1}, n}\\left(u_{1}\\right) \\ldots p_{j_{d}, n}\\left(u_{d}\\right)$$\n",
    "\n",
    "with $p_{j, n}(t):=\\binom{n}{j} t^{j}(1-t)^{n-j}$. Then $\\left(B_{n}^{C}\\right)_{n \\geq 2}$ converges uniformly to $C$.\n"
   ]
  },
  {
   "cell_type": "markdown",
   "id": "9720eccb-e2e6-4ca6-aba3-aa17b208d0bd",
   "metadata": {},
   "source": [
    "---\n",
    "\n",
    "Finally, we explore the correspondence between copulas and Markov operators for approximation of copulas.\n",
    "\n",
    "> A linear operator  $T: L^{\\infty}\\left(\\Omega_{1}\\right) \\rightarrow L^{\\infty}\\left(\\Omega_{2}\\right)$  is a **Markov operator** if\n",
    "> 1.  $T$  is positive $\\big($viz. $T f \\geq 0$  whenever  $f \\geq 0$ $\\big)$ and $T 1=1$.\n",
    "> 2. $\\mathbb{E}_{2}(T f)=\\mathbb{E}_{1}(f)$, where  $\\mathbb{E}_{j}$  denotes the expectation in $\\left(\\Omega_{j}, \\mathscr{F}_{j}, \\mathbb{P}_{j}\\right)$."
   ]
  },
  {
   "cell_type": "markdown",
   "id": "d5d8a3e1-cfd8-4cd6-83fd-f34e5578100a",
   "metadata": {},
   "source": [
    "Since $L^{\\infty}\\left(\\Omega_{1}\\right) \\text { is dense in } L^{1}\\left(\\Omega_{1}\\right)$ and \n",
    "\n",
    "$$\\int_{\\Omega_{2}}|T f| \\mathrm{d} \\mathbb{P}_{2} \\leq \\int_{\\Omega_{2}} T|f| \\mathrm{d} \\mathbb{P}_{2}=\\int_{\\Omega_{1}}|f| \\mathrm{d} \\mathbb{P}_{1}$$\n",
    "\n",
    "$T$ has a unique extension to $T: L^{1}\\left(\\Omega_{1}\\right) \\rightarrow L^{1}\\left(\\Omega_{2}\\right)$. Then a unique extension to **bounded** $T: L^{p}\\left(\\Omega_{1}\\right) \\rightarrow L^{p}\\left(\\Omega_{2}\\right)$ with the **Riesz-Thorin theorem**. Then we establish the following one-to-one correspondences.\n",
    "\n",
    "> **Prop IX.** $ \\big\\{ T: L^{\\infty}\\left(\\Omega_{1}\\right) \\to L^{\\infty}\\left(\\Omega_{2}\\right)\\big\\} \\stackrel{1-1}{\\Longleftrightarrow} \\{ \\text{ probability on }\\left(\\Omega_{1} \\times \\Omega_{2}, \\mathscr{F}_{1} \\otimes \\mathscr{F}_{2}\\right) \\}$ via \n",
    ">\n",
    "> $$\\mathbb{P}(A \\times B):=\\int_{\\Omega_{2}}\\left(T \\mathbf{1}_{A}\\right) \\mathbf{1}_{B} \\mathrm{~d} \\mathbb{P}_{2} \\text{ and } \\int_{\\Omega_{2}}(T f) g \\mathrm{~d} \\mathbb{P}_{2}=\\int_{\\Omega_{1} \\times \\Omega_{2}} f g \\mathrm{~d} \\mathbb{P} .$$\n",
    ">\n",
    "> Essentially, $T f(y)=E(f \\mid \\pi_2=y)$. \n",
    ">\n",
    "> **Prop X.** $ \\big\\{ T: L^{\\infty}\\left([0,1]\\right) \\to L^{\\infty}\\left([0,1]\\right)\\big\\} \\stackrel{1-1}{\\Longleftrightarrow} \\mathscr{C}_2$ via \n",
    ">\n",
    "> $$C_{T}(u, v):=\\int_{0}^{u}\\left(T 1_{[0, v]}\\right)(s) \\mathrm{d} s \\text{ and } \\left(T_{C} f\\right)(x):=\\frac{d}{d x} \\int_{0}^{1} \\partial_{2} C(x, t) f(t) \\mathrm{d} t.$$"
   ]
  },
  {
   "cell_type": "markdown",
   "id": "78ba80a9-6ec4-40d1-b427-36ae49f2b6c8",
   "metadata": {},
   "source": [
    "Let $K: \\Omega_{1} \\times \\Omega_{2} \\rightarrow \\mathbb{R}$ satisty $ \\int_{\\Omega_{i}} K(x, y) \\mathrm{d} \\mathbb{P}_{i}(x)=1$, $i=1,2$. Then we can construct Markov operators specifically as below."
   ]
  },
  {
   "cell_type": "markdown",
   "id": "4f0c8db6-a48f-4ea7-87dd-4af20380749e",
   "metadata": {},
   "source": [
    "$$(T f)(y):=\\int_{\\Omega_{1}} K(x, y) f(x) \\mathrm{d} \\mathbb{P}_{1}(x) \\quad \\text{ with corresponding } \\quad \\mathbb{P}_{T}(S) = \\int_{A \\times B} K(x, y) \\mathrm{d} \\mathbb{P}_{1}(x) \\mathrm{d} \\mathbb{P}_{2}(y).\n",
    "$$"
   ]
  },
  {
   "cell_type": "markdown",
   "id": "d7dbeb28-4dab-4345-bf09-8d3467591642",
   "metadata": {},
   "source": [
    "Let  $\\mathbb{P}_{1}$  and  $\\mathbb{P}_{2}$  be marginals of $\\mathbb{P}$  on $\\left(\\Omega_{1} \\times \\Omega_{2}, \\mathscr{F}_{1} \\otimes \\mathscr{F}_{2}\\right)$. Then if $T_{\\mathbb{P}}: L^{\\infty}\\left(\\Omega_{1}\\right) \\rightarrow L^{\\infty}\\left(\\Omega_{2}\\right)$ admits above representation, we have $ K = \\mathrm{d} \\mathbb{P}/d\\left(\\mathbb{P}_{1} \\otimes \\mathbb{P}_{2}\\right)$. Suppose  $\\pi_{1}$  is the canonical projection  $\\pi_{1}(\\mathbf{u})=u_{1}$  on  $[0,1]^{d}$, and we consider  "
   ]
  },
  {
   "cell_type": "markdown",
   "id": "1a83c73e-0e0e-4a73-b97d-d3152f58cd6b",
   "metadata": {},
   "source": [
    "$$f \\in  L^{\\infty}\\left([0,1]^{d-1}, \\mu_{C}^{1}\\right)  \\subseteq L^{\\infty}\\left([0,1]^{d}, \\mu_{C}\\right) \\quad \\text{ where } \\quad \\mu_{C}^{1}(S)=\\mu_{C}([0,1] \\times S).$$ \n",
    "\n",
    "For $T: L^{\\infty}\\left([0,1]^{d-1}, \\mu_{C}^{1}\\right) \\rightarrow L^{\\infty}([0,1], \\lambda)$, we know that $T f(x)=E\\left(f \\mid \\pi_{1}=x\\right)$. In particular for $[\\mathbf{0}, \\mathbf{y}] \\subseteq [0,1]^{d-1}$, we have  \n",
    "\n",
    "$$T \\mathbf{1}_{[\\mathbf{0}, \\mathbf{y}]}(x)=E\\left(\\mathbf{1}_{[\\mathbf{0}, \\mathbf{y}]} \\mid \\pi_{1}=x\\right)=\\partial_{1} C(x, \\mathbf{y}) = K_{C}(x,[\\mathbf{0}, \\mathbf{y}])$$ \n",
    "\n",
    "with an application of prop VI. This provides us with a good intuition of $\\left(T_{C} f\\right)(x) = \\frac{d}{d x} \\int_{0}^{1} \\partial_{2} C(x, t) f(t) \\mathrm{d} t$.\n"
   ]
  },
  {
   "cell_type": "markdown",
   "id": "445d9c70-793e-4a9b-b6ff-6efe73590510",
   "metadata": {},
   "source": [
    "---\n",
    "\n",
    "### 3. Markov Products of Copulas"
   ]
  },
  {
   "cell_type": "markdown",
   "id": "da702efc-45e8-412f-9949-973d7cc3e4b5",
   "metadata": {},
   "source": [
    "> For $A,B \\in \\mathscr{C}_2$, the $2$-copula **Markov product** is given by $(A * B)(u, v):=\\int_{0}^{1} \\partial_{2} A(u, t) \\partial_{1} B(t, v) \\mathrm{d} t$"
   ]
  },
  {
   "cell_type": "markdown",
   "id": "6f2ebdb1-c693-40ca-853c-0caa8f06bb5e",
   "metadata": {},
   "source": [
    "For example, $C_{f, g}=C_{f, i} * C_{i, g}$ and $C_{f, i} * C_{g, i}=C_{f \\circ g, i}$ where $i=\\mathbf{1}_{[0,1]}$. Computation further varifies the following facts:\n",
    "\n",
    "> **Prop XI.** For $C_1 , C_2 \\in \\mathscr{C}_{2}$, $T_{C_1 * C_2}=T_{C_1} \\circ T_{C_2}$ and $T_{\\alpha C_{1}+(1-\\alpha) C_{2}}=\\alpha T_{C_{1}} + (1-\\alpha) T_{C_{2}}$. It follows that \n",
    ">\n",
    "> $$ K_{C_1} \\circ K_{C_2}(x, F):=\\int_{0}^{1} K_{C_1}(x, \\mathrm{~d} y) K_{C_2}(y, F) $$\n",
    ">\n",
    "> is the Markov kernel of $C_1 * C_2$.\n",
    ">\n",
    "> **Prop XII.**  $\\left(\\mathscr{C}_{2}, *\\right)$  is a semigroup with identity $M_{2}$. \n",
    "\n",
    "It can be shown via some equivalent conditons of left (right) that if $\\exists$ left (right) inverse of $C$, it must be $C^{T}$. Finally, we come to the most significant result connecting markov processes and Markov products.\n",
    "\n",
    "> **Lemma I.**  $X \\perp Z \\mid Y \\implies C_{X Z}=C_{X Y} * C_{Y Z}$.\n",
    ">\n",
    "> **Thm I.**  For a Markov process $\\left(X_{n}\\right)_{n \\in \\mathbb{Z}}$, the copula of  $\\left(X_{0}, X_{n}\\right)$  is \n",
    ">\n",
    "> $$ C_{0,1} * C_{1,2} * \\cdots * C_{n-1,n}$$ \n",
    ">\n",
    "> if $C_{j,j+1}$  is the copula of $\\left(X_{j}, X_{j+1}\\right)$. In particular, $W_{2}^{* n} = M_{2}$ for even $n$ and $ = W_{2}$ for odd $n$.\n",
    ">\n",
    "> **Thm II.**  Let $\\left(X_{t}\\right)_{t \\in T}$ be a real stochastic process, then we can derive via that \n",
    ">\n",
    "> $$ C_{s t}=C_{s u} * C_{u t} \\Longleftrightarrow \\text{CKE } \\impliedby \\text{Markov} \\Longleftrightarrow C_{t_{1}, t_{2}, \\ldots, t_{n}}=C_{t_{1} t_{2}} \\star C_{t_{2} t_{3}} \\star \\cdots \\star C_{t_{n-1} t_{n}}, t_1 < t_2 < ... < t_n  $$\n",
    "> \n",
    ">\n",
    "> where we define the $\\star$-product\n",
    ">\n",
    "> $$(A \\star B) \\left(x_{1}, x_{2}, \\ldots, x_{m+n-1}\\right) = \\int_{0}^{x_{m}} \\partial_{m} A\\left(x_{1}, \\ldots, x_{m-1}, t\\right) \\partial_{1} B\\left(t, x_{m+1}, \\ldots, x_{m+n-1}\\right) \\mathrm{d} t \\in \\mathscr{C}_{m+n-1}$$ \n",
    ">\n",
    "> for $A \\in \\mathscr{C}_{m}$ and $B \\in \\mathscr{C}_{n}$."
   ]
  },
  {
   "cell_type": "markdown",
   "id": "d515830e-dc90-4a40-bb9b-9b5245e50db6",
   "metadata": {},
   "source": [
    "Theorem I is a direct consequence of lemma I. \n",
    "\n",
    "And we have a remark for theorem II: since **Chapman–Kolmogorov equation (CKE) is a necessary but not a sufficient condition for a Markov process**, we require $\\star$-products to state a sufficient condition."
   ]
  },
  {
   "cell_type": "markdown",
   "id": "3c89f642-4c1a-45fc-bac1-097443cdfdf7",
   "metadata": {},
   "source": [
    "---\n",
    "\n",
    "For several applied research, we choose a family of copulas, $\\left(C_{\\theta}\\right)_{\\theta \\in \\Theta}$ to try to fit the model with some convenient family and check the successfulness of fitting procedure. Also we may consider the general quasi-copulas and semi-couplas."
   ]
  },
  {
   "cell_type": "markdown",
   "id": "91198e5f-a788-49ef-8cc5-135b3f740205",
   "metadata": {},
   "source": [
    "> **Fitting a copula to some data is just a tool for deriving some quantities of interest for the problem at hand**."
   ]
  },
  {
   "cell_type": "markdown",
   "id": "d23043f2-8850-4e5f-ac3e-767a38917bb0",
   "metadata": {},
   "source": [
    "We shall present Marshall-Olkin copulas finally. Consider $X_{k}:=\\min \\left\\{E_{I}: I \\subseteq\\{1, \\ldots, d\\}, k \\in I\\right\\}$ where $E_{I}$ is of  the exponential distribution with mean  $1 / \\lambda_{I}>0$ and the $2^{d}-1$ r.v.'s $E_{I}$ are independent. Then the survival function and the corresonding survival copula are given by\n",
    "\n",
    "$$ \\bar{F}(\\mathbf{x})=\\exp \\left(-\\sum_{\\emptyset \\neq I \\subseteq\\{1, \\ldots, d\\}} \\lambda_{I} \\max _{i \\in I}\\left\\{x_{i}\\right\\}\\right) \\quad \\text{ and } \\quad C^{\\mathrm{MO}}(\\mathbf{u})=\\prod_{\\emptyset \\neq I \\subseteq\\{1, \\ldots, d\\}} \\min \\left\\{u_{k}^{\\frac{\\lambda_{J}}{\\sum_{J: k \\in J} \\lambda_{J}}}, k \\in I\\right\\}.\n",
    "$$"
   ]
  }
 ],
 "metadata": {
  "kernelspec": {
   "display_name": "Python 3 (ipykernel)",
   "language": "python",
   "name": "python3"
  },
  "language_info": {
   "codemirror_mode": {
    "name": "ipython",
    "version": 3
   },
   "file_extension": ".py",
   "mimetype": "text/x-python",
   "name": "python",
   "nbconvert_exporter": "python",
   "pygments_lexer": "ipython3",
   "version": "3.9.18"
  }
 },
 "nbformat": 4,
 "nbformat_minor": 5
}
