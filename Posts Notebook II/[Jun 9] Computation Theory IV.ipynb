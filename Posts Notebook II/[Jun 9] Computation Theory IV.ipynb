{
 "cells": [
  {
   "cell_type": "markdown",
   "id": "a4ecbc3a",
   "metadata": {},
   "source": [
    "## [Jun 9] Computation Theory IV\n",
    "\n",
    "Presenter: Yuchen Ge  \n",
    "Affiliation: University of Oxford  \n",
    "Contact Email: gycdwwd@gmail.com  \n",
    "Website: https://yuchenge-am.github.io\n",
    "\n",
    "The following follows from $\\textit{Category Theory Course}$ by John Baez and $\\textit{An Invitation to Applied Category Theory}$ by Brendan Fong."
   ]
  },
  {
   "cell_type": "markdown",
   "id": "4c9f4f87-8543-42fb-9743-918cd46c4d70",
   "metadata": {},
   "source": [
    "---"
   ]
  },
  {
   "cell_type": "markdown",
   "id": "9789ca6a-2827-4b30-9878-eef18193a80d",
   "metadata": {},
   "source": [
    "### 1.  Galois Connection and Monoidal Category\n",
    "\n",
    "Category $\\mathbf{C}$ emphasizes relationships between things.\n",
    "\n",
    "> 1. A **preorder** is a category s.t. $|\\operatorname{Hom}_{\\mathbf{C}}(x, y)| \\leq 1$. We write $x \\leq y$ if $\\exists f: x \\rightarrow y$. It's a **poset** (**groupoid**) if moreover $(x \\leq y) \\wedge(y \\leq x) \\Longrightarrow x=y$ ($x \\leq y \\Longrightarrow y \\leq x$).\n",
    "\n",
    "A **Galois connection** between preorders  $P$  and  $Q$  is a pair of monotone $f: P \\rightarrow Q$ (left adjoint) and  $g: Q \\rightarrow P$ (right adjoint) s.t. $f(p) \\leq q$ iff $p \\leq g(q)$. Note that $\\exists$ closure operator iff $\\exists$ Galois connection.\n",
    "\n",
    "> 2. A **(co)limit** of the diagram is a universal (co)cone.\n",
    ">\n",
    "> 3. **Left adjoint** and **right adjoint** satisfy $\\operatorname{Hom}_{\\mathbf{D}}(F(X), Y) \\cong \\operatorname{Hom}_{\\mathbf{C}}(X, U(Y))$. For example for $\\Delta(X)=(X, X)$ \n",
    ">\n",
    "> $$\\operatorname{Hom}_{\\mathbf{C} \\times \\mathbf{C}}(\\Delta(X),(Y, Z)) \\cong \\operatorname{Hom}_{\\mathbf{C}}(X, Y \\times Z) \\quad \\text{and} \\quad \\left.\\operatorname{Hom}_{\\mathbf{C}}(Y+Z), X\\right) \\cong \\operatorname{Hom}_{\\mathbf{C} \\times \\mathbf{C}}((Y, Z), \\Delta(X)).$$\n",
    ">\n",
    "> And $\\iota_{X} = \\varphi\\left(1_{F(X)}\\right)$ below is called the **unit**. (**Counit** $\\epsilon_{Y}$ is similarly defined, which “converts formal expressions into actual ones”.)\n",
    ">\n",
    "> $$\\begin{aligned}\n",
    "\\operatorname{Hom}_{\\mathbf{D}}(F(X), F(X)) & \\stackrel{\\varphi}{\\sim} \\operatorname{Hom}_{\\mathbf{C}}(X, U(F(X))) \\\\\n",
    "1_{F(X)} & \\longmapsto \\varphi\\left(1_{F(X)}\\right)\n",
    "\\end{aligned}$$\n",
    ">\n",
    ">\n",
    "> 4.  For  $\\mathbf{C}$ with a terminal object $1$, the set of **elemens** $\\operatorname{elt}(X) = \\operatorname{Hom}(1, X)$; a **subobject classifer** is an object $\\Omega$ with $1 \\rightarrow \\Omega$ (An equivalence class of monomorphisms is called a **subobject**)\n",
    ">\n",
    "> 5. A (elementary) **topos** is a cartesian closed category with finite limits and a subobject classifier."
   ]
  },
  {
   "cell_type": "markdown",
   "id": "b2ea913a-e9e6-4dd7-a0dc-7caab03e9029",
   "metadata": {},
   "source": [
    "Then we know **(co)limits are right(left) adjoints** via construction of the universal (co)cone in ${\\mathbf{C}}^\\mathbf{D}$ \n",
    "\n",
    "$$ \\operatorname{Hom}_{\\mathbf{C}^{\\mathbf{D}}}\\left(\\Delta_{\\mathbf{D}}(q), F\\right) \\cong \\operatorname{Hom}_{\\mathbf{C}}(q, \\lim F) $$\n",
    "\n",
    "where $\\Delta_{\\mathbf{D}}: \\mathbf{C} \\rightarrow \\mathbf{C}^{\\mathbf{D}}$ sends every morphism to  the identity morphism. Moreover we can directly check **(left)right adjoints is closed in composition and preserve (co)limits** via the bijection. For example, in a preorder (co)limits are meets (joins) exactly."
   ]
  },
  {
   "cell_type": "markdown",
   "id": "0f57d7bb-177f-41c0-9f42-be754ed8c1b3",
   "metadata": {},
   "source": [
    "> 6. A **cartesian** category is a finite product category, which follows that $\\exists$ a terminal object, and \n",
    ">\n",
    "> 7. A **cartesian closed** category (ccc) is a category assuming an object  $Y^{X}$  of morphisms from  $X$  to  $Y$. a cartesian category  $\\mathbf{C}$  is a  ccc  if $\\forall Y \\in \\mathbf{C}$,   $-\\times \\mathbf{C}$  has a right adjoint: $\\operatorname{Hom}_{\\mathbf{C}}(X \\times Y, Z) \\cong \\operatorname{Hom}_{\\mathbf{C}}\\left(X, Z^{Y}\\right)$. Then we have coevaluation and evaluation\n",
    ">\n",
    "> $$ \\iota_{X}: X \\rightarrow(X \\times Y)^{Y} \\quad \\text{and} \\quad \\epsilon_{X}: X^{Y} \\times Y \\rightarrow X. $$\n",
    ">\n",
    "> Moreove in a ccc, we can internalize composition as\n",
    ">\n",
    "> $$ \\operatorname{Hom}\\left(Z^{Y} \\times Y^{X}, Z^{X}\\right) \\cong \\operatorname{Hom}\\left(Z^{Y},\\left(Z^{X}\\right)^{\\left(Y^{X}\\right)}\\right) \\cong \\operatorname{Hom}\\left(Z^{Y} \\times Y^{X} \\times X, Z\\right). $$\n",
    ">\n",
    "> 8. A **monoidal** category is a category where $\\exists$ tensor product functor $\\otimes$ and unit object $I$ assume the **pentagon** identity and the **triangle** identity."
   ]
  },
  {
   "cell_type": "markdown",
   "id": "fa11a36f-84d5-43da-88b4-61f6b2529acf",
   "metadata": {},
   "source": [
    "After giving the defnitions, $\\operatorname{elt}: \\mathbf{C} \\rightarrow \\text{Set}$ preserve finite products for a cartesian category  and for a ccc\n",
    "\n",
    "$$ \\operatorname{hom}(X, Y) \\cong \\operatorname{hom}(1 \\times X, Y) \\cong \\operatorname{hom}\\left(1, Y^{X}\\right) = \\operatorname{elt}\\left(Y^{X}\\right) $$\n",
    "\n",
    "which presents ideas of functional programming."
   ]
  },
  {
   "cell_type": "markdown",
   "id": "4490e585-6417-4482-a3ed-1eede619b91c",
   "metadata": {},
   "source": [
    "---"
   ]
  },
  {
   "cell_type": "markdown",
   "id": "53113b98-08d8-4958-8019-7e2ca8dde161",
   "metadata": {},
   "source": [
    "### 2. Collaborative Design"
   ]
  },
  {
   "cell_type": "markdown",
   "id": "a5b6ca6b-3165-4c6e-afdb-fdf64a1bb371",
   "metadata": {},
   "source": [
    "A **strict monoidal** structure is one for which the natural isomorphisms are identities. A symmetric one moreover satisfies $x \\otimes y=y \\otimes x$."
   ]
  },
  {
   "cell_type": "markdown",
   "id": "45f1d1e9-c43f-4a7c-a0ce-421497e5404d",
   "metadata": {},
   "source": [
    "\n",
    "> Let  $\\mathcal{V}=(V, \\leq, I, \\otimes)$  be a strict symmetric monoidal preorder. A **$\\mathcal{V}$-category** $X$  consists of a set  $\\mathrm{Ob}(\\mathcal{X})$ of objects and the homobject $\\mathcal{X}(x, y) \\in V$ satisfying \n",
    "> $$ I \\leq X(x, x) \\quad \\text{ & } \\quad \\mathcal{X}(x, y) \\otimes \\mathcal{X}(y, z) \\leq \\mathcal{X}(x, z). $$\n",
    "\n",
    "We say $\\mathcal{X}$  is enriched in  $\\mathcal{V}$. Famous examples include **Bool**-category and **Cost**-category. \n",
    "\n",
    "> Let  $\\mathcal{V}=(V, \\leq, I, \\otimes)$  be a (unital commutative) quantale (**a monoidal preorder to perform matrix multiplication**), $\\mathcal{X}$  and  $\\mathcal{Y}$  be  $\\mathcal{V}$-categories. A  $\\mathcal{V}$-profunctor is $\\Phi: \\mathcal{X}^{\\mathrm{op}} \\times \\mathcal{Y} \\rightarrow \\mathcal{V}$.\n",
    "\n",
    "Then we know\n",
    "\n",
    "> 9. $\\exists$ 1-1 correspondence between preorders and **Bool**-categories.\n",
    "> \n",
    "> 10. $\\forall$ quantale  $\\mathcal{V}$ that is skeletal $\\big($$ x \\leq y$ & $y \\leq x \\implies x=y$$\\big)$, $\\exists$ a category $\\operatorname{Prof}_\\mathcal{V}$  whose objects are  $\\mathcal{V}$-categories  and morphisms are  $\\mathcal{V}$-profunctors where **composition simulates matrix multiplication**."
   ]
  },
  {
   "cell_type": "markdown",
   "id": "32d483a2-4204-40ef-addd-1701a1ee968a",
   "metadata": {},
   "source": [
    "For a more general setting, a symmetric monoidal category can be considered as “a category equipped with an equivalence to a symmetric strict monoidal category”."
   ]
  }
 ],
 "metadata": {
  "kernelspec": {
   "display_name": "Python 3 (ipykernel)",
   "language": "python",
   "name": "python3"
  },
  "language_info": {
   "codemirror_mode": {
    "name": "ipython",
    "version": 3
   },
   "file_extension": ".py",
   "mimetype": "text/x-python",
   "name": "python",
   "nbconvert_exporter": "python",
   "pygments_lexer": "ipython3",
   "version": "3.9.18"
  }
 },
 "nbformat": 4,
 "nbformat_minor": 5
}
