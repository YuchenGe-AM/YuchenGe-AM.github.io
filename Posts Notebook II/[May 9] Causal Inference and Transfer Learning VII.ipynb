{
 "cells": [
  {
   "cell_type": "markdown",
   "id": "a4ecbc3a",
   "metadata": {},
   "source": [
    "## [May 9] Causal Inference and Transfer Learning VII\n",
    "\n",
    "Presenter: Yuchen Ge  \n",
    "Affiliation: University of Oxford  \n",
    "Contact Email: gycdwwd@gmail.com  \n",
    "Website: https://yuchenge-am.github.io"
   ]
  },
  {
   "cell_type": "markdown",
   "id": "9cd53c1a-7b00-4471-90e9-65cd0ae3c359",
   "metadata": {},
   "source": [
    "---\n",
    "\n"
   ]
  },
  {
   "cell_type": "markdown",
   "id": "99fd183e-4cbd-4e45-8b0d-139b20201e96",
   "metadata": {},
   "source": [
    "### 1.Nonparametric Estimation"
   ]
  },
  {
   "cell_type": "markdown",
   "id": "977e0e2d-ebee-41b2-b6a7-a35945ba6ee9",
   "metadata": {},
   "source": [
    ">\n",
    ">\n",
    ">\n",
    "\n",
    "\n",
    "Consider a nonparametric class of functions  $\\Theta$ (e.g. the Hölder class and Sobolev class) with $\\left\\{P_{\\theta}, \\theta \\in \\Theta\\right\\}$ and some semi-distance $d$. It's natural to consider the **maximum risk** $r\\left(\\hat{\\theta}_{n}\\right) \\triangleq \\sup _{\\theta \\in \\Theta} \\mathbf{E}_{\\theta}\\left[d^{2}\\left(\\hat{\\theta}_{n}, \\theta\\right)\\right]$. We can establish\n",
    "\n",
    "$$\n",
    "c \\psi_{n}^{2} \\leq \\sup _{\\theta \\in \\Theta} \\mathbf{E}_{\\theta}\\left[d^{2}\\left(\\hat{\\theta}_{n}, \\theta\\right)\\right] \\leq C \\psi_{n}^{2}\n",
    "$$\n",
    "for certain estimators  $\\hat{\\theta}_{n}$, certain positive sequences  $\\psi_{n} \\rightarrow 0$. Also we consider the **minimax risk** $\\mathcal{R}_{n}^{*} \\triangleq \\inf _{\\hat{\\theta}_{n}} \\sup _{\\theta \\in \\Theta}$ $\\mathbf{E}_{\\theta}\\left[d^{2}\\left(\\hat{\\theta}_{n}, \\theta\\right)\\right]$, and the corresponding \n",
    "\n",
    "$$ c \\leq \\liminf _{n \\rightarrow \\infty} \\psi_{n}^{-2} \\mathcal{R}_{n}^{*} \\leq  \\limsup _{n \\rightarrow \\infty} \\psi_{n}^{-2} \\mathcal{R}_{n}^{*} \\leq C$$\n",
    "for certain positive sequences  $\\psi_{n} \\rightarrow 0$ (**optimal rate of convergence**)."
   ]
  },
  {
   "cell_type": "markdown",
   "id": "9f54672f-3dc2-41e8-9350-6df9feed2849",
   "metadata": {},
   "source": [
    "> A **rate optimal estimator** is an estimator $\\theta_{n}^{*}$ satisfying $\\sup _{\\theta \\in \\Theta} \\mathbf{E}_{\\theta}\\left[d^{2}\\left(\\theta_{n}^{*}, \\theta\\right)\\right] \\leq C^{\\prime} \\psi_{n}^{2}$.\n"
   ]
  },
  {
   "cell_type": "markdown",
   "id": "9d0e35e1-efba-4691-a29e-e5a45bcce10a",
   "metadata": {},
   "source": [
    "We can also consider the asymptotically efficient estimator $\\theta_{n}^{*}$ where $ \\lim_{n \\rightarrow \\infty}  r\\left(\\theta_{n}^{*}\\right)/\\mathcal{R}_{n}^{*} = 1 $.\n"
   ]
  },
  {
   "cell_type": "code",
   "execution_count": null,
   "id": "9654c61f-5f54-4a16-877d-eec1e96b7ee7",
   "metadata": {},
   "outputs": [],
   "source": []
  },
  {
   "cell_type": "code",
   "execution_count": null,
   "id": "1c6f5330-bfa7-4791-a7ef-70ce9498efd5",
   "metadata": {},
   "outputs": [],
   "source": []
  },
  {
   "cell_type": "code",
   "execution_count": null,
   "id": "f50335af-ec6d-45f8-a1e4-34edff96dc2e",
   "metadata": {},
   "outputs": [],
   "source": []
  },
  {
   "cell_type": "code",
   "execution_count": null,
   "id": "a616d414-e93a-4de8-926b-1211f7157801",
   "metadata": {},
   "outputs": [],
   "source": []
  },
  {
   "cell_type": "code",
   "execution_count": null,
   "id": "12a14a97-c7de-4a8e-ae12-18d91d768834",
   "metadata": {},
   "outputs": [],
   "source": []
  },
  {
   "cell_type": "code",
   "execution_count": null,
   "id": "dcef607b-6625-4b7e-9852-d2df8056a3c1",
   "metadata": {},
   "outputs": [],
   "source": []
  },
  {
   "cell_type": "code",
   "execution_count": null,
   "id": "54be4534-5e1f-45fd-9a54-9eabe8d2fd1b",
   "metadata": {},
   "outputs": [],
   "source": []
  },
  {
   "cell_type": "code",
   "execution_count": null,
   "id": "07bdbb60-d328-48b9-8c41-89b16d144ee3",
   "metadata": {},
   "outputs": [],
   "source": []
  },
  {
   "cell_type": "code",
   "execution_count": null,
   "id": "4c3f21d7-95e9-46d6-9197-936c3b46d240",
   "metadata": {},
   "outputs": [],
   "source": []
  },
  {
   "cell_type": "code",
   "execution_count": null,
   "id": "4e343f01-be87-40f6-93ad-afd17f77530b",
   "metadata": {},
   "outputs": [],
   "source": []
  },
  {
   "cell_type": "code",
   "execution_count": null,
   "id": "da70800f-61bc-4a0c-a47d-f0492e9cdeee",
   "metadata": {},
   "outputs": [],
   "source": []
  },
  {
   "cell_type": "markdown",
   "id": "84a596db-0830-4e78-aaed-a95a43cea0bb",
   "metadata": {},
   "source": [
    "---\n",
    "\n",
    "### 2. Bayesian Nonparametrics for Causal Inference"
   ]
  },
  {
   "cell_type": "markdown",
   "id": "2ca27f15-242a-4873-aab6-b25fe6eb73db",
   "metadata": {},
   "source": [
    "In observational studies, the observed data is $\\left\\{Y_{i}, A_{i}, L_{i} ; i=1, \\cdots, N\\right\\}$ and covariates $L$ influence both $Y$ and $A$.\n",
    "\n",
    "> The ignorability assumption: $\\{Y(0), Y(1)\\} \\perp A \\mid L$.\n",
    ">\n",
    "> The positivity assumption: $\\operatorname{Pr}(A=a \\mid L=\\ell)>0$."
   ]
  },
  {
   "cell_type": "markdown",
   "id": "1452c7a0-9f66-49fd-9ddf-4a2da5f11e36",
   "metadata": {},
   "source": [
    "This ensures identifiability of the ACE."
   ]
  },
  {
   "cell_type": "code",
   "execution_count": null,
   "id": "e774874d-8d27-42db-b720-73d69d30a973",
   "metadata": {},
   "outputs": [],
   "source": []
  },
  {
   "cell_type": "code",
   "execution_count": null,
   "id": "d6166ef0-d76c-4cf5-a23a-627f9d4245fe",
   "metadata": {},
   "outputs": [],
   "source": []
  },
  {
   "cell_type": "code",
   "execution_count": null,
   "id": "97d450c3-0fa4-4482-acae-7918772194bb",
   "metadata": {},
   "outputs": [],
   "source": []
  },
  {
   "cell_type": "code",
   "execution_count": null,
   "id": "b463dd6e-770a-439e-82d0-50dde6dbe4ba",
   "metadata": {},
   "outputs": [],
   "source": []
  },
  {
   "cell_type": "code",
   "execution_count": null,
   "id": "732800b9-4746-4464-a93b-1367e0d10d2e",
   "metadata": {},
   "outputs": [],
   "source": []
  },
  {
   "cell_type": "code",
   "execution_count": null,
   "id": "6e4433c2-cbd0-4571-99ea-bc3f6b29c8d8",
   "metadata": {},
   "outputs": [],
   "source": []
  },
  {
   "cell_type": "code",
   "execution_count": null,
   "id": "56b349cb-2941-4ea0-a171-e96981221b07",
   "metadata": {},
   "outputs": [],
   "source": []
  },
  {
   "cell_type": "markdown",
   "id": "98f28c99-02ff-45bf-ac85-baba30c40ef6",
   "metadata": {},
   "source": [
    "---\n",
    "\n",
    "### Reference\n",
    "\n",
    "1. Shuxiao Chen. Minimax Rates and Adaptivity in Combining Experimental and Observational Data.\n",
    "2. Qingyuan Zhao. Lecture Notes on Causal Inference. \n",
    "3. Joaquin Quiñonero-Candela. Dataset Shift In Machine Learning.\n",
    "4. Geoff K. Nicholls. Bayes Methods.\n",
    "5. Patrick J. Laub. Hawkes Processes.\n",
    "6. Tomas Björk. An Introduction to Point Processes from a Martingale Point of View.\n",
    "7. Jonas Peters. Elements of Causal Inference.\n",
    "8. Alessio Zanga. A Survey on Causal Discovery.\n",
    "9. Qing Zhou. Directed Mixed Graphs for Latent Variables.\n",
    "10. Peter Spirtes. Causation, Prediction, and Search. \n",
    "11. Thomas Richardson. Ancestral Graph Markov Models.\n",
    "12. Jonas Peters. Causal Inference Using Invariant Prediction.\n",
    "13. Jonathan Baxter. A Bayesian/Information Theoretic Model of Learning to Learn via Multiple Task Sampling."
   ]
  }
 ],
 "metadata": {
  "kernelspec": {
   "display_name": "Python 3 (ipykernel)",
   "language": "python",
   "name": "python3"
  },
  "language_info": {
   "codemirror_mode": {
    "name": "ipython",
    "version": 3
   },
   "file_extension": ".py",
   "mimetype": "text/x-python",
   "name": "python",
   "nbconvert_exporter": "python",
   "pygments_lexer": "ipython3",
   "version": "3.9.18"
  }
 },
 "nbformat": 4,
 "nbformat_minor": 5
}
