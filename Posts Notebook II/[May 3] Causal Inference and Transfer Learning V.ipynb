{
 "cells": [
  {
   "cell_type": "markdown",
   "id": "a4ecbc3a",
   "metadata": {},
   "source": [
    "## [May 3] Causal Inference and Transfer Learning V\n",
    "\n",
    "Presenter: Yuchen Ge  \n",
    "Affiliation: University of Oxford  \n",
    "Contact Email: gycdwwd@gmail.com  \n",
    "Website: https://yuchenge-am.github.io"
   ]
  },
  {
   "cell_type": "markdown",
   "id": "9cd53c1a-7b00-4471-90e9-65cd0ae3c359",
   "metadata": {},
   "source": [
    "---\n",
    "\n"
   ]
  },
  {
   "cell_type": "markdown",
   "id": "57a1a35b-c1a6-4040-a77b-244b6ce58dfa",
   "metadata": {},
   "source": [
    "### 1. Copula Process\n",
    "\n",
    "An **n-copula**  $C\\left(u_{1}, \\ldots, u_{n}\\right)$ $[0,1]^{n} \\rightarrow[0,1]$  is a multivariate cdf with uniform univariate marginals: $C\\left(u_{1}, u_{2}, \\ldots, u_{n}\\right)$ = $P\\left(U_{1} \\leq u_{1}, U_{2} \\leq u_{2}, \\ldots, U_{n} \\leq u_{n}\\right)$ where $U_i \\sim U[0,1]$."
   ]
  },
  {
   "cell_type": "markdown",
   "id": "5aa7db5b-daa2-4324-a046-12a36500767a",
   "metadata": {},
   "source": [
    "> (**Sklar's theorem**) Let  $H$  be an n-dimensional distribution function with marginal distribution functions  $F_{1}, F_{2}, \\ldots, F_{n}$. Then $\\exists$ an  n-copula  $C$  s.t. for all  $\\left(x_{1}, x_{2}, \\ldots, x_{n}\\right) \\in[-\\infty, \\infty]^{n}$,\n",
    ">\n",
    "> $$H\\left(x_{1}, x_{2}, \\ldots, x_{n}\\right)=C\\left(F_{1}\\left(x_{1}\\right), F_{2}\\left(x_{2}\\right), \\ldots, F_{n}\\left(x_{n}\\right)\\right)=C\\left(u_{1}, u_{2}, \\ldots, u_{n}\\right) .$$\n",
    "\n"
   ]
  },
  {
   "cell_type": "markdown",
   "id": "57116bbd-7246-4bac-a2a3-bc6ce8ff5e99",
   "metadata": {},
   "source": [
    "**P"
   ]
  },
  {
   "cell_type": "code",
   "execution_count": null,
   "id": "988ef1b3-00bd-42c1-9851-6bcaba5f2dda",
   "metadata": {},
   "outputs": [],
   "source": []
  },
  {
   "cell_type": "code",
   "execution_count": null,
   "id": "d64545b3-2358-4bd3-a41a-7b9123699e3b",
   "metadata": {},
   "outputs": [],
   "source": []
  },
  {
   "cell_type": "code",
   "execution_count": null,
   "id": "366c419f-6a67-4371-a6e8-c59002000407",
   "metadata": {},
   "outputs": [],
   "source": []
  },
  {
   "cell_type": "code",
   "execution_count": null,
   "id": "1423e565-2624-4383-87c9-94f0c81d143c",
   "metadata": {},
   "outputs": [],
   "source": []
  },
  {
   "cell_type": "code",
   "execution_count": null,
   "id": "5bdb4260-1147-4bb1-90dd-c398d36dd94a",
   "metadata": {},
   "outputs": [],
   "source": []
  },
  {
   "cell_type": "code",
   "execution_count": null,
   "id": "04daa056-efda-4c60-b171-726e0e06258d",
   "metadata": {},
   "outputs": [],
   "source": []
  },
  {
   "cell_type": "code",
   "execution_count": null,
   "id": "dde396db-2ba3-4cae-bf68-620364343b60",
   "metadata": {},
   "outputs": [],
   "source": []
  },
  {
   "cell_type": "markdown",
   "id": "bc9619cb-6713-4408-9036-0de60b4fc36d",
   "metadata": {},
   "source": [
    "### 2. Sample Complexity"
   ]
  },
  {
   "cell_type": "code",
   "execution_count": null,
   "id": "633308a0-50a4-4085-bd4b-40af41be4e1f",
   "metadata": {},
   "outputs": [],
   "source": []
  },
  {
   "cell_type": "code",
   "execution_count": null,
   "id": "be1d2242-f36e-453c-bf50-8088336f2676",
   "metadata": {},
   "outputs": [],
   "source": []
  },
  {
   "cell_type": "code",
   "execution_count": null,
   "id": "575884d5-5637-40f3-aaf2-7f080eec14ec",
   "metadata": {},
   "outputs": [],
   "source": []
  },
  {
   "cell_type": "code",
   "execution_count": null,
   "id": "35f607a4-9da6-4207-b2a3-5194c0f5ce6b",
   "metadata": {},
   "outputs": [],
   "source": []
  },
  {
   "cell_type": "code",
   "execution_count": null,
   "id": "62b56d3f-6490-4026-89b5-0e7bb6d771a3",
   "metadata": {},
   "outputs": [],
   "source": []
  },
  {
   "cell_type": "code",
   "execution_count": null,
   "id": "42d6b7aa-cf75-4349-90da-d3a12de46049",
   "metadata": {},
   "outputs": [],
   "source": []
  },
  {
   "cell_type": "markdown",
   "id": "461f97af-5c90-490d-94cf-ac44666ea0be",
   "metadata": {},
   "source": [
    "### 3. Multivariate Hawkes Process"
   ]
  },
  {
   "cell_type": "code",
   "execution_count": null,
   "id": "9b7aba86-b496-4a9d-a8f3-dde22c367ab6",
   "metadata": {},
   "outputs": [],
   "source": []
  },
  {
   "cell_type": "code",
   "execution_count": null,
   "id": "4ca9329f-4367-45aa-a84d-01f11a71aa7c",
   "metadata": {},
   "outputs": [],
   "source": []
  },
  {
   "cell_type": "code",
   "execution_count": null,
   "id": "b47e612f-f8f3-4b8f-9644-c31e85e53e47",
   "metadata": {},
   "outputs": [],
   "source": []
  },
  {
   "cell_type": "code",
   "execution_count": null,
   "id": "1648d5c4-b02a-431c-9b35-f6d5c3859496",
   "metadata": {},
   "outputs": [],
   "source": []
  },
  {
   "cell_type": "code",
   "execution_count": null,
   "id": "56b349cb-2941-4ea0-a171-e96981221b07",
   "metadata": {},
   "outputs": [],
   "source": []
  },
  {
   "cell_type": "markdown",
   "id": "98f28c99-02ff-45bf-ac85-baba30c40ef6",
   "metadata": {},
   "source": [
    "---\n",
    "\n",
    "### Reference\n",
    "\n",
    "1. Shuxiao Chen. Minimax Rates and Adaptivity in Combining Experimental and Observational Data.\n",
    "2. Qingyuan Zhao. Lecture Notes on Causal Inference. \n",
    "3. Joaquin Quiñonero-Candela. Dataset Shift In Machine Learning.\n",
    "4. Geoff K. Nicholls. Bayes Methods.\n",
    "5. Patrick J. Laub. Hawkes Processes.\n",
    "6. Tomas Björk. An Introduction to Point Processes from a Martingale Point of View.\n",
    "7. Jonas Peters. Elements of Causal Inference.\n",
    "8. Alessio Zanga. A Survey on Causal Discovery.\n",
    "9. Qing Zhou. Directed Mixed Graphs for Latent Variables.\n",
    "10. Peter Spirtes. Causation, Prediction, and Search. \n",
    "11. Thomas Richardson. Ancestral Graph Markov Models.\n",
    "12. Jonas Peters. Causal Inference Using Invariant Prediction."
   ]
  }
 ],
 "metadata": {
  "kernelspec": {
   "display_name": "Python 3 (ipykernel)",
   "language": "python",
   "name": "python3"
  },
  "language_info": {
   "codemirror_mode": {
    "name": "ipython",
    "version": 3
   },
   "file_extension": ".py",
   "mimetype": "text/x-python",
   "name": "python",
   "nbconvert_exporter": "python",
   "pygments_lexer": "ipython3",
   "version": "3.9.18"
  }
 },
 "nbformat": 4,
 "nbformat_minor": 5
}
