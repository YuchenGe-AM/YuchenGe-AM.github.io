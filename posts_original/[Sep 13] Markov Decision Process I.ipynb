{
 "cells": [
  {
   "cell_type": "markdown",
   "id": "d26d2838",
   "metadata": {},
   "source": [
    "## [Sep 13] Markov Decision Process I\n",
    "\n",
    "Presenter: Yuchen Ge  \n",
    "Affiliation: University of Oxford  \n",
    "Contact Email: gycdwwd@gmail.com  \n",
    "Website: https://yuchenge-am.github.io"
   ]
  },
  {
   "cell_type": "markdown",
   "id": "97b05232",
   "metadata": {},
   "source": [
    "----"
   ]
  },
  {
   "cell_type": "markdown",
   "id": "542b4e03",
   "metadata": {},
   "source": [
    "## Quotes \n",
    "> **Def 1.** Oh this is so simple/  \n",
    "> **Def 1.** Oh this is so simple/  \n",
    "\n",
    "[I'm an inline-style link](https://www.google.com)"
   ]
  },
  {
   "cell_type": "markdown",
   "id": "351015a2",
   "metadata": {},
   "source": [
    "----"
   ]
  },
  {
   "cell_type": "markdown",
   "id": "2b5c4719",
   "metadata": {},
   "source": [
    "## Reference\n",
    "\n",
    "1. "
   ]
  },
  {
   "cell_type": "code",
   "execution_count": null,
   "id": "b535c50f",
   "metadata": {},
   "outputs": [],
   "source": []
  }
 ],
 "metadata": {
  "kernelspec": {
   "display_name": "Python 3",
   "language": "python",
   "name": "python3"
  },
  "language_info": {
   "codemirror_mode": {
    "name": "ipython",
    "version": 3
   },
   "file_extension": ".py",
   "mimetype": "text/x-python",
   "name": "python",
   "nbconvert_exporter": "python",
   "pygments_lexer": "ipython3",
   "version": "3.8.13"
  }
 },
 "nbformat": 4,
 "nbformat_minor": 5
}
