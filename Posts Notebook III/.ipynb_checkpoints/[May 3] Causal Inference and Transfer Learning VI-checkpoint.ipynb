{
  "nbformat": 4,
  "nbformat_minor": 0,
  "metadata": {
    "colab": {
      "provenance": []
    },
    "kernelspec": {
      "name": "ir",
      "display_name": "R"
    },
    "language_info": {
      "name": "R"
    }
  },
  "cells": [
    {
      "cell_type": "markdown",
      "source": [
        "## [May 3] Causal Inference and Transfer Learning VI\n",
        "\n",
        "Presenter: Yuchen Ge  \n",
        "Affiliation: University of Oxford  \n",
        "Contact Email: gycdwwd@gmail.com  \n",
        "Website: https://yuchenge-am.github.io\n",
        "\n",
        "---\n",
        "\n"
      ],
      "metadata": {
        "id": "HJ6oEhK-Za9t"
      }
    },
    {
      "cell_type": "markdown",
      "source": [
        "# `apply` Function\n",
        "\n",
        "The `apply` function in R is used to apply a function to the margins of an array or matrix.\n",
        "\n",
        "`apply(X, MARGIN, FUN, ...)`\n",
        "\n",
        "- `X`: An array or matrix.\n",
        "- `MARGIN`: Specifies the dimension over which the function is applied. 1 indicates rows, 2 indicates columns, and it can be a vector like `c(1, 2)` to apply over multiple dimensions.\n",
        "- `FUN`: The function to be applied.\n",
        "- `...`: Additional arguments to be passed to the function `FUN`."
      ],
      "metadata": {
        "id": "c5eeukdPaC38"
      }
    },
    {
      "cell_type": "code",
      "source": [
        "# Example 1: Sum each row of a matrix\n",
        "# Create a matrix\n",
        "mat <- matrix(1:9, nrow = 3, ncol = 3)\n",
        "print(\"Matrix:\")\n",
        "print(mat)\n",
        "\n",
        "# Use apply function to sum each row\n",
        "row_sums <- apply(mat, 1, sum)\n",
        "print(\"Sum of each row:\")\n",
        "print(row_sums)\n",
        "\n",
        "# Example 2: Calculate the mean of each column of a matrix\n",
        "# Create a matrix\n",
        "mat <- matrix(1:9, nrow = 3, ncol = 3)\n",
        "print(\"Matrix:\")\n",
        "print(mat)\n",
        "\n",
        "# Use apply function to calculate the mean of each column\n",
        "col_means <- apply(mat, 2, mean)\n",
        "print(\"Mean of each column:\")\n",
        "print(col_means)\n",
        "\n",
        "# Example 3: Calculate the standard deviation of each column of a data frame\n",
        "# Create a data frame\n",
        "df <- data.frame(a = rnorm(10), b = rnorm(10), c = rnorm(10))\n",
        "print(\"Data frame:\")\n",
        "print(df)\n",
        "\n",
        "# Use apply function to calculate the standard deviation of each column\n",
        "col_sds <- apply(df, 2, sd)\n",
        "print(\"Standard deviation of each column:\")\n",
        "print(col_sds)\n",
        "\n",
        "# Example 4: Sum each layer of a 3D array\n",
        "# Create a 3D array\n",
        "arr <- array(1:27, dim = c(3, 3, 3))\n",
        "print(\"Array:\")\n",
        "print(arr)\n",
        "\n",
        "# Use apply function to sum each layer (3rd dimension)\n",
        "layer_sums <- apply(arr, 3, sum)\n",
        "print(\"Sum of each layer:\")\n",
        "print(layer_sums)\n",
        "\n",
        "# Example 5: Apply a custom function to each column of a data frame\n",
        "# Create a data frame\n",
        "df <- data.frame(a = rnorm(10), b = rnorm(10), c = rnorm(10))\n",
        "print(\"Data frame:\")\n",
        "print(df)\n",
        "\n",
        "# Define a custom function\n",
        "custom_function <- function(x) {\n",
        "  return(mean(x) + sd(x))\n",
        "}\n",
        "\n",
        "# Use apply function to apply the custom function to each column\n",
        "custom_results <- apply(df, 2, custom_function)\n",
        "print(\"Result of custom function on each column:\")\n",
        "print(custom_results)"
      ],
      "metadata": {
        "colab": {
          "base_uri": "https://localhost:8080/"
        },
        "id": "tS-b8xze5mAt",
        "outputId": "3f037440-f37c-44d9-cab3-712825fd1996"
      },
      "execution_count": 50,
      "outputs": [
        {
          "output_type": "stream",
          "name": "stdout",
          "text": [
            "[1] \"Matrix:\"\n",
            "     [,1] [,2] [,3]\n",
            "[1,]    1    4    7\n",
            "[2,]    2    5    8\n",
            "[3,]    3    6    9\n",
            "[1] \"Sum of each row:\"\n",
            "[1] 12 15 18\n",
            "[1] \"Matrix:\"\n",
            "     [,1] [,2] [,3]\n",
            "[1,]    1    4    7\n",
            "[2,]    2    5    8\n",
            "[3,]    3    6    9\n",
            "[1] \"Mean of each column:\"\n",
            "[1] 2 5 8\n",
            "[1] \"Data frame:\"\n",
            "            a          b           c\n",
            "1   0.4007715 -1.0260044  0.89512566\n",
            "2   0.1106827 -0.7288912  0.87813349\n",
            "3  -0.5558411 -0.6250393  0.82158108\n",
            "4   1.7869131 -1.6866933  0.68864025\n",
            "5   0.4978505  0.8377870  0.55391765\n",
            "6  -1.9666172  0.1533731 -0.06191171\n",
            "7   0.7013559 -1.1381369 -0.30596266\n",
            "8  -0.4727914  1.2538149 -0.38047100\n",
            "9  -1.0678237  0.4264642 -0.69470698\n",
            "10 -0.2179749 -0.2950715 -0.20791728\n",
            "[1] \"Standard deviation of each column:\"\n",
            "        a         b         c \n",
            "1.0345226 0.9357914 0.6072176 \n",
            "[1] \"Array:\"\n",
            ", , 1\n",
            "\n",
            "     [,1] [,2] [,3]\n",
            "[1,]    1    4    7\n",
            "[2,]    2    5    8\n",
            "[3,]    3    6    9\n",
            "\n",
            ", , 2\n",
            "\n",
            "     [,1] [,2] [,3]\n",
            "[1,]   10   13   16\n",
            "[2,]   11   14   17\n",
            "[3,]   12   15   18\n",
            "\n",
            ", , 3\n",
            "\n",
            "     [,1] [,2] [,3]\n",
            "[1,]   19   22   25\n",
            "[2,]   20   23   26\n",
            "[3,]   21   24   27\n",
            "\n",
            "[1] \"Sum of each layer:\"\n",
            "[1]  45 126 207\n",
            "[1] \"Data frame:\"\n",
            "             a           b           c\n",
            "1  -1.26539635 -0.04287046 -0.33320738\n",
            "2   2.16895597  1.36860228 -1.01857538\n",
            "3   1.20796200 -0.22577099 -1.07179123\n",
            "4  -1.12310858  1.51647060  0.30352864\n",
            "5  -0.40288484 -1.54875280  0.44820978\n",
            "6  -0.46665535  0.58461375  0.05300423\n",
            "7   0.77996512  0.12385424  0.92226747\n",
            "8  -0.08336907  0.21594157  2.05008469\n",
            "9   0.25331851  0.37963948 -0.49103117\n",
            "10 -0.02854676 -0.50232345 -2.30916888\n",
            "[1] \"Result of custom function on each column:\"\n",
            "       a        b        c \n",
            "1.156972 1.073565 1.057672 \n"
          ]
        }
      ]
    },
    {
      "cell_type": "markdown",
      "source": [
        "# `U[,,]` Statement\n",
        "\n",
        "- **`U`**:\n",
        "    - `U` is a three-dimensional array.\n",
        "\n",
        "- **`rep_len(seq_len(N), n)`**:\n",
        "    - `seq_len(N)` generates a sequence of integers from `1` to `N`.\n",
        "    - `rep_len(seq_len(N), n)` repeats or truncates this sequence to length `n`.\n",
        "    - For example, if `N = 3` and `n = 5`, then `rep_len(seq_len(3), 5)` results in `1, 2, 3, 1, 2`.\n",
        "\n",
        "- **`U[,, rep_len(seq_len(N), n), drop = FALSE]`**:\n",
        "    - Uses the sequence generated by `rep_len(seq_len(N), n)` to index the third dimension of `U`.\n",
        "    - For example, if the original third dimension length of `U` is `3` and `n = 5`, the expanded third dimension will be repeated as `1, 2, 3, 1, 2`.\n",
        "    - `drop = FALSE` ensures that dimensions of length `1` are not dropped, maintaining the three-dimensional structure of the array."
      ],
      "metadata": {
        "id": "kXuNk3o2bkUg"
      }
    },
    {
      "cell_type": "code",
      "source": [
        "# Create a 3D array\n",
        "U <- array(1:12, dim = c(2, 2, 3))\n",
        "print(\"Original array U:\")\n",
        "print(U)\n",
        "\n",
        "# Define the desired length of the third dimension after repetition\n",
        "N <- dim(U)[3]  # Original number of layers\n",
        "n <- 6          # New number of layers after repetition\n",
        "\n",
        "# Repeat the third dimension\n",
        "U <- U[,,rep_len(seq_len(N), n), drop=FALSE]\n",
        "print(\"Array U after repeating the third dimension:\")\n",
        "print(U)\n",
        "print(dim(U))"
      ],
      "metadata": {
        "colab": {
          "base_uri": "https://localhost:8080/"
        },
        "id": "s8sE8s9P6EOP",
        "outputId": "46274049-9bee-4cd6-99b4-4f51e2c4f701"
      },
      "execution_count": 11,
      "outputs": [
        {
          "output_type": "stream",
          "name": "stdout",
          "text": [
            "[1] \"Original array U:\"\n",
            ", , 1\n",
            "\n",
            "     [,1] [,2]\n",
            "[1,]    1    3\n",
            "[2,]    2    4\n",
            "\n",
            ", , 2\n",
            "\n",
            "     [,1] [,2]\n",
            "[1,]    5    7\n",
            "[2,]    6    8\n",
            "\n",
            ", , 3\n",
            "\n",
            "     [,1] [,2]\n",
            "[1,]    9   11\n",
            "[2,]   10   12\n",
            "\n",
            "[1] \"Array U after repeating the third dimension:\"\n",
            ", , 1\n",
            "\n",
            "     [,1] [,2]\n",
            "[1,]    1    3\n",
            "[2,]    2    4\n",
            "\n",
            ", , 2\n",
            "\n",
            "     [,1] [,2]\n",
            "[1,]    5    7\n",
            "[2,]    6    8\n",
            "\n",
            ", , 3\n",
            "\n",
            "     [,1] [,2]\n",
            "[1,]    9   11\n",
            "[2,]   10   12\n",
            "\n",
            ", , 4\n",
            "\n",
            "     [,1] [,2]\n",
            "[1,]    1    3\n",
            "[2,]    2    4\n",
            "\n",
            ", , 5\n",
            "\n",
            "     [,1] [,2]\n",
            "[1,]    5    7\n",
            "[2,]    6    8\n",
            "\n",
            ", , 6\n",
            "\n",
            "     [,1] [,2]\n",
            "[1,]    9   11\n",
            "[2,]   10   12\n",
            "\n",
            "[1] 2 2 6\n"
          ]
        }
      ]
    },
    {
      "cell_type": "markdown",
      "source": [
        "# stopifnot 函数\n",
        "\n",
        "`stopifnot` function stops execution and throws an error if any condition is not met."
      ],
      "metadata": {
        "id": "6cOe5Be5oZJz"
      }
    },
    {
      "cell_type": "code",
      "source": [
        "# Create a vector\n",
        "x <- c(2, 4, 6, 8)\n",
        "\n",
        "# To check if all values in a vector are even.\n",
        "stopifnot(all(x %% 2 == 0))\n",
        "\n",
        "print(\"All values in x are even.\")"
      ],
      "metadata": {
        "id": "KIC7TpHo-0QC"
      },
      "execution_count": null,
      "outputs": []
    },
    {
      "cell_type": "markdown",
      "source": [
        "# `matrix` and `runif`\n",
        "\n",
        "```R\n",
        "U <- matrix(runif(n*d), nrow=n, ncol=d)\n",
        "```\n",
        "\n",
        "This code generates a matrix of random numbers.\n",
        "\n",
        "- **`runif(n*d)`**:\n",
        "   - `runif` is a function in R used to generate uniformly distributed random numbers.\n",
        "   - `n*d` specifies generating `n*d` random numbers.\n",
        "   - These random numbers are uniformly distributed between 0 and 1 by default.\n",
        "\n",
        "- **`matrix(..., nrow=n, ncol=d)`**:\n",
        "   - The `matrix` function is used to convert a vector into a matrix.\n",
        "   - `...` represents the `n*d` random numbers generated.\n",
        "   - `nrow=n` specifies the number of rows in the matrix to be `n`.\n",
        "   - `ncol=d` specifies the number of columns in the matrix to be `d`.                   "
      ],
      "metadata": {
        "id": "u1YYy6RAOS3h"
      }
    },
    {
      "cell_type": "code",
      "source": [
        "# Assuming the previous U is a 3D array\n",
        "print(\"Original 3D array U:\")\n",
        "print(U)\n",
        "\n",
        "# Get the dimensions of the original U\n",
        "dims <- dim(U)\n",
        "\n",
        "# Flatten the 3D array to a 2D matrix\n",
        "n <- dims[1] * dims[2]\n",
        "d <- dims[3]\n",
        "\n",
        "# Convert 3D array U to a 2D matrix U\n",
        "U_matrix <- matrix(runif(n * d), nrow = n, ncol = d)\n",
        "\n",
        "print(\"2D matrix U generated with runif:\")\n",
        "print(U_matrix)"
      ],
      "metadata": {
        "colab": {
          "base_uri": "https://localhost:8080/"
        },
        "id": "y88Hr52gADlT",
        "outputId": "2768cd67-dc2c-4425-c6bc-ad612ee9acf3"
      },
      "execution_count": 15,
      "outputs": [
        {
          "output_type": "stream",
          "name": "stdout",
          "text": [
            "[1] \"Original 3D array U:\"\n",
            ", , 1\n",
            "\n",
            "     [,1] [,2]\n",
            "[1,]    1    3\n",
            "[2,]    2    4\n",
            "\n",
            ", , 2\n",
            "\n",
            "     [,1] [,2]\n",
            "[1,]    5    7\n",
            "[2,]    6    8\n",
            "\n",
            ", , 3\n",
            "\n",
            "     [,1] [,2]\n",
            "[1,]    9   11\n",
            "[2,]   10   12\n",
            "\n",
            ", , 4\n",
            "\n",
            "     [,1] [,2]\n",
            "[1,]    1    3\n",
            "[2,]    2    4\n",
            "\n",
            ", , 5\n",
            "\n",
            "     [,1] [,2]\n",
            "[1,]    5    7\n",
            "[2,]    6    8\n",
            "\n",
            ", , 6\n",
            "\n",
            "     [,1] [,2]\n",
            "[1,]    9   11\n",
            "[2,]   10   12\n",
            "\n",
            "[1] \"2D matrix U generated with runif:\"\n",
            "           [,1]      [,2]       [,3]      [,4]      [,5]      [,6]\n",
            "[1,] 0.27776932 0.5574376 0.03670436 0.5754357 0.1457088 0.9159863\n",
            "[2,] 0.24940659 0.4898371 0.20374381 0.4822579 0.4122831 0.8131131\n",
            "[3,] 0.15943548 0.4942924 0.51378114 0.5693527 0.6830103 0.6758900\n",
            "[4,] 0.07163006 0.8883716 0.23633989 0.1441523 0.6534278 0.8074991\n"
          ]
        }
      ]
    },
    {
      "cell_type": "markdown",
      "source": [
        "# Advanced Usage of the `apply` Function\n",
        "\n",
        "This code uses the `apply` function to perform a row-wise operation on a matrix, calculating the product of specific columns.\n",
        "\n",
        "```R\n",
        "apply(1 - 2 * U[, -d, drop = FALSE], 1, prod)\n",
        "```\n",
        "\n",
        "- **`U[, -d, drop = FALSE]`**:\n",
        "   - `U` is a matrix.\n",
        "   - `[, -d]` selects all rows of `U` but excludes the `d`-th column.\n",
        "   - `drop = FALSE` ensures that the result remains a matrix, even if it has a single column.\n",
        "\n",
        "- **`1 - 2 * U[, -d, drop = FALSE]`**:\n",
        "   - Performs element-wise operations on the selected matrix columns.\n",
        "   - Each element is first multiplied by `2` and then subtracted from `1`.\n",
        "   - This computes `1 - 2 * element` for each element.\n",
        "\n",
        "- **`apply(..., 1, prod)`**:\n",
        "   - The `apply` function is used to apply a function to the margins of an array or matrix.\n",
        "   - The first argument is the matrix to operate on.\n",
        "   - The second argument `1` indicates the operation is to be applied to rows (use `2` for columns).\n",
        "   - `prod` is the function applied to each row, which calculates the product of all elements in the row."
      ],
      "metadata": {
        "id": "hxIOdyXPUHHT"
      }
    },
    {
      "cell_type": "code",
      "source": [
        "# Set parameters\n",
        "n <- 5  # Number of rows\n",
        "d <- 4  # Number of columns\n",
        "\n",
        "# Create a matrix U\n",
        "U <- matrix(runif(n * d), nrow = n, ncol = d)\n",
        "\n",
        "# Print the generated matrix U\n",
        "print(\"Matrix U:\")\n",
        "print(U)\n",
        "\n",
        "# Apply the specified operation\n",
        "result <- apply(1 - 2 * U[, -d, drop = FALSE], 1, prod)\n",
        "\n",
        "# Print the result\n",
        "print(\"Result of apply(1 - 2 * U[, -d, drop = FALSE], 1, prod):\")\n",
        "print(result)"
      ],
      "metadata": {
        "id": "cOlY-PzFYoXF",
        "colab": {
          "base_uri": "https://localhost:8080/"
        },
        "outputId": "0c020493-a43e-48e9-f7e1-4968818a2828"
      },
      "execution_count": 23,
      "outputs": [
        {
          "output_type": "stream",
          "name": "stdout",
          "text": [
            "[1] \"Matrix U:\"\n",
            "          [,1]      [,2]      [,3]      [,4]\n",
            "[1,] 0.3138426 0.3195532 0.6979466 0.7849316\n",
            "[2,] 0.9594658 0.8083863 0.6844865 0.8868626\n",
            "[3,] 0.5911938 0.0419195 0.3480151 0.2040959\n",
            "[4,] 0.5314093 0.3637427 0.5546818 0.7706230\n",
            "[5,] 0.3839367 0.8565970 0.1372436 0.5963630\n",
            "[1] \"Result of apply(1 - 2 * U[, -d, drop = FALSE], 1, prod):\"\n",
            "[1] -0.053194591 -0.209123435 -0.050792253  0.001872197 -0.120109599\n"
          ]
        }
      ]
    },
    {
      "cell_type": "markdown",
      "source": [
        "# Usage of the `tryCatch` Function\n",
        "\n",
        "- Basic Syntax\n",
        "\n",
        "  ```R\n",
        "tryCatch({\n",
        "  # Code that might produce an error\n",
        "}, error = function(e) {\n",
        "  # Code to handle the error\n",
        "}, warning = function(w) {\n",
        "  # Code to handle the warning\n",
        "}, finally = {\n",
        "  # Code that will always execute, regardless of whether an error occurred\n",
        "})\n",
        "  ```\n",
        "\n",
        "- The `inherits` function checks if the object `U` belongs to a specified class.\n",
        "\n",
        "## Explanation:\n",
        "\n",
        "- **`tryCatch`**:\n",
        "  - This function allows you to handle errors and warnings gracefully in your R code. You can specify what to do if an error or warning occurs and ensure that some code runs regardless of whether an error occurs.\n",
        "\n",
        "- **`error = function(e)`**:\n",
        "  - This block of code will execute if an error occurs within the `tryCatch` block. The error object `e` contains information about the error.\n",
        "\n",
        "- **`warning = function(w)`**:\n",
        "  - This block of code will execute if a warning occurs within the `tryCatch` block. The warning object `w` contains information about the warning.\n",
        "\n",
        "- **`finally`**:\n",
        "  - This block of code will always execute, regardless of whether an error or warning occurred. It's useful for cleanup tasks that need to happen no matter what.\n",
        "\n",
        "- **`inherits`**:\n",
        "  - The `inherits` function is used to check if an object belongs to a specified class. For example, `inherits(U, \"matrix\")` checks if `U` is a matrix.\n",
        "\n",
        "\n",
        "In next example:\n",
        "- If `U` is not a matrix, an error is thrown, and the error handling code runs, returning `NA`.\n",
        "- If a warning occurs, the warning handling code runs, returning `NULL`.\n",
        "- The `finally` block always executes, printing \"Execution completed\" to the console.\n",
        "- If no errors or warnings occur, the sum of the elements in the matrix `U` is calculated and printed."
      ],
      "metadata": {
        "id": "tJMgAefKY7Ue"
      }
    },
    {
      "cell_type": "code",
      "source": [
        "U <- matrix(runif(10), nrow=2)  # Create a 2x5 matrix of random numbers\n",
        "\n",
        "result <- tryCatch({\n",
        "  # Code that might produce an error\n",
        "  if (!inherits(U, \"matrix\")) {\n",
        "    stop(\"U is not a matrix\")\n",
        "  }\n",
        "  sum(U)  # Calculate the sum of the matrix elements\n",
        "}, error = function(e) {\n",
        "  # Code to handle the error\n",
        "  message(\"An error occurred: \", e$message)\n",
        "  NA  # Return NA in case of error\n",
        "}, warning = function(w) {\n",
        "  # Code to handle the warning\n",
        "  message(\"A warning occurred: \", w$message)\n",
        "  NULL  # Return NULL in case of warning\n",
        "}, finally = {\n",
        "  # Code that will always execute\n",
        "  message(\"Execution completed\")\n",
        "})\n",
        "\n",
        "print(result)"
      ],
      "metadata": {
        "colab": {
          "base_uri": "https://localhost:8080/"
        },
        "id": "UwWwNsX2FbvN",
        "outputId": "d8e143c4-0f8a-471f-bbed-8fe09611a248"
      },
      "execution_count": 28,
      "outputs": [
        {
          "output_type": "stream",
          "name": "stderr",
          "text": [
            "Execution completed\n",
            "\n"
          ]
        },
        {
          "output_type": "stream",
          "name": "stdout",
          "text": [
            "[1] 5.681718\n"
          ]
        }
      ]
    },
    {
      "cell_type": "code",
      "source": [
        "# Function to demonstrate handling file reading error\n",
        "read_file <- function(file_path) {\n",
        "  content <- tryCatch({\n",
        "    readLines(file_path)\n",
        "  }, warning = function(w) {\n",
        "    cat(\"Warning: \", w$message, \"\\n\")\n",
        "    NULL\n",
        "  }, error = function(e) {\n",
        "    cat(\"Error: \", e$message, \"\\n\")\n",
        "    NULL\n",
        "  }, finally = {\n",
        "    cat(\"Attempted to read file: \", file_path, \"\\n\")\n",
        "  })\n",
        "\n",
        "  return(content)\n",
        "}\n",
        "\n",
        "# Test the function\n",
        "print(read_file(\"nonexistent_file.txt\"))  # File does not exist"
      ],
      "metadata": {
        "colab": {
          "base_uri": "https://localhost:8080/"
        },
        "id": "UsmQPJhGDvJq",
        "outputId": "6b38fd9e-d102-4b44-d2ea-83bacb373e19"
      },
      "execution_count": 27,
      "outputs": [
        {
          "output_type": "stream",
          "name": "stdout",
          "text": [
            "Warning:  cannot open file 'nonexistent_file.txt': No such file or directory \n",
            "Attempted to read file:  nonexistent_file.txt \n",
            "NULL\n"
          ]
        }
      ]
    },
    {
      "cell_type": "markdown",
      "source": [
        "# `unlist` function\n",
        "\n",
        "The ` unlist ` function in `R` is used to flatten a list into a vector. This can be particularly useful when dealing with nested lists or lists containing various types of elements that you want to convert into a single vector."
      ],
      "metadata": {
        "id": "-eDdTViBb5Pq"
      }
    },
    {
      "cell_type": "code",
      "source": [
        "# Example 1: Converting a simple list to a vector\n",
        "simple_list <- list(1, 2, 3)\n",
        "flattened_vector1 <- unlist(simple_list)\n",
        "print(\"Flattened vector from simple list:\")\n",
        "print(flattened_vector1)\n",
        "\n",
        "# Example 2: Converting a named list to a vector\n",
        "named_list <- list(a = 1, b = 2, c = 3)\n",
        "flattened_vector2 <- unlist(named_list)\n",
        "print(\"Flattened vector from named list:\")\n",
        "print(flattened_vector2)\n",
        "\n",
        "# Example 3: Converting a nested list to a vector\n",
        "nested_list <- list(a = 1, b = list(c = 2, d = 3), e = 4)\n",
        "flattened_vector3 <- unlist(nested_list)\n",
        "print(\"Flattened vector from nested list:\")\n",
        "print(flattened_vector3)"
      ],
      "metadata": {
        "colab": {
          "base_uri": "https://localhost:8080/"
        },
        "id": "_LXJym95XrjD",
        "outputId": "56bec48a-daa1-4d3c-995f-f3b142de9227"
      },
      "execution_count": 29,
      "outputs": [
        {
          "output_type": "stream",
          "name": "stdout",
          "text": [
            "[1] \"Flattened vector from simple list:\"\n",
            "[1] 1 2 3\n",
            "[1] \"Flattened vector from named list:\"\n",
            "a b c \n",
            "1 2 3 \n",
            "[1] \"Flattened vector from nested list:\"\n",
            "  a b.c b.d   e \n",
            "  1   2   3   4 \n"
          ]
        }
      ]
    },
    {
      "cell_type": "markdown",
      "source": [
        "# `as.xxx` Functions in R\n",
        "The `as.xxx` functions in R are a general class of functions used to convert objects to specific data types. Here, xxx can represent various data types such as numeric, integer, matrix, data.frame, etc. Each `as.xxx` function converts the input object to the target type."
      ],
      "metadata": {
        "id": "soqBt0jxYZ1b"
      }
    },
    {
      "cell_type": "code",
      "source": [
        "# as.numeric\n",
        "x_numeric <- \"123\"\n",
        "y_numeric <- as.numeric(x_numeric)\n",
        "\n",
        "# as.integer\n",
        "x_integer <- 123.45\n",
        "y_integer <- as.integer(x_integer)\n",
        "\n",
        "# as.character\n",
        "x_character <- 123\n",
        "y_character <- as.character(x_character)\n",
        "\n",
        "# as.logical\n",
        "x_logical <- 1\n",
        "y_logical <- as.logical(x_logical)\n",
        "\n",
        "# as.matrix\n",
        "x_matrix <- data.frame(a = 1:3, b = 4:6)\n",
        "y_matrix <- as.matrix(x_matrix)\n",
        "\n",
        "# as.data.frame\n",
        "x_data_frame <- matrix(1:6, nrow = 2)\n",
        "y_data_frame <- as.data.frame(x_data_frame)\n",
        "\n",
        "# as.factor\n",
        "x_factor <- c(\"apple\", \"banana\", \"apple\")\n",
        "y_factor <- as.factor(x_factor)\n",
        "\n",
        "# as.array\n",
        "x_array <- 1:12\n",
        "y_array <- as.array(x_array)\n",
        "\n",
        "# Print results\n",
        "print(y_numeric)      # [1] 123\n",
        "print(y_integer)      # [1] 123\n",
        "print(y_character)    # [1] \"123\"\n",
        "print(y_logical)      # [1] TRUE\n",
        "print(y_matrix)       #      a b\n",
        "                     # [1,] 1 4\n",
        "                     # [2,] 2 5\n",
        "                     # [3,] 3 6\n",
        "print(y_data_frame)   #   V1 V2 V3\n",
        "                      # 1  1  3  5\n",
        "                      # 2  2  4  6\n",
        "print(y_factor)       # [1] apple  banana apple\n",
        "                      # Levels: apple banana\n",
        "print(y_array)        # [1]  1  2  3  4  5  6  7  8  9 10 11 12"
      ],
      "metadata": {
        "colab": {
          "base_uri": "https://localhost:8080/"
        },
        "id": "SBmUIcVvYU32",
        "outputId": "5e01e732-cd3d-4ee5-ffeb-4c7ad173c20d"
      },
      "execution_count": 30,
      "outputs": [
        {
          "output_type": "stream",
          "name": "stdout",
          "text": [
            "[1] 123\n",
            "[1] 123\n",
            "[1] \"123\"\n",
            "[1] TRUE\n",
            "     a b\n",
            "[1,] 1 4\n",
            "[2,] 2 5\n",
            "[3,] 3 6\n",
            "  V1 V2 V3\n",
            "1  1  3  5\n",
            "2  2  4  6\n",
            "[1] apple  banana apple \n",
            "Levels: apple banana\n",
            " [1]  1  2  3  4  5  6  7  8  9 10 11 12\n"
          ]
        }
      ]
    },
    {
      "cell_type": "markdown",
      "source": [
        "# `sapply` Example\n",
        "\n",
        "`sapply` applies a function to each element of a list or vector and returns a vector or matrix.\n",
        "\n",
        "  - Applies the function `num^2` to each element of `x`.\n",
        "  - Returns a vector of squared values."
      ],
      "metadata": {
        "id": "etNrv9pxbEmK"
      }
    },
    {
      "cell_type": "code",
      "source": [
        "# Create a vector\n",
        "x <- 1:5\n",
        "\n",
        "# Apply function to each element\n",
        "squared <- sapply(x, function(num) num^2)\n",
        "\n",
        "# Print result\n",
        "print(\"Squared values using sapply:\")\n",
        "print(squared)\n"
      ],
      "metadata": {
        "colab": {
          "base_uri": "https://localhost:8080/"
        },
        "id": "NKRI5oEGZeXG",
        "outputId": "5a19794c-41ce-4ae2-e101-4c48b03a2011"
      },
      "execution_count": 31,
      "outputs": [
        {
          "output_type": "stream",
          "name": "stdout",
          "text": [
            "[1] \"Squared values using sapply:\"\n",
            "[1]  1  4  9 16 25\n"
          ]
        }
      ]
    },
    {
      "cell_type": "markdown",
      "source": [
        "# `mapply` Example\n",
        "\n",
        "`mapply` applies a function in parallel to multiple vectors or lists.\n",
        "\n",
        "\n",
        "  - Applies the function `a + b` to each pair of elements from `x` and `y`.\n",
        "  - Returns a vector of summed values."
      ],
      "metadata": {
        "id": "CfbYOdTNZliE"
      }
    },
    {
      "cell_type": "code",
      "source": [
        "# Create two vectors\n",
        "x <- 1:5\n",
        "y <- 6:10\n",
        "\n",
        "# Apply function to each pair of elements\n",
        "summed <- mapply(function(a, b) a + b, x, y)\n",
        "\n",
        "# Print result\n",
        "print(\"Summed values using mapply:\")\n",
        "print(summed)"
      ],
      "metadata": {
        "colab": {
          "base_uri": "https://localhost:8080/"
        },
        "id": "hPYzaGdsZn-Y",
        "outputId": "d6b91c82-0f22-4f50-e319-fe66cc1369db"
      },
      "execution_count": 32,
      "outputs": [
        {
          "output_type": "stream",
          "name": "stdout",
          "text": [
            "[1] \"Summed values using mapply:\"\n",
            "[1]  7  9 11 13 15\n"
          ]
        }
      ]
    },
    {
      "cell_type": "code",
      "source": [
        "# Use `apply` to Apply a Function to Each Row of Matrix `U` and Return a List\n",
        "apply(U, 1, FUN = function(x) x, simplify = FALSE)"
      ],
      "metadata": {
        "id": "wqlrcnuUhXlg",
        "colab": {
          "base_uri": "https://localhost:8080/",
          "height": 80
        },
        "outputId": "8b0b3493-57ac-4dec-8a28-5586dbf8f56e"
      },
      "execution_count": 34,
      "outputs": [
        {
          "output_type": "display_data",
          "data": {
            "text/html": [
              "<ol>\n",
              "\t<li><style>\n",
              ".list-inline {list-style: none; margin:0; padding: 0}\n",
              ".list-inline>li {display: inline-block}\n",
              ".list-inline>li:not(:last-child)::after {content: \"\\00b7\"; padding: 0 .5ex}\n",
              "</style>\n",
              "<ol class=list-inline><li>0.957669742405415</li><li>0.525974274147302</li><li>0.869706070283428</li><li>0.975889693479985</li><li>0.389170323032886</li></ol>\n",
              "</li>\n",
              "\t<li><style>\n",
              ".list-inline {list-style: none; margin:0; padding: 0}\n",
              ".list-inline>li {display: inline-block}\n",
              ".list-inline>li:not(:last-child)::after {content: \"\\00b7\"; padding: 0 .5ex}\n",
              "</style>\n",
              "<ol class=list-inline><li>0.158688397612423</li><li>0.873151367530227</li><li>0.0236886432394385</li><li>0.490224198205397</li><li>0.417554959887639</li></ol>\n",
              "</li>\n",
              "</ol>\n"
            ],
            "text/markdown": "1. 1. 0.957669742405415\n2. 0.525974274147302\n3. 0.869706070283428\n4. 0.975889693479985\n5. 0.389170323032886\n\n\n\n2. 1. 0.158688397612423\n2. 0.873151367530227\n3. 0.0236886432394385\n4. 0.490224198205397\n5. 0.417554959887639\n\n\n\n\n\n",
            "text/latex": "\\begin{enumerate}\n\\item \\begin{enumerate*}\n\\item 0.957669742405415\n\\item 0.525974274147302\n\\item 0.869706070283428\n\\item 0.975889693479985\n\\item 0.389170323032886\n\\end{enumerate*}\n\n\\item \\begin{enumerate*}\n\\item 0.158688397612423\n\\item 0.873151367530227\n\\item 0.0236886432394385\n\\item 0.490224198205397\n\\item 0.417554959887639\n\\end{enumerate*}\n\n\\end{enumerate}\n",
            "text/plain": [
              "[[1]]\n",
              "[1] 0.9576697 0.5259743 0.8697061 0.9758897 0.3891703\n",
              "\n",
              "[[2]]\n",
              "[1] 0.15868840 0.87315137 0.02368864 0.49022420 0.41755496\n"
            ]
          },
          "metadata": {}
        }
      ]
    },
    {
      "cell_type": "markdown",
      "source": [
        "# `prod` function\n",
        "\n",
        "The `prod` function in R calculates the product of all elements in a numeric vector or array. It's useful when you need to multiply a series of numbers together.\n",
        "\n",
        "### Basic Usage\n",
        "\n",
        "```r\n",
        "prod(x)\n",
        "```\n",
        "\n",
        "Where `x` is a numeric vector or array."
      ],
      "metadata": {
        "id": "sbUq5pLwbcNE"
      }
    },
    {
      "cell_type": "code",
      "source": [
        "# Example 1: Product of a vector\n",
        "x <- c(1, 2, 3, 4, 5)\n",
        "product_vector <- prod(x)\n",
        "print(\"Product of vector elements:\")\n",
        "print(product_vector)\n",
        "\n",
        "# Example 2: Product of a sequence\n",
        "sequence <- 1:10\n",
        "product_sequence <- prod(sequence)\n",
        "print(\"Product of sequence from 1 to 10:\")\n",
        "print(product_sequence)\n",
        "\n",
        "# Example 3: Product of matrix elements\n",
        "matrix_data <- matrix(1:6, nrow = 2, ncol = 3)\n",
        "product_matrix <- prod(matrix_data)\n",
        "print(\"Product of matrix elements:\")\n",
        "print(product_matrix)\n",
        "\n",
        "# Example 4: Product of selected elements\n",
        "partial_product <- prod(x[1:3])\n",
        "print(\"Product of the first three elements:\")\n",
        "print(partial_product)\n"
      ],
      "metadata": {
        "colab": {
          "base_uri": "https://localhost:8080/"
        },
        "id": "ZgMcUSXSbT4R",
        "outputId": "43a3cf56-7b86-47d2-a0cc-f871715c47ae"
      },
      "execution_count": 35,
      "outputs": [
        {
          "output_type": "stream",
          "name": "stdout",
          "text": [
            "[1] \"Product of vector elements:\"\n",
            "[1] 120\n",
            "[1] \"Product of sequence from 1 to 10:\"\n",
            "[1] 3628800\n",
            "[1] \"Product of matrix elements:\"\n",
            "[1] 720\n",
            "[1] \"Product of the first three elements:\"\n",
            "[1] 6\n"
          ]
        }
      ]
    },
    {
      "cell_type": "markdown",
      "source": [
        "# Functions Similar to `apply`"
      ],
      "metadata": {
        "id": "awjY-RXHhqNA"
      }
    },
    {
      "cell_type": "markdown",
      "source": [
        "## `lapply()`\n",
        "The `lapply` function is used to apply a function to each element of a list or vector and return a list.\n",
        "\n",
        "```R\n",
        "lapply(X, FUN, ...)\n",
        "```\n",
        "\n",
        "- **X**: A list or vector.\n",
        "- **FUN**: The function to apply.\n",
        "- `...`: Additional arguments to pass to `FUN`."
      ],
      "metadata": {
        "id": "ClbM5IHHgX-W"
      }
    },
    {
      "cell_type": "code",
      "source": [
        "x <- list(a = 1:3, b = 4:6)\n",
        "result <- lapply(x, sum)\n",
        "print(result)"
      ],
      "metadata": {
        "colab": {
          "base_uri": "https://localhost:8080/"
        },
        "id": "UKojMq1GcKr4",
        "outputId": "fd716ee5-58a9-4b88-fc0e-44dcecc98e32"
      },
      "execution_count": 36,
      "outputs": [
        {
          "output_type": "stream",
          "name": "stdout",
          "text": [
            "$a\n",
            "[1] 6\n",
            "\n",
            "$b\n",
            "[1] 15\n",
            "\n"
          ]
        }
      ]
    },
    {
      "cell_type": "markdown",
      "source": [
        "### `mapply()`\n",
        "The `mapply` function is used to apply a function to the corresponding elements of multiple vectors or lists and return a vector or list.\n",
        "\n",
        "```R\n",
        "mapply(FUN, ..., MoreArgs = NULL, SIMPLIFY = TRUE, USE.NAMES = TRUE)\n",
        "```\n",
        "\n",
        "- **FUN**: The function to apply.\n",
        "- `...`: Multiple vectors or lists to pass to `FUN`.\n",
        "- **MoreArgs**: Additional arguments to pass to `FUN`.\n",
        "- **SIMPLIFY**: Whether to simplify the result to a vector or matrix.\n",
        "- **USE.NAMES**: Whether to use names."
      ],
      "metadata": {
        "id": "7Qk0WywXcBAu"
      }
    },
    {
      "cell_type": "code",
      "source": [
        "x <- 1:3\n",
        "y <- 4:6\n",
        "result <- mapply(sum, x, y)\n",
        "print(result)"
      ],
      "metadata": {
        "colab": {
          "base_uri": "https://localhost:8080/"
        },
        "id": "rZhuACeqcRpl",
        "outputId": "6b23839b-84cf-47bd-c8ab-f35e3bb0d0e6"
      },
      "execution_count": 37,
      "outputs": [
        {
          "output_type": "stream",
          "name": "stdout",
          "text": [
            "[1] 5 7 9\n"
          ]
        }
      ]
    },
    {
      "cell_type": "code",
      "source": [
        "##' @export\n",
        "print.causl_family <- function (x, ...) {\n",
        "  # Check if the object x belongs to the \"cust_family\" class. If it does, set custom to TRUE, otherwise set it to FALSE.\n",
        "  custom <- isTRUE(\"cust_family\" %in% class(x))\n",
        "\n",
        "  # Print \"Custom family\" if custom is TRUE, otherwise print \"Family\". The ifelse(test, yes, no) function is used here.\n",
        "  cat(ifelse(custom, \"Custom family\", \"Family\"), \": \", x$name, \"\\n\", sep=\"\")\n",
        "\n",
        "  # paste(x$pars, collapse=\", \") concatenates all elements in x$pars into a single string.\n",
        "  # paste0(...) is a simplified version of the paste function. It doesn't have a sep parameter and uses no separator by default.\n",
        "  cat(paste0(\"Parameters: \", paste(x$pars, collapse=\", \")), \"\\n\")\n",
        "\n",
        "  # Return the object x, but make it invisible in the console output using invisible.\n",
        "  invisible(x)\n",
        "}"
      ],
      "metadata": {
        "id": "eucwidYxe8Aj"
      },
      "execution_count": 38,
      "outputs": []
    },
    {
      "cell_type": "markdown",
      "source": [
        "# `data.frame` function"
      ],
      "metadata": {
        "id": "ReurZSBuiHSd"
      }
    },
    {
      "cell_type": "code",
      "source": [
        "# Create a data frame with columns val and family\n",
        "copula_vals <- data.frame(\n",
        "  val = c(1:6, 11),  # Values for the val column, from 1 to 6 and 11\n",
        "  family = c(\"gaussian\", \"t\", \"Clayton\", \"Gumbel\", \"Frank\", \"Joe\", \"FGM\")  # Values for the family column, corresponding to different types of copulas\n",
        ")\n",
        "\n",
        "# Print the data frame\n",
        "print(copula_vals)"
      ],
      "metadata": {
        "colab": {
          "base_uri": "https://localhost:8080/"
        },
        "id": "VXGfh1RuiEzm",
        "outputId": "67fa9ef9-d586-449f-e6bf-88e675256f15"
      },
      "execution_count": 39,
      "outputs": [
        {
          "output_type": "stream",
          "name": "stdout",
          "text": [
            "  val   family\n",
            "1   1 gaussian\n",
            "2   2        t\n",
            "3   3  Clayton\n",
            "4   4   Gumbel\n",
            "5   5    Frank\n",
            "6   6      Joe\n",
            "7  11      FGM\n"
          ]
        }
      ]
    },
    {
      "cell_type": "markdown",
      "source": [
        "# `is.xxx` Functions\n",
        "\n",
        "In R, functions that start with `is.` are used to check the type of an object or whether it meets certain conditions.\n",
        "These functions return a logical value (TRUE or FALSE), indicating whether the object satisfies a specific condition or is of a certain type."
      ],
      "metadata": {
        "id": "WgwYawLeio8X"
      }
    },
    {
      "cell_type": "code",
      "source": [
        "# Check if an object is numeric\n",
        "x <- 42\n",
        "print(is.numeric(x))  # Returns TRUE because x is numeric\n",
        "\n",
        "# Check if an object is character\n",
        "y <- \"Hello\"\n",
        "print(is.character(y))  # Returns TRUE because y is character\n",
        "\n",
        "# Check if an object is logical\n",
        "z <- TRUE\n",
        "print(is.logical(z))  # Returns TRUE because z is logical\n",
        "\n",
        "# Check if an object is a data frame\n",
        "df <- data.frame(a = 1:3, b = c(\"A\", \"B\", \"C\"))\n",
        "print(is.data.frame(df))  # Returns TRUE because df is a data frame\n",
        "\n",
        "# Check if an object is a matrix\n",
        "mat <- matrix(1:4, nrow = 2)\n",
        "print(is.matrix(mat))  # Returns TRUE because mat is a matrix\n",
        "\n",
        "# Check if an object is a list\n",
        "lst <- list(a = 1, b = \"B\")\n",
        "print(is.list(lst))  # Returns TRUE because lst is a list\n",
        "\n",
        "# Check if an object is a factor\n",
        "f <- factor(c(\"low\", \"medium\", \"high\"))\n",
        "print(is.factor(f))  # Returns TRUE because f is a factor\n",
        "\n",
        "# Check if an object is a date\n",
        "d <- as.Date(\"2023-06-16\")\n",
        "print(inherits(d, \"Date\"))  # Returns TRUE because d is of class \"Date\"\n",
        "\n",
        "# Check if an object is a time series\n",
        "ts_data <- ts(1:10, start = c(2023, 1), frequency = 12)\n",
        "print(is.ts(ts_data))  # Returns TRUE because ts_data is a time series"
      ],
      "metadata": {
        "id": "IoAC0sRli14j",
        "colab": {
          "base_uri": "https://localhost:8080/"
        },
        "outputId": "461838c9-8b6d-4950-8a02-06156ba080bb"
      },
      "execution_count": 42,
      "outputs": [
        {
          "output_type": "stream",
          "name": "stdout",
          "text": [
            "[1] TRUE\n",
            "[1] TRUE\n",
            "[1] TRUE\n",
            "[1] TRUE\n",
            "[1] TRUE\n",
            "[1] TRUE\n",
            "[1] TRUE\n",
            "[1] TRUE\n",
            "[1] TRUE\n"
          ]
        }
      ]
    },
    {
      "cell_type": "markdown",
      "source": [
        "# Common Functions for Checking Conditions"
      ],
      "metadata": {
        "id": "fAyUV1c8kFEp"
      }
    },
    {
      "cell_type": "code",
      "source": [
        "# Define a vector\n",
        "vec <- c(1, 2, 3, 4, 5)\n",
        "\n",
        "# Use all() to check if all elements are greater than 0\n",
        "all(vec > 0)  # Returns TRUE because all elements are greater than 0\n",
        "\n",
        "# Use any() to check if any element is greater than 4\n",
        "any(vec > 4)  # Returns TRUE because at least one element is greater than 4\n",
        "\n",
        "# Define two objects\n",
        "a <- c(1, 2, 3)\n",
        "b <- c(1, 2, 3)\n",
        "c <- c(1, 2, 4)\n",
        "\n",
        "# Use identical() to check if a and b are identical\n",
        "identical(a, b)  # Returns TRUE because a and b are exactly the same\n",
        "\n",
        "# Use identical() to check if a and c are identical\n",
        "identical(a, c)  # Returns FALSE because a and c are not exactly the same\n",
        "\n",
        "# Define a vector with NA values\n",
        "vec <- c(1, 2, NA, 4, 5)\n",
        "\n",
        "# Use is.na() to check which elements in the vector are NA\n",
        "is.na(vec)  # Returns c(FALSE, FALSE, TRUE, FALSE, FALSE)\n",
        "\n",
        "# Use any(is.na()) to check if there is any NA value in the vector\n",
        "any(is.na(vec))  # Returns TRUE because there are NA values in the vector\n",
        "\n",
        "# Define a NULL object\n",
        "obj <- NULL\n",
        "\n",
        "# Use is.null() to check if the object is NULL\n",
        "is.null(obj)  # Returns TRUE because obj is NULL\n",
        "\n",
        "# Define a vector with finite values, infinity, and NaN\n",
        "vec <- c(1, 2, Inf, -Inf, NaN)\n",
        "\n",
        "# Use is.finite() to check which elements in the vector are finite\n",
        "is.finite(vec)  # Returns c(TRUE, TRUE, FALSE, FALSE, FALSE)\n",
        "\n",
        "# Use is.infinite() to check which elements in the vector are infinite\n",
        "is.infinite(vec)  # Returns c(FALSE, FALSE, TRUE, TRUE, FALSE)\n",
        "\n",
        "# Use is.nan() to check which elements in the vector are NaN\n",
        "is.nan(vec)  # Returns c(FALSE, FALSE, FALSE, FALSE, TRUE)"
      ],
      "metadata": {
        "id": "r2caTadzkLrL",
        "colab": {
          "base_uri": "https://localhost:8080/",
          "height": 191
        },
        "outputId": "41b4b485-7269-4b4b-981a-476a43d5f634"
      },
      "execution_count": 43,
      "outputs": [
        {
          "output_type": "display_data",
          "data": {
            "text/html": [
              "TRUE"
            ],
            "text/markdown": "TRUE",
            "text/latex": "TRUE",
            "text/plain": [
              "[1] TRUE"
            ]
          },
          "metadata": {}
        },
        {
          "output_type": "display_data",
          "data": {
            "text/html": [
              "TRUE"
            ],
            "text/markdown": "TRUE",
            "text/latex": "TRUE",
            "text/plain": [
              "[1] TRUE"
            ]
          },
          "metadata": {}
        },
        {
          "output_type": "display_data",
          "data": {
            "text/html": [
              "TRUE"
            ],
            "text/markdown": "TRUE",
            "text/latex": "TRUE",
            "text/plain": [
              "[1] TRUE"
            ]
          },
          "metadata": {}
        },
        {
          "output_type": "display_data",
          "data": {
            "text/html": [
              "FALSE"
            ],
            "text/markdown": "FALSE",
            "text/latex": "FALSE",
            "text/plain": [
              "[1] FALSE"
            ]
          },
          "metadata": {}
        },
        {
          "output_type": "display_data",
          "data": {
            "text/html": [
              "<style>\n",
              ".list-inline {list-style: none; margin:0; padding: 0}\n",
              ".list-inline>li {display: inline-block}\n",
              ".list-inline>li:not(:last-child)::after {content: \"\\00b7\"; padding: 0 .5ex}\n",
              "</style>\n",
              "<ol class=list-inline><li>FALSE</li><li>FALSE</li><li>TRUE</li><li>FALSE</li><li>FALSE</li></ol>\n"
            ],
            "text/markdown": "1. FALSE\n2. FALSE\n3. TRUE\n4. FALSE\n5. FALSE\n\n\n",
            "text/latex": "\\begin{enumerate*}\n\\item FALSE\n\\item FALSE\n\\item TRUE\n\\item FALSE\n\\item FALSE\n\\end{enumerate*}\n",
            "text/plain": [
              "[1] FALSE FALSE  TRUE FALSE FALSE"
            ]
          },
          "metadata": {}
        },
        {
          "output_type": "display_data",
          "data": {
            "text/html": [
              "TRUE"
            ],
            "text/markdown": "TRUE",
            "text/latex": "TRUE",
            "text/plain": [
              "[1] TRUE"
            ]
          },
          "metadata": {}
        },
        {
          "output_type": "display_data",
          "data": {
            "text/html": [
              "TRUE"
            ],
            "text/markdown": "TRUE",
            "text/latex": "TRUE",
            "text/plain": [
              "[1] TRUE"
            ]
          },
          "metadata": {}
        },
        {
          "output_type": "display_data",
          "data": {
            "text/html": [
              "<style>\n",
              ".list-inline {list-style: none; margin:0; padding: 0}\n",
              ".list-inline>li {display: inline-block}\n",
              ".list-inline>li:not(:last-child)::after {content: \"\\00b7\"; padding: 0 .5ex}\n",
              "</style>\n",
              "<ol class=list-inline><li>TRUE</li><li>TRUE</li><li>FALSE</li><li>FALSE</li><li>FALSE</li></ol>\n"
            ],
            "text/markdown": "1. TRUE\n2. TRUE\n3. FALSE\n4. FALSE\n5. FALSE\n\n\n",
            "text/latex": "\\begin{enumerate*}\n\\item TRUE\n\\item TRUE\n\\item FALSE\n\\item FALSE\n\\item FALSE\n\\end{enumerate*}\n",
            "text/plain": [
              "[1]  TRUE  TRUE FALSE FALSE FALSE"
            ]
          },
          "metadata": {}
        },
        {
          "output_type": "display_data",
          "data": {
            "text/html": [
              "<style>\n",
              ".list-inline {list-style: none; margin:0; padding: 0}\n",
              ".list-inline>li {display: inline-block}\n",
              ".list-inline>li:not(:last-child)::after {content: \"\\00b7\"; padding: 0 .5ex}\n",
              "</style>\n",
              "<ol class=list-inline><li>FALSE</li><li>FALSE</li><li>TRUE</li><li>TRUE</li><li>FALSE</li></ol>\n"
            ],
            "text/markdown": "1. FALSE\n2. FALSE\n3. TRUE\n4. TRUE\n5. FALSE\n\n\n",
            "text/latex": "\\begin{enumerate*}\n\\item FALSE\n\\item FALSE\n\\item TRUE\n\\item TRUE\n\\item FALSE\n\\end{enumerate*}\n",
            "text/plain": [
              "[1] FALSE FALSE  TRUE  TRUE FALSE"
            ]
          },
          "metadata": {}
        },
        {
          "output_type": "display_data",
          "data": {
            "text/html": [
              "<style>\n",
              ".list-inline {list-style: none; margin:0; padding: 0}\n",
              ".list-inline>li {display: inline-block}\n",
              ".list-inline>li:not(:last-child)::after {content: \"\\00b7\"; padding: 0 .5ex}\n",
              "</style>\n",
              "<ol class=list-inline><li>FALSE</li><li>FALSE</li><li>FALSE</li><li>FALSE</li><li>TRUE</li></ol>\n"
            ],
            "text/markdown": "1. FALSE\n2. FALSE\n3. FALSE\n4. FALSE\n5. TRUE\n\n\n",
            "text/latex": "\\begin{enumerate*}\n\\item FALSE\n\\item FALSE\n\\item FALSE\n\\item FALSE\n\\item TRUE\n\\end{enumerate*}\n",
            "text/plain": [
              "[1] FALSE FALSE FALSE FALSE  TRUE"
            ]
          },
          "metadata": {}
        }
      ]
    },
    {
      "cell_type": "markdown",
      "source": [
        "# Distribution Functions\n",
        "\n",
        "In R, there are many distribution functions similar to the `dt` function that are used to compute various aspects of probability distributions, such as density, cumulative distribution function (CDF), quantiles, and random samples. These functions follow a consistent naming convention:\n",
        "\n",
        "- `d<dist>`: Computes the density function of the distribution.\n",
        "- `p<dist>`: Computes the cumulative distribution function (CDF) of the distribution.\n",
        "- `q<dist>`: Computes the quantile function (inverse CDF) of the distribution.\n",
        "- `r<dist>`: Generates random samples from the distribution."
      ],
      "metadata": {
        "id": "2L7f0NzopSOh"
      }
    },
    {
      "cell_type": "code",
      "source": [
        "##' @describeIn get_family Student's t distribution family\n",
        "##' @export\n",
        "t_causl_fam <- function (link) {\n",
        "  if (missing(link)) link = \"identity\"\n",
        "\n",
        "  dens <- function (x, mu, phi, par2, log=FALSE) {\n",
        "    out <- dt((x-mu)/sqrt(phi), df=par2, log=log）   # Compute the density of the t-distribution\n",
        "    if (log) out <- out - log(phi)/2\n",
        "    else out <- out/sqrt(phi)\n",
        "\n",
        "    return(out)\n",
        "  }"
      ],
      "metadata": {
        "id": "wRmrmK87pUT5"
      },
      "execution_count": null,
      "outputs": []
    },
    {
      "cell_type": "code",
      "source": [
        "# Here are some common distribution functions and their usage:\n",
        "\n",
        "### Normal Distribution Functions\n",
        "x <- c(-2, -1, 0, 1, 2)\n",
        "\n",
        "# Calculate the density of the normal distribution\n",
        "dnorm(x, mean = 0, sd = 1)\n",
        "# Output: density values\n",
        "\n",
        "# Calculate the cumulative distribution function values of the normal distribution\n",
        "pnorm(x, mean = 0, sd = 1)\n",
        "# Output: cumulative distribution function values\n",
        "\n",
        "# Calculate the quantiles of the normal distribution\n",
        "qnorm(c(0.025, 0.5, 0.975), mean = 0, sd = 1)\n",
        "# Output: quantile values\n",
        "\n",
        "# Generate random samples from the normal distribution\n",
        "rnorm(5, mean = 0, sd = 1)\n",
        "# Output: random samples\n",
        "\n",
        "\n",
        "\n",
        "### Exponential Distribution Functions\n",
        "x <- c(0.5, 1, 1.5, 2)\n",
        "\n",
        "# Calculate the density of the exponential distribution\n",
        "dexp(x, rate = 1)\n",
        "# Output: density values\n",
        "\n",
        "# Calculate the cumulative distribution function values of the exponential distribution\n",
        "pexp(x, rate = 1)\n",
        "# Output: cumulative distribution function values\n",
        "\n",
        "# Calculate the quantiles of the exponential distribution\n",
        "qexp(c(0.025, 0.5, 0.975), rate = 1)\n",
        "# Output: quantile values\n",
        "\n",
        "# Generate random samples from the exponential distribution\n",
        "rexp(5, rate = 1)\n",
        "# Output: random samples\n",
        "\n",
        "\n",
        "\n",
        "### Chi-Square Distribution Functions\n",
        "x <- c(1, 2, 3, 4)\n",
        "\n",
        "# Calculate the density of the chi-square distribution\n",
        "dchisq(x, df = 2)\n",
        "# Output: density values\n",
        "\n",
        "# Calculate the cumulative distribution function values of the chi-square distribution\n",
        "pchisq(x, df = 2)\n",
        "# Output: cumulative distribution function values\n",
        "\n",
        "# Calculate the quantiles of the chi-square distribution\n",
        "qchisq(c(0.025, 0.5, 0.975), df = 2)\n",
        "# Output: quantile values\n",
        "\n",
        "# Generate random samples from the chi-square distribution\n",
        "rchisq(5, df = 2)\n",
        "# Output: random samples\n",
        "\n",
        "\n",
        "\n",
        "### Beta Distribution Functions\n",
        "x <- c(0.1, 0.5, 0.9)\n",
        "\n",
        "# Calculate the density of the beta distribution\n",
        "dbeta(x, shape1 = 2, shape2 = 5)\n",
        "# Output: density values\n",
        "\n",
        "# Calculate the cumulative distribution function values of the beta distribution\n",
        "pbeta(x, shape1 = 2, shape2 = 5)\n",
        "# Output: cumulative distribution function values\n",
        "\n",
        "# Calculate the quantiles of the beta distribution\n",
        "qbeta(c(0.025, 0.5, 0.975), shape1 = 2, shape2 = 5)\n",
        "# Output: quantile values\n",
        "\n",
        "# Generate random samples from the beta distribution\n",
        "rbeta(5, shape1 = 2, shape2 = 5)\n",
        "# Output: random samples"
      ],
      "metadata": {
        "id": "n9nuf8UMqFrC",
        "colab": {
          "base_uri": "https://localhost:8080/",
          "height": 295
        },
        "outputId": "c50acab0-a565-4f18-c242-c7578a5ed84c"
      },
      "execution_count": 45,
      "outputs": [
        {
          "output_type": "display_data",
          "data": {
            "text/html": [
              "<style>\n",
              ".list-inline {list-style: none; margin:0; padding: 0}\n",
              ".list-inline>li {display: inline-block}\n",
              ".list-inline>li:not(:last-child)::after {content: \"\\00b7\"; padding: 0 .5ex}\n",
              "</style>\n",
              "<ol class=list-inline><li>0.0539909665131881</li><li>0.241970724519143</li><li>0.398942280401433</li><li>0.241970724519143</li><li>0.0539909665131881</li></ol>\n"
            ],
            "text/markdown": "1. 0.0539909665131881\n2. 0.241970724519143\n3. 0.398942280401433\n4. 0.241970724519143\n5. 0.0539909665131881\n\n\n",
            "text/latex": "\\begin{enumerate*}\n\\item 0.0539909665131881\n\\item 0.241970724519143\n\\item 0.398942280401433\n\\item 0.241970724519143\n\\item 0.0539909665131881\n\\end{enumerate*}\n",
            "text/plain": [
              "[1] 0.05399097 0.24197072 0.39894228 0.24197072 0.05399097"
            ]
          },
          "metadata": {}
        },
        {
          "output_type": "display_data",
          "data": {
            "text/html": [
              "<style>\n",
              ".list-inline {list-style: none; margin:0; padding: 0}\n",
              ".list-inline>li {display: inline-block}\n",
              ".list-inline>li:not(:last-child)::after {content: \"\\00b7\"; padding: 0 .5ex}\n",
              "</style>\n",
              "<ol class=list-inline><li>0.0227501319481792</li><li>0.158655253931457</li><li>0.5</li><li>0.841344746068543</li><li>0.977249868051821</li></ol>\n"
            ],
            "text/markdown": "1. 0.0227501319481792\n2. 0.158655253931457\n3. 0.5\n4. 0.841344746068543\n5. 0.977249868051821\n\n\n",
            "text/latex": "\\begin{enumerate*}\n\\item 0.0227501319481792\n\\item 0.158655253931457\n\\item 0.5\n\\item 0.841344746068543\n\\item 0.977249868051821\n\\end{enumerate*}\n",
            "text/plain": [
              "[1] 0.02275013 0.15865525 0.50000000 0.84134475 0.97724987"
            ]
          },
          "metadata": {}
        },
        {
          "output_type": "display_data",
          "data": {
            "text/html": [
              "<style>\n",
              ".list-inline {list-style: none; margin:0; padding: 0}\n",
              ".list-inline>li {display: inline-block}\n",
              ".list-inline>li:not(:last-child)::after {content: \"\\00b7\"; padding: 0 .5ex}\n",
              "</style>\n",
              "<ol class=list-inline><li>-1.95996398454005</li><li>0</li><li>1.95996398454005</li></ol>\n"
            ],
            "text/markdown": "1. -1.95996398454005\n2. 0\n3. 1.95996398454005\n\n\n",
            "text/latex": "\\begin{enumerate*}\n\\item -1.95996398454005\n\\item 0\n\\item 1.95996398454005\n\\end{enumerate*}\n",
            "text/plain": [
              "[1] -1.959964  0.000000  1.959964"
            ]
          },
          "metadata": {}
        },
        {
          "output_type": "display_data",
          "data": {
            "text/html": [
              "<style>\n",
              ".list-inline {list-style: none; margin:0; padding: 0}\n",
              ".list-inline>li {display: inline-block}\n",
              ".list-inline>li:not(:last-child)::after {content: \"\\00b7\"; padding: 0 .5ex}\n",
              "</style>\n",
              "<ol class=list-inline><li>-0.873071000417463</li><li>-1.35807905937061</li><li>0.181847192619832</li><li>0.164840867918466</li><li>0.364114687355063</li></ol>\n"
            ],
            "text/markdown": "1. -0.873071000417463\n2. -1.35807905937061\n3. 0.181847192619832\n4. 0.164840867918466\n5. 0.364114687355063\n\n\n",
            "text/latex": "\\begin{enumerate*}\n\\item -0.873071000417463\n\\item -1.35807905937061\n\\item 0.181847192619832\n\\item 0.164840867918466\n\\item 0.364114687355063\n\\end{enumerate*}\n",
            "text/plain": [
              "[1] -0.8730710 -1.3580791  0.1818472  0.1648409  0.3641147"
            ]
          },
          "metadata": {}
        },
        {
          "output_type": "display_data",
          "data": {
            "text/html": [
              "<style>\n",
              ".list-inline {list-style: none; margin:0; padding: 0}\n",
              ".list-inline>li {display: inline-block}\n",
              ".list-inline>li:not(:last-child)::after {content: \"\\00b7\"; padding: 0 .5ex}\n",
              "</style>\n",
              "<ol class=list-inline><li>0.606530659712633</li><li>0.367879441171442</li><li>0.22313016014843</li><li>0.135335283236613</li></ol>\n"
            ],
            "text/markdown": "1. 0.606530659712633\n2. 0.367879441171442\n3. 0.22313016014843\n4. 0.135335283236613\n\n\n",
            "text/latex": "\\begin{enumerate*}\n\\item 0.606530659712633\n\\item 0.367879441171442\n\\item 0.22313016014843\n\\item 0.135335283236613\n\\end{enumerate*}\n",
            "text/plain": [
              "[1] 0.6065307 0.3678794 0.2231302 0.1353353"
            ]
          },
          "metadata": {}
        },
        {
          "output_type": "display_data",
          "data": {
            "text/html": [
              "<style>\n",
              ".list-inline {list-style: none; margin:0; padding: 0}\n",
              ".list-inline>li {display: inline-block}\n",
              ".list-inline>li:not(:last-child)::after {content: \"\\00b7\"; padding: 0 .5ex}\n",
              "</style>\n",
              "<ol class=list-inline><li>0.393469340287367</li><li>0.632120558828558</li><li>0.77686983985157</li><li>0.864664716763387</li></ol>\n"
            ],
            "text/markdown": "1. 0.393469340287367\n2. 0.632120558828558\n3. 0.77686983985157\n4. 0.864664716763387\n\n\n",
            "text/latex": "\\begin{enumerate*}\n\\item 0.393469340287367\n\\item 0.632120558828558\n\\item 0.77686983985157\n\\item 0.864664716763387\n\\end{enumerate*}\n",
            "text/plain": [
              "[1] 0.3934693 0.6321206 0.7768698 0.8646647"
            ]
          },
          "metadata": {}
        },
        {
          "output_type": "display_data",
          "data": {
            "text/html": [
              "<style>\n",
              ".list-inline {list-style: none; margin:0; padding: 0}\n",
              ".list-inline>li {display: inline-block}\n",
              ".list-inline>li:not(:last-child)::after {content: \"\\00b7\"; padding: 0 .5ex}\n",
              "</style>\n",
              "<ol class=list-inline><li>0.0253178079842899</li><li>0.693147180559945</li><li>3.68887945411394</li></ol>\n"
            ],
            "text/markdown": "1. 0.0253178079842899\n2. 0.693147180559945\n3. 3.68887945411394\n\n\n",
            "text/latex": "\\begin{enumerate*}\n\\item 0.0253178079842899\n\\item 0.693147180559945\n\\item 3.68887945411394\n\\end{enumerate*}\n",
            "text/plain": [
              "[1] 0.02531781 0.69314718 3.68887945"
            ]
          },
          "metadata": {}
        },
        {
          "output_type": "display_data",
          "data": {
            "text/html": [
              "<style>\n",
              ".list-inline {list-style: none; margin:0; padding: 0}\n",
              ".list-inline>li {display: inline-block}\n",
              ".list-inline>li:not(:last-child)::after {content: \"\\00b7\"; padding: 0 .5ex}\n",
              "</style>\n",
              "<ol class=list-inline><li>0.419159709475935</li><li>2.26910236845493</li><li>1.66777286856415</li><li>0.331245896730975</li><li>0.547384244855493</li></ol>\n"
            ],
            "text/markdown": "1. 0.419159709475935\n2. 2.26910236845493\n3. 1.66777286856415\n4. 0.331245896730975\n5. 0.547384244855493\n\n\n",
            "text/latex": "\\begin{enumerate*}\n\\item 0.419159709475935\n\\item 2.26910236845493\n\\item 1.66777286856415\n\\item 0.331245896730975\n\\item 0.547384244855493\n\\end{enumerate*}\n",
            "text/plain": [
              "[1] 0.4191597 2.2691024 1.6677729 0.3312459 0.5473842"
            ]
          },
          "metadata": {}
        },
        {
          "output_type": "display_data",
          "data": {
            "text/html": [
              "<style>\n",
              ".list-inline {list-style: none; margin:0; padding: 0}\n",
              ".list-inline>li {display: inline-block}\n",
              ".list-inline>li:not(:last-child)::after {content: \"\\00b7\"; padding: 0 .5ex}\n",
              "</style>\n",
              "<ol class=list-inline><li>0.303265329856317</li><li>0.183939720585721</li><li>0.111565080074215</li><li>0.0676676416183064</li></ol>\n"
            ],
            "text/markdown": "1. 0.303265329856317\n2. 0.183939720585721\n3. 0.111565080074215\n4. 0.0676676416183064\n\n\n",
            "text/latex": "\\begin{enumerate*}\n\\item 0.303265329856317\n\\item 0.183939720585721\n\\item 0.111565080074215\n\\item 0.0676676416183064\n\\end{enumerate*}\n",
            "text/plain": [
              "[1] 0.30326533 0.18393972 0.11156508 0.06766764"
            ]
          },
          "metadata": {}
        },
        {
          "output_type": "display_data",
          "data": {
            "text/html": [
              "<style>\n",
              ".list-inline {list-style: none; margin:0; padding: 0}\n",
              ".list-inline>li {display: inline-block}\n",
              ".list-inline>li:not(:last-child)::after {content: \"\\00b7\"; padding: 0 .5ex}\n",
              "</style>\n",
              "<ol class=list-inline><li>0.393469340287367</li><li>0.632120558828558</li><li>0.77686983985157</li><li>0.864664716763387</li></ol>\n"
            ],
            "text/markdown": "1. 0.393469340287367\n2. 0.632120558828558\n3. 0.77686983985157\n4. 0.864664716763387\n\n\n",
            "text/latex": "\\begin{enumerate*}\n\\item 0.393469340287367\n\\item 0.632120558828558\n\\item 0.77686983985157\n\\item 0.864664716763387\n\\end{enumerate*}\n",
            "text/plain": [
              "[1] 0.3934693 0.6321206 0.7768698 0.8646647"
            ]
          },
          "metadata": {}
        },
        {
          "output_type": "display_data",
          "data": {
            "text/html": [
              "<style>\n",
              ".list-inline {list-style: none; margin:0; padding: 0}\n",
              ".list-inline>li {display: inline-block}\n",
              ".list-inline>li:not(:last-child)::after {content: \"\\00b7\"; padding: 0 .5ex}\n",
              "</style>\n",
              "<ol class=list-inline><li>0.0506356159685798</li><li>1.38629436111989</li><li>7.37775890822787</li></ol>\n"
            ],
            "text/markdown": "1. 0.0506356159685798\n2. 1.38629436111989\n3. 7.37775890822787\n\n\n",
            "text/latex": "\\begin{enumerate*}\n\\item 0.0506356159685798\n\\item 1.38629436111989\n\\item 7.37775890822787\n\\end{enumerate*}\n",
            "text/plain": [
              "[1] 0.05063562 1.38629436 7.37775891"
            ]
          },
          "metadata": {}
        },
        {
          "output_type": "display_data",
          "data": {
            "text/html": [
              "<style>\n",
              ".list-inline {list-style: none; margin:0; padding: 0}\n",
              ".list-inline>li {display: inline-block}\n",
              ".list-inline>li:not(:last-child)::after {content: \"\\00b7\"; padding: 0 .5ex}\n",
              "</style>\n",
              "<ol class=list-inline><li>0.38415828881293</li><li>0.86996770328527</li><li>1.02496142239187</li><li>2.34416388551835</li><li>1.57812657372138</li></ol>\n"
            ],
            "text/markdown": "1. 0.38415828881293\n2. 0.86996770328527\n3. 1.02496142239187\n4. 2.34416388551835\n5. 1.57812657372138\n\n\n",
            "text/latex": "\\begin{enumerate*}\n\\item 0.38415828881293\n\\item 0.86996770328527\n\\item 1.02496142239187\n\\item 2.34416388551835\n\\item 1.57812657372138\n\\end{enumerate*}\n",
            "text/plain": [
              "[1] 0.3841583 0.8699677 1.0249614 2.3441639 1.5781266"
            ]
          },
          "metadata": {}
        },
        {
          "output_type": "display_data",
          "data": {
            "text/html": [
              "<style>\n",
              ".list-inline {list-style: none; margin:0; padding: 0}\n",
              ".list-inline>li {display: inline-block}\n",
              ".list-inline>li:not(:last-child)::after {content: \"\\00b7\"; padding: 0 .5ex}\n",
              "</style>\n",
              "<ol class=list-inline><li>1.9683</li><li>0.9375</li><li>0.0027</li></ol>\n"
            ],
            "text/markdown": "1. 1.9683\n2. 0.9375\n3. 0.0027\n\n\n",
            "text/latex": "\\begin{enumerate*}\n\\item 1.9683\n\\item 0.9375\n\\item 0.0027\n\\end{enumerate*}\n",
            "text/plain": [
              "[1] 1.9683 0.9375 0.0027"
            ]
          },
          "metadata": {}
        },
        {
          "output_type": "display_data",
          "data": {
            "text/html": [
              "<style>\n",
              ".list-inline {list-style: none; margin:0; padding: 0}\n",
              ".list-inline>li {display: inline-block}\n",
              ".list-inline>li:not(:last-child)::after {content: \"\\00b7\"; padding: 0 .5ex}\n",
              "</style>\n",
              "<ol class=list-inline><li>0.114265</li><li>0.890625</li><li>0.999945</li></ol>\n"
            ],
            "text/markdown": "1. 0.114265\n2. 0.890625\n3. 0.999945\n\n\n",
            "text/latex": "\\begin{enumerate*}\n\\item 0.114265\n\\item 0.890625\n\\item 0.999945\n\\end{enumerate*}\n",
            "text/plain": [
              "[1] 0.114265 0.890625 0.999945"
            ]
          },
          "metadata": {}
        },
        {
          "output_type": "display_data",
          "data": {
            "text/html": [
              "<style>\n",
              ".list-inline {list-style: none; margin:0; padding: 0}\n",
              ".list-inline>li {display: inline-block}\n",
              ".list-inline>li:not(:last-child)::after {content: \"\\00b7\"; padding: 0 .5ex}\n",
              "</style>\n",
              "<ol class=list-inline><li>0.0432718682927417</li><li>0.26444998329566</li><li>0.641234578997675</li></ol>\n"
            ],
            "text/markdown": "1. 0.0432718682927417\n2. 0.26444998329566\n3. 0.641234578997675\n\n\n",
            "text/latex": "\\begin{enumerate*}\n\\item 0.0432718682927417\n\\item 0.26444998329566\n\\item 0.641234578997675\n\\end{enumerate*}\n",
            "text/plain": [
              "[1] 0.04327187 0.26444998 0.64123458"
            ]
          },
          "metadata": {}
        },
        {
          "output_type": "display_data",
          "data": {
            "text/html": [
              "<style>\n",
              ".list-inline {list-style: none; margin:0; padding: 0}\n",
              ".list-inline>li {display: inline-block}\n",
              ".list-inline>li:not(:last-child)::after {content: \"\\00b7\"; padding: 0 .5ex}\n",
              "</style>\n",
              "<ol class=list-inline><li>0.181768598398275</li><li>0.47893227442515</li><li>0.234814440650916</li><li>0.199749564243949</li><li>0.263665718708597</li></ol>\n"
            ],
            "text/markdown": "1. 0.181768598398275\n2. 0.47893227442515\n3. 0.234814440650916\n4. 0.199749564243949\n5. 0.263665718708597\n\n\n",
            "text/latex": "\\begin{enumerate*}\n\\item 0.181768598398275\n\\item 0.47893227442515\n\\item 0.234814440650916\n\\item 0.199749564243949\n\\item 0.263665718708597\n\\end{enumerate*}\n",
            "text/plain": [
              "[1] 0.1817686 0.4789323 0.2348144 0.1997496 0.2636657"
            ]
          },
          "metadata": {}
        }
      ]
    },
    {
      "cell_type": "markdown",
      "source": [
        "# `rmvt` function\n",
        "\n",
        "The `rmvt` function in R is used to generate random samples from a multivariate t-distribution. This function is typically used in statistical and simulation problems involving multivariate t-distributions. The `rmvt` function is usually provided by the `mvtnorm` package.\n",
        "\n",
        "The multivariate t-distribution is a type of multivariate probability distribution and is an extension of the multivariate normal distribution. It is particularly suitable for heavy-tailed data or when the data exhibits large variance."
      ],
      "metadata": {
        "id": "5wgFmrgi88SF"
      }
    },
    {
      "cell_type": "code",
      "source": [
        "install.packages(\"mvtnorm\")\n",
        "\n",
        "library(mvtnorm)\n",
        "\n",
        "set.seed(123)\n",
        "\n",
        "# Define parameters\n",
        "n <- 100  # Number of samples\n",
        "df <- 5   # Degrees of freedom\n",
        "mu <- c(0, 0)  # Mean vector\n",
        "sigma <- matrix(c(1, 0.5, 0.5, 1), 2, 2)  # Covariance matrix\n",
        "\n",
        "# Generate multivariate t-distribution random samples\n",
        "samples <- rmvt(n, sigma, df = df, delta = mu)\n",
        "\n",
        "print(samples)"
      ],
      "metadata": {
        "colab": {
          "base_uri": "https://localhost:8080/"
        },
        "id": "OwbnhelE9I_X",
        "outputId": "a1a244f0-642f-490c-da1d-329f96deff34"
      },
      "execution_count": 14,
      "outputs": [
        {
          "output_type": "stream",
          "name": "stderr",
          "text": [
            "Installing package into ‘/usr/local/lib/R/site-library’\n",
            "(as ‘lib’ is unspecified)\n",
            "\n"
          ]
        },
        {
          "output_type": "stream",
          "name": "stdout",
          "text": [
            "              [,1]         [,2]\n",
            "  [1,] -0.37801631 -0.231102798\n",
            "  [2,]  1.16373068  0.360097577\n",
            "  [3,]  0.70168666  2.085032553\n",
            "  [4,]  0.25866846 -2.421481763\n",
            "  [5,] -1.04701379 -0.817728971\n",
            "  [6,]  1.42864800  0.744139929\n",
            "  [7,]  0.29351587  0.148704602\n",
            "  [8,] -0.08481773  1.803359785\n",
            "  [9,] -0.02779522 -1.750840298\n",
            " [10,]  0.74186250 -0.367739738\n",
            " [11,] -1.48769796 -0.665889522\n",
            " [12,] -0.95159533 -0.782126633\n",
            " [13,] -1.10072867 -1.895045768\n",
            " [14,]  0.48487766  0.208463014\n",
            " [15,] -0.78667628  0.930515639\n",
            " [16,]  0.37953288 -0.197523933\n",
            " [17,]  1.53159033  1.514736732\n",
            " [18,]  1.65543392  1.495305072\n",
            " [19,]  0.46416187  0.074730230\n",
            " [20,] -0.50551180 -0.573106630\n",
            " [21,] -0.93842568 -0.492790872\n",
            " [22,] -0.98994793  2.647515421\n",
            " [23,]  0.79268605 -0.698659029\n",
            " [24,] -0.96167503 -1.046713896\n",
            " [25,]  0.84517843  0.140138942\n",
            " [26,]  0.33832970  0.054163913\n",
            " [27,]  0.43885416  1.839073850\n",
            " [28,]  0.14701732  1.185458500\n",
            " [29,] -1.20748255  0.147130506\n",
            " [30,]  0.20642250  0.283000832\n",
            " [31,]  0.36567076 -0.597804789\n",
            " [32,] -0.49757986 -0.909449051\n",
            " [33,] -0.91184133  0.015045789\n",
            " [34,]  0.86543183  0.323970029\n",
            " [35,]  1.69662517  2.648500787\n",
            " [36,] -2.49937616 -5.496924604\n",
            " [37,]  1.69659973 -0.914564840\n",
            " [38,] -1.07045446  2.179262257\n",
            " [39,] -0.76195930 -1.615194496\n",
            " [40,]  0.08544858 -0.053557450\n",
            " [41,]  0.07520835  0.266903936\n",
            " [42,] -0.22073945  0.607656570\n",
            " [43,] -0.15677017  0.324895562\n",
            " [44,]  1.36530057  0.820318191\n",
            " [45,] -0.01484910  0.870368319\n",
            " [46,]  1.40327341  1.002339330\n",
            " [47,]  0.07487100 -0.599031314\n",
            " [48,]  0.88767084 -0.174361130\n",
            " [49,]  1.54947423  1.263620087\n",
            " [50,] -0.35649725 -0.760542396\n",
            " [51,] -0.72708937  0.075398645\n",
            " [52,] -0.29923274 -0.364243615\n",
            " [53,] -0.77880426 -0.242456646\n",
            " [54,] -1.68781417 -2.573530914\n",
            " [55,] -0.10795481  0.658382742\n",
            " [56,] -0.35864317  0.394605590\n",
            " [57,] -3.47997747 -1.042375949\n",
            " [58,]  0.72265693  0.530254332\n",
            " [59,] -0.06712777 -0.622849918\n",
            " [60,] -1.18280244 -1.317155805\n",
            " [61,] -0.12777563 -0.859117488\n",
            " [62,] -0.59865398 -0.414896011\n",
            " [63,]  4.39168052 -0.415413098\n",
            " [64,]  0.39323750  0.216404343\n",
            " [65,] -1.16919271 -0.392172991\n",
            " [66,]  1.18674541  0.635675330\n",
            " [67,] -0.05303653 -0.303186835\n",
            " [68,] -2.02844792  0.673602314\n",
            " [69,] -1.47772715  0.408034820\n",
            " [70,]  1.65850246 -1.015826867\n",
            " [71,]  0.49683631 -0.058339181\n",
            " [72,] -1.52046227 -1.488119188\n",
            " [73,] -2.36630590 -1.302758968\n",
            " [74,] -1.28465901  0.297917249\n",
            " [75,]  1.40887988 -0.581377495\n",
            " [76,]  0.96075168  0.947520004\n",
            " [77,]  0.04499103 -0.667051244\n",
            " [78,] -0.17277352 -0.277385628\n",
            " [79,]  0.68809278 -0.329174284\n",
            " [80,]  0.71597372 -0.092131603\n",
            " [81,]  0.76873347 -0.764268522\n",
            " [82,] -0.29569058  2.191616852\n",
            " [83,] -0.69090966  0.382480750\n",
            " [84,]  1.06157268 -0.655890104\n",
            " [85,]  0.53549481  0.441334036\n",
            " [86,] -0.21840027  0.008368034\n",
            " [87,]  0.42028280  1.661008373\n",
            " [88,] -2.54435420 -3.182599693\n",
            " [89,]  0.09608486  0.254629030\n",
            " [90,]  0.58428267 -0.635864067\n",
            " [91,] -0.80566926  1.087332587\n",
            " [92,] -0.56173824 -0.926502052\n",
            " [93,] -0.27257441 -0.245586039\n",
            " [94,]  1.23762076  0.417564140\n",
            " [95,]  0.65717596 -0.314930439\n",
            " [96,]  0.10563095 -0.221484257\n",
            " [97,] -0.18751006 -1.122543857\n",
            " [98,] -1.32738009  2.816796813\n",
            " [99,]  0.34290060 -1.408530518\n",
            "[100,] -2.10992452 -3.064980352\n"
          ]
        }
      ]
    },
    {
      "cell_type": "markdown",
      "source": [
        "# `list` Function\n",
        "\n",
        "Simple list, named list, nested list"
      ],
      "metadata": {
        "id": "HJH0C60kqz9G"
      }
    },
    {
      "cell_type": "code",
      "source": [
        "# Create a simple list\n",
        "my_list <- list(1, \"a\", TRUE)\n",
        "# The list contains three elements: 1 (numeric), \"a\" (character), and TRUE (logical value)\n",
        "print(my_list)\n",
        "# Output the list's content:\n",
        "# [[1]] indicates the first element of the list, value is 1\n",
        "# [[2]] indicates the second element of the list, value is \"a\"\n",
        "# [[3]] indicates the third element of the list, value is TRUE\n",
        "\n",
        "# Create a named list\n",
        "my_named_list <- list(number = 1, letter = \"a\", flag = TRUE)\n",
        "# The list contains three named elements: number (value is 1), letter (value is \"a\"), and flag (value is TRUE)\n",
        "print(my_named_list)\n",
        "# Output the list's content:\n",
        "# $number indicates the first named element of the list, name is number, value is 1\n",
        "# $letter indicates the second named element of the list, name is letter, value is \"a\"\n",
        "# $flag indicates the third named element of the list, name is flag, value is TRUE\n",
        "\n",
        "# Create a nested list\n",
        "my_nested_list <- list(\n",
        "  numbers = list(1, 2, 3),\n",
        "  letters = list(\"a\", \"b\", \"c\"),\n",
        "  flags = list(TRUE, FALSE, TRUE)\n",
        ")\n",
        "# The list contains three elements: numbers (nested list containing 1, 2, 3), letters (nested list containing \"a\", \"b\", \"c\"), and flags (nested list containing TRUE, FALSE, TRUE)\n",
        "print(my_nested_list)\n",
        "# Output the nested list's content:\n",
        "# $numbers indicates the first named element of the nested list, name is numbers, containing three sub-elements\n",
        "# $letters indicates the second named element of the nested list, name is letters, containing three sub-elements\n",
        "# $flags indicates the third named element of the nested list, name is flags, containing three sub-elements"
      ],
      "metadata": {
        "id": "WcjjQAxaq6VJ",
        "colab": {
          "base_uri": "https://localhost:8080/"
        },
        "outputId": "afe8b3be-96c0-408b-91ee-c4e1b98b5903"
      },
      "execution_count": 46,
      "outputs": [
        {
          "output_type": "stream",
          "name": "stdout",
          "text": [
            "[[1]]\n",
            "[1] 1\n",
            "\n",
            "[[2]]\n",
            "[1] \"a\"\n",
            "\n",
            "[[3]]\n",
            "[1] TRUE\n",
            "\n",
            "$number\n",
            "[1] 1\n",
            "\n",
            "$letter\n",
            "[1] \"a\"\n",
            "\n",
            "$flag\n",
            "[1] TRUE\n",
            "\n",
            "$numbers\n",
            "$numbers[[1]]\n",
            "[1] 1\n",
            "\n",
            "$numbers[[2]]\n",
            "[1] 2\n",
            "\n",
            "$numbers[[3]]\n",
            "[1] 3\n",
            "\n",
            "\n",
            "$letters\n",
            "$letters[[1]]\n",
            "[1] \"a\"\n",
            "\n",
            "$letters[[2]]\n",
            "[1] \"b\"\n",
            "\n",
            "$letters[[3]]\n",
            "[1] \"c\"\n",
            "\n",
            "\n",
            "$flags\n",
            "$flags[[1]]\n",
            "[1] TRUE\n",
            "\n",
            "$flags[[2]]\n",
            "[1] FALSE\n",
            "\n",
            "$flags[[3]]\n",
            "[1] TRUE\n",
            "\n",
            "\n"
          ]
        }
      ]
    },
    {
      "cell_type": "markdown",
      "source": [
        "# `cumsum`\n",
        "Cumulative Sum Function\n",
        "\n",
        "# `rowSums(...)`\n",
        "Calculates the number of TRUE values in each row of a logical matrix"
      ],
      "metadata": {
        "id": "mBTlnrC0gKJe"
      }
    },
    {
      "cell_type": "code",
      "source": [
        "# Create sample data\n",
        "set.seed(123)  # For reproducibility\n",
        "\n",
        "# Create a sample matrix mu with random values\n",
        "mu <- matrix(runif(12), nrow = 3, ncol = 4)\n",
        "print(\"Matrix mu:\")\n",
        "print(mu)\n",
        "\n",
        "# Create a sample matrix p with random values\n",
        "p <- matrix(runif(3 * 4), nrow = 3, ncol = 4)\n",
        "print(\"Matrix p:\")\n",
        "print(p)\n",
        "\n",
        "# Calculate cumulative sum for each row of mu and transpose the result\n",
        "qsum <- t(apply(mu, 1, cumsum))\n",
        "print(\"Cumulative sum (qsum):\")\n",
        "print(qsum)\n",
        "\n",
        "# Calculate the number of TRUE values in each row of the logical matrix p > qsum\n",
        "out <- rowSums(p > qsum) + 1\n",
        "print(\"Result (out):\")\n",
        "print(out)"
      ],
      "metadata": {
        "colab": {
          "base_uri": "https://localhost:8080/"
        },
        "id": "T2MRJhztf-wO",
        "outputId": "5535576b-fbe3-4306-9770-e4b0f1603c68"
      },
      "execution_count": 49,
      "outputs": [
        {
          "output_type": "stream",
          "name": "stdout",
          "text": [
            "[1] \"Matrix mu:\"\n",
            "          [,1]      [,2]      [,3]      [,4]\n",
            "[1,] 0.2875775 0.8830174 0.5281055 0.4566147\n",
            "[2,] 0.7883051 0.9404673 0.8924190 0.9568333\n",
            "[3,] 0.4089769 0.0455565 0.5514350 0.4533342\n",
            "[1] \"Matrix p:\"\n",
            "          [,1]       [,2]      [,3]      [,4]\n",
            "[1,] 0.6775706 0.89982497 0.3279207 0.6928034\n",
            "[2,] 0.5726334 0.24608773 0.9545036 0.6405068\n",
            "[3,] 0.1029247 0.04205953 0.8895393 0.9942698\n",
            "[1] \"Cumulative sum (qsum):\"\n",
            "          [,1]      [,2]     [,3]     [,4]\n",
            "[1,] 0.2875775 1.1705949 1.698700 2.155315\n",
            "[2,] 0.7883051 1.7287724 2.621191 3.578025\n",
            "[3,] 0.4089769 0.4545334 1.005968 1.459303\n",
            "[1] \"Result (out):\"\n",
            "[1] 2 1 1\n"
          ]
        }
      ]
    }
  ]
}