{
 "cells": [
  {
   "cell_type": "markdown",
   "id": "a4ecbc3a",
   "metadata": {},
   "source": [
    "## [Oct 11] Combinatorics I \n",
    "\n",
    "Presenter: Yuchen Ge  \n",
    "Affiliation: University of Oxford  \n",
    "Contact Email: gycdwwd@gmail.com  \n",
    "Website: https://yuchenge-am.github.io"
   ]
  },
  {
   "cell_type": "markdown",
   "id": "f716c726",
   "metadata": {},
   "source": [
    "----"
   ]
  },
  {
   "cell_type": "markdown",
   "id": "ef270289",
   "metadata": {},
   "source": [
    "Content\n",
    "\n",
    "1. [Representing Set](#Representing-Set)\n",
    "----"
   ]
  },
  {
   "cell_type": "markdown",
   "id": "e81d1b65",
   "metadata": {},
   "source": [
    "### 1. Representing Set "
   ]
  },
  {
   "cell_type": "markdown",
   "id": "61795553",
   "metadata": {},
   "source": [
    "Consider the set system  $(X, \\mathcal{F})$, let us try to replace  $X$  by a smaller set  $Y$  which still distinguishes the elements of  $\\mathcal{F}$. "
   ]
  },
  {
   "cell_type": "code",
   "execution_count": null,
   "id": "60960491",
   "metadata": {},
   "outputs": [],
   "source": []
  },
  {
   "cell_type": "markdown",
   "id": "03f5331e",
   "metadata": {},
   "source": [
    "---\n",
    "\n",
    "### Reference\n",
    "\n",
    "1. Combinatorics. Bela Bollobas.\n"
   ]
  },
  {
   "cell_type": "code",
   "execution_count": null,
   "id": "817beb35",
   "metadata": {},
   "outputs": [],
   "source": []
  }
 ],
 "metadata": {
  "kernelspec": {
   "display_name": "Python 3 (ipykernel)",
   "language": "python",
   "name": "python3"
  },
  "language_info": {
   "codemirror_mode": {
    "name": "ipython",
    "version": 3
   },
   "file_extension": ".py",
   "mimetype": "text/x-python",
   "name": "python",
   "nbconvert_exporter": "python",
   "pygments_lexer": "ipython3",
   "version": "3.11.1"
  }
 },
 "nbformat": 4,
 "nbformat_minor": 5
}
