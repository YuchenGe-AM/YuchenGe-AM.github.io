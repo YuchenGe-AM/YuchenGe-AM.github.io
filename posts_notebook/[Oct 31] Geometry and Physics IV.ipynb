{
 "cells": [
  {
   "cell_type": "markdown",
   "id": "a4ecbc3a",
   "metadata": {},
   "source": [
    "## [Oct 31] Geometry and Physics IV\n",
    "\n",
    "Presenter: Yuchen Ge  \n",
    "Affiliation: University of Oxford  \n",
    "Contact Email: gycdwwd@gmail.com  \n",
    "Website: https://yuchenge-am.github.io\n",
    "\n",
    "### All coordinate systems are equally good."
   ]
  },
  {
   "cell_type": "markdown",
   "id": "ef270289",
   "metadata": {},
   "source": [
    "### 1. Subgroups and Subalgebras"
   ]
  },
  {
   "cell_type": "markdown",
   "id": "7c78800d",
   "metadata": {},
   "source": [
    "> $M$ is an **immersed submanifold** of $N$ if $F : M → N$ and $DF$ are both injective.                       \n",
    "> $M$ is an **embeded submanifold** of $N$ if  it is immersed and the induced topology and the manifold topology of $M$ coincides.\n",
    "\n",
    "For example, define $F : \\mathbb{R} \\to S^1 \\times S^1$ by \n",
    "$$ F(x) = \\left( e^{2\\pi ix}, e^{2\\pi \\alpha ix} \\right) $$\n",
    "\n",
    "where $\\alpha$ is an irrational number. Then $\\mathbb{R}$ is an immersed submanifold of $\\mathbb{R}^4$. It's not embeded since $e^{2\\pi i n \\alpha}$ can be made arbitrarily close to $1$. So in the induced topology, any neighbourhood of the identity contains arbitrarily large values of $x$, which is definitely not the topology of $\\mathbb{R}$.\n",
    "\n",
    "> A **Lie subgroup** is a Lie group $H$ which is a subgroup of $G$ and is such that the inclusion $j : H \\rightarrow G$ is a Lie group homomorphism.\n",
    ">\n",
    "> Then life is made easier by the following:\n",
    ">\n",
    "> **Thm.** Let $G$ be a Lie group. A subgroup $H$ is an embedded Lie subgroup if and only if $H$ is closed.\n",
    ">\n",
    "> **Thm II.** A continuous group homomorphism between two Lie groups is smooth and hence a Lie group homomorphism."
   ]
  },
  {
   "cell_type": "markdown",
   "id": "724a286d",
   "metadata": {},
   "source": [
    "Then we talk about the topics of **subgroups versus subalgebras**.\n",
    "\n",
    "> **Thm.** There is a one-to-one correspondence between Lie subalgebras $\\mathfrak{h} \\subseteq \\mathfrak{g}$ and connected Lie subgroups $H \\subseteq G $.\n",
    "\n",
    "**Proof.** \n",
    "\n",
    "\n",
    "\n",
    "\n",
    "\n"
   ]
  },
  {
   "cell_type": "markdown",
   "id": "03f5331e",
   "metadata": {},
   "source": [
    "---\n",
    "\n",
    "### Reference\n",
    "\n",
    "1. Nakahara, Mikio, and Matthias Delbrück. Differentialgeometrie, Topologie Und Physik. Springer Berlin, 2022.\n",
    "\n",
    "( errata: https://www2.physics.ox.ac.uk/sites/default/files/profiles/johnsong/nakahara-errata-new-41775.pdf )\n",
    "\n",
    "2. Liu, Qing. Algebraic Geometry and Arithmetic Curves. Oxford University Press, 2010. "
   ]
  },
  {
   "cell_type": "code",
   "execution_count": null,
   "id": "817beb35",
   "metadata": {},
   "outputs": [],
   "source": []
  },
  {
   "cell_type": "code",
   "execution_count": null,
   "id": "fbed8615",
   "metadata": {},
   "outputs": [],
   "source": []
  },
  {
   "cell_type": "code",
   "execution_count": null,
   "id": "a39f90e8",
   "metadata": {},
   "outputs": [],
   "source": []
  }
 ],
 "metadata": {
  "kernelspec": {
   "display_name": "Python 3 (ipykernel)",
   "language": "python",
   "name": "python3"
  },
  "language_info": {
   "codemirror_mode": {
    "name": "ipython",
    "version": 3
   },
   "file_extension": ".py",
   "mimetype": "text/x-python",
   "name": "python",
   "nbconvert_exporter": "python",
   "pygments_lexer": "ipython3",
   "version": "3.11.1"
  }
 },
 "nbformat": 4,
 "nbformat_minor": 5
}
