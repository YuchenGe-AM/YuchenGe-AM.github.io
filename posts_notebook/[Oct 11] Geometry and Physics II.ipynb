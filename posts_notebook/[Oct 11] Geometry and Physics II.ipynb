{
 "cells": [
  {
   "cell_type": "markdown",
   "id": "a4ecbc3a",
   "metadata": {},
   "source": [
    "## [Oct 11] Geometry and Physics II\n",
    "\n",
    "Presenter: Yuchen Ge  \n",
    "Affiliation: University of Oxford  \n",
    "Contact Email: gycdwwd@gmail.com  \n",
    "Website: https://yuchenge-am.github.io\n",
    "\n",
    "### All coordinate systems are equally good."
   ]
  },
  {
   "cell_type": "markdown",
   "id": "f716c726",
   "metadata": {},
   "source": [
    "----"
   ]
  },
  {
   "cell_type": "markdown",
   "id": "ef270289",
   "metadata": {},
   "source": [
    "Content\n",
    "\n",
    "1. [Tensor Fields](#Tensor-Fields)\n",
    "----"
   ]
  },
  {
   "cell_type": "markdown",
   "id": "e81d1b65",
   "metadata": {},
   "source": [
    "### 1. Tensor Fields <a id='Tensor-Fields'></a>"
   ]
  },
  {
   "cell_type": "markdown",
   "id": "61795553",
   "metadata": {},
   "source": [
    "Let's fix the $M$ is provided with a family of pairs $\\left\\{\\left(U_{i}, \\varphi_{i}\\right)\\right\\}$ where $\\varphi_{i}$ is represented by $m$ functions $\\left\\{x^{1}(p), \\ldots, x^{m}(p)\\right\\}$. The coordinate transformation functions $x^{\\mu}=x^{\\mu}(y)$  are the explicit form of the map  \n",
    "\n",
    "$$\\psi_{j i}=\\varphi_{j} \\circ \\varphi_{i}^{-1}.$$ \n",
    "\n",
    "> An example:  Let $M_{k, n}(\\mathbb{R})$ be the set of $k \\times n$ matrices of $\\operatorname{rank} k$ $(k \\leq n)$. We identify  $G_{k, n}(\\mathbb{R})$  with the coset space  $M_{k, n}(\\mathbb{R}) / \\mathrm{GL}(k, \\mathbb{R})$.\n",
    ">\n",
    "> Here the differentiability has been defined via the following. Assume the minor  $A_{1}$  made of the first $k$  columns has non-vanishing determinant,\n",
    "> $$A=\\left(A_{1}, \\widetilde{A_{1}}\\right).$$\n",
    "> Then take the represtative $A_{1}^{-1} \\cdot A=\\left(I_{k}, A_{1}^{-1} \\cdot \\widetilde{A_{1}}\\right)$ and $A_{1}^{-1} \\cdot \\widetilde{A_{1}}$ gives the coordinates.\n",
    "\n",
    "Consider a curve $c:(a, b) \\rightarrow M$, then the rate of change of the curve is denoted as $\\left.\\frac{\\mathrm{d} f(c(t))}{\\mathrm{d} t}\\right|_{t=0}$. In local coordinates, this becomes \n",
    "\n",
    "$$ \\left.\\frac{\\partial f}{\\partial x^{\\mu}} \\frac{\\mathrm{d} x^{\\mu}(c(t))}{\\mathrm{d} t}\\right|_{t=0}.\n",
    "$$\n",
    "\n",
    "> The **tangent vector $X$** in $T_{p} M $ with the equivalence class of curves\n",
    " $[c(t)]=\\left\\{\\widetilde{c}(t) \\mid \\widetilde{c}(0)=c(0) \\text { and }\\left.\\frac{\\mathrm{d} x^{\\mu}(\\widetilde{c}(t))}{\\mathrm{d} t}\\right|_{t=0}=\\left.\\frac{\\mathrm{d} x^{\\mu}(c(t))}{\\mathrm{d} t}\\right|_{t=0}\\right\\}$.\n",
    ">\n",
    "\n",
    "Therefore, the above computation becomes $$ \\left.\\frac{\\mathrm{d} f(c(t))}{\\mathrm{d} t}\\right|_{t=0}=X^{\\mu}\\left(\\frac{\\partial f}{\\partial x^{\\mu}}\\right) \\equiv X[f]. $$\n",
    "\n",
    "Clearly, a vector $V \\in T_{p} M$ can be written as $V=V^{\\mu} e_{\\mu} = \\partial / \\partial x^{\\mu}$.\n",
    "\n",
    ">  An element $\\omega: T_{p} M \\rightarrow \\mathbb{R}$  of  $T_{p}^{*} M$  is called a **dual vector**, in which $\\langle\\mathrm{d} f, V\\rangle \\equiv V[f]=V^{\\mu} \\frac{\\partial f}{\\partial x^{\\mu}} \\in \\mathbb{R}$.\n",
    "\n",
    "We may define the inner product  $\\langle \\quad, \\quad\\rangle: T_{p}^{*} M \\times T_{p} M \\rightarrow \\mathbb{R}$ as\n",
    "\n",
    "$$\\langle\\omega, V\\rangle=\\omega_{\\mu} V^{\\nu}\\left\\langle\\mathrm{d} x^{\\mu}, \\frac{\\partial}{\\partial x^{\\nu}}\\right\\rangle=\\omega_{\\mu} V^{v} \\delta_{v}^{\\mu}=\\omega_{\\mu} V^{\\mu}$$\n",
    "\n",
    "which is also left invariant in different coordinates."
   ]
  },
  {
   "cell_type": "markdown",
   "id": "db728953",
   "metadata": {},
   "source": [
    "> A **tensor** of type  $(q, r)$  is a multilinear object which maps  $q$  elements of  $T_{p}^{*} M$  and  $r$  elements of  $T_{p} M$  to a real number.  $\\mathcal{T}_{r, p}^{q}(M)$  denotes the set of type  $(q, r)$  tensors at  $p \\in M$.\n",
    "\n",
    "Through the distributivity $\\left(\\oplus_{i \\in I} M_{i}\\right) \\otimes_{A} N \\simeq \\oplus_{i \\in I}\\left(M_{i} \\otimes_{A} N\\right)$, we can see\n",
    "\n",
    ">  An element of  $\\mathcal{T}_{r, p}^{q}(M)$  can be written in terms of the bases as\n",
    ">$$T=T^{\\mu_{1} \\ldots \\mu_{q}}{ }_{\\nu_{1} \\ldots \\nu_{r}} \\frac{\\partial}{\\partial x^{\\mu_{1}}} \\ldots \\frac{\\partial}{\\partial x^{\\mu_{q}}} \\mathrm{~d} x^{\\nu_{1}} \\ldots \\mathrm{d} x^{\\nu_{r}}.$$\n",
    "\n",
    "\n",
    "Let $V_{i}=V_{i}^{\\mu} \\partial / \\partial x^{\\mu}(1 \\leq i \\leq r)$ and $\\omega_{i}=\\omega_{i \\mu} \\mathrm{d} x^{\\mu}(1 \\leq i \\leq q)$. Then $T$ yields\n",
    "\n",
    "$$T\\left(\\omega_{1}, \\ldots, \\omega_{q} ; V_{1}, \\ldots, V_{r}\\right)=T^{\\mu_{1} \\ldots \\mu_{q}}{ }_{\\nu_{1} \\ldots \\nu_{r}} \\omega_{1 \\mu_{1}} \\ldots \\omega_{q \\mu_{q}} V_{1}^{\\nu_{1}} \\ldots V_{r}^{v_{r}}.$$\n",
    "\n",
    "If a vector is assigned smoothly to each point of $M$, it is called a **vector field**\n",
    "over $M$. The set of the vector fields on $M$ is denoted as $\\mathcal{X}(M)$. "
   ]
  },
  {
   "cell_type": "markdown",
   "id": "80ff3e4a",
   "metadata": {},
   "source": [
    "A smooth map $f: M \\rightarrow N$  naturally induces $f_{*}$  and $f^{*}$,\n",
    "\n",
    "$$f_{*}: T_{p} M \\rightarrow T_{f(p)} N \\text{ and } f^{*}: T_{f(p)}^{*} N \\rightarrow T_{p}^{*} M. $$\n",
    "\n",
    "The differential map  $f_{*}$  is naturally extended to tensors of type  $(q, 0) ,  f_{*}: \\mathcal{T}_{0, p}^{q}(M) \\rightarrow \\mathcal{T}_{0, f(p)}^{q}(N)$.\n",
    "\n",
    "In terms of charts  $(U, \\varphi)$  on  $M$  and  $(V , \\psi)$  on $N$,\n",
    "\n",
    "$$\\left(f_{*} V\\right)\\left[g \\circ \\psi^{-1}(y)\\right] \\equiv V\\left[g \\circ f \\circ \\varphi^{-1}(x)\\right],$$\n",
    "\n",
    "taking $g=y^\\alpha$, we have $W^{\\alpha}=V^{\\mu} \\frac{\\partial}{\\partial x^{\\mu}} y^{\\alpha}(x)$. Similarly, we may define $\\left\\langle f^{*} \\omega, V\\right\\rangle=\\left\\langle\\omega, f_{*} V\\right\\rangle$."
   ]
  },
  {
   "cell_type": "markdown",
   "id": "b4cfb647",
   "metadata": {},
   "source": [
    "> Let  $X$  be a vector field in  $M$. An **integral curve**  $x(t)$  of  $X$  is a curve in  $M$, whose tangent vector at  $x(t)$  is  $\\left.X\\right|_{x}$. Given a chart $(U, \\varphi)$, this means\n",
    "$$\\frac{\\mathrm{d} x^{\\mu}}{\\mathrm{d} t}=X^{\\mu}(x(t)).$$\n",
    "\n",
    "Let  $\\sigma\\left(t, x_{0}\\right)$  be an integral curve of $X$  which passes a point  $x_{0}$  at  $t=0$  and denote the coordinate by  $\\sigma^{\\mu}\\left(t, x_{0}\\right)$. The above equation then becomes a **flow**\n",
    "\n",
    "$$\\frac{\\mathrm{d}}{\\mathrm{d} t} \\sigma^{\\mu}\\left(t, x_{0}\\right)=X^{\\mu}\\left(\\sigma\\left(t, x_{0}\\right)\\right),$$\n",
    "\n",
    "with the initial condition $\\sigma^{\\mu}\\left(0, x_{0}\\right)=x_{0}^{\\mu}$. Then we have \n",
    "$$\\begin{aligned}\n",
    "\\sigma^{\\mu}(t, x) & =x^{\\mu}+\\left.t \\frac{\\mathrm{d}}{\\mathrm{d} s} \\sigma^{\\mu}(s, x)\\right|_{s=0}+\\left.\\frac{t^{2}}{2 !}\\left(\\frac{\\mathrm{d}}{\\mathrm{d} s}\\right)^{2} \\sigma^{\\mu}(s, x)\\right|_{s=0}+\\cdots \\\\\n",
    "& =\\left.\\left[1+t \\frac{\\mathrm{d}}{\\mathrm{d} s}+\\frac{t^{2}}{2 !}\\left(\\frac{\\mathrm{d}}{\\mathrm{d} s}\\right)^{2}+\\cdots\\right] \\sigma^{\\mu}(s, x)\\right|_{s=0} \\\\\n",
    "& \\left.\\equiv \\exp \\left(t \\frac{\\mathrm{d}}{\\mathrm{d} s}\\right) \\sigma^{\\mu}(s, x)\\right|_{s=0} .\n",
    "\\end{aligned}$$\n",
    "\n",
    "The last expression can also be written as $\\sigma^{\\mu}(t, x)=\\exp (t X) x^{\\mu}$. Therefore, we may rewrite the ODE as\n",
    "\n",
    "$$\\begin{aligned}\n",
    "& \\frac{\\mathrm{d} \\sigma(t, x)}{\\mathrm{d} t}=X \\exp (t X) x=\\frac{\\mathrm{d}}{\\mathrm{d} t}[\\exp (t X) x] \\\\\n",
    "& \\sigma(0, x)=x=\\exp (0 X) x \n",
    "\\end{aligned}$$"
   ]
  },
  {
   "cell_type": "markdown",
   "id": "1fd883d2",
   "metadata": {},
   "source": [
    "For fixed  $t \\in \\mathbb{R}$, a flow  $\\sigma(t, x)$  is a diffeomorphism from  $M$  to  $M$, denoted by  $\\sigma_{t}: M \\rightarrow M$. It is important to note that  $\\sigma_{t}$  is made into a commutative group satisfying:\n",
    "\n",
    "> 1.   $\\sigma_{t}\\left(\\sigma_{s}(x)\\right)=\\sigma_{t+s}(x)$, that is,  $\\sigma_{t} \\circ \\sigma_{s}=\\sigma_{t+s};$              \n",
    "> 2.  $\\sigma_{0}= \\text{the identity map (= unit element)};$ and              \n",
    "> 3.  $\\sigma_{-t}=\\left(\\sigma_{t}\\right)^{-1}$.   \n",
    "\n",
    "Let  $\\sigma(t, x)$  and  $\\tau(t, x)$  be two flows generated by the vector fields  $X$  and  $Y$,\n",
    "\n",
    "$$\\begin{aligned} \n",
    "& \\frac{\\mathrm{d} \\sigma^{\\mu}(s, x)}{\\mathrm{d} s}=X^{\\mu}(\\sigma(s, x)) \\\\\n",
    "& \\frac{\\mathrm{d} \\tau^{\\mu}(t, x)}{\\mathrm{d} t}=Y^{\\mu}(\\tau(t, x)) .\n",
    "\\end{aligned}$$\n",
    "\n",
    "Let us evaluate the change of the vector field $Y$  along  $\\sigma(s, x)$. To do this, we have to compare the vector  $Y$  at a point $x$  with that at a nearby point  $x^{\\prime}=\\sigma_{\\varepsilon}(x)$,\n",
    "\n",
    "First note that under the action of  $\\sigma_{\\varepsilon}$, with an infinitesimal $\\varepsilon$, we find that\n",
    "\n",
    "$$\\sigma_{\\varepsilon}^{\\mu}(x)=\\sigma^{\\mu}(\\varepsilon, x)=x^{\\mu}+\\varepsilon X^{\\mu}(x).$$\n",
    "\n",
    "The vector field $X$ is called, in this context, the infinitesimal generator of the transformation $\\sigma_t$. For this, we define \n",
    "\n",
    "$$\\mathcal{L}_{X} Y=\\lim _{\\varepsilon \\rightarrow 0} \\frac{1}{\\varepsilon}\\left[\\left.\\left(\\sigma_{-\\varepsilon}\\right)_{*} Y\\right|_{\\sigma_{\\varepsilon}(x)}-\\left.Y\\right|_{x}\\right].$$\n",
    "\n",
    "In coordinates, \n",
    "$$\\begin{aligned}\n",
    "\\left.Y\\right|_{\\sigma_{\\varepsilon}(x)} & =\\left.Y^{\\mu}\\left(x^{\\nu}+\\varepsilon X^{\\nu}(x)\\right) e_{\\mu}\\right|_{x+\\varepsilon X} \\\\\n",
    "& \\left.\\simeq\\left[Y^{\\mu}(x)+\\varepsilon X^{\\nu}(x) \\partial_{\\nu} Y^{\\mu}(x)\\right] e_{\\mu}\\right|_{x+\\varepsilon X}\n",
    "\\end{aligned}.$$\n",
    "\n",
    "After acting $\\left(\\sigma_{-\\varepsilon}\\right)_{*}$, we obtain\n",
    "\n",
    "$$\\begin{aligned}\n",
    "{\\left[Y^{\\mu}(x)\\right.} \\left.+\\varepsilon X^{\\lambda}(x) \\partial_{\\lambda} Y^{\\mu}(x)\\right]\\left.\\partial_{\\mu}\\left[x^{\\nu}-\\varepsilon X^{\\nu}(x)\\right] e_{\\nu}\\right|_{x} = & {\\left.\\left[Y^{\\mu}(x)+\\varepsilon X^{\\lambda}(x) \\partial_{\\lambda} Y^{\\mu}(x)\\right]\\left[\\delta_{\\mu}^{\\nu}-\\varepsilon \\partial_{\\mu} X^{\\nu}(x)\\right] e_{\\nu}\\right|_{x} } \\\\\n",
    "\\quad= & \\left.Y^{\\mu}(x) e_{\\mu}\\right|_{x}+\\left.\\varepsilon\\left[X^{\\mu}(x) \\partial_{\\mu} Y^{\\nu}(x)-Y^{\\mu}(x) \\partial_{\\mu} X^{\\nu}(x)\\right] e_{\\nu}\\right|_{x}+O\\left(\\varepsilon^{2}\\right).\n",
    "\\end{aligned}$$\n",
    "\n",
    "Therefore, we find out that \n",
    "\n",
    "> $\\mathcal{L}_{X} Y=\\left(X^{\\mu} \\partial_{\\mu} Y^{\\nu}-Y^{\\mu} \\partial_{\\mu} X^{\\nu}\\right) e_{\\nu} = X^{\\nu}\\frac{\\partial}{\\partial x^{\\nu}} (Y^{\\mu}\\frac{f}{x^{\\mu}}) - Y^{\\lambda}\\frac{\\partial}{\\partial x^{\\lambda}} (X^{\\mu}\\frac{f}{x^{\\mu}}) = X[Y[f]]-Y[X[f]] = [X, Y] f$."
   ]
  },
  {
   "cell_type": "markdown",
   "id": "f5f02abc",
   "metadata": {},
   "source": [
    "Then we introduce differential forms.\n",
    "\n",
    ">\n",
    ">"
   ]
  },
  {
   "cell_type": "markdown",
   "id": "5bca6c61",
   "metadata": {},
   "source": [
    "### 2. Lie Groups\n",
    "\n",
    "> A Lie group $G$ is a differentiable manifold endowed with a differentiable group structure.\n",
    ">\n",
    "> **Thm.** Every closed subgroup $H$ of a Lie group $G$ is a Lie subgroup. \n",
    ">\n",
    ">  Let  $X$  be a vector field on a Lie group  $G$. $X$  is said to be a **left invariant** vector field if  $\\left.L_{a *} X\\right|_{g}=\\left.X\\right|_{a g}$.\n",
    "\n",
    "It is instructive to work out the left-invariant vector field of $\\operatorname{GL}(n, \\mathbb{R})$. "
   ]
  },
  {
   "cell_type": "code",
   "execution_count": null,
   "id": "f80d2923",
   "metadata": {},
   "outputs": [],
   "source": []
  },
  {
   "cell_type": "code",
   "execution_count": null,
   "id": "28c4e6b9",
   "metadata": {},
   "outputs": [],
   "source": []
  },
  {
   "cell_type": "markdown",
   "id": "87f233fa",
   "metadata": {},
   "source": [
    "### 3. Affine connections\n",
    "\n",
    "rule of parallel transport which satisfies these two conditions is called a Levi-Civita connection, see section 7.4. Our intuitive approach leads us to the formal definition of the affine connection."
   ]
  },
  {
   "cell_type": "code",
   "execution_count": null,
   "id": "da70ac82",
   "metadata": {},
   "outputs": [],
   "source": []
  },
  {
   "cell_type": "markdown",
   "id": "17af9e54",
   "metadata": {},
   "source": [
    "4. Classification Theorem"
   ]
  },
  {
   "cell_type": "code",
   "execution_count": null,
   "id": "1740e7b9",
   "metadata": {},
   "outputs": [],
   "source": []
  },
  {
   "cell_type": "markdown",
   "id": "03f5331e",
   "metadata": {},
   "source": [
    "---\n",
    "\n",
    "### Reference\n",
    "\n",
    "1. Nakahara, Mikio, and Matthias Delbrück. Differentialgeometrie, Topologie Und Physik. Springer Berlin, 2022.\n",
    "\n",
    "( errata: https://www2.physics.ox.ac.uk/sites/default/files/profiles/johnsong/nakahara-errata-new-41775.pdf )\n",
    "\n",
    "2. Liu, Qing. Algebraic Geometry and Arithmetic Curves. Oxford University Press, 2010. "
   ]
  },
  {
   "cell_type": "code",
   "execution_count": null,
   "id": "817beb35",
   "metadata": {},
   "outputs": [],
   "source": []
  }
 ],
 "metadata": {
  "kernelspec": {
   "display_name": "Python 3 (ipykernel)",
   "language": "python",
   "name": "python3"
  },
  "language_info": {
   "codemirror_mode": {
    "name": "ipython",
    "version": 3
   },
   "file_extension": ".py",
   "mimetype": "text/x-python",
   "name": "python",
   "nbconvert_exporter": "python",
   "pygments_lexer": "ipython3",
   "version": "3.11.1"
  }
 },
 "nbformat": 4,
 "nbformat_minor": 5
}
