{
 "cells": [
  {
   "cell_type": "markdown",
   "id": "a4ecbc3a",
   "metadata": {},
   "source": [
    "## [Oct 28] Combinatorics II\n",
    "\n",
    "Presenter: Yuchen Ge  \n",
    "Affiliation: University of Oxford  \n",
    "Contact Email: gycdwwd@gmail.com  \n",
    "Website: https://yuchenge-am.github.io"
   ]
  },
  {
   "cell_type": "markdown",
   "id": "f716c726",
   "metadata": {},
   "source": [
    "### Combinatorics is not a science, it's an attitude.\n",
    "----"
   ]
  },
  {
   "cell_type": "markdown",
   "id": "ef270289",
   "metadata": {},
   "source": [
    "### 1. Coloring"
   ]
  },
  {
   "cell_type": "markdown",
   "id": "d4b35528",
   "metadata": {},
   "source": [
    "> $\\chi(G)$ = the least $k$ for which $G$ is $k$-colourable.\n",
    "\n",
    "We would like to study the **upper and lower bounds** of $\\chi(G)$.\n",
    "\n",
    "First we give some observations.\n",
    "\n",
    "> **Observation I:** $G_1$ and $G_2$ are graphs s.t. $V(G_1) \\cap V(G_2) = W$ and $G_1[W]$ and $G_2[W]$ are complete. Then \n",
    "> \n",
    "> $$\\chi(G_1 \\cup G_2) = \\max\\{\\chi(G_1), \\chi(G_2)\\}.$$\n",
    ">\n",
    "> **Observation II:**  $\\chi(G) \\leq 2$ iff $G$ is bipartite ( consider $\\{v : c(v) = 1\\}$ and $\\{v : c(v) = 2\\}$ ) \n"
   ]
  },
  {
   "cell_type": "code",
   "execution_count": null,
   "id": "d7a87cc0",
   "metadata": {},
   "outputs": [],
   "source": []
  },
  {
   "cell_type": "code",
   "execution_count": null,
   "id": "90f422fd",
   "metadata": {},
   "outputs": [],
   "source": []
  },
  {
   "cell_type": "markdown",
   "id": "73b9dcc0",
   "metadata": {},
   "source": []
  },
  {
   "cell_type": "markdown",
   "id": "03f5331e",
   "metadata": {},
   "source": [
    "---\n",
    "\n",
    "### Reference\n",
    "\n",
    "1. Geoffrey Grimmett. Probability on Graphs."
   ]
  },
  {
   "cell_type": "code",
   "execution_count": null,
   "id": "8a977165",
   "metadata": {},
   "outputs": [],
   "source": []
  }
 ],
 "metadata": {
  "kernelspec": {
   "display_name": "Python 3 (ipykernel)",
   "language": "python",
   "name": "python3"
  },
  "language_info": {
   "codemirror_mode": {
    "name": "ipython",
    "version": 3
   },
   "file_extension": ".py",
   "mimetype": "text/x-python",
   "name": "python",
   "nbconvert_exporter": "python",
   "pygments_lexer": "ipython3",
   "version": "3.11.1"
  }
 },
 "nbformat": 4,
 "nbformat_minor": 5
}
