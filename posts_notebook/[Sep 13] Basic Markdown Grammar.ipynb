{
 "cells": [
  {
   "cell_type": "markdown",
   "id": "92ba45c2",
   "metadata": {},
   "source": [
    "## [Sep 13] Bais Markdown Grammar\n",
    "\n",
    "Presenter: Yuchen Ge  \n",
    "Affiliation: University of Oxford  \n",
    "Contact Email: gycdwwd@gmail.com  \n",
    "Website: https://yuchenge-am.github.io"
   ]
  },
  {
   "cell_type": "markdown",
   "id": "d5baa376",
   "metadata": {},
   "source": [
    "<xmp>\n",
    "## [Sep 13] Bais Markdown Grammar\n",
    "\n",
    "Presenter: Yuchen Ge  \n",
    "Affiliation: University of Oxford  \n",
    "Contact Email: gycdwwd@gmail.com  \n",
    "Website: https://yuchenge-am.github.io\n",
    "</xmp>"
   ]
  },
  {
   "cell_type": "markdown",
   "id": "c0c595f9",
   "metadata": {},
   "source": [
    "----"
   ]
  },
  {
   "cell_type": "markdown",
   "id": "57039666",
   "metadata": {},
   "source": [
    "**index**\n",
    "1. [Some examples](#Some_examples)\n",
    "2. [I'm an inline-style link](https://www.google.com)"
   ]
  },
  {
   "cell_type": "markdown",
   "id": "7b2e1fe6",
   "metadata": {},
   "source": [
    "<xmp>\n",
    "**index**\n",
    "1. [Some examples](#Some_examples)\n",
    "2. [I'm an inline-style link](https://www.google.com)\n",
    "</xmp>"
   ]
  },
  {
   "cell_type": "markdown",
   "id": "79cc8071",
   "metadata": {},
   "source": [
    "---"
   ]
  },
  {
   "cell_type": "markdown",
   "id": "ce767c00",
   "metadata": {},
   "source": [
    "### Some examples <a id='Some_examples'></a>\n",
    "\n",
    "#### Quotes \n",
    "> **Def 1.** Oh this is so `simple` \n",
    "\n",
    "[I'm an inline-style link](https://www.google.com)\n",
    "\n",
    "1. item 1\n",
    "    1. subitem\n",
    "    2. subitem 2\n",
    "    \n",
    "- bullet point 1\n",
    "    - sub bullet point\n",
    "    - sub bullet point 2\n",
    "    \n",
    "    \n",
    "<div>\n",
    "    <img src=\"images/path.jpg\" alt=\"Drawing\" style=\"width: 300px;\">\n",
    "</div>"
   ]
  },
  {
   "cell_type": "markdown",
   "id": "abb8eefd",
   "metadata": {},
   "source": [
    "<xmp>\n",
    "### Some examples <a id='Some_examples'></a>\n",
    "\n",
    "#### Quotes \n",
    "> **Def 1.** Oh this is so `simple` \n",
    "\n",
    "[I'm an inline-style link](https://www.google.com)\n",
    "\n",
    "1. item 1\n",
    "    1. subitem\n",
    "    2. subitem 2\n",
    "    \n",
    "- bullet point 1\n",
    "    - sub bullet point\n",
    "    - sub bullet point 2\n",
    "    \n",
    "<div>\n",
    "    <img src=\"images/path.jpg\" alt=\"Drawing\" style=\"width: 300px;\"/>\n",
    "</div>\n",
    "</xmp>"
   ]
  }
 ],
 "metadata": {
  "kernelspec": {
   "display_name": "Python 3",
   "language": "python",
   "name": "python3"
  },
  "language_info": {
   "codemirror_mode": {
    "name": "ipython",
    "version": 3
   },
   "file_extension": ".py",
   "mimetype": "text/x-python",
   "name": "python",
   "nbconvert_exporter": "python",
   "pygments_lexer": "ipython3",
   "version": "3.8.13"
  }
 },
 "nbformat": 4,
 "nbformat_minor": 5
}
