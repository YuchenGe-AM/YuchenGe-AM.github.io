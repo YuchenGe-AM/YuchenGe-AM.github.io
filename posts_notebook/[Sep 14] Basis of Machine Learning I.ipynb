{
 "cells": [
  {
   "cell_type": "markdown",
   "id": "a0980918",
   "metadata": {},
   "source": [
    "## [Sep 14] Basis of Machine Learning I\n",
    "\n",
    "Presenter: Yuchen Ge  \n",
    "Affiliation: University of Oxford  \n",
    "Contact Email: gycdwwd@gmail.com  \n",
    "Website: https://yuchenge-am.github.io"
   ]
  },
  {
   "cell_type": "markdown",
   "id": "1ed1255a",
   "metadata": {},
   "source": [
    "----"
   ]
  },
  {
   "cell_type": "markdown",
   "id": "e7a069aa",
   "metadata": {},
   "source": [
    "### Basis Definitions\n",
    "\n",
    "Some definitions is needed to understand the whole framework. $\\mathcal{X}$ is the set of all possible examples (instances)， and $\\mathcal{Y}$ is the set of all possible labels (target values). For simplicity, $\\mathcal{Y}=\\{ 0,1 \\}$.\n",
    "\n",
    "> **Def 1.**  A **concept** is a mapping $c: \\mathcal{X} \\rightarrow \\mathcal{Y}$.\n",
    "\n",
    "A concept class is a set of concepts we may wish to learn, which is denoted by $\\mathcal{C}$. All concepts that we consider form a hypothesis set, which is denoted by $\\mathcal{H}$."
   ]
  },
  {
   "cell_type": "markdown",
   "id": "f642983e",
   "metadata": {},
   "source": [
    "When we learn some $c \\in \\mathcal{C}$, we receive a sample $S=\\left(x_{1}, \\ldots, x_{m}\\right)$ drawn i.i.d. according to $\\mathcal{I}$.\n",
    "\n",
    "The ultimate goal is to minimize \n",
    "\n",
    "> **Def 2.** (Generalization error) The generalization error (risk) of  $h\\in\\mathcal{H}$  is defined by\n",
    ">\n",
    ">$$R(h)=\\underset{x \\sim \\mathcal{D}}{\\mathbb{P}}[h(x) \\neq c(x)]=\\underset{x \\sim \\mathcal{D}}{\\mathbb{E}}\\left[1_{h(x) \\neq c(x)}\\right].$$\n",
    "\n",
    "Also, we may have the emprical error \n",
    "\n",
    "$$\\widehat{R}_{S}(h)=\\frac{1}{m} \\sum_{i=1}^{m} 1_{h\\left(x_{i}\\right) \\neq c\\left(x_{i}\\right)}.$$\n",
    "\n",
    "We will see in the following a number of guarantees relating these two quantities with high probability, under some general assumptions.\n",
    "\n",
    "> **Remark:** this might remind you of the definition of a sourcr code $C$ in information theory, which is a mapping from $\\mathcal{X}$, the range of a random variable $X$, to $D^{∗}$, the set of finite-length strings of symbols from a $D$-ary alphabet."
   ]
  },
  {
   "cell_type": "markdown",
   "id": "25f48685",
   "metadata": {},
   "source": [
    "---"
   ]
  },
  {
   "cell_type": "markdown",
   "id": "82405af6",
   "metadata": {},
   "source": [
    "The following introduces the Probably Approximately Correct (PAC) learning framework.\n",
    "\n",
    "> **Def 3.** (PAC-learning)  $\\mathcal{C}$  is PAC-learnable if there exists an algorithm  $\\mathcal{A}$  and a polynomial function poly  $(\\cdot, \\cdot, \\cdot, \\cdot)$  such that for any  $\\epsilon>0$  and  $\\delta>0$, the following holds for any distribution $\\mathcal{D}$, the goal $c\\in \\mathcal{C}$, and the sample size  $m \\geq \\operatorname{poly}(1 / \\epsilon, 1 / \\delta, n , size  (c))$:\n",
    ">\n",
    ">$$\\underset{S \\sim \\mathcal{D}^{m}}{\\mathbb{P}}\\left[R\\left(h_{S}\\right) \\leq \\epsilon\\right] \\geq 1-\\delta.$$\n",
    "\n",
    "When $\\# \\mathcal{H}<\\infty$, we know that \n",
    "\n",
    "> **Thm 1.** (\\# \\mathcal{H}<\\infty, consistent)  When the algorithm  $\\mathcal{A}$ is s.t. for any goal $c\\in\\mathcal{H}$ \n",
    ">\n",
    ">"
   ]
  },
  {
   "cell_type": "markdown",
   "id": "cf7d51a0",
   "metadata": {},
   "source": [
    "---"
   ]
  },
  {
   "cell_type": "markdown",
   "id": "f835b6f1",
   "metadata": {},
   "source": [
    "### General Definitions"
   ]
  },
  {
   "cell_type": "code",
   "execution_count": null,
   "id": "16a88177",
   "metadata": {},
   "outputs": [],
   "source": []
  },
  {
   "cell_type": "code",
   "execution_count": null,
   "id": "2ef8b488",
   "metadata": {},
   "outputs": [],
   "source": []
  },
  {
   "cell_type": "code",
   "execution_count": null,
   "id": "656fdb13",
   "metadata": {},
   "outputs": [],
   "source": []
  }
 ],
 "metadata": {
  "kernelspec": {
   "display_name": "Python 3",
   "language": "python",
   "name": "python3"
  },
  "language_info": {
   "codemirror_mode": {
    "name": "ipython",
    "version": 3
   },
   "file_extension": ".py",
   "mimetype": "text/x-python",
   "name": "python",
   "nbconvert_exporter": "python",
   "pygments_lexer": "ipython3",
   "version": "3.8.13"
  }
 },
 "nbformat": 4,
 "nbformat_minor": 5
}
