{
 "cells": [
  {
   "cell_type": "markdown",
   "id": "a4ecbc3a",
   "metadata": {},
   "source": [
    "## [Sep 19] Categorical Logic and Computation I\n",
    "\n",
    "Presenter: Yuchen Ge  \n",
    "Affiliation: University of Oxford  \n",
    "Contact Email: gycdwwd@gmail.com  \n",
    "Website: https://yuchenge-am.github.io"
   ]
  },
  {
   "cell_type": "markdown",
   "id": "f716c726",
   "metadata": {},
   "source": [
    "----"
   ]
  },
  {
   "cell_type": "markdown",
   "id": "ef270289",
   "metadata": {},
   "source": [
    "Content\n",
    "\n",
    "1. [Draw Commutative Diagram](#Draw-Commutative-Diagram)\n",
    "\n",
    "2. [Cartesian-Closed-Categories](#Cartesian-Closed-Categories)\n",
    "\n",
    "----"
   ]
  },
  {
   "cell_type": "markdown",
   "id": "6446c9c8",
   "metadata": {},
   "source": [
    "### 1. Draw Commutative Diagram <a id='Draw-Commutative-Diagram'></a>\n",
    "\n",
    "Please refer to https://tikzcd.yichuanshen.de in which one first draws a picture and the corresponding **tikzde code** shall be generated.\n",
    "\n",
    "----\n",
    "\n",
    "### 2. Cartesian Closed Categories <a id='Cartesian-Closed-Categories'></a>\n",
    "\n",
    "> **A deductive system** is a graph in which \n",
    "> - to each object  $A$  there is associated an arrow  $1_{A}: A \\rightarrow A$, \n",
    "> - to each pair of arrows  $f: A \\rightarrow B$  and  $g: B \\rightarrow C$ there is associated a compositional arrow  $g f: A \\rightarrow C$.\n",
    "\n",
    "For a deductive system, a logician may think of the **objects** as **formulas** and of the **arrows** as **deductions** or **proofs**. It also can be visualized as \n",
    "\n",
    "$$\\frac{f: A \\rightarrow B \\quad g: B \\rightarrow C}{g f: A \\rightarrow C}.$$\n",
    "\n",
    "> A **category** is a deductive system in which $f 1_{A}=f=1_{B} f, \\quad(h g) f=h(g f)$."
   ]
  },
  {
   "cell_type": "code",
   "execution_count": null,
   "id": "3bf8a475",
   "metadata": {},
   "outputs": [],
   "source": []
  },
  {
   "cell_type": "code",
   "execution_count": null,
   "id": "bb800a06",
   "metadata": {},
   "outputs": [],
   "source": []
  },
  {
   "cell_type": "code",
   "execution_count": null,
   "id": "c48d5106",
   "metadata": {},
   "outputs": [],
   "source": []
  },
  {
   "cell_type": "code",
   "execution_count": null,
   "id": "991c9937",
   "metadata": {},
   "outputs": [],
   "source": []
  },
  {
   "cell_type": "code",
   "execution_count": null,
   "id": "8a96781f",
   "metadata": {},
   "outputs": [],
   "source": []
  },
  {
   "cell_type": "code",
   "execution_count": null,
   "id": "4fd370e8",
   "metadata": {},
   "outputs": [],
   "source": []
  },
  {
   "cell_type": "code",
   "execution_count": null,
   "id": "a3d9f402",
   "metadata": {},
   "outputs": [],
   "source": []
  },
  {
   "cell_type": "code",
   "execution_count": null,
   "id": "0a054394",
   "metadata": {},
   "outputs": [],
   "source": []
  },
  {
   "cell_type": "code",
   "execution_count": null,
   "id": "e625e1e0",
   "metadata": {},
   "outputs": [],
   "source": []
  },
  {
   "cell_type": "code",
   "execution_count": null,
   "id": "60960491",
   "metadata": {},
   "outputs": [],
   "source": []
  },
  {
   "cell_type": "markdown",
   "id": "03f5331e",
   "metadata": {},
   "source": [
    "---\n",
    "\n",
    "### Reference\n",
    "\n",
    "1. Gallager, Robert G. Discrete Stochastic Processes. Kluwer Acad. Publ., 1999. \n"
   ]
  }
 ],
 "metadata": {
  "kernelspec": {
   "display_name": "SageMath 10.0",
   "language": "sage",
   "name": "sagemath-10.0"
  },
  "language_info": {
   "codemirror_mode": {
    "name": "ipython",
    "version": 3
   },
   "file_extension": ".py",
   "mimetype": "text/x-python",
   "name": "python",
   "nbconvert_exporter": "python",
   "pygments_lexer": "ipython3",
   "version": "3.11.1"
  }
 },
 "nbformat": 4,
 "nbformat_minor": 5
}
