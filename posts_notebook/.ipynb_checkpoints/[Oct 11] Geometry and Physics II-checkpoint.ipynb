{
 "cells": [
  {
   "cell_type": "markdown",
   "id": "a4ecbc3a",
   "metadata": {},
   "source": [
    "## [Oct 11] Geometry and Physics II\n",
    "\n",
    "Presenter: Yuchen Ge  \n",
    "Affiliation: University of Oxford  \n",
    "Contact Email: gycdwwd@gmail.com  \n",
    "Website: https://yuchenge-am.github.io\n",
    "\n",
    "### All coordinate systems are equally good."
   ]
  },
  {
   "cell_type": "markdown",
   "id": "f716c726",
   "metadata": {},
   "source": [
    "----"
   ]
  },
  {
   "cell_type": "markdown",
   "id": "ef270289",
   "metadata": {},
   "source": [
    "Content\n",
    "\n",
    "1. [Tensors](#Tensors)\n",
    "----"
   ]
  },
  {
   "cell_type": "markdown",
   "id": "e81d1b65",
   "metadata": {},
   "source": [
    "### 1. Tensors(Tensors)"
   ]
  },
  {
   "cell_type": "markdown",
   "id": "61795553",
   "metadata": {},
   "source": [
    "Let's fix the $M$ is provided with a family of pairs $\\left\\{\\left(U_{i}, \\varphi_{i}\\right)\\right\\}$ where $\\varphi_{i}$ is represented by $m$ functions $\\left\\{x^{1}(p), \\ldots, x^{m}(p)\\right\\}$. The coordinate transformation functions $x^{\\mu}=x^{\\mu}(y)$  are the explicit form of the map  \n",
    "\n",
    "$$\\psi_{j i}=\\varphi_{j} \\circ \\varphi_{i}^{-1}.$$ \n",
    "\n",
    "> An example:  Let $M_{k, n}(\\mathbb{R})$ be the set of $k \\times n$ matrices of $\\operatorname{rank} k$ $(k \\leq n)$. . We identify  $G_{k, n}(\\mathbb{R})$  with the coset space  $M_{k, n}(\\mathbb{R}) / \\mathrm{GL}(k, \\mathbb{R})$.\n",
    ">\n",
    ">\n",
    ">\n",
    "Thus, the differentiability has been defined"
   ]
  },
  {
   "cell_type": "code",
   "execution_count": null,
   "id": "60960491",
   "metadata": {},
   "outputs": [],
   "source": []
  },
  {
   "cell_type": "markdown",
   "id": "03f5331e",
   "metadata": {},
   "source": [
    "---\n",
    "\n",
    "### Reference\n",
    "\n",
    "1. Nakahara, Mikio, and Matthias Delbrück. Differentialgeometrie, Topologie Und Physik. Springer Berlin, 2022.\n",
    "\n",
    "( errata: https://www2.physics.ox.ac.uk/sites/default/files/profiles/johnsong/nakahara-errata-new-41775.pdf )\n",
    "\n",
    "2. Liu, Qing. Algebraic Geometry and Arithmetic Curves. Oxford University Press, 2010. "
   ]
  },
  {
   "cell_type": "code",
   "execution_count": null,
   "id": "817beb35",
   "metadata": {},
   "outputs": [],
   "source": []
  }
 ],
 "metadata": {
  "kernelspec": {
   "display_name": "Python 3 (ipykernel)",
   "language": "python",
   "name": "python3"
  },
  "language_info": {
   "codemirror_mode": {
    "name": "ipython",
    "version": 3
   },
   "file_extension": ".py",
   "mimetype": "text/x-python",
   "name": "python",
   "nbconvert_exporter": "python",
   "pygments_lexer": "ipython3",
   "version": "3.11.1"
  }
 },
 "nbformat": 4,
 "nbformat_minor": 5
}
