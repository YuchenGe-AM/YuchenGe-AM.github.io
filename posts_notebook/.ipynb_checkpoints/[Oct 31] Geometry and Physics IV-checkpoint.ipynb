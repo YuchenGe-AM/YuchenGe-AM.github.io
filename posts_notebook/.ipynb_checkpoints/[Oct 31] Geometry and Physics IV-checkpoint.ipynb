{
 "cells": [
  {
   "cell_type": "markdown",
   "id": "a4ecbc3a",
   "metadata": {},
   "source": [
    "## [Oct 31] Geometry and Physics IV\n",
    "\n",
    "Presenter: Yuchen Ge  \n",
    "Affiliation: University of Oxford  \n",
    "Contact Email: gycdwwd@gmail.com  \n",
    "Website: https://yuchenge-am.github.io\n",
    "\n",
    "### All coordinate systems are equally good."
   ]
  },
  {
   "cell_type": "markdown",
   "id": "ef270289",
   "metadata": {},
   "source": [
    "### 1. Subgroups and Subalgebras"
   ]
  },
  {
   "cell_type": "markdown",
   "id": "7c78800d",
   "metadata": {},
   "source": [
    "> $M$ is an **immersed submanifold** of $N$ if $F : M → N$ and $DF$ are both injective.                       \n",
    "> $M$ is an **embeded submanifold** of $N$ if  it is immersed and the induced topology and the manifold topology of $M$ coincides.\n",
    "\n",
    "For example, define $F : \\mathbb{R} \\to S^1 \\times S^1$ by \n",
    "$$ F(x) = \\left( e^{2\\pi ix}, e^{2\\pi \\alpha ix} \\right) $$\n",
    "\n",
    "where $\\alpha$ is an irrational number. Then $\\mathbb{R}$ is an immersed submanifold of $\\mathbb{R}^4$. It's not embeded since $e^{2\\pi i n \\alpha}$ can be made arbitrarily close to $1$. So in the induced topology, any neighbourhood of the identity contains arbitrarily large values of $x$, which is definitely not the topology of $\\mathbb{R}$.\n",
    "\n",
    "However, an **embedded** submanifold of dimension $m$  can be described in a coordinate neighbourhood as $F^{-1}(c)$  where $F$ is a smooth function $U \\subseteq \\mathbb{R}^n \\rightarrow \\mathbb{R}^{n-m}$ with surjective derivative as in Theorem 2.1. So $O(n)$ for example is an embedded submanifold of $\\mathbb{R}^{n^2}$.\n",
    "\n",
    "\n",
    "> A **Lie subgroup** is a Lie group $H$ which is a subgroup of $G$ and is such that the inclusion $j : H \\rightarrow G$ is a Lie group homomorphism.\n",
    ">\n",
    "> Then life is made easier by the following:\n",
    ">\n",
    "> **Thm I.** Let $G$ be a Lie group. A subgroup $H$ is an embedded Lie subgroup if and only if $H$ is closed.\n",
    ">\n",
    "> **Thm II.** A continuous group homomorphism between two Lie groups is smooth and hence a Lie group homomorphism.\n",
    "\n",
    "**Proof.** Consider $\\Gamma = \\{(g, \\varphi(g)) \\in G \\times H\\}$ which is an embeded Lie subgroup by Thm I. Then the conclusion follows by observing that $\\pi_G$ is a Lie group isomorphism which can be seen directly from the following diagram:\n",
    "\n",
    "<code>\\begin{tikzcd}\n",
    "T_g G \\arrow[d, \"\\exp\"] & T_e G \\arrow[r, \"D\\phi_e\"] \\arrow[d, \"\\exp\"] \\arrow[l, \"(L_g)_*\"'] & T_e H \\arrow[d, \"\\exp\"] \\arrow[r, \"(L_g)_*\"] & T_{g}H \\arrow[d, \"\\exp\"] \\\\\n",
    "G & G \\arrow[r, \"\\phi\"] \\arrow[l, \"L_g\"'] & H \\arrow[r, \"L_g\"] & H                       \n",
    "\\end{tikzcd}\n",
    "</code>"
   ]
  },
  {
   "cell_type": "markdown",
   "id": "76761672",
   "metadata": {},
   "source": []
  },
  {
   "cell_type": "markdown",
   "id": "00cfa924",
   "metadata": {},
   "source": [
    "Then we talk about the topics of **subgroups versus subalgebras**.\n",
    "\n",
    "> **Thm.** There is a one-to-one correspondence between Lie subalgebras $\\mathfrak{h} \\subseteq \\mathfrak{g}$ and connected Lie subgroups $H \\subseteq G $.\n",
    "\n",
    "**Proof.** \n",
    "\n",
    "\n",
    "\n",
    "\n",
    "\n"
   ]
  },
  {
   "cell_type": "code",
   "execution_count": null,
   "id": "bf1ad467",
   "metadata": {},
   "outputs": [],
   "source": []
  },
  {
   "cell_type": "code",
   "execution_count": null,
   "id": "2c9cf84b",
   "metadata": {},
   "outputs": [],
   "source": []
  },
  {
   "cell_type": "markdown",
   "id": "2ceffbea",
   "metadata": {},
   "source": [
    "### 2. Covering Maps and Correspondence\n",
    "\n",
    "> E.g. $O(n)$ and $SO(n)$ has the same Lie algebra, but one is disconnected while one is conected.             \n",
    "> E.g. $\\mathbb{R}$ and $S^1$ has the same Lie algebra, but one is compact while one is not.\n",
    "\n",
    "> **Thm.** Every connected manifold $M$ has a special connected covering called the **universal covering** $ \\tilde{M}$. The universal covering is characterized by the **simply connected** property.\n",
    "\n",
    "**Proof.** It is defined, given a base point $z \\in M$, as a set of equivalence classes of continuous maps \\( \\gamma : [0,1] \\rightarrow M \\) with \\( \\gamma(0) = z \\). Two such maps \\( \\gamma, \\gamma' \\) are equivalent if they have the same endpoint \\( \\gamma(1) = \\gamma'(1) \\) and there is a continuous family \\( \\gamma_t \\), for \\( t \\in [0,1] \\) fixing the end points and such that \\( \\gamma_0 = \\gamma, \\gamma_1 = \\gamma' \\). The map \\( [\\gamma] \\mapsto \\gamma(1) \\) is a covering map \\( \\pi \\) of manifolds. It is universal in the sense that if \\( p : N \\rightarrow M \\) is any other connected covering then there is a covering map \\( q : \\tilde{M} \\rightarrow N \\) with \\( \\pi = p \\circ q \\). The map \\( q \\) is unique so long as we choose a point \\( x \\in \\tilde{M} \\) and \\( y \\in N \\) mapping to \\( z \\in M \\) and require \\( q(x) = y \\).\n",
    "\n",
    "When \\( G \\) is a Lie group and we take \\( z = e \\), then multiplication of paths \\( \\gamma(t)\\gamma'(t) \\) defines a product on \\( \\tilde{G} \\) and with the identity as the equivalence class of the trivial path \\( \\gamma(t) = e \\), we can define inversion by \\( \\gamma(t)^{-1} \\). Thus \\( \\tilde{G} \\) is a Lie group and the projection \\( \\pi : \\tilde{G} \\rightarrow G \\) a Lie group homomorphism. Moreover given a covering homomorphism \\( p : H \\rightarrow G \\), if we choose \\( x,y,z \\) as previously to be the identity elements in each group, then the unique \\( q : \\tilde{G} \\rightarrow H \\) is a Lie group homomorphism. Thus each covering group is obtained from \\( \\tilde{G} \\) as the quotient group by a subgroup of \\( \\text{Ker} \\pi \\).\n",
    "\n",
    ">\n"
   ]
  },
  {
   "cell_type": "code",
   "execution_count": null,
   "id": "86961823",
   "metadata": {},
   "outputs": [],
   "source": []
  },
  {
   "cell_type": "markdown",
   "id": "03f5331e",
   "metadata": {},
   "source": [
    "---\n",
    "\n",
    "### Reference\n",
    "\n",
    "1. Nakahara, Mikio, and Matthias Delbrück. Differentialgeometrie, Topologie Und Physik. Springer Berlin, 2022.\n",
    "\n",
    "( errata: https://www2.physics.ox.ac.uk/sites/default/files/profiles/johnsong/nakahara-errata-new-41775.pdf )\n",
    "\n",
    "2. Liu, Qing. Algebraic Geometry and Arithmetic Curves. Oxford University Press, 2010. "
   ]
  },
  {
   "cell_type": "code",
   "execution_count": null,
   "id": "817beb35",
   "metadata": {},
   "outputs": [],
   "source": []
  },
  {
   "cell_type": "code",
   "execution_count": null,
   "id": "fbed8615",
   "metadata": {},
   "outputs": [],
   "source": []
  },
  {
   "cell_type": "code",
   "execution_count": null,
   "id": "a39f90e8",
   "metadata": {},
   "outputs": [],
   "source": []
  }
 ],
 "metadata": {
  "kernelspec": {
   "display_name": "Python 3 (ipykernel)",
   "language": "python",
   "name": "python3"
  },
  "language_info": {
   "codemirror_mode": {
    "name": "ipython",
    "version": 3
   },
   "file_extension": ".py",
   "mimetype": "text/x-python",
   "name": "python",
   "nbconvert_exporter": "python",
   "pygments_lexer": "ipython3",
   "version": "3.11.1"
  }
 },
 "nbformat": 4,
 "nbformat_minor": 5
}
