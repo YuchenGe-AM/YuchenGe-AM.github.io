{
 "cells": [
  {
   "cell_type": "markdown",
   "id": "a4ecbc3a",
   "metadata": {},
   "source": [
    "## [Sep 21] Geometry and Physics I\n",
    "\n",
    "Presenter: Yuchen Ge  \n",
    "Affiliation: University of Oxford  \n",
    "Contact Email: gycdwwd@gmail.com  \n",
    "Website: https://yuchenge-am.github.io"
   ]
  },
  {
   "cell_type": "markdown",
   "id": "f716c726",
   "metadata": {},
   "source": [
    "----"
   ]
  },
  {
   "cell_type": "markdown",
   "id": "ef270289",
   "metadata": {},
   "source": [
    "### 1. Lagrangian and Hamiltonian Formalisms\n",
    "\n",
    "Recall some elementary principles of **Lagrangian and Hamiltonian formalisms**.\n",
    " \n",
    "> **Equation of motion**: $$m \\frac{\\mathrm{d}^{2} \\boldsymbol{x}(t)}{\\mathrm{d} t^{2}}=\\boldsymbol{F}(\\boldsymbol{x}(t)).$$\n",
    "\n",
    "\n",
    "Here if force $\\boldsymbol{F}(\\boldsymbol{x}) =   -\\nabla V(\\boldsymbol{x})$ is a **conserved force** where  $V(\\boldsymbol{x})$ is called the **potential energy**, the combination $E=\\frac{m}{2}\\left(\\frac{\\mathrm{d} \\boldsymbol{x}}{\\mathrm{d} t}\\right)^{2}+V(\\boldsymbol{x})$ is conserved, i.e. \n",
    "\n",
    "$$\\frac{\\mathrm{d} E}{\\mathrm{~d} t}=\\sum_{k}\\left[m \\frac{\\mathrm{d} x_{k}}{\\mathrm{~d} t} \\frac{\\mathrm{d}^{2} x_{k}}{\\mathrm{~d} t^{2}}+\\frac{\\partial V}{\\partial x_{k}} \\frac{\\mathrm{d} x_{k}}{\\mathrm{~d} t}\\right]=\\sum_{k}\\left(m \\frac{\\mathrm{d}^{2} x_{k}}{\\mathrm{~d} t^{2}}+\\frac{\\partial V}{\\partial x_{k}}\\right) \\frac{\\mathrm{d} x_{k}}{\\mathrm{~d} t}=0.$$\n",
    "\n",
    "Quantum mechanics cannot be derived directly from Newtonian mechanics. The Lagrangian formalism is now introduced to overcome these difficulties.\n",
    "\n",
    "Let us consider a system whose **state** is described by $N$ parameters $\\{q_i\\}$, then consider\n",
    "\n",
    "$$ S[q(t), \\dot{q}(t)]=\\int_{t_{i}}^{t_{f}} L(q, \\dot{q}) \\mathrm{d} t.\n",
    "$$\n",
    "\n",
    "Suppose  $q(t)$  is a path realizing an extremum of $S$. Consider a variation  $\\delta q(t)$  of the trajectory such that  $\\delta q\\left(t_{i}\\right)=\\delta q\\left(t_{f}\\right)=0$. Then\n",
    "\n",
    "$$\\begin{aligned}\n",
    "\\delta S & =\\int_{t_{i}}^{t_{f}} L(q+\\delta q, \\dot{q}+\\delta \\dot{q}) \\mathrm{d} t-\\int_{t_{i}}^{t_{f}} L(q, \\dot{q}) \\mathrm{d} t \\\\\n",
    "& =\\int_{t_{i}}^{t_{f}}\\left(\\frac{\\partial L}{\\partial q}-\\frac{\\mathrm{d}}{\\mathrm{d} t} \\frac{\\partial L}{\\partial \\dot{q}}\\right) \\delta q \\mathrm{~d} t\n",
    "\\end{aligned}$$\n",
    "\n",
    "Since this is true for any $\\delta q$, we have the **Euler–Lagrange equation** for $N$ parameters:\n",
    "\n",
    "$$\\frac{\\partial L}{\\partial q_k} = \\frac{\\mathrm{d}}{\\mathrm{d} t} \\frac{\\partial L}{\\partial \\dot{q}_k} = \\dot{p_{k}}$$"
   ]
  },
  {
   "cell_type": "markdown",
   "id": "073b0fff",
   "metadata": {},
   "source": [
    "where we set that  \n",
    "> The **generalized momentum** is $$p_{k}=\\frac{\\partial L}{\\partial \\dot{q}_{k}}.$$\n",
    "\n",
    "Note that $L=\\frac{1}{2} m \\dot{\\boldsymbol{q}}^{2}-V(\\boldsymbol{q})$ would take this formula back to the **Equation of motion**. An interesting observation is that **Newtonian mechanics is realized as an extremum of the action but the action itself is defined for any trajectory.**\n",
    "\n",
    "Suppose a Lagrangian $L$ is given. Then we define the **corresponding Hamiltonian** via Legendre transformation as\n",
    "\n",
    "> $$ H(q, p) \\equiv \\sum_{k} p_{k} \\dot{q}_{k}-L(q, \\dot{q}). $$\n",
    "\n",
    "Here the Legendre transoformation is naively understood choosing appropriate $\\omega$ such that \n",
    "\n",
    "$$ dg = d(f-wy) = f_x dx + f_y dy - w dy - ydw = f_x dx - ydw.$$\n",
    "\n",
    "> The space with coordinates $( q_k , p_k )$ is called the **phase space**.\n",
    "\n",
    "Similarly, we have \n",
    "\n",
    "$$\\begin{aligned}\n",
    "\\delta H & =\\sum_{k}\\left[\\delta p_{k} \\dot{q}_{k}+p_{k} \\delta \\dot{q}_{k}-\\frac{\\partial L}{\\partial q_{k}} \\delta q_{k}-\\frac{\\partial L}{\\partial \\dot{q}_{k}} \\delta \\dot{q}_{k}\\right] \\\\\n",
    "& =\\sum_{k}\\left[\\delta p_{k} \\dot{q}_{k}-\\frac{\\partial L}{\\partial q_{k}} \\delta q_{k}\\right] .\n",
    "\\end{aligned}.$$\n",
    "\n",
    "Then we have **the Hamilton equations of motion**\n",
    "\n",
    "$$ \\frac{\\partial H}{\\partial p_{k}}=\\dot{q}_{k}, \\quad \\frac{\\partial H}{\\partial q_{k}}=-\\frac{\\partial L}{\\partial q_{k}} = - \\dot{p_k}.$$"
   ]
  },
  {
   "cell_type": "markdown",
   "id": "da7418d9",
   "metadata": {},
   "source": [
    "> Define the **Poisson bracket** $$[A, B]=\\sum_{k}\\left(\\frac{\\partial A}{\\partial q_{k}} \\frac{\\partial B}{\\partial p_{k}}-\\frac{\\partial A}{\\partial p_{k}} \\frac{\\partial B}{\\partial q_{k}}\\right)$$ \n",
    "> and we have\n",
    ">\n",
    "> $$ \\frac{\\mathrm{d} A}{\\mathrm{~d} t} =\\sum_{k}\\left(\\frac{\\mathrm{d} A}{\\mathrm{~d} q_{k}} \\frac{\\mathrm{d} q_{k}}{\\mathrm{~d} t}+\\frac{\\mathrm{d} A}{\\mathrm{~d} p_{k}} \\frac{\\mathrm{d} p_{k}}{\\mathrm{~d} t}\\right) \n",
    "= \\sum_{k}\\left(\\frac{\\mathrm{d} A}{\\mathrm{~d} q_{k}} \\frac{\\partial H}{\\partial p_{k}}-\\frac{\\mathrm{d} A}{\\mathrm{~d} p_{k}} \\frac{\\partial H}{\\partial q_{k}}\\right) = [A, H] .$$\n",
    "\n",
    "\n",
    "As a special case, the Hamilton equations of motion can be written as\n",
    "\n",
    "$$\\frac{\\mathrm{d} p_{k}}{\\mathrm{~d} t}=\\left[p_{k}, H\\right] \\quad \\frac{\\mathrm{d} q_{k}}{\\mathrm{~d} t}=\\left[q_{k}, H\\right].$$ \n",
    "\n",
    "Finally, we give the famous \n",
    "\n",
    "> ( **Noether's theorem** ) \n",
    ">\n",
    "> Let  $H\\left(q_{k}, p_{k}\\right)$  be a Hamiltonian which is invariant under an infinitesimal coordinate transformation  $q_{k} \\rightarrow q_{k}^{\\prime}=q_{k}+   \\varepsilon f_{k}(q)$. Then\n",
    ">\n",
    ">$$Q=\\sum_{k} p_{k} f_{k}(q)$$\n",
    "is conserved.\n",
    "\n",
    "**Proof.** Observe that \n",
    "\n",
    "$$\\begin{aligned}\n",
    "0 & = \\sum_{k} \\bigg(H(q_{k}^{\\prime}, p_{k}^{\\prime})-H(q_{k}, p_{k}) \\bigg)=\\sum_{k}\\frac{\\partial H}{\\partial q_{k}} \\varepsilon f_k(q)-\\sum_{i,j}\\frac{\\partial H}{\\partial p_{j}} \\varepsilon p_{i} \\frac{\\partial f_{i}}{\\partial q_{j}} \\\\\n",
    "& =\\varepsilon\\left[\\sum_{k}\\frac{\\partial H}{\\partial q_{k}} f_{k}(q)-\\sum_{i,j}\\frac{\\partial H}{\\partial p_{j}} p_{i} \\frac{\\partial f_{i}}{\\partial q_{j}}\\right]  =\\varepsilon[H, Q]=\\varepsilon \\frac{\\mathrm{d} Q}{\\mathrm{~d} t}, \\end{aligned}$$\n",
    "\n",
    "where the first equality is easily deduced from \n",
    "\n",
    "$$\\frac{\\partial q_{i}^{\\prime}}{\\partial q_{j}} \\simeq \\delta_{i j}+\\varepsilon \\frac{\\partial f_{i}(q)}{\\partial q_{j}} \\quad \\text{and} \\quad \\sum_{j} p_{j} \\frac{\\partial q_{j}}{\\partial q_{i}^{\\prime}} \\simeq \\sum_{j} p_{j}(\\delta_{j i}-\\varepsilon \\frac{\\partial f_{j}(q)}{\\partial q_{i}}) = p_{i}-\\varepsilon \\sum_{j} p_{j} \\frac{\\partial f_{j}}{\\partial q_{i}}.$$\n",
    "\n",
    "**Remark.** Here $$\\frac{\\partial q_{j}}{\\partial q_{i}^{\\prime}} = \\frac{\\partial \\dot{q_{j}}}{\\partial \\dot{q_{i}^{\\prime}}}$$\n",
    "is a direct consequence of the **L'Hospital's Rule**."
   ]
  },
  {
   "cell_type": "markdown",
   "id": "1483a22b",
   "metadata": {},
   "source": [
    "This theorem shows that **to find a conserved quantity is equivalent to finding a transformation which leaves the Hamiltonian invariant.** Also, if it exists, the conserved quantity $Q$ is the **‘generator’** of the transformation under discussion:\n",
    "\n",
    "$$\\left[q_{i}, Q\\right]=\\sum_{k}\\left[\\frac{\\partial q_{i}}{\\partial q_{k}} \\frac{\\partial Q}{\\partial p_{k}}-\\frac{\\partial q_{i}}{\\partial p_{k}} \\frac{\\partial Q}{\\partial q_{k}}\\right]=\\sum_{k} \\delta_{i k} f_{k}(q)=f_{i}(q)$$\n",
    "\n",
    "which shows that  $\\delta q_{i}=\\varepsilon f_{i}(q)=\\varepsilon\\left[q_{i}, Q\\right]$."
   ]
  },
  {
   "cell_type": "markdown",
   "id": "ee9acb19",
   "metadata": {},
   "source": [
    "### 2. Canonical Quantization\n"
   ]
  },
  {
   "cell_type": "markdown",
   "id": "f3589e09",
   "metadata": {},
   "source": [
    "Consider a complex Hilbert space $\\mathcal{H}=\\{|\\phi\\rangle,|\\psi\\rangle, \\ldots\\}$. Let  $\\left\\{\\left|e_{1}\\right\\rangle,\\left|e_{2}\\right\\rangle, \\ldots\\right\\}$  be a basis of $\\mathcal{H}$, and define the dual basis as \n",
    "\n",
    "$$\\left\\langle\\varepsilon_{i} \\mid e_{j}\\right\\rangle=\\delta_{i j}.$$\n",
    "\n",
    "It's immediate that \n",
    "\n",
    "$$\\langle\\alpha \\mid \\psi\\rangle=\\sum_{i j} \\alpha_{i} \\psi_{j}\\left\\langle\\varepsilon_{i} \\mid e_{j}\\right\\rangle=\\sum_{i j} \\alpha_{i} \\psi_{j} \\delta_{i j}=\\sum_{i} \\alpha_{i} \\psi_{i}.$$\n",
    "\n",
    "It is possible to introduce a one-to-one correspondence between elements in $\\mathcal{H}$ and $\\mathcal{H}^{*}$. "
   ]
  },
  {
   "cell_type": "markdown",
   "id": "fc4e31f3",
   "metadata": {},
   "source": [
    "Fix a basis  $\\left\\{\\left|e_{k}\\right\\rangle\\right\\}$  of  $\\mathcal{H}$  and  $\\left\\{\\left\\langle\\varepsilon_{k}\\right|\\right\\}$  of  $\\mathcal{H}^{*}$. Then there exist a correspondence\n",
    "\n",
    "$$|\\psi\\rangle=\\sum_{k} \\psi_{k}\\left|e_{k}\\right\\rangle \\leftrightarrow \\langle\\psi|=\\sum_{k} \\psi_{k}^{*}\\left\\langle\\varepsilon_{k}\\right|.$$ \n",
    "\n",
    "Then the inner product is defined by\n",
    "\n",
    "$$(|\\phi\\rangle,|\\psi\\rangle) \\equiv\\langle\\phi \\mid \\psi\\rangle=\\sum_{k} \\phi_{k}^{*} \\psi_{k}.$$\n",
    "\n",
    "and specially $\\||\\psi\\rangle \\|=   \\sqrt{\\langle\\psi \\mid \\psi\\rangle}$.\n",
    "\n",
    "\n",
    "> ( **the completeness relation** ) $$\\sum_{k}\\left|e_{k}\\right\\rangle\\left\\langle e_{k}\\right|=I.$$\n",
    ">\n",
    "\n",
    "**Proof.** Check the following is true for any $|\\psi\\rangle$: \n",
    "$$|\\psi\\rangle=\\sum_{k}\\left\\langle e_{k} \\mid \\psi\\right\\rangle\\left|e_{k}\\right\\rangle=\\sum_{k}\\left|e_{k}\\right\\rangle\\left\\langle e_{k} \\mid \\psi\\right\\rangle.$$"
   ]
  },
  {
   "cell_type": "markdown",
   "id": "76fc3e06",
   "metadata": {},
   "source": [
    "The Poisson bracket in classical mechanics is replaced by \n",
    "\n",
    "$$\\frac{\\mathrm{d} \\hat{q}_{i}}{\\mathrm{~d} t}=\\frac{1}{\\mathrm{i}}\\left[\\hat{q}_{i}, H\\right] \\quad \\frac{\\mathrm{d} \\hat{p}_{i}}{\\mathrm{~d} t}=\\frac{1}{\\mathrm{i}}\\left[\\hat{p}_{i}, H\\right]$$\n",
    "\n",
    "and analogously, one has **Heisenberg’s equation of motion**:\n",
    "\n",
    "$$ \\frac{\\mathrm{d} \\hat{A}}{\\mathrm{~d} t}=\\frac{1}{\\mathrm{i}}[\\hat{A}, \\hat{H}] $$."
   ]
  },
  {
   "cell_type": "markdown",
   "id": "00a5ad57",
   "metadata": {},
   "source": [
    "### 3. Tensors\n",
    "\n",
    "First we recall the  **Dual vector space**. Let us choose the dual basis, \n",
    "\n",
    "$$ e^{* i}\\left(\\boldsymbol{e}_{j}\\right)=\\delta_{j}^{i} $$\n",
    "\n",
    "Thus, if $f=f_{i} e^{* i}$ is expanded, then we can define \n",
    "\n",
    "the inner product $\\langle \\cdot , \\cdot \\rangle: V^{*} \\times V \\rightarrow K$ as follows:\n",
    "\n",
    "> $$ \\langle f , \\boldsymbol{v} \\rangle  \\equiv f(\\boldsymbol{v})=f_{i} e^{* i}\\left(v^{j} \\boldsymbol{e}_{j}\\right)=f_{i} v^{j} e^{* i}\\left(\\boldsymbol{e}_{j}\\right)=f_{i} v^{i}. $$\n",
    "\n",
    "Since  $\\operatorname{dim} V^{*}=\\operatorname{dim} V$, there exists an isomorphism between $V$  and $V^{*}$. However, this isomorphism is not canonical; we have to specify an inner product in $V$  to define an isomorphism between  $V$  and  $V^{*}$  and vice versa.\n",
    "\n",
    "Define $g: V \\rightarrow V^{*}$  where $g \\in \\mathrm{GL}(m, K)$ with component representation \n",
    "\n",
    "$$g: v^{j} \\rightarrow g_{i j} v^{j}.$$\n",
    "\n",
    "> The **inner product of two vectors** $v_1, v_2$ is defined as $g\\left(\\boldsymbol{v}_{1}, \\boldsymbol{v}_{2}\\right) \\equiv\\left\\langle g \\boldsymbol{v}_{1}, \\boldsymbol{v}_{2}\\right\\rangle$.\n",
    "\n",
    "In component expression, $$g\\left(\\boldsymbol{v}_{1}, \\boldsymbol{v}_{2}\\right)=v_{1}^{i} g_{j i} v_{2}^{j}.$$\n",
    "\n",
    "Next, let $W=W(n, \\mathbb{R})$  be a vector space with a basis  $\\left\\{\\boldsymbol{f}_{\\alpha}\\right\\}$  and a vector space isomorphism  $G: W \\rightarrow W^{*}$. Given a map  $f: V \\rightarrow W$, we may define the adjoint of  $f$, denoted by  $\\tilde{f}$, by\n",
    "\n",
    "$$ G(\\boldsymbol{w}, f \\boldsymbol{v})=g(\\boldsymbol{v}, \\tilde{f} \\boldsymbol{w}). $$\n",
    "\n",
    "In component expression,\n",
    "\n",
    "$$ w^{\\alpha} G_{\\alpha \\beta} f^{\\beta}{ }_{i} v^{i}=v^{i} g_{i j} \\widetilde{f}^{j}{ }_{\\alpha} w^{\\alpha},$$\n",
    "\n",
    "which follows that $G_{\\alpha \\beta} f^{\\beta}{ }_{i}=g_{i j} \\tilde{f}_{\\alpha}^{j}$, i.e. $\\tilde{f}=g^{-1} f^{\\mathrm{t}} G^{\\mathrm{t}}$. Therefore, $\\tilde{\\tilde{f}}=f$ and also we have\n",
    "\n",
    "> **Lemma.** $\\operatorname{rank} f=\\operatorname{rank} \\tilde{f}$.\n",
    ">\n",
    "> **Toy Index Theorem.**  \n",
    ">\n",
    "> $$ \\operatorname{dim} \\operatorname{ker} f-\\operatorname{dim} \\operatorname{ker} \\tilde{f}=\\operatorname{dim} V-\\operatorname{dim} W. $$\n",
    "\n",
    "**Proof.** We know that $$\\operatorname{dim} V=\\operatorname{dim} \\operatorname{ker} f+\\operatorname{dimim} f \\text {, } \\operatorname{dim} W=\\operatorname{dim} \\operatorname{ker} \\tilde{f}+\\operatorname{dimim} \\tilde{f}. $$\n",
    "\n",
    "Since $ \\operatorname{rank} f = \\operatorname{dimim} f = \\operatorname{dimim} \\tilde{f}$, the conclusion immediately follows.\n",
    "\n",
    "Finally, we introduce tensors.\n",
    "\n",
    "> A tensor $T$ of type $( p, q )$ is a multilinear map that maps $p$ dual vectors and $q$ vectors to $\\mathbb{R}$.\n",
    "\n",
    "For example, Let  $V$  and  $W$  be vector spaces and let  $f: V \\rightarrow W$  be a linear map, then $f$  is a tensor of type  $(1,1)$. It's known that there are two operations concerning tensors: **tensor product** and **contraction**.\n"
   ]
  },
  {
   "cell_type": "markdown",
   "id": "03f5331e",
   "metadata": {},
   "source": [
    "---\n",
    "\n",
    "### Reference\n",
    "\n",
    "1. Nakahara, Mikio, and Matthias Delbrück. Differentialgeometrie, Topologie Und Physik. Springer Berlin, 2022.\n",
    "\n",
    "( errata: https://www2.physics.ox.ac.uk/sites/default/files/profiles/johnsong/nakahara-errata-new-41775.pdf )\n",
    "\n",
    "2. Liu, Qing. Algebraic Geometry and Arithmetic Curves. Oxford University Press, 2010. "
   ]
  }
 ],
 "metadata": {
  "kernelspec": {
   "display_name": "SageMath 10.0",
   "language": "sage",
   "name": "sagemath-10.0"
  },
  "language_info": {
   "codemirror_mode": {
    "name": "ipython",
    "version": 3
   },
   "file_extension": ".py",
   "mimetype": "text/x-python",
   "name": "python",
   "nbconvert_exporter": "python",
   "pygments_lexer": "ipython3",
   "version": "3.11.1"
  }
 },
 "nbformat": 4,
 "nbformat_minor": 5
}
