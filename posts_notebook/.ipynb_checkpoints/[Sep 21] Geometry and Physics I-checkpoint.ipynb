{
 "cells": [
  {
   "cell_type": "markdown",
   "id": "a4ecbc3a",
   "metadata": {},
   "source": [
    "## [Sep 21] Geometry and Physics I\n",
    "\n",
    "Presenter: Yuchen Ge  \n",
    "Affiliation: University of Oxford  \n",
    "Contact Email: gycdwwd@gmail.com  \n",
    "Website: https://yuchenge-am.github.io"
   ]
  },
  {
   "cell_type": "markdown",
   "id": "f716c726",
   "metadata": {},
   "source": [
    "----"
   ]
  },
  {
   "cell_type": "markdown",
   "id": "ef270289",
   "metadata": {},
   "source": [
    "### 1. Quantum Physics\n",
    "\n",
    "Recall some elementary principles of **Lagrangian and Hamiltonian formalisms**.\n",
    " \n",
    "> **Equation of motion**: $$m \\frac{\\mathrm{d}^{2} \\boldsymbol{x}(t)}{\\mathrm{d} t^{2}}=\\boldsymbol{F}(\\boldsymbol{x}(t)).$$\n",
    "\n",
    "\n",
    "Here if force $\\boldsymbol{F}(\\boldsymbol{x}) =   -\\nabla V(\\boldsymbol{x})$ is a **conserved force** where  $V(\\boldsymbol{x})$ is called the **potential energy**.\n",
    "\n"
   ]
  },
  {
   "cell_type": "markdown",
   "id": "03f5331e",
   "metadata": {},
   "source": [
    "---\n",
    "\n",
    "### Reference\n",
    "\n",
    "1. Nakahara, Mikio, and Matthias Delbrück. Differentialgeometrie, Topologie Und Physik. Springer Berlin, 2022. \n",
    "2. Liu, Qing. Algebraic Geometry and Arithmetic Curves. Oxford University Press, 2010. "
   ]
  },
  {
   "cell_type": "code",
   "execution_count": null,
   "id": "af4168de",
   "metadata": {},
   "outputs": [],
   "source": []
  }
 ],
 "metadata": {
  "kernelspec": {
   "display_name": "SageMath 10.0",
   "language": "sage",
   "name": "sagemath-10.0"
  },
  "language_info": {
   "codemirror_mode": {
    "name": "ipython",
    "version": 3
   },
   "file_extension": ".py",
   "mimetype": "text/x-python",
   "name": "python",
   "nbconvert_exporter": "python",
   "pygments_lexer": "ipython3",
   "version": "3.11.1"
  }
 },
 "nbformat": 4,
 "nbformat_minor": 5
}
