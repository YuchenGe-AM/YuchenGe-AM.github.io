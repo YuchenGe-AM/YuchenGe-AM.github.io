{
 "cells": [
  {
   "cell_type": "markdown",
   "id": "d26d2838",
   "metadata": {},
   "source": [
    "## [Sep 13] Markov Decision Process I\n",
    "\n",
    "Presenter: Yuchen Ge  \n",
    "Affiliation: University of Oxford  \n",
    "Contact Email: gycdwwd@gmail.com  \n",
    "Website: https://yuchenge-am.github.io"
   ]
  },
  {
   "cell_type": "markdown",
   "id": "97b05232",
   "metadata": {},
   "source": [
    "----"
   ]
  },
  {
   "cell_type": "markdown",
   "id": "542b4e03",
   "metadata": {},
   "source": [
    "### 1.  Some Classifications of States\n",
    "\n",
    "> Two distinct states  $𝑖$  and  $𝑗$  communicate (abbreviated  $𝑖 \\leftrightarrow 𝑗$ ) if  $𝑖$  is accessible from  $𝑗$  and  $𝑗$  is accessible from  $𝑖$.\n",
    "\n",
    "> 𝐴  class $𝐶$ of states is a non-empty set of states such that each $𝑖 \\in C$ communicates with every other state $j \\in C$ and communicates with no $𝑗\\notin C$.\n",
    "\n",
    "> A state  $𝑖$  is recurrent if  $𝑖 \\to 𝑗$  implies that $j \\to i$. A transient state is a state that is not recurrent.\n",
    "\n",
    "Then we state\n",
    "\n",
    "> **Thm 1.** For finite-state Markov chains, either all states in a class are transient or all are recurrent.\n",
    "\n",
    "For further investigation, we define\n",
    "\n",
    "> **Def 1.** The period of a state  $𝑖$, denoted $d(i)$, is the greatest common divisor (gcd) of those values of  $𝑛$  for which  $[P^n]_{ii}>0$. If the period is 1, the state is aperiodic, and if the period is 2 or more, the state is periodic.\n",
    "\n",
    "Two further basic observations are following:\n",
    "\n",
    "> **Thm 2.** For finite-state Markov chains, all states in the same class have the same period.\n",
    "\n",
    "> **Thm 3.** If a recurrent class  $C$  in a finite-state Markov chain has period $d$, then the states in $C$ can be partitioned into  $d$  subsets,  $C_1, C_2, ..., C_d$ , in such a way that all transitions from  $S_i$  go to  $S_{i+1}$. (in the meaning of module $d$)\n",
    "\n",
    "**Proof.** Define $S_{m}=\\left\\{j: P_{1 j}^{n d+m}>0 \\text { for some } n \\geq 0\\right\\}$, $1 \\leq m \\leq d$. It suffices we show that For each $j\\in C$, there is one and only one value of $m$  such that $𝑗 \\in m$. "
   ]
  },
  {
   "cell_type": "markdown",
   "id": "351015a2",
   "metadata": {},
   "source": [
    "----"
   ]
  },
  {
   "cell_type": "markdown",
   "id": "31084f8b",
   "metadata": {},
   "source": [
    "### 2. Some Special Chains"
   ]
  },
  {
   "cell_type": "markdown",
   "id": "480f1791",
   "metadata": {},
   "source": [
    "> For a finite-state Markov chain, an **ergodic** class of states is a class that is both recurrent and aperiodic. A Markov chain consisting entirely of one ergodic class is called an **ergodic** chain.\n",
    "\n",
    "It's clear that \n",
    "\n",
    "> **Thm 4.** For an ergodic $M$  state Markov chain,  $[P^m]_{ij}>0$  for all  $i$, $j$, and all  $m \\geq (𝑀−1)^2+1$."
   ]
  },
  {
   "cell_type": "markdown",
   "id": "53ffea1a",
   "metadata": {},
   "source": [
    "Also, we consider a finite-state Markov chain of the matrix form\n",
    "\n",
    "$$[P]=\\left[\\begin{array}{c|c}\n",
    "{\\left[P_{\\mathcal{T}}\\right]} & {\\left[P_{\\mathcal{T} \\mathcal{R}}\\right]} \\\\\n",
    "\\hline[0] & {\\left[P_{\\mathcal{R}}\\right]}\n",
    "\\end{array}\\right]$$\n",
    "\n",
    "with $t$ transient states, the set of which is denoted by $\\mathcal{T}$.\n",
    "\n",
    "> **Thm 5.** Let  $[P]$  be a unichain with a set  $\\mathcal{T}$  of $t$  transient states. Then\n",
    ">\n",
    "> $$\\max _{\\ell \\in \\mathcal{T}} \\sum_{j \\in \\mathcal{T}} P_{\\ell j}^{n} \\leq \\gamma^{\\lfloor n / t\\rfloor},$$\n",
    "> where $\\gamma=\\max _{i \\in \\mathcal{T}} \\sum_{j \\in \\mathcal{T}} P_{i j}^{t}<1$."
   ]
  },
  {
   "cell_type": "code",
   "execution_count": null,
   "id": "bade08cd",
   "metadata": {},
   "outputs": [],
   "source": []
  },
  {
   "cell_type": "code",
   "execution_count": null,
   "id": "d42acb9e",
   "metadata": {},
   "outputs": [],
   "source": []
  },
  {
   "cell_type": "markdown",
   "id": "2b5c4719",
   "metadata": {},
   "source": [
    "## Reference\n",
    "\n",
    "1. "
   ]
  },
  {
   "cell_type": "code",
   "execution_count": null,
   "id": "b535c50f",
   "metadata": {},
   "outputs": [],
   "source": []
  }
 ],
 "metadata": {
  "kernelspec": {
   "display_name": "Python 3",
   "language": "python",
   "name": "python3"
  },
  "language_info": {
   "codemirror_mode": {
    "name": "ipython",
    "version": 3
   },
   "file_extension": ".py",
   "mimetype": "text/x-python",
   "name": "python",
   "nbconvert_exporter": "python",
   "pygments_lexer": "ipython3",
   "version": "3.8.13"
  }
 },
 "nbformat": 4,
 "nbformat_minor": 5
}
