{
 "cells": [
  {
   "cell_type": "markdown",
   "id": "a4ecbc3a",
   "metadata": {},
   "source": [
    "## [Sep 20] General Jensen's Inequality\n",
    "\n",
    "Presenter: Yuchen Ge  \n",
    "Affiliation: University of Oxford  \n",
    "Contact Email: gycdwwd@gmail.com  \n",
    "Website: https://yuchenge-am.github.io"
   ]
  },
  {
   "cell_type": "markdown",
   "id": "f716c726",
   "metadata": {},
   "source": [
    "----"
   ]
  },
  {
   "cell_type": "markdown",
   "id": "ef270289",
   "metadata": {},
   "source": [
    "**Subsitution in an inequality involving integration isn't always true.** It's clear that $\\int_{a}^{b} f(x)dx \\leq \\int_{a}^{b} h(x)dx$ doesn't necessarily imply that $\\int_{a}^{b} f(g(x))dx \\leq \\int_{a}^{b} h(g(x))dx$. Similarly, in probability theory where $p(x)$ is the probability density function,  $ f\\left(\\int x p(x) \\mathrm{d} x\\right) \\leq \\int f(x) p(x) \\mathrm{d} x $ doesn't necessarily imply that $ f\\left(\\int g(x) p(x) \\mathrm{d} x\\right) \\leq \\int f(g(x)) p(x) \\mathrm{d} x $.\n",
    "\n",
    "For example, consider $a=1, b=2, f(x)=x, h(x)=\\frac{199}{100}, g(x)=2$. \n",
    "\n",
    "\n",
    "However, we have\n",
    "\n",
    "> $ f\\left(\\int g(x) p(x) \\mathrm{d} x\\right) \\leq \\int f(g(x)) p(x) \\mathrm{d} x $ for any convex $f(x)$.\n",
    "\n",
    "\n",
    "**Proof.** Let $t=\\int g(x) p(x) \\mathrm{d} x$. First, we provide a technical lemma\n",
    "\n",
    "**Lemma.** For any convex $\\varphi$, we have $$\\frac{\\varphi(t)-\\varphi(s)}{t-s} \\leq \\frac{\\varphi(u)-\\varphi(t)}{u-t}$$ whenever  $s<t<u$.\n",
    "\n",
    "Then, $f(x) \\geq f(t) + k(x-t)$ where $k=\\sup\\{ \\frac{\\varphi(t)-\\varphi(s)}{t-s}: s<t\\}$ and $x\\in\\mathbb{R}$, which follows by substituting $x$ with $g(x)$ that, $$ f(g(x)) \\geq f(t) + k(g(x)-t).$$ Integrating both sides, then\n",
    "$$ \\int f(g(x))p(x) \\mathrm{d} x \\geq \\int f(t)p(x) \\mathrm{d} x + \\int k(g(x)-t)p(x) \\mathrm{d} x = f(t) = f(\\int g(x) p(x) \\mathrm{d} x).$$\n",
    "\n",
    "\n",
    "\n",
    "\n"
   ]
  },
  {
   "cell_type": "markdown",
   "id": "03f5331e",
   "metadata": {},
   "source": [
    "---\n",
    "\n",
    "### Reference\n",
    "\n",
    "1. Sinha, R. (2018). Real and complex analysis. Springer. \n"
   ]
  }
 ],
 "metadata": {
  "kernelspec": {
   "display_name": "SageMath 10.0",
   "language": "sage",
   "name": "sagemath-10.0"
  },
  "language_info": {
   "codemirror_mode": {
    "name": "ipython",
    "version": 3
   },
   "file_extension": ".py",
   "mimetype": "text/x-python",
   "name": "python",
   "nbconvert_exporter": "python",
   "pygments_lexer": "ipython3",
   "version": "3.11.1"
  }
 },
 "nbformat": 4,
 "nbformat_minor": 5
}
