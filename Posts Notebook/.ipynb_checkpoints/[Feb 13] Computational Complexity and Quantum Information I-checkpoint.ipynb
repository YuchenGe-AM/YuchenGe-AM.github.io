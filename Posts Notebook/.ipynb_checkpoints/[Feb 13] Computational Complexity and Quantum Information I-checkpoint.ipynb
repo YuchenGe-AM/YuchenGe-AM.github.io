{
 "cells": [
  {
   "cell_type": "markdown",
   "id": "a4ecbc3a",
   "metadata": {},
   "source": [
    "## [Feb 13] Computational Complexity and Quantum Information I\n",
    "\n",
    "Presenter: Yuchen Ge  \n",
    "Affiliation: University of Oxford  \n",
    "Contact Email: gycdwwd@gmail.com  \n",
    "Website: https://yuchenge-am.github.io"
   ]
  },
  {
   "cell_type": "markdown",
   "id": "f716c726",
   "metadata": {},
   "source": [
    "### What you need is that your brain is open. \n",
    "----"
   ]
  },
  {
   "cell_type": "markdown",
   "id": "0478c0e1",
   "metadata": {},
   "source": [
    "### 1. Chernoff Bounds"
   ]
  },
  {
   "cell_type": "markdown",
   "id": "3f10ff93",
   "metadata": {},
   "source": [
    "Consider  $X=X_{1}+\\ldots+X_{n}$  where $X_{i}\\sim \\operatorname{Bin}(1, p)$ indepedently. Then\n",
    "\n",
    "$$\\begin{aligned}\n",
    "\\mathbb{E}\\left[e^{t X}\\right] & =\\mathbb{E}\\left[e^{t X_{1}} e^{t X_{2}} \\cdots e^{t X_{n}}\\right] \\\\\n",
    "& =\\mathbb{E}\\left[e^{t X_{1}}\\right] \\cdots \\mathbb{E}\\left[e^{t X_{n}}\\right] =\\left(p e^{t}+(1-p) e^{0}\\right)^{n}.\n",
    "\\end{aligned}$$\n",
    "\n",
    "Then using Markov's inequality, we have\n",
    "\n",
    "$$\\begin{aligned}\n",
    "\\mathbb{P}(X \\geqslant n x) & =\\mathbb{P}\\left(e^{t X} \\geqslant e^{t n x}\\right) \\\\\n",
    "& \\leqslant \\mathbb{E}\\left[e^{t X}\\right] / e^{t n x} =\\left[\\left(p e^{t}+1-p\\right) e^{-t x}\\right]^{n}\n",
    "\\end{aligned}$$\n",
    "\n",
    "\n",
    "Minimize over  $t$. For $x>p$, the minimum occurs when \n",
    "\n",
    "$$e^{t}=\\frac{x}{p} \\frac{1-p}{1-x}>1 \\implies \\mathbb{P}(X \\geqslant n x) \\leqslant\\left[\\left(x \\frac{1-p}{1-x}+1-p\\right)\\left(\\frac{p}{x}\\right)^{x}\\left(\\frac{1-x}{1-p}\\right)^{x}\\right]^{n}=\\left[\\left(\\frac{p}{x}\\right)^{x}\\left(\\frac{1-p}{1-x}\\right)^{1-x}\\right]^{n}.$$\n",
    "\n",
    "Therefore,\n",
    "\n",
    "> $X \\sim \\operatorname{Bin}(n, p)$. Then $\\mathbb{P}(X \\geqslant n x) \\leqslant\\left[\\left(\\frac{p}{x}\\right)^{x}\\left(\\frac{1-p}{1-x}\\right)^{1-x}\\right]^{n} \\quad \\text { if } x \\geqslant p$ and $\\mathbb{P}(X \\leqslant n x) \\leqslant\\left[\\left(\\frac{p}{x}\\right)^{x}\\left(\\frac{1-p}{1-x}\\right)^{1-x}\\right]^{n}$ if $x \\leqslant p$."
   ]
  },
  {
   "cell_type": "markdown",
   "id": "d5238c4d-b50e-4896-bb03-6138af4953b0",
   "metadata": {},
   "source": [
    "Already seeing that $\\mathbb{P}(X \\geqslant n x) \\leqslant e^{-f(x) n}$ where $$f(x)=x \\log \\left(\\frac{x}{p}\\right)+(1-x) \\log \\left(\\frac{1-x}{1-p}\\right) \\implies f^{\\prime \\prime}(x)=\\frac{1}{x}+\\frac{1}{1-x}.$$"
   ]
  },
  {
   "cell_type": "markdown",
   "id": "18d9375d-2a0d-408d-ae94-169c96898de8",
   "metadata": {},
   "source": [
    "Notice that $f(p+h) \\geqslant a h^{2} / 2$ where $ f^{\\prime \\prime}(x) \\geqslant a$,  $\\forall x$.\n",
    "\n",
    "> $X \\sim \\operatorname{Bin}(n, p)$. Then $ \\mathbb{P}(X \\geqslant n p+n h) \\leqslant e^{-2 h^{2} n} \\implies \\mathbb{P}(X \\geqslant n p+t) \\leqslant e^{-2 t^{2} / n}$."
   ]
  },
  {
   "cell_type": "markdown",
   "id": "2bbd500d-05b6-4c35-b770-aa6810a1c742",
   "metadata": {},
   "source": [
    "However, we know the following \n",
    "\n",
    "> Let  $X$  have mean $0$ such that  $a \\leq X \\leq b$, then $\\mathbf{E}\\left[e^{\\lambda X}\\right] \\leq \\exp \\left(\\frac{(b-a)^{2} \\lambda^{2}}{8}\\right)$. $\\big($ observe that $e^{\\lambda x} \\leq \\frac{b-x}{b-a} e^{\\lambda a}+\\frac{x-a}{b-a} e^{\\lambda b}$ $\\big)$\n",
    ">\n",
    "> Therefore, if $X_{1}, \\ldots, X_{n}$  be independent with mean  $\\mu_{i}$ s.t. $a_{i} \\leq X_{i} \\leq b_{i}$, then $\\mathbf{P}\\big[ \\sum_i X_i \\geq \\sum_i \\mu_i +t\\big] \\leq \\exp \\left[\\frac{-2 t^{2}}{\\sum_{i=1}^{n}\\left(b_{i}-a_{i}\\right)^{2}}\\right]$. $\\big($ **Hoeffding's Lemma** $\\big)$\n"
   ]
  },
  {
   "cell_type": "markdown",
   "id": "096a4ad9-7a5c-4538-bd57-6a9d23882b0b",
   "metadata": {},
   "source": [
    "Therefore, both arguments obtain essentially the same thing. However, if $p \\leqslant x \\leqslant p(1+\\varepsilon) \\leqslant 2 p$, then $f^{\\prime \\prime}(x) \\geqslant 1 / x \\geqslant 1 /(2 p)$, which follows a somewhat stronger conclusion. \n",
    "\n",
    "> $X \\sim \\operatorname{Bin}(n, p)$ where $p \\leq 1/2$. Then $\\mathbb{P}(X \\geqslant(1+\\varepsilon) n p) \\leqslant e^{-\\varepsilon^{2} n p / 4}$ for $0 \\leqslant \\varepsilon \\leqslant 1$.\n"
   ]
  },
  {
   "cell_type": "markdown",
   "id": "6d0fba46",
   "metadata": {},
   "source": [
    "### 2. Branching Processes"
   ]
  },
  {
   "cell_type": "markdown",
   "id": "3fda6e51-f3cd-4f90-b20f-f3cd57c39598",
   "metadata": {},
   "source": [
    "> The **branching process** $\\mathbf{X}_{Z}$ with offspring distribution $Z$ is a random process $\\mathbf{X}=\\left(X_{0}, X_{1}, \\ldots\\right)$ s.t. $X_{0}=1$, and given the values of  $X_{0}, \\ldots, X_{t}$  with  $X_{t}=k$, the conditional distribution of  $X_{t+1}$  is the sum of  $k$  independent copies of  $Z$."
   ]
  },
  {
   "cell_type": "markdown",
   "id": "8cbe8bd4-6d98-451a-ac05-603ad58a48a4",
   "metadata": {},
   "source": [
    "Let  $\\lambda=\\mathbb{E}[Z]$. Then  $\\mathbb{E}\\left[X_{0}\\right]=1$. Also  \n",
    "\n",
    "$$\\begin{aligned}\n",
    "\\mathbb{E}\\left[X_{t+1}\\right] & =\\sum_{k} \\mathbb{P}\\left(X_{t}=k\\right) \\mathbb{E}\\left[X_{t+1} \\mid X_{t}=k\\right] \\\\\n",
    "& =\\sum_{k} \\mathbb{P}\\left(X_{t}=k\\right) k \\lambda=\\lambda \\mathbb{E}\\left[X_{t}\\right],\n",
    "\\end{aligned}$$\n",
    "\n",
    "which follows that $\\mathbb{E}\\left[X_{t}\\right]=\\lambda^{t}$, $\\forall t$.\n",
    "\n",
    "> The branching process survives if  $X_{t}>0$, $\\forall t$, and dies out if  $\\exists t, X_{t}=0$.\n",
    "\n",
    "If  $\\lambda=\\mathbb{E}[Z]<1$, then $\\forall t$, $\\mathbb{P}(\\mathbf{X} \\text { survives }) \\leqslant \\mathbb{P}\\left(X_{t}>0\\right) \\leqslant \\mathbb{E}\\left[X_{t}\\right]=\\lambda^{t}$. Letting  $t \\rightarrow \\infty$  shows that  $\\mathbb{P}(\\mathbf{X}$  survives$)=0$."
   ]
  },
  {
   "cell_type": "markdown",
   "id": "6195f12a-4ab4-433e-a677-8fab8d6dd38c",
   "metadata": {},
   "source": [
    "Consider the probability generating function $f_{Z}(x)=\\mathbb{E}\\left[x^{Z}\\right]=\\sum_{k=0}^{\\infty} \\mathbb{P}(Z=k) x^{k}$.\n",
    "\n",
    "> Let  $\\eta=\\eta(Z)$  denote the extinction probability of  $\\mathbf{X}_{Z}$. Then for any $Z \\in \\mathbb{N}$,  $\\eta(Z)$  is equal to the smallest solution  $x \\in[0,1]$  to  $f_{Z}(x)=x$."
   ]
  },
  {
   "cell_type": "markdown",
   "id": "3a061ff8-e086-4df2-b166-081d9a2ea1d8",
   "metadata": {},
   "source": [
    "**Proof.** Let  $\\eta_{t}=\\mathbb{P}\\left(X_{t}=0\\right)$. Then  $\\eta_{0}=0$  and\n",
    "\n",
    "$$\\eta_{t+1}=\\sum_{k} \\mathbb{P}\\left(X_{1}=k\\right) \\mathbb{P}\\left(X_{t+1}=0 \\mid X_{1}=k\\right)=\\sum_{k} \\mathbb{P}(Z=k) \\eta_{t}^{k}=f_{Z}\\left(\\eta_{t}\\right).$$"
   ]
  },
  {
   "cell_type": "markdown",
   "id": "4c9f4f87-8543-42fb-9743-918cd46c4d70",
   "metadata": {},
   "source": [
    "Also $0=\\eta_{0} \\leqslant \\eta_{1} \\leqslant \\eta_{2} \\cdots  \\rightarrow \\eta$, which follows that $\\eta=f_{Z}(\\eta)$. Let $x_{0}$ be the smallest solution in $[0,1]$. By induction $\\eta_{t} \\leqslant x_{0}$, $\\forall t$. So taking the limit, $\\eta \\leqslant x_{0}$ and then $\\eta = x_{0}$."
   ]
  },
  {
   "cell_type": "markdown",
   "id": "03f5331e",
   "metadata": {},
   "source": [
    "---\n",
    "\n",
    "### Reference\n",
    "\n",
    "1. Noga Alon. The Probabilistic Method.\n",
    "2. Ryan O'Donnell. Analysis of Boolean Functions."
   ]
  }
 ],
 "metadata": {
  "kernelspec": {
   "display_name": "Python 3",
   "language": "python",
   "name": "python3"
  },
  "language_info": {
   "codemirror_mode": {
    "name": "ipython",
    "version": 3
   },
   "file_extension": ".py",
   "mimetype": "text/x-python",
   "name": "python",
   "nbconvert_exporter": "python",
   "pygments_lexer": "ipython3",
   "version": "3.8.13"
  }
 },
 "nbformat": 4,
 "nbformat_minor": 5
}
