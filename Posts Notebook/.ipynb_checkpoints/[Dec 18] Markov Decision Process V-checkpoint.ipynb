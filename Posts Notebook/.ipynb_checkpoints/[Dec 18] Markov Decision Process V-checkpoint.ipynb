{
 "cells": [
  {
   "cell_type": "markdown",
   "id": "a4ecbc3a",
   "metadata": {},
   "source": [
    "## [Dec 18] Markov Decision Process V\n",
    "\n",
    "Presenter: Yuchen Ge  \n",
    "Affiliation: University of Oxford  \n",
    "Contact Email: gycdwwd@gmail.com  \n",
    "Website: https://yuchenge-am.github.io"
   ]
  },
  {
   "cell_type": "markdown",
   "id": "f716c726",
   "metadata": {},
   "source": [
    "----"
   ]
  },
  {
   "cell_type": "markdown",
   "id": "c86a5e95-999a-4029-bb66-5fe6047f0c9c",
   "metadata": {},
   "source": [
    "### 1. Indecomposable Properpty"
   ]
  },
  {
   "cell_type": "markdown",
   "id": "47970f27-e5f3-4891-8c6e-a470d2ade0dc",
   "metadata": {},
   "source": [
    "> A FSC is indecomposable if $\\forall \\epsilon>0$, $\\exists N_{0}$ s.t. $\\forall N \\geq N_{0}$,\n",
    ">\n",
    "> $$\\left|q\\left(s_{N} \\mid \\mathbf{x}, s_{0}\\right) - q\\left(s_{N} \\mid \\mathbf{x}, s_{0}{ }^{\\prime}\\right)\\right| \\leq \\epsilon $$\n",
    "\n",
    "for all  $s_{N}$, $\\mathbf{x}$, $s_{0}$, and  $s_{0}{ }^{\\prime}$. \n",
    "\n",
    "Fix $\\left(x_{1}, x_{2}, \\ldots\\right)$, define\n",
    "\n",
    "$$d_{N}\\left(s_{0}{ }^{\\prime}, s_{0}^{\\prime \\prime}\\right)=\\sum_{s_{N}}\\left|q\\left(s_{N} \\mid s_{0}{ }^{\\prime}\\right)-q\\left(s_{N} \\mid s_{0}{ }^{\\prime \\prime}\\right)\\right|$$"
   ]
  },
  {
   "cell_type": "markdown",
   "id": "c08b24a1-6719-4dda-ad5c-e5ffbca4991d",
   "metadata": {},
   "source": [
    "> **Lemma I.** $d_{N}\\left(s_{0}{ }^{\\prime}, s_{0}{ }^{\\prime \\prime}\\right)$ is nonincreasing in  $N$.\n",
    ">\n",
    "> **Lemma II.** Suppose $\\exists n>0, \\delta>0$, $\\forall  N \\geq 0$, $\\exists s_{N+n}$ s.t.\n",
    ">\n",
    "> $$q\\left(s_{N+n} \\mid s_{N}\\right) \\geq \\delta ; \\quad \\text { all values of } s_{N}.$$\n",
    ">\n",
    "> Then  $d_{N}\\left(s_{0}{ }^{\\prime}, s_{0}{ }^{\\prime \\prime}\\right)$  approaches $0$ exponentially with  $N$  and is bounded by $d_{N}\\left(s_{0}{ }^{\\prime}, s_{0}^{\\prime \\prime}\\right) \\leq 2(1-\\delta)^{(N / n)-1}$.\n",
    "\n",
    "**Proof.** For the first, we have\n",
    "\n",
    "$$\\begin{aligned}\n",
    "d_{N}\\left(s_{0}{ }^{\\prime}, s_{0}{ }^{\\prime \\prime}\\right) & =\\sum_{s_{N}}\\left|q\\left(s_{N} \\mid s_{0}{ }^{\\prime}\\right)-q\\left(s_{N} \\mid s_{0}{ }^{\\prime \\prime}\\right)\\right| =\\sum_{s_{N}}\\left|\\sum_{s_{N-1}} q\\left(s_{N} \\mid s_{N-1}\\right)\\left[q\\left(s_{N-1} \\mid s_{0}{ }^{\\prime}\\right)-q\\left(s_{N-1} \\mid s_{0}{ }^{\\prime \\prime}\\right)\\right]\\right| \\\\\n",
    "& \\leq \\sum_{s_{N}} \\sum_{s_{N-1}} q\\left(s_{N} \\mid s_{N^{\\prime}-1}\\right)\\left|q\\left(s_{N-1} \\mid s_{0}{ }^{\\prime}\\right)-q\\left(s_{N-1} \\mid s_{0}{ }^{\\prime \\prime}\\right)\\right| =\\sum_{s_{N-1}}\\left|q\\left(s_{N-1} \\mid s_{0}{ }^{\\prime}\\right)-q\\left(s_{N-1} \\mid s_{0}{ }^{\\prime \\prime}\\right)\\right| \\\\\n",
    "& =d_{N-1}\\left(s_{0}{ }^{\\prime}, s_{0}{ }^{\\prime \\prime}\\right).\n",
    "\\end{aligned}$$\n",
    "\n",
    "For the second, we have\n",
    "\n",
    "$$\\begin{aligned}\n",
    "d_{N+n}\\left(s_{0}{ }^{\\prime}, s_{0}{ }^{\\prime \\prime}\\right) & =\\sum_{s_{N+n}}\\left|q\\left(s_{N+n} \\mid s_{0}{ }^{\\prime}\\right)-q\\left(s_{N+n} \\mid s_{0}{ }^{\\prime \\prime}\\right)\\right| \\\\\n",
    "& =\\sum_{s_{N+n}}\\left|\\sum_{s_{N}} q\\left(s_{N+n} \\mid s_{N}\\right)\\left[q\\left(s_{N} \\mid s_{0}{ }^{\\prime}\\right)-q\\left(s_{N} \\mid s_{0}{ }^{\\prime \\prime}\\right)\\right]\\right|.\n",
    "\\end{aligned}$$\n",
    "\n",
    "\n",
    "Define $a\\left(s_{N+n}\\right)=\\min _{s_{N}} q\\left(s_{N+n} \\mid s_{N}\\right)$, and we have \n",
    "\n",
    "$$\\begin{aligned}\n",
    "d_{N+n}\\left(s_{0}{ }^{\\prime}, s_{0}{ }^{\\prime \\prime}\\right) &= \\sum_{s_{N+n}}\\left|\\sum_{s_{N}}\\left[q\\left(s_{N+n} \\mid s_{N}\\right)-a\\left(s_{N+n}\\right)\\right]\\left[q\\left(s_{N} \\mid s_{0}{ }^{\\prime}\\right)-q\\left(s_{N} \\mid s_{0}{ }^{\\prime \\prime}\\right)\\right]\\right| \\\\\n",
    "&  \\leq \\sum_{s_{N+n}} \\sum_{s_{N}}\\left[q\\left(s_{N+n} \\mid s_{N}\\right)-a\\left(s_{N+n}\\right)\\right]\\left|q\\left(s_{N} \\mid s_{0}{ }^{\\prime}\\right)-q\\left(s_{N} \\mid s_{0}{ }^{\\prime \\prime}\\right)\\right|.\n",
    "\\end{aligned}$$\n",
    "\n",
    "Summing over  $s_{N+n}$, this becomes\n",
    "\n",
    "$$\\begin{aligned}\n",
    "d_{N+n}\\left(s_{0}{ }^{\\prime}, s_{0}{ }^{\\prime \\prime}\\right) & \\leq\\left[1-\\sum_{s_{N+n}} a\\left(s_{N+n}\\right)\\right] \\sum_{s_{N}}\\left|q\\left(s_{N} \\mid s_{0}{ }^{\\prime}\\right)-q\\left(s_{N} \\mid s_{0}{ }^{\\prime \\prime}\\right)\\right| \\\\\n",
    "& =\\left[1-\\sum_{s_{N+n}} a\\left(s_{N+n}\\right)\\right] d_{N}\\left(s_{0}{ }^{\\prime}, s_{0}{ }^{\\prime \\prime}\\right)\n",
    "\\end{aligned}$$\n",
    "\n",
    "\n",
    "By hypothesis,  $a\\left(s_{N+n}\\right) \\geq \\delta$  for at least one value of  $s_{N+n}$, and thus\n",
    "\n",
    "$$d_{N+n}\\left(s_{0}{ }^{\\prime}, s_{0}{ }^{\\prime \\prime}\\right) \\leq(1-\\delta) d_{N}\\left(s_{0}{ }^{\\prime}, s_{0}{ }^{\\prime \\prime}\\right).$$\n",
    "\n",
    "Applying this result inductively and recalling that  $d_{0}\\left(s_{0}{ }^{\\prime}, s_{0}{ }^{\\prime \\prime}\\right)=2$, we obtain\n",
    "\n",
    "$$d_{m n}\\left(s_{0}{ }^{\\prime}, s_{0}{ }^{\\prime \\prime}\\right) \\leq 2(1-\\delta)^{m}.$$\n",
    "\n",
    "\n",
    "Since  $d_{N}\\left(s_{0}{ }^{\\prime}, s_{0}{ }^{\\prime \\prime}\\right)$  is nonincreasing in  $N$, this completes the proof.\n",
    "\n"
   ]
  },
  {
   "cell_type": "markdown",
   "id": "131ab663-2a9e-48d2-995f-d4c81b015435",
   "metadata": {},
   "source": [
    "Finally, we prove \n",
    "\n",
    "> **Thm.** An FSC is indecomposable iff $\\exists n$: $\\forall \\mathbf{x}$, $\\exists s_{n}$, s.t.\n",
    ">\n",
    "> $$ q\\left(s_{n} \\mid \\mathbf{x}, s_{0}\\right)>0 \\quad \\text { for all } s_{0}. $$\n",
    "\n",
    "**Proof.** Only one direction is not obvious enough. If $\\exists n$: $\\forall \\mathbf{x}$, $\\exists s_{n}$, $\\forall s_{0}$ s.t. $ q\\left(s_{n} \\mid \\mathbf{x}, s_{0}\\right)>0$, then $\\exists \\delta>0$  s.t.\n",
    "\n",
    "$$ q\\left(s_{n} \\mid \\mathbf{x}, s_{0}\\right) \\geq \\delta $$ \n",
    "\n",
    "for all  $s_{0}$, all  $\\mathbf{x}$, and some  $s_{n}$  depending on  $\\mathbf{x}$. Ssince the channel probabilities are independent of time, $\\forall  N$  and some  $s_{N+n}$ depending on  $x_{N+1}, \\ldots, x_{N+n}$ \n",
    "\n",
    "$$q\\left(s_{N+n} \\mid x_{N+1}, \\ldots, x_{N+n}, s_{N}\\right)>\\delta \\quad \\text { for all } s_{N}.$$\n",
    "\n",
    "Thus we can apply Lemma II, and\n",
    "\n",
    "$$\\sum_{s_{N}}\\left|q\\left(s_{N} \\mid \\mathbf{x}, s_{0}{ }^{\\prime}\\right)-q\\left(s_{N} \\mid \\mathbf{x}, s_{0}{ }^{\\prime \\prime}\\right)\\right|$$\n",
    "\n",
    "approaches zero exponentially as $ N \\rightarrow \\infty$, uniformly in $ \\mathbf{x}$, $s_{0}{ }^{\\prime}$, and  $s_{0}{ }^{\\prime \\prime}$. ( Lemma I is used here )"
   ]
  },
  {
   "cell_type": "markdown",
   "id": "03f5331e",
   "metadata": {},
   "source": [
    "---\n",
    "\n",
    "### Reference\n",
    "\n",
    "1. Robert G. Gallager. Information Theory and Reliable Communication."
   ]
  }
 ],
 "metadata": {
  "kernelspec": {
   "display_name": "Python 3",
   "language": "python",
   "name": "python3"
  },
  "language_info": {
   "codemirror_mode": {
    "name": "ipython",
    "version": 3
   },
   "file_extension": ".py",
   "mimetype": "text/x-python",
   "name": "python",
   "nbconvert_exporter": "python",
   "pygments_lexer": "ipython3",
   "version": "3.8.13"
  }
 },
 "nbformat": 4,
 "nbformat_minor": 5
}
