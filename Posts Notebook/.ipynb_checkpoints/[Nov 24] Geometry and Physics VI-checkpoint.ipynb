{
 "cells": [
  {
   "cell_type": "markdown",
   "id": "a4ecbc3a",
   "metadata": {},
   "source": [
    "## [Nov 24] Geometry and Physics VI\n",
    "\n",
    "Presenter: Yuchen Ge  \n",
    "Affiliation: University of Oxford  \n",
    "Contact Email: gycdwwd@gmail.com  \n",
    "Website: https://yuchenge-am.github.io"
   ]
  },
  {
   "cell_type": "markdown",
   "id": "f96d96eb-47d5-4d19-ae0a-e1d95554aa5a",
   "metadata": {},
   "source": [
    "### 1. Integration on Lie Groups\n",
    "\n",
    "Recall some basic properties of tensor pullbacks for covariant tensor fields:\n",
    "\n",
    "> $F^{*}(f B)=(f \\circ F) F^{*} B$, $F^{*}(A \\otimes B)=F^{*} A \\otimes F^{*} B$, and $(G \\circ F)^{*} B=F^{*}\\left(G^{*} B\\right)$.\n",
    "\n",
    "Then a covariant tensor field  $A$  on  $G$  is **left-invariant** if  $L_{g}^{*} A=A, \\forall  g \\in G$.\n",
    "\n",
    "> Let $G$ be compact. Then  $G$  has a unique positively oriented left-invariant  $n$-form  $\\omega_{G}$ s.t. $\\int_{G} \\omega_{G}=1$.\n",
    "\n",
    "**Proof.** Let $E_{1}, \\ldots, E_{n}$ be a left-invariant global frame on $G$. WLOG, this frame is positively oriented. Also let $\\varepsilon^{1}, \\ldots, \\varepsilon^{n}$ be the dual coframe. Then \n",
    "\n",
    "$$\\left(L_{g}^{*} \\varepsilon^{i}\\right)\\left(E_{j}\\right)=\\varepsilon^{i}\\left(L_{g *} E_{j}\\right)=\\varepsilon^{i}\\left(E_{j}\\right)=\\delta_{j}^{i}$$\n",
    "\n",
    "which shows that $\\omega_{G}=\\varepsilon^{1} \\wedge \\cdots \\wedge \\varepsilon^{n}$ is left-invariant. Since  $G$  is compact and oriented,  $\\int_{G} \\omega_{G} = \\sum_{i} \\int_{G} \\psi_{i} \\omega_G \\in \\mathbb{R}^{+}$ where $\\left\\{\\psi_{i}\\right\\}$ is a subordinate smooth partition of unity, so we can define  \n",
    "\n",
    "$$\\tilde{\\omega}_{G}=\\left(\\int_{G} \\omega_{G}\\right)^{-1} \\omega_{G}.$$\n",
    "\n",
    "As a matter of fact, $\\omega_G$ is also right-invariant because $R_{g^{-1}}^*$ acts on the one-dimensional space of degree $n$ multilinear maps. But $\\pm 1$ is the only compact subgroup of $\\mathbb{R}^*$ and if $G$  is connected the action must be trivial. We shall write $\\int_{G} f(g) dg$ or $\\int_{G} f(g)$."
   ]
  },
  {
   "cell_type": "markdown",
   "id": "43fdefeb-1c6c-47bb-9a2d-f68413b9cf9e",
   "metadata": {},
   "source": [
    "### 2. Characters\n",
    "\n",
    "> A measure is left translation invariant if $\\mu(g S)=\\mu(S) \\text { for all } g \\in G$.\n",
    "\n",
    "Suppose the topological group $G$ is compact in the following. Using differential forms as above,\n",
    "\n",
    "> **Thm.** $G$ has a left Haar measure up to scalar multiplication ( a nonzero regular Borel measure that is invariant under left translation ).\n",
    "\n",
    "We shall now prove\n",
    "\n",
    "> $\\exists !$ left Haar measure up to a proportionality constant and it is a right Haar measure.\n",
    "\n",
    "**Proof.** Let  $\\mu_{l}$  be a left Haar measure, then we may define a right Haar measur $\\mu_{r}(E)=\\mu_{l}\\left(E^{-1}\\right) $. By Fubini's theorem, \n",
    "\n",
    "$$ \\begin{aligned} \\mu_{l}(G) \\mu_{r}(A) & =\\int_{G}\\left[\\int_{G} I_{A}(x) d \\mu_{r}(x)\\right] d \\mu_{l}(y)  =\\int_{G}\\left[\\int_{G} I_{A}(x y) d \\mu_{r}(x)\\right] d \\mu_{l}(y) =\\int_{G}\\left[\\int_{G} I_{A}(x y) d \\mu_{l}(y)\\right] d \\mu_{r}(x) \\\\ & =\\int_{G}\\left[\\int_{G} I_{A}(y) d \\mu_{l}(y)\\right] d \\mu_{r}(x) =\\mu_{r}(G) \\mu_{l}(A).\n",
    "\\end{aligned}$$\n",
    "\n",
    "If $\\langle\\cdot, \\cdot\\rangle$ is any Hermitian inner product on $V$, set $(u, v)=\\int_{G}\\langle g u, g v\\rangle d x$ and we $V$ admits a Hermitian inner product $(\\cdot, \\cdot)$ s.t. $g$ acts unitary transformation:\n",
    "\n",
    "$$ (u,v) = (g u, g v), \\forall g\\in G.\n",
    "$$\n",
    "\n",
    "> Define $P(v)=\\int_{G} g v$, then  $P(v)$ is a projection onto the subspace $V^{G} \\subset V$ of invariant vectors. \n",
    "\n",
    "**Proof.** It is orthogonal ( $P=P^{*}$ ) since $ ( P v, w ) = \\int_{G} ( g v, w ) = \\int_{G}\\left ( v, g^{-1} w\\right ) =  \\int_{G} \\left ( v, g w\\right ) = ( v, P w )$.\n",
    "\n",
    "> Define $\\chi_{V}(g)=\\operatorname{tr}(\\Phi(g)) =\\sum_{i}\\left(g u_{i}, u_{i}\\right)$ where $u_i$'s form orthonormal basis. ( $\\operatorname{tr}(\\xi \\otimes v) = \\xi(v)$ can be observed from $\\operatorname{End}V \\cong V^{*} \\otimes V$ ) \n",
    "\n",
    "Then it's clear that \n",
    "\n",
    "> **Prop I.** $\\int_{G} \\chi_{V}(g)=\\operatorname{dim} V^{G}$.\n",
    "> \n",
    "> **Prop II.** $\\left ( \\chi_{V}, \\chi_{W}\\right )=\\operatorname{dim} \\operatorname{Hom}^{G}(V, W)$.\n",
    ">\n",
    "> **Cor.** If  $\\chi$ is the char. of an irreducible representation, then $\\|\\chi\\|_{2}=1$. If  $\\chi$  and  $\\chi^{\\prime}$  are moreover char. of inequivalent representations, then  $\\int_{G} \\chi(g) \\overline{\\chi^{\\prime}(g)}=0$.\n",
    "\n",
    "**Proof.** We only prove the second by integrating both sides of $\\chi_{V^{*} \\otimes W}=\\chi_{V^{*}} \\chi_{W}=\\overline{\\chi_{V}} \\chi_{W}$.\n",
    "\n",
    "Using the **Cor.**, if $V$ is a irreducible rep., so is $ V \\otimes V$. More generally, \n",
    "\n",
    "> **Thm.** Let  $V, W$  be irreducible and take  $v_{1}, v_{2} \\in V$, $w_{1}, w_{2} \\in W$. Then\n",
    "> $$\\int_{G}\\left ( g v_{1}, v_{2}\\right ) \\overline{\\left\\langle g w_{1}, w_{2}\\right\\rangle}= \\begin{cases} \\frac{1}{\\operatorname{dim} V}\\left ( v_{1}, w_{1}\\right ) \\left ( v_{2}, w_{2}\\right) & \\text{ if } V \\cong W \\\\ 0 & \\text{ else } \\end{cases}.$$\n"
   ]
  },
  {
   "cell_type": "markdown",
   "id": "522dc3b6-eef7-46bb-9c7f-a7379aec9c49",
   "metadata": {},
   "source": [
    "**Proof.** Define $\\xi_{w} = \\overline{( w, u)}$, and then from the definition of $G$ acting on $W^*$, $\\overline{\\left\\langle g w_{1}, w_{2}\\right\\rangle}=g \\xi_{w_{1}}\\left(w_{2}\\right)$. Now $P(v_{1} \\otimes \\xi_{w_{1}}) = \\int_{G} g v_{1} \\otimes g \\xi_{w_{1}}$ is the orthogonal projection $P$  onto the invariant subspace of  $V \\otimes W^{*}=\\operatorname{Hom}(W, V)$. By Schur's lemma if  $V, W$  are irreducible this is zero. If  $V=W$, then  $P(A) = \\lambda I \\in \\operatorname{End} V$, which follows that $\\operatorname{tr}( A) = \\operatorname{tr}(P(A)) = \\lambda \\operatorname{dim}(V) \\implies P(A) = \\frac{1}{\\operatorname{dim} V}(\\operatorname{tr} A) I$. Therefore, \n",
    "\n",
    "$$P\\left(v_{1} \\otimes \\xi_{w_{1}}\\right)=\\xi_{w_{1}}\\left(v_{1}\\right) I / \\operatorname{dim} V=\\overline{\\left( w_{1}, v_{1}\\right)} I / \\operatorname{dim} V=   \\left( v_{1}, w_{1}\\right) I / \\operatorname{dim}V.$$\n",
    "\n",
    "Evaluating  $g v_{1} \\otimes g \\xi_{w_{1}} \\in V \\otimes V^{*}$  on  $\\xi_{v_{2}} \\otimes w_{2} $ gives $\\left( g v_{1}, v_{2}\\right)\\left( w_{2}, g w_{1}\\right)=\\left( g v_{1}, v_{2}\\right) \\overline{\\left( g w_{1}, w_{2}\\right)}$ and so\n",
    "\n",
    "$$\\int_{G}\\left( g v_{1}, v_{2}\\right) \\overline{\\left( g w_{1}, w_{2}\\right)} = \\frac{1}{\\operatorname{dim} V}\\left( v_{1}, w_{1}\\right) \\big(\\sum_{i}e_i\\otimes f_i\\big)\\left(\\xi_{v_{2}} \\otimes w_{2}\\right) = \\frac{1}{\\operatorname{dim} V}\\left( v_{1}, w_{1}\\right) \\operatorname{tr}\\left(\\xi_{v_{2}} \\otimes w_{2}\\right)=\\frac{1}{\\operatorname{dim} V}\\left( v_{1}, w_{1}\\right)\\left( v_{2}, w_{2}\\right)$$\n",
    "\n",
    "where $e_i$ forms a orthonormal basis and $f_i$ forms its dual."
   ]
  },
  {
   "cell_type": "markdown",
   "id": "35ccbc05-412c-499b-8df3-6161880ddf04",
   "metadata": {},
   "source": [
    "Write  $$\\Phi = \\Phi_{1} \\oplus \\ldots \\oplus \\Phi_{n}.$$ \n",
    "\n",
    "If  $\\tau$  is irreducible, then the corollary show that  $\\int_{G} \\chi_{\\Phi}(g) \\overline{\\chi_{\\tau}(g)} $  is the number of summands  $\\Phi_{i}$  equivalent with  $\\tau$, the number of which is called the **multiplicity** of  $\\tau$  in  $\\Phi$ and is independent of the decomposition of  $\\Phi$  into irreducible representations.\n",
    "\n",
    "Let  $\\left\\{\\Phi^{(\\alpha)}\\right\\}$  be a maximal set of mutually inequivalent finite-dimensional irreducible unitary representations of $G$. Then $\\left\\{\\Phi_{i j}^{(\\alpha)}(g)\\right\\}_{i, j, \\alpha}$  form an orthogonal set in  $L^{2}(G)$. In fact, if  $d^{(\\alpha)}$  denotes the degree of  $\\Phi^{(\\alpha)}$  (i.e., the dimension of $V^{(\\alpha)}$), then  $\\left\\{\\left(d^{(\\alpha)}\\right)^{1 / 2} \\Phi_{i j}^{(\\alpha)}(g)\\right\\}_{i, j, \\alpha}$  is an orthonormal set in  $L^{2}(G)$. The Peter-Weyl Theorem shows that this orthonormal set is an orthonormal basis.\n",
    "\n",
    "> ( **Peter-Weyl** ). The linear span of all matrix coefficients for all irreducible unitary representations of  $G$  is dense in  $L^{2}(G)$.\n",
    ">\n",
    "> ( **Peter-Weyl II** ) $L^{2}(G) \\cong \\hat{\\bigoplus} V_{L}^{\\oplus \\operatorname{dim} V_{L}} \\cong \\hat{\\bigoplus} V_{L} \\otimes V_{R}^{*}$ where both sides are rep. of $ G\\times G$. ( the set of matrix coefficients for $V$ $\\equiv$ $\\{ \\varphi=L \\circ \\Phi$ where $L\\in \\operatorname{End}\\left(V\\right)^*$ $\\}$  $\\cong \\operatorname{End}\\left(V\\right)$ ) \n",
    "> \n",
    "> **Cor**. Any compact Lie group  $G$  has a 1-1 finite dimensional representation ( $\\implies$ $G \\cong$ some closed linear group ).\n",
    "\n",
    "**Proof.** It follows from **Peter-Weyl** that for each  $g \\neq 1$  in  $G$, $\\exists \\Phi_{g}$   s.t. $\\Phi_{g}(g) \\neq 1$. If the identity component  $G_{0}$  is not  $\\{1\\}$, pick  $g_{1} \\neq 1$  in the identity component  $G_{0}$. Then  $G_{1}=\\operatorname{ker} \\Phi_{g_{1}}$  is a closed subgroup of  $G$, and its identity component is a proper subgroup of  $G_{0}$. If  $\\left(G_{1}\\right)_{0} \\neq\\{1\\}$, pick  $g_{2} \\neq 1$  in  $\\left(G_{1}\\right)_{0}$. Then  $G_{2}=\\operatorname{ker}\\left(\\Phi_{g_{1}} \\oplus \\Phi_{g_{2}}\\right)$  is a closed subgroup of  $G_{1}$, and its identity component is a proper subgroup of  $\\left(G_{1}\\right)_{0}$. Continuing in this way and using the finite-dimensionality of  $G$ and the correspondence between Lie groups and Lie algebra, we see that we can find a finite-dimensional representation  $\\Phi_{0}$  of  $G$  s.t.  $\\operatorname{ker} \\Phi_{0}$  is  $\\mathbf{0}$-dimensional. Then  $\\operatorname{ker} \\Phi_{0}$  is finite, being a compact  $\\mathbf{0}$-dimensional Lie group. Say  $\\operatorname{ker} \\Phi_{0}=\\left\\{g_{1}, \\ldots, g_{n}\\right\\}$. Then\n",
    "\n",
    "$$\\Phi=\\Phi_{0} \\oplus \\bigoplus_{j=1}^{n} \\Phi_{g_{j}}$$\n",
    "\n",
    "is a one-one finite-dimensional representation of  $G$."
   ]
  },
  {
   "cell_type": "code",
   "execution_count": null,
   "id": "815ede25-ff06-4141-9225-63674592d614",
   "metadata": {},
   "outputs": [],
   "source": []
  },
  {
   "cell_type": "code",
   "execution_count": null,
   "id": "c8cd68a6-30ab-44e7-ab24-7f14a6994881",
   "metadata": {},
   "outputs": [],
   "source": []
  },
  {
   "cell_type": "markdown",
   "id": "23596009-5455-4eb4-a463-ace7f703e69a",
   "metadata": {},
   "source": [
    "### 2. Maximum Tori\n",
    "\n",
    "Let  $\\mathfrak{g}$  be a real Lie algebra.\n",
    "\n",
    "> $\\operatorname{Int} \\mathfrak{g}$ is the analytic subgroup of $\\operatorname{Aut}_{\\mathbb{R}} g$ with Lie algebra $\\operatorname{ad} \\mathfrak{g}$.\n",
    "\n",
    "It is is a universal version of the group of inner automorphisms: suppose  $\\mathfrak{g}$  is the Lie algebra of $G$. Recall that  $\\operatorname{Ad}(g)$  is the differential at the identity of $x \\mapsto g x g^{-1}$. Then it's clear that  $g \\mapsto \\operatorname{Ad}(g)$  is a smooth homomorphism, and we may regard  $\\operatorname{Ad}(G)$  as a Lie subgroup of  $\\operatorname{Aut}_{\\mathbb{R}} \\mathfrak{g}$. As such, its Lie algebra is $\\operatorname{ad}g$. By definition the analytic subgroup of $\\operatorname{Aut}_{\\mathbb{R}}(\\mathfrak{g})$  with Lie algebra $\\operatorname{ad}\\mathfrak{g}$  is $\\operatorname{Int} \\mathfrak{g}$. Thus $\\operatorname{Int} \\mathfrak{g}$  is the identity component of  $\\operatorname{Ad}(G)$  and equals  $\\operatorname{Ad}(G)$  if  $G $ is connected. In this sense $\\operatorname{Int} \\mathfrak{g}$  can be defined without reference to a particular group  $G$.\n",
    "\n",
    "We say that  $\\mathfrak{g}$  is a compact Lie algebra if $\\operatorname{Int} \\mathfrak{g}$  is compact. \n",
    "\n",
    "> A **torus** in  $G$  is a Lie subgroup isomorphic to  $T^{n}=S^{1} \\times \\cdots \\times S^{1}$."
   ]
  },
  {
   "cell_type": "code",
   "execution_count": null,
   "id": "8ce07f3a-5a09-4765-8984-c6dee2781318",
   "metadata": {},
   "outputs": [],
   "source": []
  },
  {
   "cell_type": "markdown",
   "id": "b76d6a89-b888-4af7-8b3a-7a6ec71e4ad7",
   "metadata": {},
   "source": []
  },
  {
   "cell_type": "markdown",
   "id": "03f5331e",
   "metadata": {},
   "source": [
    "---\n",
    "\n",
    "### Reference\n",
    "\n",
    "1. Knapp, Anthony W. Lie Groups beyond an Introduction. Birkhäuser, 2005. \n",
    "2. Lee, John M. Introduction to Smooth Manifolds. Springer, 2013. "
   ]
  },
  {
   "cell_type": "code",
   "execution_count": null,
   "id": "817beb35",
   "metadata": {},
   "outputs": [],
   "source": []
  },
  {
   "cell_type": "code",
   "execution_count": null,
   "id": "fbed8615",
   "metadata": {},
   "outputs": [],
   "source": []
  },
  {
   "cell_type": "code",
   "execution_count": null,
   "id": "a39f90e8",
   "metadata": {},
   "outputs": [],
   "source": []
  },
  {
   "cell_type": "code",
   "execution_count": null,
   "id": "43f770f3-809b-494e-9db6-60b3b1e3fe09",
   "metadata": {},
   "outputs": [],
   "source": []
  }
 ],
 "metadata": {
  "kernelspec": {
   "display_name": "Python 3",
   "language": "python",
   "name": "python3"
  },
  "language_info": {
   "codemirror_mode": {
    "name": "ipython",
    "version": 3
   },
   "file_extension": ".py",
   "mimetype": "text/x-python",
   "name": "python",
   "nbconvert_exporter": "python",
   "pygments_lexer": "ipython3",
   "version": "3.8.13"
  }
 },
 "nbformat": 4,
 "nbformat_minor": 5
}
