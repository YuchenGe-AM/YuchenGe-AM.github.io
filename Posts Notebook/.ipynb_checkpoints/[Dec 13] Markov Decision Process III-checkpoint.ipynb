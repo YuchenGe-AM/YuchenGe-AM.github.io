{
 "cells": [
  {
   "cell_type": "markdown",
   "id": "a4ecbc3a",
   "metadata": {},
   "source": [
    "## [Dec 13] Markov Decision Process III\n",
    "\n",
    "Presenter: Yuchen Ge  \n",
    "Affiliation: University of Oxford  \n",
    "Contact Email: gycdwwd@gmail.com  \n",
    "Website: https://yuchenge-am.github.io"
   ]
  },
  {
   "cell_type": "markdown",
   "id": "f716c726",
   "metadata": {},
   "source": [
    "----"
   ]
  },
  {
   "cell_type": "markdown",
   "id": "46070a99-0525-4f2b-b5b8-775c2778deef",
   "metadata": {},
   "source": [
    "### 1. DP and the Bellman equation\n",
    "\n",
    "We consider a quintuple  $\\left(\\mathcal{Z}, \\mathcal{U}, F, P_{Z}, g\\right)$ where each action $u_{t} \\in \\mathcal{U} \\in \\mathbb{R}^n$ with $\\mathcal{U}$ being compact and each state $z_{t} \\in \\mathbb{R}^m$. Consider a discretetime dynamical system with\n",
    "\n",
    "$$z_{t}=F\\left(z_{t-1}, u_{t}\\right) \\quad  \\text{ and } \\quad  u_{t} = \\mu_{t}( z_{0} ).$$\n",
    "\n",
    "\n",
    "\n",
    "\n",
    "\n",
    "\n"
   ]
  },
  {
   "cell_type": "markdown",
   "id": "03f5331e",
   "metadata": {},
   "source": [
    "---\n",
    "\n",
    "### Reference\n",
    "\n",
    "1. Robert G. Gallager. Discrete Stochastic Processes.\n",
    "2. Robert G. Gallager. Information Theory and Reliable Communication.\n",
    "3. Gerhard Kramer. Directed Information for Channels with Feedback.\n",
    "3. Haim Henry Permuter. Finite State Channels With Time-Invariant Deterministic Feedback.\n",
    "4. Haim Henry Permuter. To Feed or Not to Feed Back.\n",
    "5. Bashar Huleihel. Computable Upper Bounds on the Capacity of Finite-State Channels.\n",
    "6. Bashar Huleihel. Capacity of Finite-State Channels with Delayed Feedback."
   ]
  },
  {
   "cell_type": "code",
   "execution_count": null,
   "id": "f751ef01-00a1-45fe-abce-acd8d9ab2cf3",
   "metadata": {},
   "outputs": [],
   "source": []
  }
 ],
 "metadata": {
  "kernelspec": {
   "display_name": "Python 3",
   "language": "python",
   "name": "python3"
  },
  "language_info": {
   "codemirror_mode": {
    "name": "ipython",
    "version": 3
   },
   "file_extension": ".py",
   "mimetype": "text/x-python",
   "name": "python",
   "nbconvert_exporter": "python",
   "pygments_lexer": "ipython3",
   "version": "3.8.13"
  }
 },
 "nbformat": 4,
 "nbformat_minor": 5
}
