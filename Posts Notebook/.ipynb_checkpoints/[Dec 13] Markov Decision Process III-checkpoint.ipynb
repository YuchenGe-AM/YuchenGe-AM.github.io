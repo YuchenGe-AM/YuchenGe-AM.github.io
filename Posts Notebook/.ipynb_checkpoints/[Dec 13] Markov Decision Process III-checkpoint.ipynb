{
 "cells": [
  {
   "cell_type": "markdown",
   "id": "a4ecbc3a",
   "metadata": {},
   "source": [
    "## [Dec 13] Markov Decision Process III\n",
    "\n",
    "Presenter: Yuchen Ge  \n",
    "Affiliation: University of Oxford  \n",
    "Contact Email: gycdwwd@gmail.com  \n",
    "Website: https://yuchenge-am.github.io"
   ]
  },
  {
   "cell_type": "markdown",
   "id": "f716c726",
   "metadata": {},
   "source": [
    "----"
   ]
  },
  {
   "cell_type": "markdown",
   "id": "518d7d55-70c7-4268-b683-f55cfaad09b8",
   "metadata": {},
   "source": [
    "### 1. Unifilar FSC"
   ]
  },
  {
   "cell_type": "markdown",
   "id": "f2487599-00f8-4e77-8395-0039b8e15119",
   "metadata": {},
   "source": [
    "We already know that \n",
    "\n",
    "$$\\lim _{N \\rightarrow \\infty} \\frac{1}{N} \\max _{p\\left(x^{N}|| y^{N-1}\\right)} \\max _{s_{0}} I\\left(X^{N} \\rightarrow Y^{N} \\mid s_{0}\\right) \\geq C_{F B} \\geq \\lim _{N \\rightarrow \\infty} \\frac{1}{N} \\max _{p\\left(x^{N}|| y^{N-1}\\right)} \\min _{s_{0}} I\\left(X^{N} \\rightarrow Y^{N} \\mid s_{0}\\right).$$\n",
    "\n",
    "\n",
    "A unifilar  FSC  is one FSC with $p\\left(y_{t}, s_{t} \\mid x_{t}, s_{t-1}\\right)$ s.t. $s_{t}=f\\left(s_{t-1}, x_{t}, y_{t}\\right)$. We also assume \n",
    "\n",
    "$$ \\text{ The initial state is known both to the decoder and to the encoder.} \\implies \\text{ The encoder knows the state of the channel at any time $t$. } $$\n",
    "\n",
    "For this, simply set $Y_{0}=S_{0}$ and $X_0$ arbitrarily.\n",
    "\n",
    "Then we have \n",
    "\n",
    "$$ I\\left(X_{0}^{N} \\rightarrow Y_{0}^{N} \\mid s_{0}\\right)=I\\left(X^{N} \\rightarrow Y^{N} \\mid s_{0}\\right)\\quad \\text{ and } \\quad p\\left(x_{0}^{N} \\|\\left\\{s_{0}, y^{N-1}\\right\\}\\right)=p\\left(x^{N} \\| y^{N-1}, s_{0}\\right), $$\n",
    "\n",
    "which follows that the capacity of a channel with feedback for which $s_0$ is known both at the encoder and the decoder  satisfies\n",
    "\n",
    "$$ \\lim _{N \\rightarrow \\infty} \\frac{1}{N} \\max _{p\\left(x^{N} \\| y^{N-1}, s_{0}\\right)} \\max _{s_{0}} I\\left(X^{N} \\rightarrow Y^{N} \\mid s_{0}\\right) \\geq C_{F B} \\geq \\lim _{N \\rightarrow \\infty} \\frac{1}{N} \\max _{p\\left(x^{N} \\| y^{N-1}, s_{0}\\right)} \\min _{s_{0}} I\\left(X^{N} \\rightarrow Y^{N} \\mid s_{0}\\right). $$\n",
    "\n",
    "For strongly connected FSC, we surprisingly have \n",
    "\n",
    "> **Def.** A FSC is **strongly connected** if for any state  $s$  there exists an integer  $T$  and an input distribution of the form  $\\left\\{p\\left(x_{t} \\mid s_{t-1}\\right)\\right\\}_{t=1}^{T}$  s.t. \n",
    ">\n",
    "> $$\\sum_{t=1}^{T} P\\left(S_{t}=s \\mid S_{0}=s^{\\prime}\\right)>0, \\quad \\forall s \\in \\mathcal{S}, \\forall s^{\\prime} \\in \\mathcal{S}.$$\n",
    ">\n",
    "> **Thm I.** If the FSC is strongly connected, then $\\forall p_{1}\\left(x^{N} \\| y^{N-1}, s_{0}\\right)$  and  $s_{0}^{\\prime}$, $\\exists$  $p_{2}\\left(x^{N} \\| y^{N-1}, s_{0}^{\\prime}\\right)$ s.t.\n",
    ">\n",
    "> $$ \\frac{1}{N}\\left|I_{p_{1}}\\left(X^{N} \\rightarrow Y^{N} \\mid s_{0}\\right)-I_{p_{2}}\\left(X^{N} \\rightarrow Y^{N} \\mid s_{0}^{\\prime}\\right)\\right| \\leq \\frac{c}{N} $$\n",
    "\n",
    "**Proof.** Construct  $p_{2}\\left(x^{N} \\| y^{N}, s_{0}^{\\prime}\\right)$  as follows. Use an input distribution, which has a positive probability of reaching  $s_{0}$  within  $T$  time epochs. Denote the first time that the state of the channel equals  $s_{0}$  by  $L$. For $t>L$, let $p_{2}\\left(x_{t} \\mid x^{t-1}, y^{t-1}, s_{0}\\right)=   p_{1}\\left(x_{t-L} \\mid x^{t-L-1}, y^{t-L-1}, s_{0}\\right)$. Then \n",
    "\n",
    "\n",
    "$$\\begin{aligned}\n",
    "& \\frac{1}{N}\\left|I_{p_{1}}\\left(X^{N} \\rightarrow Y^{N} \\mid s_{0}\\right)-I_{p_{2}}\\left(X^{N} \\rightarrow Y^{N} \\mid s_{0}^{\\prime}\\right)\\right| \\\\\n",
    "\\leq &  \\frac{1}{N}\\left|I_{p_{1}}\\left(X^{N} \\rightarrow Y^{N} \\mid s_{0}\\right)-I_{p_{2}}\\left(X^{N} \\rightarrow Y^{N} \\mid L, s_{0}^{\\prime}\\right)\\right|+\\frac{1}{N} H(L) \\\\\n",
    "= & \\frac{1}{N}\\left|\\sum_{l=1}^{\\infty} p(L=l) I_{p_{1}}\\left(X^{N} \\rightarrow Y^{N} \\mid s_{0}\\right)-\\sum_{l=1}^{\\infty} p(L=l)\\left(I_{p_{2}}\\left(X_{l}^{N} \\rightarrow Y_{l}^{N} \\mid s_{l}\\right)+I_{p_{2}}\\left(X^{l} \\rightarrow Y^{l} \\mid s_{l}, s_{0}^{\\prime}\\right)\\right)\\right|+\\frac{1}{N} H(L) \\\\\n",
    "\\leq & \\frac{1}{N}\\left|\\sum_{l=1}^{\\infty} p(L=l) I_{p_{1}}\\left(X^{N} \\rightarrow Y^{N} \\mid s_{0}\\right)-\\sum_{l=1}^{\\infty} p(L=l) I_{p_{2}}\\left(X_{l}^{N} \\rightarrow Y_{l}^{N} \\mid s_{l}\\right)\\right| +\\frac{1}{N}\\left|\\sum_{l=1}^{\\infty} p(L=l) I_{p_{2}}\\left(X^{l} \\rightarrow Y^{l} \\mid s_{l}, s_{0}^{\\prime}\\right)\\right|+\\frac{1}{N} H(L) \\\\\n",
    "\\leq & \\frac{2}{N} \\sum_{l=1}^{\\infty} p(L=l) \\log |\\mathcal{Y}|^l +\\frac{1}{N} H(L) = \\frac{1}{N}(\\log |\\mathcal{Y}| \\mathbb{E}[L]+H(L)).\n",
    "\\end{aligned}$$"
   ]
  },
  {
   "cell_type": "markdown",
   "id": "717195d2-4bb2-4d09-ae46-4fb106a4e578",
   "metadata": {},
   "source": [
    "We already have\n",
    "\n",
    "$$ \\lim _{N \\rightarrow \\infty} \\frac{1}{N} \\max _{p\\left(x^{N} \\| y^{N-1}, s_{0}\\right)} I\\left(X^{N} \\rightarrow Y^{N} \\mid S_{0}\\right) = \\lim _{N \\rightarrow \\infty} \\frac{1}{N} \\max _{p\\left(x^{N} \\| y^{N-1}, s_{0}\\right)} \\sum_{s_{0}} p\\left(s_{0}\\right) I\\left(X^{N} \\rightarrow Y^{N} \\mid s_{0}\\right) = \\lim _{N \\rightarrow \\infty} \\frac{1}{N} \\sum_{s_{0}} p\\left(s_{0}\\right) \\max _{p\\left(x^{N} \\| y^{N-1}, s_{0}\\right)} I\\left(X^{N} \\rightarrow Y^{N} \\mid s_{0}\\right).$$\n",
    "\n",
    "Then use **Thm I** to get\n",
    "\n",
    "$$\\begin{aligned}\n",
    "\\lim _{N \\rightarrow \\infty} \\frac{1}{N} \\sum_{s_{0}} p\\left(s_{0}\\right) \\max _{p\\left(x^{N} \\| y^{N-1}, s_{0}\\right)} I\\left(X^{N} \\rightarrow Y^{N} \\mid s_{0}\\right) = & \\lim _{N \\rightarrow \\infty} \\frac{1}{N} \\min _{s_{0}} \\bigg/ \\max_{s_{0}}  \\max _{p\\left(x^{N} \\| y^{N-1}, s_{0}\\right)} I\\left(X^{N} \\rightarrow Y^{N} \\mid s_{0}\\right) \\\\\n",
    "= & \\lim _{N \\rightarrow \\infty} \\frac{1}{N} \\max _{p\\left(x^{N} \\| y^{N-1}, s_{0}\\right)} \\min _{s_{0}} \\bigg/ \\max_{s_{0}}I\\left(X^{N} \\rightarrow Y^{N} \\mid s_{0}\\right) .\n",
    "\\end{aligned}$$\n",
    "\n",
    "The last equality follows from the observation that $p^{*}\\left(x^{N} \\| y^{N-1}, s_{0}\\right)$ which achieves $\\max _{p\\left(x^{N}|| y^{N-1}, s_{0}\\right)} I\\left(X^{N} \\rightarrow Y^{N} \\mid s_{0}\\right)$ equals $\\arg \\max _{p\\left(x^{N} \\| y^{N-1}, s_{0}\\right)} I\\left(X^{N} \\rightarrow Y^{N} \\mid s_{0}\\right)$. Therefore,\n",
    "\n",
    "> For **strongly connected unifilar FSC**, \n",
    ">\n",
    "> $$ \\lim _{N \\rightarrow \\infty} \\frac{1}{N} \\max _{p\\left(x^{N} \\| y^{N-1}, s_{0}\\right)} I\\left(X^{N} \\rightarrow Y^{N} \\mid S_{0}\\right) = \\lim _{N \\rightarrow \\infty} \\frac{1}{N} \\max _{p\\left(x^{N} \\| y^{N-1}, s_{0}\\right)} \\min _{s_{0}} \\bigg/ \\max_{s_{0}}I\\left(X^{N} \\rightarrow Y^{N} \\mid s_{0}\\right) .$$\n",
    "\n",
    "From we have obtained, for **strongly connected unifilar FSC** \n",
    "\n",
    "$$ \\begin{aligned}\n",
    "C_{F B} & = \\lim _{N \\rightarrow \\infty} \\frac{1}{N} \\max _{p\\left(x^{N} \\| y^{N-1}, s_{0}\\right)} \\min _{s_{0}} I\\left(X^{N} \\rightarrow Y^{N} \\mid s_{0}\\right) = \\lim _{N \\rightarrow \\infty} \\frac{1}{N} \\max _{p\\left(x^{N} \\| y^{N-1}, s_{0}\\right)} I\\left(X^{N} \\rightarrow Y^{N} \\mid S_{0}\\right) \\\\\n",
    "& =\\lim _{N \\rightarrow \\infty} \\frac{1}{N} \\max _{p\\left(x^{N} \\| y^{N-1}, s_{0}\\right)} \\sum_{t=1}^{N} I\\left(X_{t}, S_{t-1} ; Y_{t} \\mid Y^{t-1}\\right)  = \\lim _{N \\rightarrow \\infty} \\frac{1}{N} \\max _{\\left\\{p\\left(x_{t} \\mid s_{t-1}, y^{t-1}\\right)\\right\\}_{t=1}^{N}} \\sum_{t=1}^{N} I\\left(X_{t}, S_{t-1} ; Y_{t} \\mid Y^{t-1}\\right) .\n",
    "\\end{aligned} $$\n",
    "\n",
    "Finally, we have proved\n",
    "\n",
    "> For **strongly connected unifilar FSC**, \n",
    ">\n",
    "> $$C_{F B}=\\lim _{N \\rightarrow \\infty} \\frac{1}{N} \\max _{\\left\\{p\\left(x_{t} \\mid s_{t-1}, y^{t-1}\\right)\\right\\}_{t=1}^{N}} \\sum_{t=1}^{N} I\\left(X_{t}, S_{t-1} ; Y_{t} \\mid Y^{t-1}\\right).$$\n"
   ]
  },
  {
   "cell_type": "markdown",
   "id": "7b6dd568-6ec4-446c-bc76-84ee1e1893d0",
   "metadata": {},
   "source": [
    "In the proof we have used some facts below.\n",
    "\n",
    "> **Prop I.** $$ I\\left(X^{N} \\rightarrow Y^{N} \\mid S_{0}\\right) = \\sum_{t=1}^{N} I\\left(S_{t-1}, X_{t} ; Y_{t} \\mid Y^{t-1}, S_{0}\\right). $$ \n",
    ">\n",
    "> **Prop II.**  $p_{1}\\left(x_{t} \\mid x^{t-1}, y^{t-1}, s_{0}\\right)$  and  $p_{2}\\left(x_{t} \\mid x^{t-1}, y^{t-1}, s_{0}\\right)$ induces the same $p\\left(x_{t} \\mid s_{t-1}, y^{t-1}\\right)$ $\\implies$  $p\\left(s_{t-1}, x_{t}, y^{t}\\right)$  are equal under both inputs.\n",
    "\n",
    "**Proof.** For the first observe that \n",
    "\n",
    "$$ I\\left(X^{N} \\rightarrow Y^{N} \\mid S_{0}\\right) = \\sum_{t=1}^{N} H\\left(Y_{t} \\mid Y^{t-1}, S_{0}\\right)-H\\left(Y_{t} \\mid X^{t}, Y^{t-1}, S_{0}, S^{t-1}\\left(X^{t}, Y^{t-1}, S_{0}\\right)\\right) = \\sum_{t=1}^{N} I\\left(S_{t-1}, X_{t} ; Y_{t} \\mid Y^{t-1}, S_{0}\\right).\n",
    "$$\n",
    "\n",
    "For the second, use induction and observe that \n",
    "\n",
    "$$p\\left(s_{t}, x_{t+1}, y^{t+1}\\right)=p\\left(s_{t}, y^{t}\\right) p\\left(x_{t+1} \\mid s_{t}, y^{t}\\right) p\\left(y_{t+1} \\mid x_{t+1}, s_{t}\\right).$$\n",
    "\n",
    "---"
   ]
  },
  {
   "cell_type": "markdown",
   "id": "c65079c4-89a7-423b-88f0-e35e5664b7c0",
   "metadata": {},
   "source": [
    "### 2. DP Formulation\n",
    "\n",
    "\n",
    "\n",
    "\n",
    "\n",
    "\n",
    "\n",
    "\n",
    "\n",
    "\n",
    "\n",
    "\n",
    "\n",
    "\n",
    "\n",
    "\n",
    "\n",
    "\n"
   ]
  },
  {
   "cell_type": "markdown",
   "id": "1f4c2a15-a4b2-4f0d-b84b-2836094d6b85",
   "metadata": {},
   "source": [
    "We shall use the observation below\n",
    "\n",
    "> **Observation I.** For any FSC the following equality holds:\n",
    ">\n",
    "> $$\\lim _{N \\rightarrow \\infty} \\frac{1}{N} \\max _{p\\left(x^{N}|| y^{N-1}, s_{0}\\right)} \\min _{s_{0}} I\\left(X^{N} \\rightarrow Y^{N} \\mid s_{0}\\right)=\\sup _{\\left\\{P\\left(x_{t} \\mid y^{t-1}, x^{t-1}, s_{0}\\right)\\right\\}_{t \\geq 1}} \\liminf _{N \\rightarrow \\infty} \\frac{1}{N} \\min _{s_{0}} I\\left(X^{N} \\rightarrow Y^{N} \\mid s_{0}\\right) .$$\n",
    ">\n",
    "> In particular, for a strongly connected unifilar FSC\n",
    ">\n",
    "> $$\\lim _{N \\rightarrow \\infty} \\frac{1}{N} \\max _{\\left\\{p\\left(x_{t} \\mid s_{t-1}, y^{t-1}\\right)\\right\\}_{t=1}^{N}} \\sum_{t=1}^{N} I\\left(X_{t}, S_{t-1} ; Y_{t} \\mid Y^{t-1}\\right)=\\sup _{\\left\\{p\\left(x_{t} \\mid s_{t-1}, y^{t-1}\\right)\\right\\}_{t \\geq 1}} \\liminf _{N \\rightarrow \\infty} \\frac{1}{N} \\sum_{t=1}^{N} I\\left(X_{t}, S_{t-1} ; Y_{t} \\mid Y^{t-1}\\right).$$\n",
    "\n",
    "A discrete-time dynamic system evolving according to\n",
    "\n",
    "> $z_{t}=F\\left(z_{t-1}, u_{t}, w_{t}\\right)$ where each state  $z_{t}$  takes values in a Borel space  $\\mathcal{Z}$, each action  $u_{t}$  takes values in a compact subset  $\\mathcal{U}$  of a Borel space, and each disturbance  $w_{t}$ is drawn from $P_{w}\\left(\\cdot \\mid z_{t-1}, u_{t}\\right)$.\n",
    "\n",
    "The history $h_{t}=\\left(z_{0}, w_{0}, \\ldots, w_{t-1}\\right)$ summarizes information available prior to $u_t$. \n",
    "\n",
    "> A policy is $\\pi=\\left\\{\\mu_{1}, \\mu_{2}, \\ldots\\right\\}$ where $u_{t}=\\mu_{t}\\left(h_{t}\\right)$. A policy  $\\pi$  is stationary if $\\mu_{t}\\left(h_{t}\\right)=\\mu\\left(z_{t-1}\\right)$, $\\forall  t$  and  $h_{t}$. \n",
    ">\n",
    "> Correspondingly, the average reward and the optimal award is defined as \n",
    ">\n",
    "> $$\\rho_{\\pi}=\\liminf _{N \\rightarrow \\infty} \\frac{1}{N} \\mathbb{E}_{\\pi}\\left\\{\\sum_{t=0}^{N-1} g\\left(Z_{t}, \\mu_{t+1}\\left(h_{t+1}\\right)\\right)\\right\\} \\quad \\text{ and } \\quad \\rho^{*}=\\sup _{\\pi} \\rho_{\\pi} .$$"
   ]
  },
  {
   "cell_type": "markdown",
   "id": "18269e0a-aa1d-49fa-9ca1-2b2cccb2ddcd",
   "metadata": {},
   "source": [
    "Define the state $z_t = \\beta_{t}$ where $ \\beta_{t}\\left(s_{t}\\right) := p\\left(s_{t} \\mid y^{t}\\right)$ is the $|\\mathcal{S}|$-dimensional vector at time $t$, the distubance $w_t=y_t$, and the action $u_{t}\\left(s_{t-1}, x_{t}\\right) = p\\left(x_{t} \\mid s_{t-1}, y^{t-1}\\right)$.\n",
    "\n",
    "Then the policy satisfies $\\mu_t( z_0, y_1, y_2, ..., y_{t-1}) = u_{t}\\left(s_{t-1}, x_{t}\\right)$. One finds that \n",
    "\n",
    "$$\\begin{aligned}\n",
    "\\beta_{t}\\left(s_{t}\\right) = p\\left(s_{t} \\mid y^{t}\\right) = \\sum_{x_{t}, s_{t-1}} \\frac{p\\left(s_{t}, s_{t-1}, x_{t}, y_{t} \\mid y^{t-1}\\right)}{p\\left(y_{t} \\mid y^{t-1}\\right)} & = \\sum_{x_{t}, s_{t-1}} \\frac{p\\left(s_{t-1} \\mid y^{t-1}\\right) p\\left(x_{t} \\mid s_{t-1}, y^{t-1}\\right) p\\left(y_{t} \\mid s_{t-1}, x_{t}\\right) p\\left(s_{t} \\mid s_{t-1}, x_{t}, y_{t}\\right)}{p\\left(y_{t} \\mid y^{t-1}\\right)} \\\\\n",
    "& =\\frac{\\sum_{x_{t}, s_{t-1}} \\beta_{t-1}\\left(s_{t-1}\\right) p\\left(x_{t} \\mid s_{t-1}, y^{t-1}\\right) p\\left(y_{t} \\mid s_{t-1}, x_{t}\\right) p\\left(s_{t} \\mid s_{t-1}, x_{t}, y_{t}\\right)}{\\sum_{x_{t}, s_{t}, s_{t-1}} \\beta_{t-1}\\left(s_{t-1}\\right) p\\left(x_{t} \\mid s_{t-1}, y^{t-1}\\right) p\\left(y_{t} \\mid s_{t-1}, x_{t}\\right) p\\left(s_{t} \\mid s_{t-1}, x_{t}, y_{t}\\right)} \\\\\n",
    "& =\\frac{\\sum_{x_{t}, s_{t-1}} \\beta_{t-1}\\left(s_{t-1}\\right) u_{t}\\left(s_{t-1}, x_{t}\\right) p\\left(y_{t} \\mid s_{t-1}, x_{t}\\right) \\mathbf{1}\\left(s_{t}=f\\left(s_{t-1}, x_{t}, y_{t}\\right)\\right)}{\\sum_{x_{t}, s_{t}, s_{t-1}} \\beta_{t-1}\\left(s_{t-1}\\right) u_{t}\\left(s_{t-1}, x_{t}\\right) p\\left(y_{t} \\mid s_{t-1}, x_{t}\\right) \\mathbf{1}\\left(s_{t}=f\\left(s_{t-1}, x_{t}, y_{t}\\right)\\right)}\n",
    "\\end{aligned}$$"
   ]
  },
  {
   "cell_type": "markdown",
   "id": "9bdd748c-4b73-41d0-9abb-e922f40c85c2",
   "metadata": {},
   "source": [
    ">  **Thm I.** $\\exists$ a function $F$ s.t. $z_{t}=F\\left(z_{t-1}, u_{t}, w_{t}\\right)$.\n",
    ">\n",
    "> **Thm II.** $C_{FB}$ can be expressed as the optimal average reward.\n",
    "\n",
    "**Proof.** For the first, $\\beta_{t} $ is determined by  $\\beta_{t-1}$, $u_{t}$, and  $y_{t}$ as is seen above. For the second, consider \n",
    "\n",
    "$$\\begin{aligned}\n",
    "g\\left(z_{t-1}, u_{t}\\right) = p\\left(x_{t}, y_{t}, s_{t-1} \\mid y^{t-1}\\right) & =p\\left(s_{t-1} \\mid y^{t-1}\\right) p\\left(x_{t} \\mid s_{t-1}, y^{t-1}\\right) p\\left(y_{t} \\mid x_{t}, s_{t-1}\\right) \\\\\n",
    "& =\\beta_{t-1}\\left(s_{t-1}\\right) u_{t}\\left(s_{t-1}, x_{t}\\right) p\\left(y_{t} \\mid x_{t}, s_{t-1}\\right)\n",
    "\\end{aligned}$$\n",
    "\n",
    "which depends only on $\\beta_{t-1}$ and $u_{t}$. Hence, $$ \\rho^{*}=\\sup _{\\pi} \\liminf _{N \\rightarrow \\infty} \\frac{1}{N} \\mathbb{E}_{\\pi}\\left[\\sum_{t=1}^{N} I\\left(X_{t}, S_{t-1} ; Y_{t} \\mid Y^{t-1}\\right)\\right]=C_{F B}\n",
    "$$\n",
    "\n",
    "where **observation I** is used."
   ]
  },
  {
   "cell_type": "markdown",
   "id": "c86a5e95-999a-4029-bb66-5fe6047f0c9c",
   "metadata": {},
   "source": [
    "Remark that here we allow the state to be determined by the previous outputs and inputs.\n",
    "\n",
    "> **Cor I.** Fix $S_i = Y_i$. If for some capacity-achieving policy $\\pi^*$ s.t. $\\mu^*_t(z_0, y^{t}_{1}) = \\mu^*_t(z_0, \\hat{y}_1^t)$ for any output sequence $y_1^t$, $\\hat{y}_1^t$, then feedback doesn't increase the capacity."
   ]
  },
  {
   "cell_type": "markdown",
   "id": "03f5331e",
   "metadata": {},
   "source": [
    "---\n",
    "\n",
    "### Reference\n",
    "\n",
    "1. Robert G. Gallager. Discrete Stochastic Processes.\n",
    "2. Robert G. Gallager. Information Theory and Reliable Communication.\n",
    "3. Gerhard Kramer. Directed Information for Channels with Feedback.\n",
    "3. Haim Henry Permuter. Finite State Channels With Time-Invariant Deterministic Feedback.\n",
    "4. Haim Henry Permuter. To Feed or Not to Feed Back.\n",
    "5. Bashar Huleihel. Computable Upper Bounds on the Capacity of Finite-State Channels.\n",
    "6. Bashar Huleihel. Capacity of Finite-State Channels with Delayed Feedback.\n",
    "7. Eli Shemuel. Finite-State Channels with Feedback and State Known at the Encoder.\n",
    "8. Andrea Grigorescu. Capacity of Finite State Channels with Feedback: Algorithmic and Optimization Theoretic Properties.\n",
    "9. Haim Permuter. Capacity of the Trapdoor Channel with Feedback."
   ]
  }
 ],
 "metadata": {
  "kernelspec": {
   "display_name": "Python 3",
   "language": "python",
   "name": "python3"
  },
  "language_info": {
   "codemirror_mode": {
    "name": "ipython",
    "version": 3
   },
   "file_extension": ".py",
   "mimetype": "text/x-python",
   "name": "python",
   "nbconvert_exporter": "python",
   "pygments_lexer": "ipython3",
   "version": "3.8.13"
  }
 },
 "nbformat": 4,
 "nbformat_minor": 5
}
