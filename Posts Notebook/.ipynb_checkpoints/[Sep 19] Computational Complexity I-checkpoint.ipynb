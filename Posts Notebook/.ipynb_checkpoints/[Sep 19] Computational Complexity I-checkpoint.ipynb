{
 "cells": [
  {
   "cell_type": "markdown",
   "id": "a4ecbc3a",
   "metadata": {},
   "source": [
    "## [Sep 19] Computational Complexity I\n",
    "\n",
    "Presenter: Yuchen Ge  \n",
    "Affiliation: University of Oxford  \n",
    "Contact Email: gycdwwd@gmail.com  \n",
    "Website: https://yuchenge-am.github.io"
   ]
  },
  {
   "cell_type": "markdown",
   "id": "f716c726",
   "metadata": {},
   "source": [
    "----"
   ]
  },
  {
   "cell_type": "markdown",
   "id": "6446c9c8",
   "metadata": {},
   "source": [
    "### 1. \n",
    "\n",
    "Some conventions.\n",
    "\n",
    "> For length-$n$  strings  $x, y \\in\\{0,1\\}^{n}$, write $x \\odot y=\\sum_{i} x_{i} y_{i}(\\bmod 2)$. \n",
    ">\n",
    "> For any object $x$, we use  $\\llcorner x \\lrcorner$ or simply $x$ itself to denote the representation of  $x$  as a string.\n",
    ">\n",
    "> Write $\\langle x, y\\rangle$  as the string  $\\llcorner x \\lrcorner$ $\\#$ $\\llcorner y \\lrcorner$ where  $0 \\mapsto 00,1 \\mapsto 11, \\# \\mapsto 01$.\n",
    "\n",
    "Specially, we identify the Boolean function $f$  with the subset  $L_{f}=\\{x: f(x)=1\\}$  of  $\\{0,1\\}^{*}$  and call such sets **languages** or **decision problems**."
   ]
  },
  {
   "cell_type": "markdown",
   "id": "153f9e8b",
   "metadata": {},
   "source": []
  },
  {
   "cell_type": "markdown",
   "id": "a9ae01fa",
   "metadata": {},
   "source": []
  },
  {
   "cell_type": "markdown",
   "id": "b8206524",
   "metadata": {},
   "source": []
  },
  {
   "cell_type": "code",
   "execution_count": null,
   "id": "4fd370e8",
   "metadata": {},
   "outputs": [],
   "source": []
  },
  {
   "cell_type": "code",
   "execution_count": null,
   "id": "a3d9f402",
   "metadata": {},
   "outputs": [],
   "source": []
  },
  {
   "cell_type": "code",
   "execution_count": null,
   "id": "0a054394",
   "metadata": {},
   "outputs": [],
   "source": []
  },
  {
   "cell_type": "code",
   "execution_count": null,
   "id": "e625e1e0",
   "metadata": {},
   "outputs": [],
   "source": []
  },
  {
   "cell_type": "code",
   "execution_count": null,
   "id": "60960491",
   "metadata": {},
   "outputs": [],
   "source": []
  },
  {
   "cell_type": "markdown",
   "id": "03f5331e",
   "metadata": {},
   "source": [
    "---\n",
    "\n",
    "### Reference\n",
    "\n",
    "1. Sanjeev Arora. Computational Complexity: A Modern Approach."
   ]
  }
 ],
 "metadata": {
  "kernelspec": {
   "display_name": "Python 3",
   "language": "python",
   "name": "python3"
  },
  "language_info": {
   "codemirror_mode": {
    "name": "ipython",
    "version": 3
   },
   "file_extension": ".py",
   "mimetype": "text/x-python",
   "name": "python",
   "nbconvert_exporter": "python",
   "pygments_lexer": "ipython3",
   "version": "3.8.13"
  }
 },
 "nbformat": 4,
 "nbformat_minor": 5
}
