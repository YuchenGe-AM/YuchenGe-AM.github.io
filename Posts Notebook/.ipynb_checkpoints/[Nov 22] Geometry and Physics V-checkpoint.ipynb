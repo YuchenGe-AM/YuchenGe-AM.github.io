{
 "cells": [
  {
   "cell_type": "markdown",
   "id": "a4ecbc3a",
   "metadata": {},
   "source": [
    "## [Nov 22] Geometry and Physics V\n",
    "\n",
    "Presenter: Yuchen Ge  \n",
    "Affiliation: University of Oxford  \n",
    "Contact Email: gycdwwd@gmail.com  \n",
    "Website: https://yuchenge-am.github.io"
   ]
  },
  {
   "cell_type": "markdown",
   "id": "43fdefeb-1c6c-47bb-9a2d-f68413b9cf9e",
   "metadata": {},
   "source": [
    "### 1. Characters\n",
    "\n",
    "> A measure is left translation invariant if $\\mu(g S)=\\mu(S) \\text { for all } g \\in G$.\n",
    "\n",
    "Suppose the topological group $G$ is compact in the following. By an argument using differential forms,\n",
    "\n",
    "> **Thm.** $G$ has a unique left Haar measure up to scalar multiplication ( a nonzero regular Borel measure that is invariant under left translation ).\n",
    "\n",
    "We shall now prove\n",
    "\n",
    "> $\\exists !$ left Haar measure up to a proportionality constant and it is a right Haar measure.\n",
    "\n",
    "**Proof.** Let  $\\mu_{l}$  be a left Haar measure, then we may define a right Haar measur $\\mu_{r}(E)=\\mu_{l}\\left(E^{-1}\\right) $. By Fubini's theorem then, \n",
    "\n",
    "$$ \\begin{aligned} \\mu_{l}(G) \\mu_{r}(A) & =\\int_{G}\\left[\\int_{G} I_{A}(x) d \\mu_{r}(x)\\right] d \\mu_{l}(y)  =\\int_{G}\\left[\\int_{G} I_{A}(x y) d \\mu_{r}(x)\\right] d \\mu_{l}(y) =\\int_{G}\\left[\\int_{G} I_{A}(x y) d \\mu_{l}(y)\\right] d \\mu_{r}(x) \\\\ & =\\int_{G}\\left[\\int_{G} I_{A}(y) d \\mu_{l}(y)\\right] d \\mu_{r}(x) =\\mu_{r}(G) \\mu_{l}(A).\n",
    "\\end{aligned}$$\n",
    "\n",
    "\n",
    "If $\\langle\\cdot, \\cdot\\rangle$ is any Hermitian inner product on $V$, set $(u, v)=\\int_{G}\\langle\\Phi(x) u, \\Phi(x) v\\rangle d x$ and we $V$ admits a Hermitian inner product $(\\cdot, \\cdot)$ s.t. $\\Phi$ is unitary:\n",
    "\n",
    "$$ (u,v) = (\\Phi(x)u, \\Phi(x)v), \\forall x\\in G.\n",
    "$$\n",
    "\n",
    "\n",
    "Let $\\Phi$ and $\\Phi^{\\prime}$ be inequivalent irreducible unitary representations on $V'$ and $V$. Set  $l: V^{\\prime} \\rightarrow V$  be linear and form $L=\\int_{G} \\Phi(x) l \\Phi^{\\prime}\\left(x^{-1}\\right) d x: V^{\\prime} \\rightarrow V$, then we have:\n",
    "\n",
    "(1) $\\Phi$ and $\\Phi^{\\prime}$ are inequivalent: \n",
    "\n",
    "$$\\Phi(y) L \\Phi^{\\prime}\\left(y^{-1}\\right)=L \\implies \\Phi(y) L=L \\Phi^{\\prime}(y) \\implies L=0. $$\n",
    "\n",
    "Restrict ourselves to $l\\left(w^{\\prime}\\right)=\\left(w^{\\prime}, u^{\\prime}\\right) u$, then\n",
    "\n",
    "$$\\begin{aligned}\n",
    "0 & =\\left(L v^{\\prime}, v\\right) = \\int_{G}\\left(\\Phi(x) l \\Phi^{\\prime}\\left(x^{-1}\\right) v^{\\prime}, v\\right) d x \\\\\n",
    "& =\\int_{G}\\left(\\Phi(x)\\left(\\Phi^{\\prime}\\left(x^{-1}\\right) v^{\\prime}, u^{\\prime}\\right) u, v\\right) d x = \\int_{G}(\\Phi(x) u, v)\\left(\\Phi^{\\prime}\\left(x^{-1}\\right) v^{\\prime}, u^{\\prime}\\right) dx. \\\\\n",
    "& = \\int_{G}(\\Phi(x) u, v) \\overline{\\left(\\Phi^{\\prime}\\left(x\\right)u^{\\prime}, v^{\\prime}\\right)} d x.\n",
    "\\end{aligned}$$ \n",
    "\n",
    "(2) $\\Phi = \\Phi^{\\prime}$ and $V=V'$, which implies that $L=\\lambda I$, which follows that $\\lambda \\operatorname{dim} V=\\operatorname{Tr} L=\\operatorname{Tr} l$ and therefore\n",
    "\n",
    "$$\n",
    "\\begin{aligned} \n",
    "\\int_{G} \\left(\\Phi(x) u, v  \\right) \\overline{\\left( \\Phi(x) u^{\\prime},v^{\\prime}  \\right)} d x & = \\int_{G} \\left(\\Phi(x) u, v  \\right) \\left(\\Phi\\left(x^{-1}\\right) v^{\\prime}, u^{\\prime} \\right) d x \\\\\n",
    "& = \\int_{G} \\left(\\Phi(x) l \\Phi\\left(x^{-1}\\right) v^{\\prime}, v \\right) d x = (L v^{\\prime},v) \\\\\n",
    "& = \\lambda (v^{\\prime},v) = \\frac{\\operatorname{Tr} l}{dim V} \\overline{ (v,v^{\\prime}) } = \\frac{(u,u')\\overline{ (v,v^{\\prime}) }}{dim V}.\n",
    "\\end{aligned} \n",
    "$$\n",
    "\n",
    "> If $\\Phi$ is a unitary representation of $G$, a **matrix coefficient** of  $\\Phi$ is any function $(\\Phi(x) u, v)$. Define $\\chi_{\\Phi}(x)=\\operatorname{Tr} \\Phi(x)=\\sum_{i}\\left(\\Phi(x) u_{i}, u_{i}\\right)$.\n",
    "\n",
    "Then it's clear that $\\chi_{\\Phi^{c}}=\\overline{\\chi_{\\Phi}}$ by observing $$\\big(\\Phi_{ij}(x)\\big)^{c}\\overline{\\big(\\Phi(x)_{ij}\\big)}=I, \\forall x\\in G$$ in matrix terms ( choose an orthonormal basis ). We have some other similar conclusions as in representation theory."
   ]
  },
  {
   "cell_type": "markdown",
   "id": "35ccbc05-412c-499b-8df3-6161880ddf04",
   "metadata": {},
   "source": [
    "Then we start interpreting the orthogonal relationship. \n",
    "\n",
    "> **Cor.** If  $\\chi$ is the char. of an irreducible representation, then $\\|\\chi\\|_{2}=1$. If  $\\chi$  and  $\\chi^{\\prime}$  are moreover inequivalent, then  $\\int_{G} \\chi(x) \\overline{\\chi^{\\prime}(x)} d x=0$.\n",
    "\n",
    "Proof. These formulas are immediate since characters are sums of matrix coefficients.\n",
    "\n",
    "Write  $$\\Phi = \\Phi_{1} \\oplus \\ldots \\oplus \\Phi_{n}.$$ \n",
    "\n",
    "If  $\\tau$  is irreducible, then the corollary show that  $\\int_{G} \\chi_{\\Phi}(x) \\overline{\\chi_{\\tau}(x)} d x$  is the number of summands  $\\Phi_{i}$  equivalent with  $\\tau$, the number of which is called the **multiplicity** of  $\\tau$  in  $\\Phi$ and is independent of the decomposition of  $\\Phi$  into irreducible representations.\n",
    "\n",
    "Let  $\\left\\{\\Phi^{(\\alpha)}\\right\\}$  be a maximal set of mutually inequivalent finite-dimensional irreducible unitary representations of $G$. Then $\\left\\{\\Phi_{i j}^{(\\alpha)}(x)\\right\\}_{i, j, \\alpha}$  form an orthogonal set in  $L^{2}(G)$. In fact, if  $d^{(\\alpha)}$  denotes the degree of  $\\Phi^{(\\alpha)}$  (i.e., the dimension of $V^{(\\alpha)}$), then  $\\left\\{\\left(d^{(\\alpha)}\\right)^{1 / 2} \\Phi_{i j}^{(\\alpha)}(x)\\right\\}_{i, j, \\alpha}$  is an orthonormal set in  $L^{2}(G)$. The Peter-Weyl Theorem shows that this orthonormal set is an orthonormal basis.\n",
    "\n",
    "> ( **Peter-Weyl** ). The linear span of all matrix coefficients for all irreducible unitary representations of  $G$  is dense in  $L^{2}(G)$.\n",
    "> \n",
    "> **Cor**. Any compact Lie group  $G$  has a 1-1 finite dimensional representation ( $\\implies$ $G \\cong$ some closed linear group ).\n",
    "\n",
    "**Proof.** It follows from **Peter-Weyl** that for each  $x \\neq 1$  in  $G$, $\\exists \\Phi_{x}$   s.t. $\\Phi_{x}(x) \\neq 1$. If the identity component  $G_{0}$  is not  $\\{1\\}$, pick  $x_{1} \\neq 1$  in the identity component  $G_{0}$. Then  $G_{1}=\\operatorname{ker} \\Phi_{x_{1}}$  is a closed subgroup of  $G$, and its identity component is a proper subgroup of  $G_{0}$. If  $\\left(G_{1}\\right)_{0} \\neq\\{1\\}$, pick  $x_{2} \\neq 1$  in  $\\left(G_{1}\\right)_{0}$. Then  $G_{2}=\\operatorname{ker}\\left(\\Phi_{x_{1}} \\oplus \\Phi_{x_{2}}\\right)$  is a closed subgroup of  $G_{1}$, and its identity component is a proper subgroup of  $\\left(G_{1}\\right)_{0}$. Continuing in this way and using the finite-dimensionality of  $G$, we see that we can find a finite-dimensional representation  $\\Phi_{0}$  of  $G$  s.t.  $\\operatorname{ker} \\Phi_{0}$  is  $\\mathbf{0}$-dimensional. Then  $\\operatorname{ker} \\Phi_{0}$  is finite, being a compact  $\\mathbf{0}$-dimensional Lie group. Say  $\\operatorname{ker} \\Phi_{0}=\\left\\{y_{1}, \\ldots, y_{n}\\right\\}$. Then\n",
    "\n",
    "$$\\Phi=\\Phi_{0} \\oplus \\bigoplus_{j=1}^{n} \\Phi_{y_{j}}$$\n",
    "\n",
    "is a one-one finite-dimensional representation of  $G$."
   ]
  },
  {
   "cell_type": "code",
   "execution_count": null,
   "id": "815ede25-ff06-4141-9225-63674592d614",
   "metadata": {},
   "outputs": [],
   "source": []
  },
  {
   "cell_type": "code",
   "execution_count": null,
   "id": "c8cd68a6-30ab-44e7-ab24-7f14a6994881",
   "metadata": {},
   "outputs": [],
   "source": []
  },
  {
   "cell_type": "markdown",
   "id": "23596009-5455-4eb4-a463-ace7f703e69a",
   "metadata": {},
   "source": [
    "### 2. Maximum Tori\n",
    "\n",
    "> $Int  g$  is the analytic subgroup of  A^{\\prime} t_{\\mathbb{R}} \\mathfrak{g}  with Lie algebra ad  \\mathfrak{g} . If  \\mathfrak{g}  is complex, the definition is unaffected by using Aut  \\mathfrak{g}  in-\n",
    "\n",
    "> A **torus** in  $G$  is a Lie subgroup isomorphic to  $T^{n}=S^{1} \\times \\cdots \\times S^{1}$."
   ]
  },
  {
   "cell_type": "code",
   "execution_count": null,
   "id": "8ce07f3a-5a09-4765-8984-c6dee2781318",
   "metadata": {},
   "outputs": [],
   "source": []
  },
  {
   "cell_type": "markdown",
   "id": "b76d6a89-b888-4af7-8b3a-7a6ec71e4ad7",
   "metadata": {},
   "source": []
  },
  {
   "cell_type": "markdown",
   "id": "03f5331e",
   "metadata": {},
   "source": [
    "---\n",
    "\n",
    "### Reference\n",
    "\n",
    "1. Nakahara, Mikio, and Matthias Delbrück. Differentialgeometrie, Topologie Und Physik. Springer Berlin, 2022.\n",
    "\n",
    "( errata: https://www2.physics.ox.ac.uk/sites/default/files/profiles/johnsong/nakahara-errata-new-41775.pdf )\n",
    "\n",
    "2. Liu, Qing. Algebraic Geometry and Arithmetic Curves. Oxford University Press, 2010. "
   ]
  },
  {
   "cell_type": "code",
   "execution_count": null,
   "id": "817beb35",
   "metadata": {},
   "outputs": [],
   "source": []
  },
  {
   "cell_type": "code",
   "execution_count": null,
   "id": "fbed8615",
   "metadata": {},
   "outputs": [],
   "source": []
  },
  {
   "cell_type": "code",
   "execution_count": null,
   "id": "a39f90e8",
   "metadata": {},
   "outputs": [],
   "source": []
  }
 ],
 "metadata": {
  "kernelspec": {
   "display_name": "Python 3",
   "language": "python",
   "name": "python3"
  },
  "language_info": {
   "codemirror_mode": {
    "name": "ipython",
    "version": 3
   },
   "file_extension": ".py",
   "mimetype": "text/x-python",
   "name": "python",
   "nbconvert_exporter": "python",
   "pygments_lexer": "ipython3",
   "version": "3.8.13"
  }
 },
 "nbformat": 4,
 "nbformat_minor": 5
}
