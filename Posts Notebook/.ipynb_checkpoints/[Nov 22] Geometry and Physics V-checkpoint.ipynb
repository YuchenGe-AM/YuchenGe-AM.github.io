{
 "cells": [
  {
   "cell_type": "markdown",
   "id": "a4ecbc3a",
   "metadata": {},
   "source": [
    "## [Nov 22] Geometry and Physics V\n",
    "\n",
    "Presenter: Yuchen Ge  \n",
    "Affiliation: University of Oxford  \n",
    "Contact Email: gycdwwd@gmail.com  \n",
    "Website: https://yuchenge-am.github.io"
   ]
  },
  {
   "cell_type": "markdown",
   "id": "43fdefeb-1c6c-47bb-9a2d-f68413b9cf9e",
   "metadata": {},
   "source": [
    "### 1. Characters\n",
    "\n",
    ">\n",
    ">\n",
    "> A **locally compact group** is a topological group $G$ with the underlying topology locally compact and Hausdorff.\n",
    "\n",
    "Now let us suppose that the topological group $G$ is compact. Then\n",
    "\n",
    "> $G$ has a left Haar measure, i.e., a nonzero regular Borel measure that is invariant under left translation."
   ]
  },
  {
   "cell_type": "code",
   "execution_count": null,
   "id": "c8cd68a6-30ab-44e7-ab24-7f14a6994881",
   "metadata": {},
   "outputs": [],
   "source": []
  },
  {
   "cell_type": "markdown",
   "id": "23596009-5455-4eb4-a463-ace7f703e69a",
   "metadata": {},
   "source": [
    "### 2. Maximum Tori\n",
    "\n",
    "> A **torus** in  $G$  is a Lie subgroup isomorphic to  $T^{n}=S^{1} \\times \\cdots \\times S^{1}$."
   ]
  },
  {
   "cell_type": "code",
   "execution_count": null,
   "id": "8ce07f3a-5a09-4765-8984-c6dee2781318",
   "metadata": {},
   "outputs": [],
   "source": []
  },
  {
   "cell_type": "markdown",
   "id": "b76d6a89-b888-4af7-8b3a-7a6ec71e4ad7",
   "metadata": {},
   "source": []
  },
  {
   "cell_type": "markdown",
   "id": "03f5331e",
   "metadata": {},
   "source": [
    "---\n",
    "\n",
    "### Reference\n",
    "\n",
    "1. Nakahara, Mikio, and Matthias Delbrück. Differentialgeometrie, Topologie Und Physik. Springer Berlin, 2022.\n",
    "\n",
    "( errata: https://www2.physics.ox.ac.uk/sites/default/files/profiles/johnsong/nakahara-errata-new-41775.pdf )\n",
    "\n",
    "2. Liu, Qing. Algebraic Geometry and Arithmetic Curves. Oxford University Press, 2010. "
   ]
  },
  {
   "cell_type": "code",
   "execution_count": null,
   "id": "817beb35",
   "metadata": {},
   "outputs": [],
   "source": []
  },
  {
   "cell_type": "code",
   "execution_count": null,
   "id": "fbed8615",
   "metadata": {},
   "outputs": [],
   "source": []
  },
  {
   "cell_type": "code",
   "execution_count": null,
   "id": "a39f90e8",
   "metadata": {},
   "outputs": [],
   "source": []
  }
 ],
 "metadata": {
  "kernelspec": {
   "display_name": "Python 3",
   "language": "python",
   "name": "python3"
  },
  "language_info": {
   "codemirror_mode": {
    "name": "ipython",
    "version": 3
   },
   "file_extension": ".py",
   "mimetype": "text/x-python",
   "name": "python",
   "nbconvert_exporter": "python",
   "pygments_lexer": "ipython3",
   "version": "3.8.13"
  }
 },
 "nbformat": 4,
 "nbformat_minor": 5
}
