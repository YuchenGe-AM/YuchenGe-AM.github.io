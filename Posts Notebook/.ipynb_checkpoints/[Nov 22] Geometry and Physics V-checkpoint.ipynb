{
 "cells": [
  {
   "cell_type": "markdown",
   "id": "a4ecbc3a",
   "metadata": {},
   "source": [
    "## [Nov 22] Geometry and Physics V\n",
    "\n",
    "Presenter: Yuchen Ge  \n",
    "Affiliation: University of Oxford  \n",
    "Contact Email: gycdwwd@gmail.com  \n",
    "Website: https://yuchenge-am.github.io"
   ]
  },
  {
   "cell_type": "markdown",
   "id": "d6e4d413-0f59-4fe2-bb31-e96022c1b8d1",
   "metadata": {},
   "source": [
    "### 1. Lie Group Action"
   ]
  },
  {
   "cell_type": "markdown",
   "id": "947afd47-efc3-4676-a286-01e5c51336ab",
   "metadata": {},
   "source": [
    "Consider $\\theta: G \\times M \\rightarrow M$ or as $(g, p) \\mapsto g \\cdot p$. Recall that the orbit is\n",
    "$G \\cdot p=\\{g \\cdot p: g \\in G\\}$ and the set of which is denoted by $M / G$ with the quotient topology.\n",
    "\n",
    "> **Def.** An action is **free** if any $G_{p}=\\{g \\in G: g \\cdot p=p\\}$ is trivial; it is **proper** if $G \\times M \\rightarrow M \\times M$  given by  $(g, p) \\mapsto(g \\cdot p, p)$  is proper.\n",
    "\n",
    "We can readily check that \n",
    "\n",
    "> **Prop I.** For continuous actions, $\\pi: M \\rightarrow M / G$ is an open map.\n",
    ">\n",
    "> **Prop II.** For continuous and proper actions, $M / G$ is Hausdorff.\n",
    "\n",
    "**Proof.** For the first: assume $U$ be open. $\\pi^{-1}(\\pi(U))=\\bigcup_{g}gU$ is open $\\implies$ $\\pi(U)$ open. For the second: define the orbit relation  $\\mathcal{O}\\subseteq M \\times M$  by $\\{(g \\cdot p, p) \\in M \\times M: p \\in M, g \\in G\\}$. Since proper continuous maps are closed, $\\mathcal{O}$ is closed. Since $M \\rightarrow M / G$ is open, $M/G$ is Hausdorff.\n",
    "\n",
    "The last part uses the following fact:\n",
    "\n",
    "> **Thm.** If $X\\to X/\\sim$ is quotient open, $X / \\sim$ is Hausdorff iff $\\sim$ is closed in $X \\times X$. \n",
    "\n",
    "**Proof.** Set $g(x, y)=(\\pi(x), \\pi(y))$ and show that $g\\left(X^{2}-\\sim\\right)=(X / \\sim)^{2}-\\Delta_{X / \\sim}$.\n"
   ]
  },
  {
   "cell_type": "markdown",
   "id": "c230be18-e079-4462-b089-ca746276eb50",
   "metadata": {},
   "source": [
    "We provide some standard results and corresponding examples. ( there are equivalent conditions for proper actions used in the proof and we omit it here )\n",
    "\n",
    "> ( **Quotient Manifold Theorem** ) If $G$ acts smoothly, freely, and properly on $M$, then $M / G$ is a topological manifold with a unique smooth structure s.t. $\\pi: M \\rightarrow M / G$ is a smooth submersion. ( uniqueness is clear by observing that $M \\to M / G \\to N$ is smooth iff $M/G \\to N$ is smooth )\n",
    "\n",
    "Some examples follow. \n",
    "\n",
    "> **Example I.** $\\operatorname{GL}(n, \\mathbb{R}) \\times  \\mathbb{R}^{n} \\to \\mathbb{R}^{n}$ by matrix multiplication.\n",
    ">\n",
    "> **Example II.** Restriction of $\\operatorname{GL}(n, \\mathbb{R}) \\times  \\mathbb{R}^{n} \\to \\mathbb{R}^{n}$  to  $\\mathrm{O}(n) \\times \\mathbb{R}^{n} \\rightarrow \\mathbb{R}^{n}$. In this case, the orbits are the origin and the spheres centered at the origin. To see why, if  $v$  and  $v^{\\prime}$  are such vectors, complete  $v /|v|$  and  $v^{\\prime} /\\left|v^{\\prime}\\right|$  to orthonormal bases and let  $A$  and  $A^{\\prime}$  be the orthogonal matrices whose columns are these orthonormal bases; then $A^{\\prime} A^{-1}$  takes  $v$  to  $v^{\\prime}$.\n",
    ">\n",
    "> **Example III.**  The Hopf action of  $\\mathbb{S}^{1}$  on  $\\mathbb{S}^{2 n+1}$ by multiplication is free and proper, its orbits are disjoint unit circles in  $\\mathbb{C}^{n+1}$  whose union is  $\\mathbb{S}^{2 n+1}$. Then $\\mathbb{S}^{2 n+1} \\to \\mathbb{S}^{2 n+1} / \\mathbb{S}^{1}$  can be identified with $\\mathbb{S}^{2 n+1} \\to  \\mathbb{C} \\mathbb{P}^{n}$. ( imagine through projection )\n",
    "\n",
    "We then study action of discrete Lie groups.\n",
    "\n",
    "> **Prop.** Let  $\\pi: E \\rightarrow M$  be a smooth covering map. With the discrete topology, $\\operatorname{Aut}_{\\pi}(E)$  acts smoothly, freely, and properly on  $E$.\n",
    ">\n",
    "> ( **Action of Discrete Lie Groups** ) Suppose  $E$  is connected and  $\\Gamma$  is a discrete Lie group acting smoothly, freely, and properly on  $E$. Then $E / \\Gamma$  is a manifold with a unique smooth structure s.t.  $\\pi: E \\rightarrow E / \\Gamma$  is a smooth normal covering.\n",
    "\n",
    "**Proof.** For the first: freeness and countable number of $\\operatorname{Aut}_{\\pi}(E)$ action comes from the unique lifting property of covering maps. For the second: it suffices to show that $\\pi$ is a normal covering map, which follows the uniqueness of the smooth structure since a smooth normal covering is simply a submersion. Normalness is non-trivial if not observing that \n",
    "\n",
    "> $\\operatorname{Aut}_{\\pi}(E)$ acts transitively on each fiber of $\\pi$ iff $\\pi$ is a normal covering.\n",
    "\n",
    "Some examples follow.\n",
    "\n",
    "> **Example III.**  $\\{ \\pm 1\\}$  acts on $\\mathbb{S}^{n}$ by multiplication. Then $\\mathbb{S}^{n} \\rightarrow \\mathbb{R} \\mathbb{P}^{n}$ can be identified with $\\mathbb{S}^{n} \\rightarrow \\mathbb{S}^{n} /\\{ \\pm 1\\}$, which follows that $\\mathbb{S}^{n} /\\{ \\pm 1\\} \\cong \\mathbb{R} \\mathbb{P}^{n}$. \n",
    "\n",
    "We then study homogeneous space.\n",
    "\n",
    "> **Def.** $M$ is a homogeneous  $G$-space if it admits a transitive smooth action by $G$.\n",
    ">\n",
    "> ( **Homogeneous Space Characterization Theorem** ) let  $M$  be a homogeneous  $G$-space, and $p \\in M$. Then  $G_{p}$  is a closed subgroup of  $G$, and $G / G_{p} \\cong M$ is an equivariant diffeomorphism.\n",
    "\n",
    "**Proof.** Consider $G_p$ act on $G$ to give $G / G_{p}$ a homogeneous $G$-space structure with **Quotient Manifold Theorem**. $G / G_{p} \\to M $ is smooth because it is obtained from the orbit map  $\\theta^{(p)}: G \\rightarrow M$  by passing to the quotient. Then it's routine to show that $ G / G_{p} \\to M $ is an equivariant smooth bijection, which follows that it has constant rank.\n",
    "\n",
    "**Homogeneous Space Characterization Theorem** shows that the study of homogeneous spaces can be reduced to algebraic problem of understanding quotients of Lie groups by closed subgroups."
   ]
  },
  {
   "cell_type": "markdown",
   "id": "ac29a106-7d69-46aa-8b00-305a8b7827d9",
   "metadata": {},
   "source": [
    "\n",
    "> **Example I.** Consider $\\mathrm{O}(n)$ on $\\mathbb{S}^{n-1}$, then $G_{(0,0,...,1)}= \\mathrm{O}(n-1)$, which follows that $\\mathbb{S}^{n-1} \\cong \\mathrm{O}(n) / \\mathrm{O}(n-1)$. Similarly, we have $\\mathbb{S}^{n-1} \\cong \\mathrm{SO}(n) / \\mathrm{SO}(n-1)$ for $n \\geq 2$.\n",
    ">\n",
    "> **Example II.**  We have $\\mathbb{S}^{2 n-1} \\cong \\mathrm{U}(n) / \\mathrm{U}(n-1)$, $\\forall n \\geq 1$, and $\\mathbb{S}^{2 n-1} \\cong \\mathrm{SU}(n) / \\mathrm{SU}(n-1)$, $\\forall n \\geq 1$ ( the natural action of  $\\mathrm{U}(n)$  on  $\\mathbb{S}^{2 n-1}$  is transitive for $n \\geq 1$, and that of  $\\mathrm{SU}(n)$  is transitive for $n \\geq 2$.\n",
    ">\n",
    "> **Example III.** $\\mathrm{E}(n)$ is the Euclidean group with $G_0 = \\mathrm{O}(n) \\subseteq \\mathrm{E}(n)$, therefore $\\mathbb{R}^{n} \\cong \\mathrm{E}(n) / \\mathrm{O}(n)$.\n",
    ">\n",
    "> **Example IV.** Consider the transitive action of  $\\operatorname{SL}(2, \\mathbb{R})$  on the upper half-plane by Möbius transformations. $G_i = \\mathrm{SO}(2)$, which follows that $\\mathbb{U} \\approx \\mathrm{SL}(2, \\mathbb{R}) / \\mathrm{SO}(2)$.\n",
    "\n",
    "Note that the Möbius transformation is transitive bacause $\\begin{pmatrix} \\sqrt{y} & x / \\sqrt{y} \\\\ 0 & 1 / \\sqrt{y} \\end{pmatrix} i=z$.\n",
    "\n",
    "\n",
    "### 2. Description of Lie Groups given Lie Algebra\n",
    "\n",
    "For continuous case, we have \n",
    "\n",
    "> The connected Lie groups whose Lie algebras are isomorphic to  $\\mathrm{g}$  are precisely those of the form  $G / \\Gamma$, where  $G$  is the simply connected Lie group with Lie algebra  $\\mathrm{g}$, and  $\\Gamma$  is a discrete normal subgroup of  $G$.\n",
    "\n",
    "**Proof.** Given  $\\mathfrak{g}$, $\\exists$ a simply connected Lie group  $G$  with Lie algebra $\\mathrm{g}$. Suppose  $H$  is any other connected Lie group with Lie algebra $\\mathfrak{g}$, then let  $\\varphi: \\operatorname{Lie}(G) \\rightarrow \\operatorname{Lie}(H)$  be an isomorphism, which follows that $\\exists$ a Lie group homomorphism  $\\Phi: G \\rightarrow H$  s.t. $\\Phi_{*}=\\varphi$. $\\varphi$  is an isomorphism implies that  $\\Phi$  is a smooth covering map and its kernel is a discrete normal subgroup of  $G$. It follows from below that  $H$  is isomorphic to  $G / \\operatorname{Ker} \\Phi$.\n",
    "\n",
    "> ( **First Isomorphism Theorem for Lie Groups** ) If $G \\rightarrow H$  is a Lie group homomorphism, then $F$  descends to a Lie group isomorphism  $\\tilde{F}: G / \\operatorname{Ker} F \\rightarrow \\operatorname{Im} F$.\n",
    "\n",
    "For discontinuous case, we have \n",
    "\n",
    "> If  $G$  and  $H$  are Lie groups s.t. $\\exists$ a surjective Lie group homomorphism $G  \\to  H$  with kernel  $G_{0}$, we say that  $G$  is an extension of  $\\boldsymbol{G}_{0}$  by  $\\boldsymbol{H}$. Then the disconnected Lie groups with Lie algebra $\\mathfrak{g}$  are precisely the extensions of the connected ones by discrete Lie groups. \n",
    "\n",
    "It's proved simply by observing that \n",
    "\n",
    "> The identity component $G_{0}$  is a normal subgroup of $ G $, and is the only connected open subgroup."
   ]
  },
  {
   "cell_type": "markdown",
   "id": "b76d6a89-b888-4af7-8b3a-7a6ec71e4ad7",
   "metadata": {},
   "source": [
    "### 3. Connectivity of Lie Groups\n",
    "\n",
    "> **Prop.** Assume $G$  acts continuously, freely, and properly on $M$. If  $G$  and  $M / G$  are connected, then  $M$  is connected.\n",
    ">\n",
    "> **Cor.**  $n \\geq 1$, then $\\mathrm{SO}(n)$, $\\mathrm{U}(n) $, and  $\\mathrm{SU}(n)$  are connected. $  \\mathrm{O}(n)$  has exactly two components, one of which is $\\mathrm{SO}(n)$.\n",
    "\n",
    "Proof. Assume $G$  and  $M / G$  are connected but  $M$  is not. Then there are disjoint nonempty open subsets  $U, V \\subseteq M$  with union $M$. Each  $G$-orbit in  $M$  is the image of  $G$  under an orbit map  $\\theta^{(p)}: G \\rightarrow M$; since  $G$  is connected, each orbit must lie entirely in one set  $U$  or  $V$.\n",
    "\n",
    "Since $$\\left(\\begin{array}{cc} a & b \\\\ -\\bar{b} & \\bar{a} \\end{array}\\right) \\leftrightarrow(\\mathfrak{R} a, \\Im a, \\Re b, \\Im b),$$ \n",
    "we have $\\operatorname{SU}(2) \\cong \\mathbb{S}^{4}$, and therefore $\\operatorname{SU}(2) \\to SO(3)$ given by $\\operatorname{Ad}$ is a universal covering map."
   ]
  },
  {
   "cell_type": "markdown",
   "id": "03f5331e",
   "metadata": {},
   "source": [
    "---\n",
    "\n",
    "### Reference\n",
    "\n",
    "1. Knapp, Anthony W. Lie Groups beyond an Introduction. Birkhäuser, 2005. \n",
    "2. Lee, John M. Introduction to Smooth Manifolds. Springer, 2013. "
   ]
  },
  {
   "cell_type": "code",
   "execution_count": null,
   "id": "817beb35",
   "metadata": {},
   "outputs": [],
   "source": []
  },
  {
   "cell_type": "code",
   "execution_count": null,
   "id": "fbed8615",
   "metadata": {},
   "outputs": [],
   "source": []
  },
  {
   "cell_type": "code",
   "execution_count": null,
   "id": "a39f90e8",
   "metadata": {},
   "outputs": [],
   "source": []
  },
  {
   "cell_type": "code",
   "execution_count": null,
   "id": "601b5ebe-970f-44eb-afcd-36646e427b09",
   "metadata": {},
   "outputs": [],
   "source": []
  }
 ],
 "metadata": {
  "kernelspec": {
   "display_name": "Python 3",
   "language": "python",
   "name": "python3"
  },
  "language_info": {
   "codemirror_mode": {
    "name": "ipython",
    "version": 3
   },
   "file_extension": ".py",
   "mimetype": "text/x-python",
   "name": "python",
   "nbconvert_exporter": "python",
   "pygments_lexer": "ipython3",
   "version": "3.8.13"
  }
 },
 "nbformat": 4,
 "nbformat_minor": 5
}
