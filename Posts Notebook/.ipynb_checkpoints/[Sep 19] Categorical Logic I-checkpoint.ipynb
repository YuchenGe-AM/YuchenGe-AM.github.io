{
 "cells": [
  {
   "cell_type": "markdown",
   "id": "a4ecbc3a",
   "metadata": {},
   "source": [
    "## [Sep 19] Categorical Logic I\n",
    "\n",
    "Presenter: Yuchen Ge  \n",
    "Affiliation: University of Oxford  \n",
    "Contact Email: gycdwwd@gmail.com  \n",
    "Website: https://yuchenge-am.github.io"
   ]
  },
  {
   "cell_type": "markdown",
   "id": "f716c726",
   "metadata": {},
   "source": [
    "----"
   ]
  },
  {
   "cell_type": "markdown",
   "id": "ef270289",
   "metadata": {},
   "source": [
    "Content\n",
    "\n",
    "1. [Draw Commutative Diagram](#Draw-Commutative-Diagram)\n",
    "\n",
    "2. [Cartesian-Closed-Categories](#Cartesian-Closed-Categories)\n",
    "\n",
    "----"
   ]
  },
  {
   "cell_type": "markdown",
   "id": "6446c9c8",
   "metadata": {},
   "source": [
    "### 1. Draw Commutative Diagram <a id='Draw-Commutative-Diagram'></a>\n",
    "\n",
    "Please refer to https://tikzcd.yichuanshen.de in which one first draws a picture and the corresponding **tikzde code** shall be generated.\n",
    "\n",
    "----\n",
    "\n",
    "### 2. Cartesian Closed Categories <a id='Cartesian-Closed-Categories'></a>\n",
    "\n",
    "> A **deductive system** is a graph in which \n",
    "> - to each object  $A$  there is associated an arrow  $1_{A}: A \\rightarrow A$, \n",
    "> - to each pair of arrows  $f: A \\rightarrow B$  and  $g: B \\rightarrow C$ there is associated a compositional arrow  $g f: A \\rightarrow C$.\n",
    "\n",
    "For a deductive system, a logician may think of the **objects** as **formulas** and of the **arrows** as **deductions** or **proofs**. It also can be visualized as \n",
    "\n",
    "$$\\frac{f: A \\rightarrow B \\quad g: B \\rightarrow C}{g f: A \\rightarrow C}.$$\n",
    "\n",
    "> A **category** $\\mathscr{A}$ is a deductive system in which $f 1_{A}=f=1_{B} f, \\quad(h g) f=h(g f)$.\n",
    ">\n",
    "> A **functor** $F: \\mathscr{A} \\rightarrow \\mathscr{B}$  is a morphism of graphs.\n",
    ">\n",
    "> For example, a small graph may be viewed as a functor from the small category  $\\cdot \\rightrightarrows \\cdot$ to $\\textbf{Sets}$.\n",
    "\n",
    "> Given functors  $F, G: \\mathscr{A} \\rightrightarrows \\mathscr{B}$, a **natural transformation**  $t: F \\rightarrow G$  is a family of arrows  $t(A): F(A) \\rightarrow G(A)$  in  $\\mathscr{B}$, such that \n",
    ">\n",
    ">$$G(f) t(A)=t(B) F(f).$$\n",
    "\n",
    "In a digram,\n",
    "\n",
    "<code class=\"language-tikzcd\">[Tikzcd codes of Natural Transformation](https://tikzcd.yichuanshen.de/#N4Igdg9gJgpgziAXAbVABwnAlgFyxMJZABgBpiBdUkANwEMAbAVxiRADEAKAQQEoQAvqXSZc+QigCM5KrUYs2AcR78hI7HgJEyk2fWatEHTgCFVwkBg3ii03dX0Kjys4NkwoAc3hFQAMwAnCABbJDIQHAgkaRAGOgAjGAYABVFNCViYPxwQB3lDCJVBC0CQpAAmakikAGY8gzYcU3N-INDEcOrESrkGoy4-FpBS9piuut6nEGVBtwEgA)\n",
    "\\begin{tikzcd}\n",
    "    F(A) \\arrow[r, \"t(A)\"] \\arrow[d, \"F(f)\"] & G(A) \\arrow[d, \"G(f)\"] \\\\\n",
    "    F(B) \\arrow[r, \"t(B)\"] & G(B)\n",
    "\\end{tikzcd}\n",
    "</code>"
   ]
  },
  {
   "cell_type": "markdown",
   "id": "e25952af",
   "metadata": {},
   "source": [
    "> Given categories $\\mathscr{A}$  and  $\\mathscr{B}$, the functor category  $\\mathscr{B}^\\mathscr{A}$  has as objects functors  \n",
    "> \n",
    "> $$F: \\mathscr{A} \\rightarrow \\mathscr{B}$$  \n",
    "> and as arrows natural transformations. \n",
    "\n",
    "The identity natural transformation $1_{F}: F \\rightarrow F$  is of course given by stipulating that  $1_{F}(A)=1_{F(A)}$  for each object  $A$  of  $\\mathscr{A}$. If  $t: F \\rightarrow G$  and  $u: G \\rightarrow H$, their composition  $u \\circ t$  is given by stipulating that  $\\left(u \\circ t\\right)(A)=u(A) t(A)$  for each object  $A$  of  $\\mathscr{A}$.\n",
    "\n",
    "The following is known as Yoneda's Lemma.\n",
    "\n",
    "> If  $\\mathscr{A}$  is locally small and  $F: \\mathscr{A}^{\\mathrm{op}} \\rightarrow  \\textbf{Sets}$, then  $\\operatorname{Nat} \\left(h_{A}, F\\right)$  is in one-to-one correspondence with  $F(A)$.\n",
    "\n"
   ]
  },
  {
   "cell_type": "markdown",
   "id": "dfedda31",
   "metadata": {},
   "source": [
    "####  Limits in Categories"
   ]
  },
  {
   "cell_type": "markdown",
   "id": "153f9e8b",
   "metadata": {},
   "source": []
  },
  {
   "cell_type": "markdown",
   "id": "a9ae01fa",
   "metadata": {},
   "source": []
  },
  {
   "cell_type": "markdown",
   "id": "b8206524",
   "metadata": {},
   "source": []
  },
  {
   "cell_type": "code",
   "execution_count": null,
   "id": "4fd370e8",
   "metadata": {},
   "outputs": [],
   "source": []
  },
  {
   "cell_type": "code",
   "execution_count": null,
   "id": "a3d9f402",
   "metadata": {},
   "outputs": [],
   "source": []
  },
  {
   "cell_type": "code",
   "execution_count": null,
   "id": "0a054394",
   "metadata": {},
   "outputs": [],
   "source": []
  },
  {
   "cell_type": "code",
   "execution_count": null,
   "id": "e625e1e0",
   "metadata": {},
   "outputs": [],
   "source": []
  },
  {
   "cell_type": "code",
   "execution_count": null,
   "id": "60960491",
   "metadata": {},
   "outputs": [],
   "source": []
  },
  {
   "cell_type": "markdown",
   "id": "03f5331e",
   "metadata": {},
   "source": [
    "---\n",
    "\n",
    "### Reference\n",
    "\n",
    "1. Gallager, Robert G. Discrete Stochastic Processes. Kluwer Acad. Publ., 1999. \n",
    "2. 18.404J | Fall 2020 | Theory Of Computation.\n"
   ]
  }
 ],
 "metadata": {
  "kernelspec": {
   "display_name": "Python 3",
   "language": "python",
   "name": "python3"
  },
  "language_info": {
   "codemirror_mode": {
    "name": "ipython",
    "version": 3
   },
   "file_extension": ".py",
   "mimetype": "text/x-python",
   "name": "python",
   "nbconvert_exporter": "python",
   "pygments_lexer": "ipython3",
   "version": "3.8.13"
  }
 },
 "nbformat": 4,
 "nbformat_minor": 5
}
