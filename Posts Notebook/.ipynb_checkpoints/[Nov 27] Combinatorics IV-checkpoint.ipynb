{
 "cells": [
  {
   "cell_type": "markdown",
   "id": "a4ecbc3a",
   "metadata": {},
   "source": [
    "## [Nov 27] Combinatorics IV\n",
    "\n",
    "Presenter: Yuchen Ge  \n",
    "Affiliation: University of Oxford  \n",
    "Contact Email: gycdwwd@gmail.com  \n",
    "Website: https://yuchenge-am.github.io"
   ]
  },
  {
   "cell_type": "markdown",
   "id": "f716c726",
   "metadata": {},
   "source": [
    "### Combinatorics is not a science, it's an attitude.\n",
    "----"
   ]
  },
  {
   "cell_type": "markdown",
   "id": "84415a27-a1c5-4c74-a504-98f6cb14a1b8",
   "metadata": {},
   "source": [
    "### 1. Intersecting Family\n",
    "\n",
    "Recall that\n",
    "\n",
    "> ( **Erdös-Ko-Rado** ) For  $r \\leq n / 2$, if  $\\mathcal{A} \\subseteq[n]^{(r)}$  is intersecting then  $|\\mathcal{A}| \\leq\\left(\\begin{array}{l}n-1 \\\\ r-1\\end{array}\\right)$.\n",
    "\n",
    "We would like to generalize by setting that $\\mathcal{A} \\subseteq \\mathcal{P}(n)$  is $t$-intersecting if $|A \\cap B| \\geq t \\text {, for all } A, B \\in \\mathcal{A}$.\n",
    "\n",
    "> **Thm I.** Let  $1<t \\leq k$. $\\exists n_{0}=n_{0}(k, t)$ $\\forall n>n_{0}$  $ \\bigg( \\mathcal{A} \\subseteq[n]^{(k)}$  is  $t$-intersecting $\\implies |\\mathcal{A}| \\leq\\left(\\begin{array}{c} n-t \\\\ k-t \\end{array}\\right) \\bigg)$ with equality iff  $\\mathcal{A}$ is of the form  $\\left\\{A \\in[n]^{(k)}: T \\subseteq A\\right\\}$, where  $T$  is a $t$-element subset of  $[n]$.\n",
    ">\n",
    ">\n",
    "> **Thm II.** ( **Fisher's Inequality** ) Suppose $\\mathcal{A} \\subseteq \\mathcal{P}(n)$  s.t.  $|A \\cap B|=k\\geq 1$.  $\\forall A \\neq B$. Then  $|\\mathcal{A}| \\leq n$.\n",
    "> \n",
    "\n",
    "**Proof.** For the first: WLOG, assume $\\mathcal{A}$  is maximal, which follows that $\\exists A, B \\in \\mathcal{A}$  with  $|A \\cap B|=t$. If  $A \\cap B \\subseteq C$, $\\forall C \\in \\mathcal{A}$, then  $|\\mathcal{A}| \\leq\\left(\\begin{array}{c}n-t \\\\ k-t\\end{array}\\right)$. So suppose that $\\exists C \\in \\mathcal{A}$  with  $A \\cap B \\not \\subset C$. Every  $D \\in \\mathcal{A}$  must have at least  $t+1$  elements in  $A \\cup B \\cup C$. Thus when $n$  is large enough:\n",
    "\n",
    "$$|\\mathcal{A}| \\leq\\left(\\begin{array}{c}\n",
    "|A \\cup B \\cup C| \\\\\n",
    "t+1\n",
    "\\end{array}\\right)\\left(\\begin{array}{c}\n",
    "n \\\\\n",
    "k-t-1\n",
    "\\end{array}\\right) \\leq(3 k)^{t+1} n^{k-t-1}<\\left(\\begin{array}{c}\n",
    "n-t \\\\\n",
    "k-t\n",
    "\\end{array}\\right),$$\n",
    "\n",
    "\n",
    "For the second: if $\\exists  A \\in \\mathcal{A}$  with  $|A|=k$, then  $A \\subseteq B$  $\\forall  B \\in \\mathcal{A}$ , and $\\{B \\backslash A: B \\in \\mathcal{A}\\}$ consists of pairwise disjoint sets, and so  $|\\mathcal{A}| \\leq n$. Otherwise assume that  $|A|>k$,  $\\forall  A \\in \\mathcal{A}$. Then we claim that $\\left\\{\\chi_{A}\\in\\mathbb{R}^n: A \\in \\mathcal{A}\\right\\}$  are linearly independent, which follows that $|\\mathcal{A}|=\\left|\\left\\{\\chi_{A}: A \\in \\mathcal{A}\\right\\}\\right| \\leq \\operatorname{dim}\\left(\\mathbb{R}^{n}\\right)=n$.\n",
    "\n",
    "Consider modular conditions,\n",
    "\n",
    "> ( **Oddtown Theorem** ) Let  $\\mathcal{A} \\subseteq \\mathcal{P}(n)$ s.t. $|A|$  is odd, $\\forall  A \\in \\mathcal{A}$ and $|A \\cap B|$  is even, $\\forall A \\neq B$, then  $|\\mathcal{A}| \\leq n$.\n",
    "\n",
    "\n",
    "**Proof.** Work over $\\mathbb{F}_{2}$. For all  $A, B \\in \\mathcal{A}$, we have\n",
    "\n",
    "$$\\left\\langle\\chi_{A}, \\chi_{B}\\right\\rangle=|A \\cap B|=\\left\\{\\begin{array}{ll}\n",
    "0 & \\text { if } A \\neq B \\\\\n",
    "1 & A=B\n",
    "\\end{array}\\right., $$\n",
    "\n",
    "\n",
    "Then it suffices to show that  $\\left\\{\\chi_{A}: A \\in \\mathcal{A}\\right\\}$  is linearly independent in  $\\mathbb{F}_{2}^{n}$ which is clearly seen from $0=\\left\\langle\\sum_{A \\in \\mathcal{A}} \\lambda_{A} \\chi_{A}, \\chi_{B}\\right\\rangle=\\lambda_{B}$.\n",
    "\n",
    "Consider more general modular conditions using **Multilinearization Trick**: given a polynomial  $f$, define  $\\tilde{f}$  to be the polynomial obtained by replacing every  $x_{j}^{i}$ by $x_{j}^{1}$.  Crucial observation: if we evaluate  $f$  and  $\\tilde{f}$  at a point where all variables take values 0 or 1 then they both take the same value.\n",
    "\n",
    "> ( **Modular Frankl-Wilson Theorem** ) Let  $p$  be prime and  $S \\subseteq   \\{0,1, \\ldots, p-1\\}$. Let  $\\mathcal{A} \\in \\mathcal{P}(n)$ s.t. $|A| \\notin S \\bmod p$, $\\forall  A \\in \\mathcal{A}$ and $|A \\cap B| \\in S$  (modulo  $p$), $\\forall A \\neq B$. Then $|\\mathcal{A}| \\leq \\sum_{i=0}^{|S|}\\left(\\begin{array}{c} n \\\\ i \\end{array}\\right)$.\n",
    "\n",
    "**Proof.** Work over $\\mathbb{F}_{p}$, and introduce variables  $x=\\left(x_{1}, \\ldots, x_{n}\\right)$. For each  $A \\in \\mathcal{A}$, define $f_{A}(x)=\\prod_{s \\in S}\\left(\\sum_{i \\in A} x_{i}-s\\right)$. Then, for  $B \\in \\mathcal{A}$, if  $B \\neq A$  we have $f_{A}\\left(\\chi_{B}\\right)=\\prod_{s \\in S}(|A \\cap B|-s)=0$. While if $A=B$, $f_{A}\\left(\\chi_{B}\\right)=\\prod_{s \\in S}(|A|-s) \\neq 0$. Then $\\left\\{\\tilde{f}_{A}(x): A \\in \\mathcal{A}\\right\\}$  are linearly independent by observing that $\\left(\\sum_{A \\in \\mathcal{A}} \\lambda_{A} \\tilde{f}_{A}\\right)\\left(\\chi_{B}\\right)=\\alpha_{B} \\lambda_{B}$, which follows that $|\\mathcal{A}| \\leq \\sum_{i=0}^{|S|}\\left(\\begin{array}{c} n \\\\ i \\end{array}\\right)$.\n",
    "\n",
    "And a **uniform version** of the Modular Frankl-Wilson Theorem follows using multilinearization techniques similarly.\n",
    "\n",
    "> ( **Ray-Chaudhuri-Wilson Theorem** ) Let  $\\mathcal{A} \\subseteq[n]^{(k)}$  be an  $S$  intersecting system, where  $S \\subseteq\\{0, \\ldots, k-1\\}$. Then $|\\mathcal{A}| \\leq\\left(\\begin{array}{c} n \\\\ |S| \\end{array}\\right)$.\n",
    "\n",
    "Also we have. ( if $|A| \\notin S$, $\\forall  A$, apply the **Modular Frankl-Wilson Theorem** with  $p>n$, we have the **Frankl-Wilson Theorem** below )\n",
    "\n",
    "> ( **Frankl-Wilson Theorem** ) Let  $\\mathcal{A} \\subseteq \\mathcal{P}(n)$  be $S$-intersecting. Then $|\\mathcal{A}| \\leq \\sum_{i=0}^{|S|}\\left(\\begin{array}{c} n \\\\ i \\end{array}\\right)$. \n",
    ">\n",
    "> Here for $S \\subseteq \\mathbb{N}$, $\\mathcal{A}$  is  $S$-intersecting if  $|A \\cap B| \\in S$, $\\forall A \\neq B$. \n",
    "\n"
   ]
  },
  {
   "cell_type": "markdown",
   "id": "4e154e1b-3b4a-4327-8ac6-41f33b8026fb",
   "metadata": {},
   "source": [
    "### 2. Borsuk’s Conjecture \n",
    "\n",
    "> **Lemma.** Let  $p$  be prime and suppose  $\\mathcal{A} \\subseteq[4 p]^{(2 p)}$. Suppose there exists no  $A, B \\in \\mathcal{A}$  with  $|A \\cap B|=p$. Then  $|\\mathcal{A}| \\leq 4\\left(\\begin{array}{c}4 p \\\\ p-1\\end{array}\\right)$.\n",
    "\n",
    "**Proof.** For  $x \\in[4 p]$, let  $\\mathcal{A}_{x}:=\\{A \\in \\mathcal{A}: x \\in A\\}$. We can choose  $x$  such that  $\\left|\\mathcal{A}_{x}\\right| \\geq \\frac{1}{2}|\\mathcal{A}|$. Then, for distinct  $A, B \\in \\mathcal{A}_{x}$, we have  $|A \\cap B| \\neq 0, p, 2 p$, which follows that $|A \\cap B| \\not \\equiv 0 \\bmod p$. Also, $\\forall  A \\in \\mathcal{A}_{x}$, $|A| \\equiv 0 \\bmod p$. By applying the Modular Frankl-Wilson Theorem and knowing that $\\left(\\begin{array}{c} 4 p \\\\ i \\end{array}\\right) \\geq 2\\left(\\begin{array}{c} 4 p \\\\ i-1 \\end{array}\\right)$, $\\forall i \\leq p-1$, we have \n",
    "$$\\left|\\mathcal{A}_{x}\\right| \\leq \\sum_{i=0}^{p-1}\\left(\\begin{array}{c} 4 p \\\\ i \\end{array}\\right) \\leq 2\\left(\\begin{array}{c} 4 p \\\\ p-1 \\end{array}\\right).$$\n",
    "\n",
    "> **Thm.** Let  $k(d)$  be the smallest integer s.t. every subset of  $\\mathbb{R}^{d}$  of diameter $1$ can be partitioned into  $k(d)$  sets of smaller diameter. Then there exists  $c>1$  s.t. $k(d) \\geq c^{\\sqrt{d}}$ for infinitely many  $d$.\n"
   ]
  },
  {
   "cell_type": "markdown",
   "id": "56553ba9-2252-4ed5-b51f-f5969d9a428c",
   "metadata": {},
   "source": [
    "### 3. Flows, Connectivity and Matchings\n",
    "\n",
    "Consider a digraph $\\vec{G}=(V, \\vec{E})$, the key question is: what is the maximum value of a feasible flow in a given graph with given source $s$, sink $t$ and capacity function $c$? \n",
    "\n",
    "$\\vec{E}(S, T)$ is a cut if $S$  and  $T$ are disjoint with  $s \\in S$  and  $t \\in T$. We have that for any feasible flow $ f \\leq c $:\n",
    "\n",
    "$$\\begin{aligned}\n",
    "v(f) & =I_{f}(s)=\\sum_{x \\in S} I_{f}(x)=\\sum_{x \\in S}\\left(\\sum_{y \\in N^{+}(x)} f(x y)-\\sum_{y \\in N^{-}(x)} f(y x)\\right) \\\\\n",
    "& =\\sum_{x y \\in \\overrightarrow{\\vec{E}}(S, T)} f(x y)+\\sum_{x y \\in \\vec{E}(S, S)} f(x y)-\\sum_{y x \\in \\overrightarrow{\\vec{E}}(T, S)} f(y x)-\\sum_{y x \\in \\overrightarrow{\\vec{E}}(S, S)} f(y x) \\\\\n",
    "& =\\sum_{x y \\in \\vec{E}(S, T)} f(x y)-\\sum_{y x \\in \\vec{E}(T, S)} f(y x) \\leqslant c(S, T) .\n",
    "\\end{aligned}$$\n",
    "\n",
    "However, actually we have\n",
    "\n",
    "> ( **Max-flow min-cut** ). In any $(\\vec{G}, s, t, c)$, $\\sup \\{ v(f):$ f  is a feasible flow  $\\}=\\min \\{c(S, T):(S, T)$  is a cut  $\\}$. Moreover, the supremum is attained. \n",
    "\n",
    "\n",
    "Let  $G$  be a graph and  $S \\subseteq V(G)$. $S$ **separates**  $G$  if  $G-S$  is disconnected. For vertices  $x, y$, $S$  **separates**  $x$  and  $y$  if they are in different components of  $G-S$.\n",
    "\n",
    "> $G$  is  **$k$-connected** if  $|G| \\geqslant k+1$  and no set of (at most)  $k-1$  vertices separates  $G$. \n",
    "\n",
    "For example, a graph  $G$  is $1$-connected iff it is connected and  $|G| \\geqslant 2$. The only  $k$-connected graph with  $|G|=k+1$  is  $K_{k+1}$.\n",
    "\n",
    "The (vertex) connectivity of a graph  $G$  is defined as $\\kappa(G)=\\max \\{k: G \\text { is } k \\text {-connected }\\}$. We now define a ‘local’ version of connectivity: $\\kappa(x, y)=\\kappa_{G}(x, y)=\\min \\{|S|: S \\text { separates } x \\text { and } y\\}$.\n",
    "\n",
    "> **Prop.** $\\kappa(G)=\\min _{x y \\in E(\\bar{G})} \\kappa_{G}(x, y)$\n",
    ">\n",
    "> ( **Menger's Theorem** ). Let  $x,y\\in V(G)$  be distinct non-adjacent. Then the maximum size of an independent set of  $x-y$  paths is  $\\kappa_{G}(x, y)$. Here two distinct  $x-y$  paths are **independent** if the only vertices they share are  $x$  and  $y$.\n",
    "\n"
   ]
  },
  {
   "cell_type": "code",
   "execution_count": null,
   "id": "291850bc-d8f8-4639-aba2-890a987136bf",
   "metadata": {},
   "outputs": [],
   "source": []
  },
  {
   "cell_type": "code",
   "execution_count": null,
   "id": "a93a99cb-f1f5-4ebd-a011-f03a5211f78a",
   "metadata": {},
   "outputs": [],
   "source": []
  },
  {
   "cell_type": "markdown",
   "id": "03f5331e",
   "metadata": {},
   "source": [
    "---\n",
    "\n",
    "### Reference\n",
    "\n",
    "1. Béla Bollobás. Modern Graph Theory.\n",
    "2. Béla Bollobás. Combinatorics: set systems, hypergraphs, families of vectors, and combinatorial probability."
   ]
  }
 ],
 "metadata": {
  "kernelspec": {
   "display_name": "Python 3",
   "language": "python",
   "name": "python3"
  },
  "language_info": {
   "codemirror_mode": {
    "name": "ipython",
    "version": 3
   },
   "file_extension": ".py",
   "mimetype": "text/x-python",
   "name": "python",
   "nbconvert_exporter": "python",
   "pygments_lexer": "ipython3",
   "version": "3.8.13"
  }
 },
 "nbformat": 4,
 "nbformat_minor": 5
}
