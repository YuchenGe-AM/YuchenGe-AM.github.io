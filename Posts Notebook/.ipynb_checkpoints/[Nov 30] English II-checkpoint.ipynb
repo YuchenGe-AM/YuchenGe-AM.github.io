{
 "cells": [
  {
   "cell_type": "markdown",
   "id": "8b8f090c-0d86-40be-9530-a68498ff13bc",
   "metadata": {},
   "source": [
    "## [Nov 30] English II\n",
    "\n",
    "Presenter: Yuchen Ge  \n",
    "Affiliation: University of Oxford  \n",
    "Contact Email: gycdwwd@gmail.com  \n",
    "Website: https://yuchenge-am.github.io"
   ]
  },
  {
   "cell_type": "markdown",
   "id": "4f654684-bbf6-45a0-8303-f797c46bd1ba",
   "metadata": {},
   "source": [
    "### Israel and Iran: A love story?\n",
    "\n",
    "- [ ] power of graphic designer"
   ]
  },
  {
   "cell_type": "markdown",
   "id": "292850f0-6613-482e-a0fa-b26b2aeec6fd",
   "metadata": {},
   "source": [
    "- [ ] it's unleashed 释放\n",
    "- [ ] on the verge of a war 濒临\n",
    "- [ ] it's plus/minus the same message\n",
    "\n",
    "---"
   ]
  },
  {
   "cell_type": "markdown",
   "id": "0768b6d3-9647-49c3-be1f-1bf90b1ecad1",
   "metadata": {},
   "source": [
    "### The Israel-Hamas war — and what it means for the world\n",
    "\n",
    "- [ ] "
   ]
  },
  {
   "cell_type": "markdown",
   "id": "aa9203e2-7344-4183-91d9-3798207b2f95",
   "metadata": {},
   "source": [
    "- [ ] ramifications of these attacks 后果"
   ]
  },
  {
   "cell_type": "code",
   "execution_count": null,
   "id": "43a4fddb-816d-48ca-b209-c9ad3eb3a811",
   "metadata": {},
   "outputs": [],
   "source": []
  }
 ],
 "metadata": {
  "kernelspec": {
   "display_name": "Python 3",
   "language": "python",
   "name": "python3"
  },
  "language_info": {
   "codemirror_mode": {
    "name": "ipython",
    "version": 3
   },
   "file_extension": ".py",
   "mimetype": "text/x-python",
   "name": "python",
   "nbconvert_exporter": "python",
   "pygments_lexer": "ipython3",
   "version": "3.8.13"
  }
 },
 "nbformat": 4,
 "nbformat_minor": 5
}
