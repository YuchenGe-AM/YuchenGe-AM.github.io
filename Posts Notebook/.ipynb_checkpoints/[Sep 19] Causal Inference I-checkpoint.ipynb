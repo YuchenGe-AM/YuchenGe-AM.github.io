{
 "cells": [
  {
   "cell_type": "markdown",
   "id": "a4ecbc3a",
   "metadata": {},
   "source": [
    "## [Sep 19] Causal Inference I\n",
    "\n",
    "Presenter: Yuchen Ge  \n",
    "Affiliation: University of Oxford  \n",
    "Contact Email: gycdwwd@gmail.com  \n",
    "Website: https://yuchenge-am.github.io"
   ]
  },
  {
   "cell_type": "markdown",
   "id": "f716c726",
   "metadata": {},
   "source": [
    "----"
   ]
  },
  {
   "cell_type": "markdown",
   "id": "ef270289",
   "metadata": {},
   "source": [
    "Content\n",
    "\n",
    "1. [Factorial Estimands](#Factorial-Estimands)\n",
    "\n",
    "---"
   ]
  },
  {
   "cell_type": "markdown",
   "id": "6446c9c8",
   "metadata": {},
   "source": [
    "### 1. Factorial Estimands <a id='Factorial-Estimands '></a>\n",
    "\n",
    "Let there be $K$ two-level factors, which creates $2^K = J$ total possible treatment combinations. \n",
    "\n",
    "> The $j$-th treatment combination is denoted $z_j = (z_{j1}, z_{j2}, ..., z_{jK})$, $j=1,2,..,J$.\n",
    ">\n",
    "> The **design matrix** is defined as $\\begin{pmatrix} z_1 \\\\ z_2 \\\\ ...  \\\\ z_J\\end{pmatrix}$. \n",
    "\n",
    "Then the **potential outcome** for unit $i$ under treatment combination $z_j$ can be written as $Y_i(z_j)$ and the sample average potential outcome under treatment $z_j$ as \n",
    "\n",
    "$$\\bar{Y}(z_j) = \\sum^{n}_{i} \\frac{Y_i(z_j)}{n}.$$ \n",
    "\n",
    "$\\bar{Y} = (\\bar{Y}(z_1), \\bar{Y}(z_2), ..., \\bar{Y}(z_J))$ is the vector of mean potential outcomes for all $J = 2^K$ treatment combinations, and we have similar definitions for $\\bar{Y}_{i}$. Denote the contrast column $j$ in the **design matrix** by $g_j$.\n",
    "\n",
    "> Define **contrast vector** for the two-factor interaction between factors $k$ and $k'$ as $ g_{k,k'} = g_k \\circ  g_{k'}$.\n",
    ">\n",
    "> Similarly, we may define the contrast vector for multi-factor interactions, which composes the **full factorial model matrix**,\n",
    ">\n",
    "> $$G = [g_0, g_1, ..., g_{1,2,...,K}]^{T}.$$\n",
    ">\n",
    "\n",
    "Here $\\boldsymbol{g}_{0}$ is a vector of length $2^{K}$ of all $+1$. \n",
    "\n",
    ">  Define the **finite population interaction effect** for factors $k, k'$ as $\\tau (k, k') = \\frac{1}{2^{K-1}} g^{\\top}_{k}\\bar{Y}$ and the **individual-level effect** as $\\tau_i (k, k') = \\frac{1}{2^{K-1}} g^{\\top}_{k,k'}\\bar{Y_i}$.\n",
    ">\n",
    "> Correspondingly, we define \n",
    ">\n",
    ">$$ \\boldsymbol{\\tau}=[2 \\tau(0), \\tau(1), \\ldots, \\tau(K), \\tau(1,2), \\ldots, \\tau(K-1, K), \\ldots, \\tau(1,2, \\ldots, K)]^{T}$$\n",
    "> where $\\tau(0)=2^{-K} \\boldsymbol{g}_{0}^{T} \\bar{\\boldsymbol{Y}}$.\n",
    "\n",
    "By definition, $2^{-(K-1)} \\boldsymbol{G \\bar{Y}}=\\boldsymbol{\\tau}$. Due to orthogonality, $\\boldsymbol{G}^{-1}=\\frac{1}{2^{K}} \\boldsymbol{G}^{T}$, it follows that \n",
    "\n",
    "$$\\overline{\\boldsymbol{Y}}=2^{-1} \\boldsymbol{G}^{T} \\boldsymbol{\\tau}.$$\n"
   ]
  },
  {
   "cell_type": "markdown",
   "id": "20521359",
   "metadata": {},
   "source": [
    "\n"
   ]
  },
  {
   "cell_type": "markdown",
   "id": "565cbeeb",
   "metadata": {},
   "source": [
    "### 2. Inference for $2^K$ Factorial Designs <a id=' Inference-for-2K-Factorial-Designs '></a>"
   ]
  },
  {
   "cell_type": "markdown",
   "id": "6a5583ef",
   "metadata": {},
   "source": [
    "Define $$W_{i}(\\boldsymbol{z})=\\left\\{\\begin{array}{ll}\n",
    "1 & \\text { if the } i \\text { th } \\text { unit is assigned to } \\boldsymbol{z} \\\\\n",
    "0 & \\text { otherwise. }\n",
    "\\end{array}\\right.$$\n",
    "\n",
    "Assume tha there is a fixed number $n_{j} \\geq 2$ of units randomly assigned to treatment combination $\\boldsymbol{z}_{j}$.\n",
    "\n",
    "Let  $\\boldsymbol{W}$  be the  $n \\times 2^{K}$  vector of  $W_{i}\\left(\\boldsymbol{z}_{j}\\right)$  for all  $i$  and  $\\boldsymbol{z}_{j}$. Let  $\\boldsymbol{w}$  be some  $n \\times 2^{K}$  matrix with entries in the set  $\\{0,1\\}$. This design imposes\n",
    "\n",
    "$$P(\\boldsymbol{W}=\\boldsymbol{w})=\\prod_{j=1}^{J} \\frac{n_{j} !}{n!}$$\n",
    "\n",
    "if $\\sum_{j=1}^{J} w_{i}\\left(\\boldsymbol{z}_{j}\\right)=1$ for all $i$  and $\\sum_{i=1}^{n} w_{i}\\left(\\boldsymbol{z}_{j}\\right)=n_{j}$ for all $\\boldsymbol{z}_{j}$, and $P(\\boldsymbol{W}=\\boldsymbol{w})=0$ otherwise.\n",
    "\n",
    "We define the observed potential outcome for unit $i$ to be \n",
    "\n",
    "> $$Y_{i}^{o b s}=\\sum_{j=1}^{J} W_{i}\\left(\\boldsymbol{z}_{j}\\right) Y_{i}\\left(\\boldsymbol{z}_{j}\\right).$$\n"
   ]
  },
  {
   "cell_type": "markdown",
   "id": "1a6beeda",
   "metadata": {},
   "source": [
    "### 3. Fractional Factorial Designs.\n",
    "\n",
    "Sometimes, the full factorial design may not be the most efficient allocation of resources"
   ]
  },
  {
   "cell_type": "code",
   "execution_count": null,
   "id": "2a102158",
   "metadata": {},
   "outputs": [],
   "source": []
  },
  {
   "cell_type": "markdown",
   "id": "e67f7258",
   "metadata": {},
   "source": [
    "4. "
   ]
  },
  {
   "cell_type": "markdown",
   "id": "c9789c91",
   "metadata": {},
   "source": [
    "### Reference\n",
    "\n",
    "1. Causal Inference for Multiple Treatments using Fractional Factorial Designs.\n",
    "2. Causal Inference from $2^K$ Factorial Designs by Using Potential Outcomes.\n",
    "3. Note on the Delta Method for Finite Population Inference with Applications to Causal Inference."
   ]
  },
  {
   "cell_type": "code",
   "execution_count": null,
   "id": "991c9937",
   "metadata": {},
   "outputs": [],
   "source": []
  },
  {
   "cell_type": "code",
   "execution_count": null,
   "id": "8a96781f",
   "metadata": {},
   "outputs": [],
   "source": []
  },
  {
   "cell_type": "code",
   "execution_count": null,
   "id": "4fd370e8",
   "metadata": {},
   "outputs": [],
   "source": []
  },
  {
   "cell_type": "code",
   "execution_count": null,
   "id": "a3d9f402",
   "metadata": {},
   "outputs": [],
   "source": []
  },
  {
   "cell_type": "code",
   "execution_count": null,
   "id": "0a054394",
   "metadata": {},
   "outputs": [],
   "source": []
  },
  {
   "cell_type": "code",
   "execution_count": null,
   "id": "e625e1e0",
   "metadata": {},
   "outputs": [],
   "source": []
  },
  {
   "cell_type": "code",
   "execution_count": null,
   "id": "60960491",
   "metadata": {},
   "outputs": [],
   "source": []
  },
  {
   "cell_type": "markdown",
   "id": "03f5331e",
   "metadata": {},
   "source": [
    "---\n",
    "\n",
    "### Reference\n",
    "\n",
    "1. Gallager, Robert G. Discrete Stochastic Processes. Kluwer Acad. Publ., 1999. \n"
   ]
  },
  {
   "cell_type": "code",
   "execution_count": null,
   "id": "bb05523f-229d-4d36-b9b8-388b253fd115",
   "metadata": {},
   "outputs": [],
   "source": []
  }
 ],
 "metadata": {
  "kernelspec": {
   "display_name": "Python 3",
   "language": "python",
   "name": "python3"
  },
  "language_info": {
   "codemirror_mode": {
    "name": "ipython",
    "version": 3
   },
   "file_extension": ".py",
   "mimetype": "text/x-python",
   "name": "python",
   "nbconvert_exporter": "python",
   "pygments_lexer": "ipython3",
   "version": "3.8.13"
  }
 },
 "nbformat": 4,
 "nbformat_minor": 5
}
