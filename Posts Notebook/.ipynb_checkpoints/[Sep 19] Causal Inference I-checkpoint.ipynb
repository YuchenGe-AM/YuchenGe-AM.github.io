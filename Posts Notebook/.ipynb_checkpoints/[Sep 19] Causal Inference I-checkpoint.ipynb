{
 "cells": [
  {
   "cell_type": "markdown",
   "id": "a4ecbc3a",
   "metadata": {},
   "source": [
    "## [Sep 19] Causal Inference I\n",
    "\n",
    "Presenter: Yuchen Ge  \n",
    "Affiliation: University of Oxford  \n",
    "Contact Email: gycdwwd@gmail.com  \n",
    "Website: https://yuchenge-am.github.io"
   ]
  },
  {
   "cell_type": "markdown",
   "id": "f716c726",
   "metadata": {},
   "source": [
    "----"
   ]
  },
  {
   "cell_type": "markdown",
   "id": "6446c9c8",
   "metadata": {},
   "source": [
    "### 1. Factorial Estimands <a id='Factorial-Estimands '></a>\n",
    "\n",
    "Let there be $K$ two-level factors, which creates $2^K = J$ total possible treatment combinations. \n",
    "\n",
    "> The $j$-th treatment combination is $z_j := (z_{j1}, z_{j2}, ..., z_{jK})$, $j \\leq J$, where $z_{j, k} \\in\\{-1,+1\\}$ is the level of the $k$-th factor in the $j$-th treatment.\n",
    "\n",
    "Then the **potential outcome** for unit $i$ under treatment combination $z_j$ can be written as $Y_i(z_j)$ and write $\\bar{Y}(z_j) := \\sum^{n}_{i} Y_i(z_j) \\big/ n$.\n",
    "\n",
    "> Set $\\boldsymbol{Y}_{i} := \\left(Y_{i}\\left(z_{1}\\right), \\ldots, Y_{i}\\left(z_{J}\\right)\\right)^{\\top}$ and $\\bar{Y}: = (\\bar{Y}(z_1), \\bar{Y}(z_2), ..., \\bar{Y}(z_J))^{\\top}$, $i \\leq n$, i.e. there are $n$ units.\n",
    "\n",
    "We shall call $\\bar{Y}$ the vector of mean potential outcomes.\n",
    "\n",
    "> Set $g_i:= ( z_{1i}, z_{2i}, ..., z_{Ji})^{\\top}$. The **two-factor interaction** between factors $k$ and $k'$ is $ g_{k,k'} = g_k \\circ  g_{k'}$. Similarly, we have three-factor interactions $\\boldsymbol{g}_{k . h, i}=\\boldsymbol{g}_{k} \\circ \\boldsymbol{g}_{h} \\circ \\boldsymbol{g}_{i}$, and all higher-order interaction.\n",
    ">\n",
    "> The **full factorial model matrix** is $G = [g_0, g_1, ..., g_{12}, ..., g_{1,2,...,K}]^{\\top}$ where $\\boldsymbol{g}_{0} = (+1, +1, ..., +1)^{\\top}$. \n",
    ">\n",
    "> $\\tau(k)=\\frac{1}{2^{K-1}} \\boldsymbol{g}_{k}^{\\top} \\overline{\\boldsymbol{Y}}$ is the finite population effect for factor $k$ with corresponding individual level effect $\\tau_{i}(k)=\\frac{1}{2^{K-1}} \\boldsymbol{g}_{k}^{\\top} \\boldsymbol{Y}_{i}$.\n",
    "\n",
    "Here finite population means that we are only interested in inference for units in the experiment. Also we have the orthogonality $\\boldsymbol{G}^{-1}=\\frac{1}{2^{K}} \\boldsymbol{G}^{T}$, which follows that \n",
    "\n",
    "$$\\boldsymbol{\\tau} := 2^{-(K-1)} \\boldsymbol{G}\\overline{\\boldsymbol{Y}} = [2 \\tau(0), \\tau(1), \\ldots, \\tau(K), \\tau(1,2), \\ldots, \\tau(K-1, K), \\ldots, \\tau(1,2, \\ldots, K)]^{\\top} \\implies \\overline{\\boldsymbol{Y}}=2^{-1} \\boldsymbol{G}^{\\top} \\boldsymbol{\\tau}. \\qquad \\qquad $$"
   ]
  },
  {
   "cell_type": "markdown",
   "id": "02c7853a-cfcb-4b52-ad16-bb6230ede79e",
   "metadata": {},
   "source": [
    "---"
   ]
  },
  {
   "cell_type": "markdown",
   "id": "565cbeeb",
   "metadata": {},
   "source": [
    "### 2. Inference for $2^K$ Factorial Designs <a id=' Inference-for-2K-Factorial-Designs '></a>"
   ]
  },
  {
   "cell_type": "markdown",
   "id": "6a5583ef",
   "metadata": {},
   "source": [
    "> Set $W_{i}\\left(z_{j}\\right)=1$  if unit  $i$  received treatment  $z_{j}$  and $0$  otherwise. \n",
    "\n",
    "Let  $W = \\big[W_{i}\\left(z_{j}\\right)\\big]_{i,j}$  whose dimension is $n \\times 2^{K}$, the same as $(\\boldsymbol{Y}_{1},\\boldsymbol{Y}_{2},...,\\boldsymbol{Y}_{n})^{\\top}$. Let  $w \\in M^{n\\times 2^{K}}(\\{0,1\\})$. This design imposes\n",
    "\n",
    "$$P(W=w)=\\left\\{\\begin{array}{ll}\n",
    "\\prod_{j=1}^{J} n_{j} ! / n ! & \\text { if } \\boldsymbol{w} \\mathbf{1}=\\mathbf{1} \\text { and } \\boldsymbol{w}^{\\top} \\mathbf{1}=n \\\\\n",
    "0 & \\text { otherwise }\n",
    "\\end{array}\\right.$$\n",
    "\n",
    "where $\\boldsymbol{n}=\\left(n_{1}, \\ldots, n_{J}\\right)^{\\top}$. Intuitively, $n_j$ units are assigned completely at random to $z_{j}$ treatment; each unit has exactly one treatment.\n",
    "\n"
   ]
  },
  {
   "cell_type": "markdown",
   "id": "94756569-4870-4c52-adf1-9cfdbd650482",
   "metadata": {},
   "source": [
    "Set $Y_{i}^{\\mathrm{obs}}=\\sum_{j=1}^{J} W_{i}\\left(z_{j}\\right) Y_{i}\\left(z_{j}\\right)$. Then it's natural to define\n",
    "\n",
    "$$\\bar{Y}^{\\mathrm{obs}}\\left(z_{j}\\right)=\\frac{1}{n_{j}} \\sum_{i=1}^{n} W_{i}\\left(z_{j}\\right) Y_{i}\\left(z_{j}\\right)=\\frac{1}{n_{j}} \\sum_{i: W_{i}\\left(z_{j}\\right)=1}^{n} Y_{i}^{\\mathrm{obs}}$$\n",
    "\n",
    "which is an unbiased estimator of $\\bar{Y}\\left(z_{j}\\right)$. Correspondingly, set\n",
    "\n",
    "$$ \\widehat{\\tau}(k)=\\frac{1}{2^{K-1}} \\boldsymbol{g}_{k}^{\\top} \\overline{\\boldsymbol{Y}}^{\\mathrm{obs}} \\quad \\text { and } \\quad \\hat{\\tau}\\left(k, k^{\\prime}\\right)=\\frac{1}{2^{K-1}} \\boldsymbol{g}_{k, k^{\\prime}}^{\\top} \\overline{\\boldsymbol{Y}}^{\\mathrm{obs}}$$"
   ]
  },
  {
   "cell_type": "markdown",
   "id": "00195295-5960-412f-bfa9-96eabdbb5162",
   "metadata": {},
   "source": [
    "which are again unbiased estimators."
   ]
  },
  {
   "cell_type": "markdown",
   "id": "1a6beeda",
   "metadata": {},
   "source": [
    "### 3. Fractional and Incomplete Factorial Designs\n",
    "\n",
    "Sometimes $2^{K-p}=J^{*}$  fractional factorial design is implemented. \n",
    "\n",
    "Write $\\boldsymbol{g}_{k}^{*}$ for subsets of $\\boldsymbol{g}_{k}$ and assume units are assigned using complete randomization to the $J^*$ treatments."
   ]
  },
  {
   "cell_type": "markdown",
   "id": "9d08ab06-5c76-44d0-849e-a6db0a28ebfb",
   "metadata": {},
   "source": [
    "Then one has $\\hat{\\tau}^{*}(k)=\\frac{1}{2^{K-p-1}} g_{k}^{* \\top} \\bar{Y}_{*}^{\\mathrm{obs}}$ and $\\widehat{\\tau}^{*}\\left(k, k^{\\prime}\\right)=\\frac{1}{2^{K-p-1}} g_{k, k^{\\prime}}^{* \\top} \\overline{\\boldsymbol{Y}}_{*}^{\\text {obs }}$ similarly. However, it's unbiased since\n",
    "\n",
    "> $E\\left[\\hat{\\tau}^{*}(k)\\right]=\\frac{1}{2^{K-p-1}} g_{k}^{* \\top} \\overline{\\boldsymbol{Y}}_{*}=\\sum_{j \\in \\mathcal{A}_{k}} A_{k, j} \\tau(j)=\\tau(k)+\\sum_{j \\in \\mathcal{A}_{k} \\backslash\\{k\\}} A_{k, j} \\tau(j) .$\n",
    "\n",
    "**Proof.** The number of effects aliased with the main effect of factor 𝑘 is 2𝑝 − 1 "
   ]
  },
  {
   "cell_type": "markdown",
   "id": "644e5917-2c2b-485c-adbe-a9d154058705",
   "metadata": {},
   "source": []
  },
  {
   "cell_type": "code",
   "execution_count": null,
   "id": "575aa629-75d4-4000-af30-4cae96885c92",
   "metadata": {},
   "outputs": [],
   "source": []
  },
  {
   "cell_type": "code",
   "execution_count": null,
   "id": "836aa054-5a6f-49f1-8078-64122834a1ff",
   "metadata": {},
   "outputs": [],
   "source": []
  },
  {
   "cell_type": "code",
   "execution_count": null,
   "id": "d6652139-63d0-46da-9c4f-b92f5b9fd2c6",
   "metadata": {},
   "outputs": [],
   "source": []
  },
  {
   "cell_type": "code",
   "execution_count": null,
   "id": "02f3ffc6-c18f-470a-b0c6-b66cdf4cea25",
   "metadata": {},
   "outputs": [],
   "source": []
  },
  {
   "cell_type": "markdown",
   "id": "e67f7258",
   "metadata": {},
   "source": [
    "4. "
   ]
  },
  {
   "cell_type": "code",
   "execution_count": null,
   "id": "0a054394",
   "metadata": {},
   "outputs": [],
   "source": []
  },
  {
   "cell_type": "code",
   "execution_count": null,
   "id": "60960491",
   "metadata": {},
   "outputs": [],
   "source": []
  },
  {
   "cell_type": "markdown",
   "id": "03f5331e",
   "metadata": {},
   "source": [
    "---\n",
    "\n",
    "### Reference\n",
    "\n",
    "1. Nicole E. PASHLEY. Causal Inference for Multiple Treatments using Fractional Factorial Designs.\n",
    "2. Tirthankar Dasgupta. Causal Inference from $2^K$ Factorial Designs by Using Potential Outcomes.\n",
    "3. Nicole E. Pashley. Note on the Delta Method for Finite Population Inference with Applications to Causal Inference."
   ]
  }
 ],
 "metadata": {
  "kernelspec": {
   "display_name": "Python 3",
   "language": "python",
   "name": "python3"
  },
  "language_info": {
   "codemirror_mode": {
    "name": "ipython",
    "version": 3
   },
   "file_extension": ".py",
   "mimetype": "text/x-python",
   "name": "python",
   "nbconvert_exporter": "python",
   "pygments_lexer": "ipython3",
   "version": "3.8.13"
  }
 },
 "nbformat": 4,
 "nbformat_minor": 5
}
