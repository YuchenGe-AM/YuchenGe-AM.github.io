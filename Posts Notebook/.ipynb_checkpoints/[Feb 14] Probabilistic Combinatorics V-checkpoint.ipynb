{
 "cells": [
  {
   "cell_type": "markdown",
   "id": "a4ecbc3a",
   "metadata": {},
   "source": [
    "## [Feb 14] Probabilistic Combinatorics V\n",
    "\n",
    "Presenter: Yuchen Ge  \n",
    "Affiliation: University of Oxford  \n",
    "Contact Email: gycdwwd@gmail.com  \n",
    "Website: https://yuchenge-am.github.io"
   ]
  },
  {
   "cell_type": "markdown",
   "id": "fd5f2a81-37b9-435e-8710-90c1034d79c6",
   "metadata": {},
   "source": [
    "### 1. Component Exploration\n",
    "\n",
    "\n",
    "\n",
    "\n",
    "\n",
    "\n",
    "\n"
   ]
  },
  {
   "cell_type": "markdown",
   "id": "38f818e2-3f62-4b0d-8ea9-56ed57207d70",
   "metadata": {},
   "source": [
    "Recall that for $f_{Z}(x)=\\mathbb{E}\\left[x^{Z}\\right]=\\sum_{k=0}^{\\infty} \\mathbb{P}(Z=k) x^{k}$, we have\n",
    "-  $f_{Z}(0)=\\mathbb{P}(Z=0)$  and  $f_{Z}(1)=1$.\n",
    "-  $f_{Z}^{\\prime}(1)=\\mathbb{E}[Z]$.\n",
    "- If  $\\mathbb{P}(Z \\geqslant 2)>0$, then  $f_{Z}^{\\prime}$  is strictly increasing.\n",
    "\n",
    "For the last, simply note that $f_{Z}^{\\prime \\prime}(x)=\\sum_{k \\geqslant 2} k(k-1) \\mathbb{P}(Z=k) x^{k-2} \\geqslant 0$."
   ]
  },
  {
   "cell_type": "code",
   "execution_count": null,
   "id": "58622957-2edf-4490-aa69-2cf174fafcea",
   "metadata": {},
   "outputs": [],
   "source": []
  },
  {
   "cell_type": "code",
   "execution_count": null,
   "id": "d1cd33d0-d990-46a2-8447-9723c46eb1ac",
   "metadata": {},
   "outputs": [],
   "source": []
  },
  {
   "cell_type": "code",
   "execution_count": null,
   "id": "b262a2ab-9017-4bc0-b33c-f17eabef11a6",
   "metadata": {},
   "outputs": [],
   "source": []
  },
  {
   "cell_type": "code",
   "execution_count": null,
   "id": "120ebb25-f5b5-48de-8909-da33db3da5ff",
   "metadata": {},
   "outputs": [],
   "source": []
  },
  {
   "cell_type": "code",
   "execution_count": null,
   "id": "a8cef69a-816c-42da-8b96-40873d1681d9",
   "metadata": {},
   "outputs": [],
   "source": []
  },
  {
   "cell_type": "code",
   "execution_count": null,
   "id": "8e9b2060-5d6c-40d2-a13a-980ed55e3014",
   "metadata": {},
   "outputs": [],
   "source": []
  },
  {
   "cell_type": "code",
   "execution_count": null,
   "id": "64ffb509-18ed-44c1-9dd2-32a238619134",
   "metadata": {},
   "outputs": [],
   "source": []
  },
  {
   "cell_type": "code",
   "execution_count": null,
   "id": "0ce1b7ef-9c07-460f-9ed7-2cf4bb3c8894",
   "metadata": {},
   "outputs": [],
   "source": []
  },
  {
   "cell_type": "code",
   "execution_count": null,
   "id": "061d2836-aee0-485d-8d63-9ef784334c37",
   "metadata": {},
   "outputs": [],
   "source": []
  },
  {
   "cell_type": "code",
   "execution_count": null,
   "id": "baeb0625-eb2c-45a1-8658-6c2c215e5c28",
   "metadata": {},
   "outputs": [],
   "source": []
  },
  {
   "cell_type": "code",
   "execution_count": null,
   "id": "bd378a3b-38fa-4c9a-a8ce-64b89833b7c9",
   "metadata": {},
   "outputs": [],
   "source": []
  },
  {
   "cell_type": "markdown",
   "id": "03f5331e",
   "metadata": {},
   "source": [
    "---\n",
    "\n",
    "### Reference\n"
   ]
  }
 ],
 "metadata": {
  "kernelspec": {
   "display_name": "Python 3",
   "language": "python",
   "name": "python3"
  },
  "language_info": {
   "codemirror_mode": {
    "name": "ipython",
    "version": 3
   },
   "file_extension": ".py",
   "mimetype": "text/x-python",
   "name": "python",
   "nbconvert_exporter": "python",
   "pygments_lexer": "ipython3",
   "version": "3.8.13"
  }
 },
 "nbformat": 4,
 "nbformat_minor": 5
}
