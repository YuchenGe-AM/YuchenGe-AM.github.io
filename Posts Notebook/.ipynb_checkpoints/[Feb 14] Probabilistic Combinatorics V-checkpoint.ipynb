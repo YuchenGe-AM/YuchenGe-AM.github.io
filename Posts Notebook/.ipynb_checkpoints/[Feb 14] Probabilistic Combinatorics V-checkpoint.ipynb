{
 "cells": [
  {
   "cell_type": "markdown",
   "id": "a4ecbc3a",
   "metadata": {},
   "source": [
    "## [Feb 14] Probabilistic Combinatorics V\n",
    "\n",
    "Presenter: Yuchen Ge  \n",
    "Affiliation: University of Oxford  \n",
    "Contact Email: gycdwwd@gmail.com  \n",
    "Website: https://yuchenge-am.github.io"
   ]
  },
  {
   "cell_type": "markdown",
   "id": "fd5f2a81-37b9-435e-8710-90c1034d79c6",
   "metadata": {},
   "source": [
    "---\n",
    "\n",
    "### 1. Component Exploration\n"
   ]
  },
  {
   "cell_type": "markdown",
   "id": "38f818e2-3f62-4b0d-8ea9-56ed57207d70",
   "metadata": {},
   "source": [
    "Recall that for $f_{Z}(x)=\\mathbb{E}\\left[x^{Z}\\right]=\\sum_{k=0}^{\\infty} \\mathbb{P}(Z=k) x^{k}$, we have\n",
    "-  $f_{Z}(0)=\\mathbb{P}(Z=0)$  and  $f_{Z}(1)=1$.\n",
    "-  $f_{Z}^{\\prime}(1)=\\mathbb{E}[Z]$.\n",
    "- If  $\\mathbb{P}(Z \\geqslant 2)>0$, then  $f_{Z}^{\\prime}$  is strictly increasing.\n",
    "\n",
    "For the last, simply note that $f_{Z}^{\\prime \\prime}(x)=\\sum_{k \\geqslant 2} k(k-1) \\mathbb{P}(Z=k) x^{k-2} \\geqslant 0$. Then\n",
    "\n",
    "> If  $\\mathbb{E}[Z]>1$  then  $\\eta(Z)<1$. If  $\\mathbb{E}[Z]<1$, or if  $\\mathbb{E}[Z]=1$  and  $\\mathbb{P}(Z=1)<1$, then  $\\eta(Z)=1$. \n",
    ">\n",
    "> Recall that $\\eta(Z)$  = smallest solution  $x \\in[0,1]$  to  $f_{Z}(x)=x$. "
   ]
  },
  {
   "cell_type": "markdown",
   "id": "db79b10b-07b9-42b1-94ae-d1c29f5add11",
   "metadata": {},
   "source": [
    "Write $Z \\sim \\operatorname{Po}(c)$ if $\\mathbb{P}(Z=k)=\\frac{c^{k}}{k !} e^{-c}$. Then"
   ]
  },
  {
   "cell_type": "markdown",
   "id": "d4182142-bb37-46eb-8ba0-fc0859c5b31f",
   "metadata": {},
   "source": [
    "$$f(x)=\\sum_{k=0}^{\\infty} \\frac{c^{k}}{k !} e^{-c} x^{k}=e^{c x} e^{-c}=e^{c(x-1)}=e^{-c(1-x)}\n",
    "\\implies \\eta=e^{-c(1-\\eta)}.\n",
    "$$\n",
    "\n",
    "---"
   ]
  },
  {
   "cell_type": "markdown",
   "id": "934f16b4-f05d-498b-bffd-a2dc9863a2f8",
   "metadata": {},
   "source": [
    "Here's a diverse by rephreasing the branching process. Start with  $Y_{0}^{b p}=1$, meaning one live individual. In step  $t$, select a live individual if there is one; this individual has  $Z_{t}$  children and then dies. Let  $Y_{t}^{b p}$  be the number of individuals alive after  $t$  steps. Then\n",
    "\n",
    "$$Y_{t}^{b p}=\\left\\{\\begin{array}{ll}\n",
    "Y_{t-1}^{b p}+Z_{t}-1 & \\text { if } Y_{t-1}^{b p}>0 \\\\\n",
    "0 & \\text { if } Y_{t-1}^{b p}=0\n",
    "\\end{array}\\right.$$\n",
    "\n",
    "The process dies out iff  $Y_{m}^{b p}=0$  for some  $m$; in this case the total number of individuals is  $\\min \\left\\{m: Y_{m}^{b p}=0\\right\\}$. Until it hits zero, the sequence  $\\left(Y_{t}^{b p}\\right)$  is a random walk with i.i.d. increments  $Z_{1}-   1$, $Z_{2}-1$, $\\ldots$  taking values in  $\\{-1,0,1,2, \\ldots\\}$. Each increment has expectation  $\\mathbb{E}[Z-   1]=\\lambda-1$. \n",
    "\n",
    "> $\\lambda<1$  implies negative drift, and $\\mathbb{P}( \\text{the walk will hit 0} )=1$.\n",
    ">\n",
    "> $\\lambda>1$  implies positive drift, and $\\mathbb{P}( \\text{the walk will never hit 0} ) >0$."
   ]
  },
  {
   "cell_type": "markdown",
   "id": "2dec2247-953e-45b7-b30d-9dee26f78856",
   "metadata": {},
   "source": [
    "Let $v$ be a fixed vertex of a graph $G=G(n,p)$. At each stage, each vertex $u$ of $G$ will be ‘live’,\n",
    "‘unreached’, or ‘processed’. \n",
    "\n",
    "> $Y_t$ = # live vertices after $t$ steps\n",
    ">\n",
    "> $U_t = n − t − Y_t$ = # unreached vertices."
   ]
  },
  {
   "cell_type": "markdown",
   "id": "ad251672-3422-4307-bb47-e26c01e96caa",
   "metadata": {},
   "source": [
    "At  $t=0$, let $Y_{0}=1$  and  $U_{0}=n-1$. At each step  $t$, pick a live vertex  $w$, if there is one. For each unreached  $w^{\\prime}$, check whether  $w w^{\\prime} \\in E(G)$; if so, make  $w^{\\prime}$  live. After completing these checks, set  $w $ to be processed.\n",
    "\n",
    "Let  $R_{t}$  = #  $w^{\\prime}$  which become live during step  $t$. Then\n",
    "\n",
    "$$Y_{t}=\\left\\{\\begin{array}{ll}\n",
    "Y_{t-1}+R_{t}-1 & \\text { if } Y_{t-1}>0 \\\\\n",
    "0 & \\text { if } Y_{t-1}=0\n",
    "\\end{array}\\right.$$\n"
   ]
  },
  {
   "cell_type": "markdown",
   "id": "9438465b-21d8-4bda-b4a2-5a4d64bf39e4",
   "metadata": {},
   "source": [
    "The process stops at the first $m$ for which $Y_{m}=0$. Also,\n",
    "> We have $R_{t} \\sim \\operatorname{Bin}\\left(u_{t-1}, p\\right)$ where $u_{t-1}=n-(t-1)-y_{t-1} \\text {. }$\n",
    "\n",
    "Let  $\\rho_{k}(c)$  denote the probability that  $\\left|\\mathbf{X}_{\\mathrm{Po}(c)}\\right|=k$ where  $|\\mathbf{X}|=\\sum_{t \\geqslant 0} X_{t} \\leqslant \\infty$ = # individuals in all generations of the branching process  $\\mathbf{X} $.\n",
    "\n",
    "> **Thm.** Suppose that  $p=p(n)$  satisfies  $n p \\rightarrow c>0 $. Then \n",
    ">\n",
    "> $$\\mathbb{P}\\left(\\left|C_{v}\\right|=k\\right) \\rightarrow \\rho_{k}(c) \\quad \\text { as } n \\rightarrow \\infty. $$\n",
    "\n",
    "**Proof.** Let  $\\mathcal{S}_{k}$  be the set of all possible corresponding sequences  $\\mathbf{y}=\\left(y_{0}, \\ldots, y_{k}\\right)$  of values for  $\\mathbf{Y}=\\left(Y_{0}, \\ldots, Y_{k}\\right)$, i.e., all sequences s.t.  $y_{0}=1, y_{k}=0, y_{t}>0$  for  $t<k$, and each  $y_{t}$  is an integer with  $y_{t} \\geqslant y_{t-1}-1$. Then\n",
    "\n",
    "$$\\mathbb{P}\\left(\\left|C_{v}\\right|=k\\right)=\\sum_{\\mathbf{y} \\in \\mathcal{S}_{k}} \\mathbb{P}(\\mathbf{Y}=\\mathbf{y}) \\quad \\text{and} \\quad \\rho_{k}(c)=\\mathbb{P}\\left(\\left|\\mathbf{X}_{\\mathrm{Po}(c)}\\right|=k\\right)=\\sum_{\\mathbf{y} \\in \\mathcal{S}_{k}} \\mathbb{P}\\left(\\mathbf{Y}^{b p}=\\mathbf{y}\\right).$$\n",
    "\n",
    "> **Lemma.** $np \\to c \\implies Z_n \\sim Bin(n, p)$ converges in distribution to $Z \\sim \\operatorname{Po}(c)$.\n",
    "\n",
    "Set $r_t= y_{t}-y_{t-1}+1$. This shows that $\\mathbb{P}(\\mathbf{Y}=\\mathbf{y})=\\prod_{t=1}^{k} \\mathbb{P}\\left(\\operatorname{Bin}\\left(n-(t-1)-y_{t-1}, p\\right)=r_{t}\\right)\\rightarrow \\prod_{t=1}^{k} \\mathbb{P}\\left(\\operatorname{Po}(c)=r_{t}\\right)$, which follows the conclusion."
   ]
  },
  {
   "cell_type": "markdown",
   "id": "500c15df-2fd2-45f4-a974-287be3cefa17",
   "metadata": {},
   "source": [
    "---\n",
    "\n",
    "We then study  $N_{k}(G)$ = # vertices in copies of $C_k$ in $G$  = $k \\cdot $ #  copies of $C_k$ in $G$. Then it's clear that the expectation is\n",
    "\n",
    "$$\\sum_{v} \\mathbb{P}\\left(\\left|C_{v}\\right|=k\\right)=n \\mathbb{P}\\left(\\left|C_{v}\\right|=k\\right) \\sim n \\rho_{k}(c).$$\n",
    "\n",
    "We shall use the second moment method to show that in fact this number is concentrated around its mean.\n",
    "\n",
    "> $\\mathbb{E}\\left[X_{n}\\right] \\rightarrow a$ and $\\mathbb{E}\\left[X_{n}^{2}\\right] \\rightarrow a^{2} $ implies that $X_{n} \\xrightarrow{\\mathrm{p}} a $.\n",
    "\n"
   ]
  },
  {
   "cell_type": "markdown",
   "id": "79eba2ba-23df-4cda-8d69-d3739c8d6715",
   "metadata": {},
   "source": [
    "Delighted from the observation above, we compute that \n",
    "\n",
    "> $\\mathbb{E}\\left[N_{k}^{2}\\right]=\\mathbb{E}[A]+\\mathbb{E}[B] \\sim\\left(n \\rho_{k}(c)\\right)^{2}$ where $A=\\sum_{v} \\sum_{w} I_{v} I_{w} I_{\\left\\{C_{v}=C_{w}\\right\\}}$, $B=\\sum_{v} \\sum_{w} I_{v} I_{w} I_{\\left\\{C_{v} \\neq C_{w}\\right\\}}$, and \n",
    "$I_v$ = indicator function of the event that $|C_v| =k$. \n",
    "\n",
    "This shows that\n",
    "\n",
    "> Let  $c>0$, $k \\geqslant 1$, and $N_{k}=N_{k}(G(n, c / n))$. Then  \n",
    ">\n",
    "> $$N_{k} \\big/ n \\xrightarrow{\\mathrm{P}} \\rho_{k}(c).$$\n"
   ]
  },
  {
   "cell_type": "markdown",
   "id": "d402a72a-02ce-4635-ad29-1d283a241615",
   "metadata": {},
   "source": [
    "Summing over, we have $\\frac{N_{\\leqslant K}(G)}{n} \\xrightarrow{\\mathrm{p}} \\rho_{\\leqslant K}(c)$."
   ]
  },
  {
   "cell_type": "markdown",
   "id": "0033aa0b-0110-484d-ad4e-d09706fde28a",
   "metadata": {},
   "source": [
    "---\n",
    "\n",
    "### 2. Upsets and Downsets"
   ]
  },
  {
   "cell_type": "markdown",
   "id": "7b1d3af7-3157-44c1-9246-b6c9d6393f44",
   "metadata": {},
   "source": [
    "Fix finite  $X$, the ground set. For  $0 \\leqslant p \\leqslant 1$  let  $X_{p}$  be a random subset of  $X$  obtained by selecting each element independently with probability  $p$. \n",
    "\n",
    "> A property of subsets of  $X$  is just some collection $ \\mathcal{A} \\subseteq \\mathcal{P}(X)$  of subsets of  $X $. \n",
    "> \n",
    "> We write  $\\mathbb{P}_{p}^{X}(\\mathcal{A})=\\mathbb{P}\\left(X_{p} \\in \\mathcal{A}\\right)=\\sum_{A \\in \\mathcal{A}} p^{|A|}(1-p)^{|X|-|A|}$.\n",
    "\n",
    "For upsets and downsets, we have\n",
    "\n",
    "> ( **Harris's Lemma** ). If  $\\mathcal{A}, \\mathcal{B} \\subseteq \\mathcal{P}(X)$  are upsets and  $0 \\leqslant p \\leqslant 1$,  then  \n",
    ">\n",
    "> $$\\mathbb{P}_{p}(\\mathcal{A} \\cap \\mathcal{B}) \\geqslant \\mathbb{P}_{p}(\\mathcal{A}) \\mathbb{P}_{p}(\\mathcal{B}).$$\n"
   ]
  },
  {
   "cell_type": "markdown",
   "id": "5af75462-4e3a-49f0-8a36-843f6bf0c317",
   "metadata": {},
   "source": [
    "**Proof.** Induction on $n=|X|$ by making use of the subsets of $\\mathcal{A}$ or $\\mathcal{B}$ not containing and containing $n$ respectively."
   ]
  }
 ],
 "metadata": {
  "kernelspec": {
   "display_name": "Python 3",
   "language": "python",
   "name": "python3"
  },
  "language_info": {
   "codemirror_mode": {
    "name": "ipython",
    "version": 3
   },
   "file_extension": ".py",
   "mimetype": "text/x-python",
   "name": "python",
   "nbconvert_exporter": "python",
   "pygments_lexer": "ipython3",
   "version": "3.8.13"
  }
 },
 "nbformat": 4,
 "nbformat_minor": 5
}
