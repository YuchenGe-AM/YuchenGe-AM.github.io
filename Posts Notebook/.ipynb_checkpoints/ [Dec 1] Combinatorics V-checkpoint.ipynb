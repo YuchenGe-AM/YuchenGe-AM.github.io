{
 "cells": [
  {
   "cell_type": "markdown",
   "id": "a4ecbc3a",
   "metadata": {},
   "source": [
    "## [Dec 1] Combinatorics V\n",
    "\n",
    "Presenter: Yuchen Ge  \n",
    "Affiliation: University of Oxford  \n",
    "Contact Email: gycdwwd@gmail.com  \n",
    "Website: https://yuchenge-am.github.io"
   ]
  },
  {
   "cell_type": "markdown",
   "id": "f716c726",
   "metadata": {},
   "source": [
    "### Combinatorics is not a science, it's an attitude.\n",
    "----"
   ]
  },
  {
   "cell_type": "markdown",
   "id": "84415a27-a1c5-4c74-a504-98f6cb14a1b8",
   "metadata": {},
   "source": [
    "### 1.  Extremal Problems\n",
    "\n"
   ]
  },
  {
   "cell_type": "markdown",
   "id": "ace1fbdb-cd2b-470d-a8ab-534bc6b6cde2",
   "metadata": {},
   "source": [
    "Define $\\operatorname{ex}(n, H)=\\max \\{e(G):|G|=n, G \\text { is } H \\text {-free }\\}$ and $\\operatorname{EX}(n, H)=\\{G:|G|=n, e(G)=\\operatorname{ex}(n, H), G \\text { is } H \\text {-free }\\}$. Then we consider the problem of determining $\\operatorname{ex}\\left(n, K_{r+1}\\right)$."
   ]
  },
  {
   "cell_type": "markdown",
   "id": "ee18b152-273b-4a22-86c2-414ed19ff11a",
   "metadata": {},
   "source": [
    "> ( **Turán's Theorem**) Assume $n, r\\in \\mathbb{N}^+$, then $\\operatorname{ex}\\left(n, K_{r+1}\\right)=t_{r}(n)$ and $\\operatorname{EX}\\left(n, K_{r+1}\\right)=\\left\\{T_{r}(n)\\right\\}$. Here $T_{r}(n)$  is the complete  $r$-partite graph on $n$  vertices with the vertex class sizes as equal as possible and  $e(T_{r}(n))=t_{r}(n)$.\n",
    "\n",
    "**Proof.** We fix  $r$  and induct on  $n$. If  $n \\leqslant r $ then  $\\operatorname{ex}\\left(n, K_{r+1}\\right)=\\left(\\begin{array}{l}n \\\\ 2\\end{array}\\right)=t_{r}(n)$, and  $\\operatorname{EX}\\left(n, K_{r+1}\\right)=\\left\\{K_{n}\\right\\}=\\left\\{T_{r}(n)\\right\\}$, as required. Now let  $n>r$  and suppose that the result holds for  $n-1$. Assume  $G$  has  $n$  vertices and  $t_{r}(n)$  edges containing no copy of  $K_{r+1}$. It suffices to show $G \\cong T_{r}(n)$, from which the result follows by considering spanning subgraph. \n",
    "\n",
    "Note that $\\delta(G) \\leq \\lfloor\\bar{d}(G)\\rfloor =\\left\\lfloor\\bar{d}\\left(T_{r}(n)\\right)\\right\\rfloor= \\delta\\left(T_{r}(n)\\right)$. Let  $v \\in V(G)$  have degree  $d(v)=\\delta(G)$. Then for  $H=G-v$  we have \n",
    "\n",
    "$$e(H)=e(G)-d(v)=t_{r}(n)-\\delta(G) \\geqslant t_{r}(n)-\\delta\\left(T_{r}(n)\\right)=t_{r}(n-1).$$\n",
    "\n",
    "But  $H$  contains no  $K_{r+1}$  so by the induction hypothesis,  $H \\cong T_{r}(n-1)$.\n",
    "Now  $v$  cannot have a neighbour in each vertex class of  $H$  (or we would get a copy of  $K_{r+1}$ ), so its neighbours must miss some vertex class  $V_{i}$  completely. Adding  $v$  to this class, we see that  $G$  is  $r$-partite, which follows that $G \\cong T_{r}(n)$."
   ]
  },
  {
   "cell_type": "markdown",
   "id": "6debf4d2-5f9c-44e2-bde6-dfec5295a348",
   "metadata": {},
   "source": [
    "Then we consider the density of a graph, by Turán's Theorem,\n",
    "\n",
    "$$\\operatorname{ex}\\left(n, K_{r+1}\\right) \\bigg/ \\left(\\begin{array}{l} n \\\\ 2 \\end{array}\\right)=1-\\frac{1}{r}+o(1), $$\n",
    "\n",
    "and we say that $K_{r+1}$ appears at density $1-\\frac{1}{r}$. What about other graphs? If  $\\chi(H) \\geqslant r+1$, then, since  $H$  is not  $r$-partite,  $T_{r}(n)$  contains no copy of  $H$. Thus for any  $H$, letting  $r=\\chi(H)-1$  we have\n",
    "\n",
    "$$\\operatorname{ex}(n, H) \\geqslant t_{r}(n)=\\left(1-\\frac{1}{r}+o(1)\\right)\\left(\\begin{array}{l} n \\\\ 2 \\end{array}\\right) .$$\n",
    "\n",
    "In particular,  $H$  cannot appear before the density  $1-\\frac{1}{r}$  at which  $K_{r+1}$ appears. Are there 'big' graphs with a given chromatic number that appear significantly later? Amazingly, the answer turns out to be no.\n",
    "\n",
    "> ( **Erdős-Stone Theorem** ) Let  $r, t \\in \\mathbb{N}^+$  $\\varepsilon>0$. $\\exists  n_{0}=n_{0}(r, t, \\varepsilon)$  s.t. $\\forall  G$  with  $n \\geqslant n_{0}$  vertices and\n",
    ">\n",
    "> $$e(G) \\geqslant\\left(1-\\frac{1}{r}+\\varepsilon\\right)\\left(\\begin{array}{l} n \\\\ 2 \\end{array}\\right)$$\n",
    "> contains a copy of  $K_{r+1}(t)$.\n",
    "\n",
    "For this, it suffices to show the following two lemmas:\n",
    "\n",
    "> **Lemma I.** Assume  $0 \\leqslant \\alpha<\\beta \\leqslant 1$,  $|G|=n$  and  $e(G) \\geqslant \\beta\\left(\\begin{array}{l}n \\\\ 2\\end{array}\\right)$,  then  $G$  has an (induced) subgraph  $H$  with $\\delta(H) \\geqslant \\alpha(|H|-1)$ and  $|H| \\geqslant \\sqrt{\\varepsilon} n$, where  $\\varepsilon=\\beta-\\alpha$.\n",
    ">\n",
    "> **Lemma II.** Let  $r, t \\in \\mathbb{N}^+$  and $\\varepsilon>0$. $\\exists n_{1}=n_{1}(r, t, \\varepsilon)$  s.t. $\\forall G$  with  $n \\geqslant n_{1}$  vertices and $\\delta(G) \\geqslant\\left(1-\\frac{1}{r}+\\varepsilon\\right)(n-1)$ contains a copy of  $K_{r+1}(t)$."
   ]
  },
  {
   "cell_type": "markdown",
   "id": "ec0c0b60-8aea-4506-bc83-da5ba24f0cfe",
   "metadata": {},
   "source": [
    "**Proof of Lemma I.** Define a sequence  $G_{n}, G_{n-1}, \\ldots$  with $ \\left|G_{t}\\right|=t$. Set  $G_{n}=G$. If  $\\delta\\left(G_{t}\\right) \\geqslant \\alpha(t-1)$  then stop. Otherwise, remove a vertex of  $G_{t}$  with minimum degree to get  $G_{t-1}$. The construction must stop at some point  $\\left(G_{1}\\right.$  at the latest); let  $G_{k}$  be the final graph, so  $\\delta\\left(G_{k}\\right) \\geqslant \\alpha\\left(\\left|G_{k}\\right|-1\\right)$  by construction. Now\n",
    "\n",
    "$$\\begin{aligned}\n",
    "e\\left(G_{k}\\right) & =e\\left(G_{n}\\right)-\\delta\\left(G_{n}\\right)-\\delta\\left(G_{n-1}\\right)-\\cdots-\\delta\\left(G_{k+1}\\right) \\\\ & \\geqslant \\beta\\left(\\begin{array}{l} n \\\\ 2 \\end{array}\\right)-\\alpha((n-1)+(n-2)+\\cdots+k) \\\\ & =\\beta\\left(\\begin{array}{l} n \\\\ 2 \\end{array}\\right)-\\alpha\\left(\\begin{array}{l}\n",
    "n \\\\ 2 \\end{array}\\right)+\\alpha\\left(\\begin{array}{l} k \\\\ 2 \\end{array}\\right) \\geqslant \\varepsilon\\left(\\begin{array}{l} n \\\\ 2 \\end{array}\\right) . \\end{aligned}$$\n",
    "\n",
    "Since  $e\\left(G_{k}\\right) \\leqslant\\left(\\begin{array}{l}k \\\\ 2\\end{array}\\right)$, then  $\\left(\\begin{array}{l}k \\\\ 2\\end{array}\\right) \\geqslant \\varepsilon\\left(\\begin{array}{l}n \\\\ 2\\end{array}\\right)$, which follows that  $k \\geqslant \\sqrt{\\varepsilon} n $."
   ]
  },
  {
   "cell_type": "markdown",
   "id": "ca5c8da9-aa99-42e1-919b-31ebffb26b3a",
   "metadata": {},
   "source": [
    "**Proof of Lemma II.** \n",
    "\n",
    "\n",
    "\n",
    "Theorem 2.4.1 Let  v_{1}, \\ldots, v_{n} \\in R^{n} , all  \\left|v_{i}\\right|=1 . Then there exist  \\epsilon_{1}, \\ldots, \\epsilon_{n}= \\pm 1  so that\n",
    "\n",
    "\\left|\\epsilon_{1} v_{1}+\\cdots+\\epsilon_{n} v_{n}\\right| \\leq \\sqrt{n}\n",
    "\n",
    "and also there exist  \\epsilon_{1}, \\ldots, \\epsilon_{n}= \\pm 1  so that\n",
    "\n",
    "\\left|\\epsilon_{1} v_{1}+\\cdots+\\epsilon_{n} v_{n}\\right| \\geq \\sqrt{n}\n",
    "\n",
    "\n",
    "Proof. Let  \\epsilon_{1}, \\ldots, \\epsilon_{n}  be selected uniformly and independently from  \\{-1,+1\\} . Set\n",
    "\n",
    "X=\\left|\\epsilon_{1} v_{1}+\\cdots+\\epsilon_{n} v_{n}\\right|^{2}\n",
    "\n",
    "\n",
    "Then\n",
    "\n",
    "X=\\sum_{i=1}^{n} \\sum_{j=1}^{n} \\epsilon_{i} \\epsilon_{j} v_{i} \\cdot v_{j}\n",
    "Let  r \\geqslant 1 . To prove  \\mathbb{H}_{r} , let  t \\geqslant 1  and  \\varepsilon>0  be given, and let  G  be a graph with  |G|=n  and  \\delta(G) \\geqslant\\left(1-\\frac{1}{r}+\\varepsilon\\right)(n-1) . Set\n",
    "\n",
    "T=\\lceil 2 t /(\\varepsilon r)\\rceil .\n",
    "\n",
    "\n",
    "If  r \\geqslant 2  then since\n",
    "\n",
    "\\delta(G) \\geqslant\\left(1-\\frac{1}{r}+\\varepsilon\\right)(n-1) \\geqslant\\left(1-\\frac{1}{r-1}+\\varepsilon\\right)(n-1),\n",
    "\n",
    "we know by the induction hypothesis  \\mathbb{H}_{r-1}  that, if  n  is large enough (depending on  r, t, \\varepsilon  ),  G  must contain a copy of  K_{r}(T) . If  r=1  then  K_{r}(T)  is an empty graph with  T  vertices, so if  n  is large enough (i.e.,  n \\geqslant T  ) then  G  certainly contains a copy of this graph.\n",
    "\n",
    "In either case, let  H  be a subgraph of  G  isomorphic to  K_{r}(T) . Denote its vertex classes by  S_{1}, \\ldots, S_{r}  and let  S=V(H)  be their union. Let  U  be the set of vertices in  V(G) \\backslash S  which have at least  t  neighbours in each class  S_{i} ; these vertices are the useful ones.\n",
    "\n",
    "If  |U|>(t-1)\\left(\\begin{array}{c}T \\\\ t\\end{array}\\right)^{r}  then there are at least  t  vertices in  U  that have at least  t  common neighbours in each  S_{i} , giving a  K_{r+1}(t) ; to see this assign to each  u \\in U  an  r -tuple  \\left(A_{1}, \\ldots, A_{r}\\right)  where  A_{i} \\subseteq S_{i} \\cap N(u)  and  \\left|A_{i}\\right|=t . As there are  \\left(\\begin{array}{c}T \\\\ t\\end{array}\\right)^{r}  possible  r -tuples, the average number of times an  r -tuple is chosen is  |U| /\\left(\\begin{array}{l}T \\\\ r\\end{array}\\right)^{t}>t-1 , and so some  r -tuple is chosen  \\geqslant t  times, i.e., we have  t  vertices in  U  all joined to the same copy  H^{\\prime} \\subseteq H  of  K_{r}(t) .\n",
    "\n",
    "So we may suppose that  |U| \\leqslant(t-1)\\left(\\begin{array}{c}T \\\\ t\\end{array}\\right)^{r} . Let  B=V(G) \\backslash(S \\cup U) . We count the number  N  of edges of  \\bar{G}  between  S  and  B  in two different ways. Firstly, the degree in  \\bar{G}  of any vertex  v  is\n",
    "\n",
    "n-1-d_{G}(v) \\leqslant n-1-\\delta(G) \\leqslant(n-1)\\left(\\frac{1}{r}-\\varepsilon\\right) \\leqslant\\left(\\frac{1}{r}-\\varepsilon\\right) n,\n",
    "\n",
    "so counting from  S  we find that\n",
    "\n",
    "N \\leqslant|S|\\left(\\frac{1}{r}-\\varepsilon\\right) n=r T\\left(\\frac{1}{r}-\\varepsilon\\right) n=(T-\\varepsilon r T) n .\n",
    "\n",
    "33\n",
    "\n",
    "On the other hand, for each  u \\in B  there is a vertex class  S_{i}  of  H  such that, in  G , the vertex  u  has at most  t-1 \\leqslant t  neighbours in  S_{i} . Then, in  \\bar{G}, u  has at least  T-t  neighbours in  S_{i} \\subseteq S . Hence, counting from  B , we see that\n",
    "\n",
    "N \\geqslant|B|(T-t) .\n",
    "\n",
    "\n",
    "Since we chose  T  so that  \\varepsilon r T \\geqslant 2 t , it follows that\n",
    "\n",
    "|B| \\leqslant \\frac{T-\\varepsilon r T}{T-t} n \\leqslant \\frac{T-2 t}{T-t} n=(1-c) n\n",
    "\n",
    "for some constant  c>0  (depending on  r, t, \\varepsilon  ). But now in total there are\n",
    "\n",
    "n=|S|+|B|+|U| \\leqslant r T+(1-c) n+(t-1)\\left(\\begin{array}{c}\n",
    "T \\\\\n",
    "t\n",
    "\\end{array}\\right)^{r}=(1-c) n+O(1)\n",
    "\n",
    "vertices, a contradiction if  n  is large enough.\n",
    "\n",
    "\n",
    "\n",
    "\n"
   ]
  },
  {
   "cell_type": "markdown",
   "id": "a2f621c6-36cc-40ce-adaa-984122cf5451",
   "metadata": {},
   "source": [
    "### 2. The Zarankiewicz Problem\n",
    "\n",
    "Also we may consider $z(n, t)=\\max \\left\\{e(G): G \\subseteq K_{n, n} \\text { and } G \\text { is } K_{t, t} \\text {-free }\\right\\}$. And we have\n",
    "\n",
    "> If  $n \\geqslant t \\geqslant 2$  then $z(n, t) \\leqslant(t-1)^{1 / t} n^{2-1 / t}+(t-1) n$.\n",
    "\n",
    "**Proof.** Let $G$  be a maximal  $K_{t, t} $ free bipartite graph with vertex classes  $|X|=   |Y|=n$. Note that by maximality,  $d(v) \\geqslant t-1$  for every vertex  $v$. \n",
    "\n",
    "We say that a vertex  $v$  covers a set  $S $ of vertices if  $S \\subseteq N(v)$. A vertex  $v \\in X$  covers exactly  $\\left(\\begin{array}{c}d(v) \\\\ t\\end{array}\\right)$ $t$-element subsets of  $Y$. On the other hand, a  $t$-element subset of  $Y$  is covered by at most  $t-1$  vertices in  $X$; otherwise we have a  $K_{t, t}$. Hence,\n",
    "\n",
    "$$\\sum_{v \\in X}\\left(\\begin{array}{c}\n",
    "d(v) \\\\\n",
    "t\n",
    "\\end{array}\\right) \\leqslant(t-1)\\left(\\begin{array}{c}\n",
    "n \\\\\n",
    "t\n",
    "\\end{array}\\right),$$\n",
    "\n",
    "and some calculation implies the conclusion.\n",
    "\n",
    "\n",
    "\n",
    "\n",
    "\n",
    "\n",
    "\n",
    "\n",
    "\n",
    "\n",
    "\n",
    "\n",
    "\n",
    "\n"
   ]
  },
  {
   "cell_type": "markdown",
   "id": "03f5331e",
   "metadata": {},
   "source": [
    "---\n",
    "\n",
    "### Reference\n",
    "\n",
    "1. Béla Bollobás. Modern Graph Theory.\n",
    "2. Béla Bollobás. Combinatorics: set systems, hypergraphs, families of vectors, and combinatorial probability."
   ]
  }
 ],
 "metadata": {
  "kernelspec": {
   "display_name": "Python 3",
   "language": "python",
   "name": "python3"
  },
  "language_info": {
   "codemirror_mode": {
    "name": "ipython",
    "version": 3
   },
   "file_extension": ".py",
   "mimetype": "text/x-python",
   "name": "python",
   "nbconvert_exporter": "python",
   "pygments_lexer": "ipython3",
   "version": "3.8.13"
  }
 },
 "nbformat": 4,
 "nbformat_minor": 5
}
