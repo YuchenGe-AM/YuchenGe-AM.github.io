{
 "cells": [
  {
   "cell_type": "markdown",
   "id": "a4ecbc3a",
   "metadata": {},
   "source": [
    "## [Sep 15] Markov Decision Process II\n",
    "\n",
    "Presenter: Yuchen Ge  \n",
    "Affiliation: University of Oxford  \n",
    "Contact Email: gycdwwd@gmail.com  \n",
    "Website: https://yuchenge-am.github.io"
   ]
  },
  {
   "cell_type": "markdown",
   "id": "f716c726",
   "metadata": {},
   "source": [
    "----"
   ]
  },
  {
   "cell_type": "markdown",
   "id": "6446c9c8",
   "metadata": {},
   "source": [
    "### 1. Finite State Channels <a id='Finite-State-Channels'></a>\n",
    "\n",
    "Finite State Channels are described statistically by a conditional probability assignment  $P\\left(y_{n}, s_{n} \\mid x_{n}, s_{n-1}\\right)$.\n",
    "\n",
    "Recall from **Bayesian Network** some properties (which can be proved via $d$-separation) :\n",
    "\n",
    "> **Decomposition**: $(\\mathbf{X} \\perp \\mathbf{Y}, \\mathbf{W} \\mid \\mathbf{Z}) \\Longrightarrow(\\mathbf{X} \\perp \\mathbf{Y} \\mid \\mathbf{Z})$.\n",
    ">\n",
    "> **Weak union**: $(\\mathbf{X} \\perp \\mathbf{Y}, \\mathbf{W} \\mid \\mathbf{Z}) \\Longrightarrow (\\mathbf{X} \\perp \\mathbf{Y} \\mid \\mathbf{Z}, \\mathbf{W})$.\n",
    ">\n",
    "> **Contraction**: $(\\mathbf{X} \\perp \\mathbf{W} \\mid \\mathbf{Z}, \\mathbf{Y})$ \\& $(\\mathbf{X} \\perp \\mathbf{Y} \\mid \\mathbf{Z}) \\Longrightarrow(\\mathbf{X} \\perp \\mathbf{Y}, \\mathbf{W} \\mid \\mathbf{Z})$.\n",
    "> \n",
    "> **Intersection**: $(\\mathbf{X} \\perp \\mathbf{Y} \\mid \\mathbf{Z}, \\mathbf{W})$ \\& $(\\mathbf{X} \\perp \\mathbf{W} \\mid \\mathbf{Z}, \\mathbf{Y}) \\Longrightarrow(\\mathbf{X} \\perp \\mathbf{Y}, \\mathbf{W} \\mid \\mathbf{Z})$.\n",
    "\n",
    "\n",
    "\n",
    "\n",
    "\n",
    "\n",
    "\n",
    "\n",
    "\n",
    "\n",
    "\n",
    "\n"
   ]
  },
  {
   "cell_type": "markdown",
   "id": "b41da825-64b8-4f1a-a725-92fddba3a80d",
   "metadata": {},
   "source": [
    "And the causal conditioning notation:\n",
    "\n",
    "> $p\\left(x^{n}|| y^{n-d}\\right):=\\prod_{i=1}^{n} p\\left(x_{i} \\mid x^{i-1}, y^{i-d}\\right)$\n",
    ">\n",
    ">\n",
    ">"
   ]
  },
  {
   "cell_type": "code",
   "execution_count": null,
   "id": "bb800a06",
   "metadata": {},
   "outputs": [],
   "source": []
  },
  {
   "cell_type": "code",
   "execution_count": null,
   "id": "c48d5106",
   "metadata": {},
   "outputs": [],
   "source": []
  },
  {
   "cell_type": "code",
   "execution_count": null,
   "id": "991c9937",
   "metadata": {},
   "outputs": [],
   "source": []
  },
  {
   "cell_type": "code",
   "execution_count": null,
   "id": "8a96781f",
   "metadata": {},
   "outputs": [],
   "source": []
  },
  {
   "cell_type": "code",
   "execution_count": null,
   "id": "4fd370e8",
   "metadata": {},
   "outputs": [],
   "source": []
  },
  {
   "cell_type": "code",
   "execution_count": null,
   "id": "a3d9f402",
   "metadata": {},
   "outputs": [],
   "source": []
  },
  {
   "cell_type": "code",
   "execution_count": null,
   "id": "0a054394",
   "metadata": {},
   "outputs": [],
   "source": []
  },
  {
   "cell_type": "code",
   "execution_count": null,
   "id": "e625e1e0",
   "metadata": {},
   "outputs": [],
   "source": []
  },
  {
   "cell_type": "code",
   "execution_count": null,
   "id": "60960491",
   "metadata": {},
   "outputs": [],
   "source": []
  },
  {
   "cell_type": "markdown",
   "id": "03f5331e",
   "metadata": {},
   "source": [
    "---\n",
    "\n",
    "### Reference\n",
    "\n",
    "1. Robert G. Gallager. Discrete Stochastic Processes.\n",
    "2. Robert G. Gallager. Information Theory and Reliable Communication.\n",
    "3. Haim Henry Permuter. Finite State Channels With Time-Invariant Deterministic Feedback.\n",
    "4. Haim Henry Permuter. To Feed or Not to Feed Back.\n"
   ]
  }
 ],
 "metadata": {
  "kernelspec": {
   "display_name": "Python 3",
   "language": "python",
   "name": "python3"
  },
  "language_info": {
   "codemirror_mode": {
    "name": "ipython",
    "version": 3
   },
   "file_extension": ".py",
   "mimetype": "text/x-python",
   "name": "python",
   "nbconvert_exporter": "python",
   "pygments_lexer": "ipython3",
   "version": "3.8.13"
  }
 },
 "nbformat": 4,
 "nbformat_minor": 5
}
