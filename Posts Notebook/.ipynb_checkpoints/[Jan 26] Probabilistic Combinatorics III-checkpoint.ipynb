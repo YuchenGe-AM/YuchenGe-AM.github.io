{
 "cells": [
  {
   "cell_type": "markdown",
   "id": "a4ecbc3a",
   "metadata": {},
   "source": [
    "## [Jan 26] Probabilistic Combinatorics III\n",
    "\n",
    "Presenter: Yuchen Ge  \n",
    "Affiliation: University of Oxford  \n",
    "Contact Email: gycdwwd@gmail.com  \n",
    "Website: https://yuchenge-am.github.io"
   ]
  },
  {
   "cell_type": "markdown",
   "id": "f716c726",
   "metadata": {},
   "source": [
    "### What you need is that your brain is open. \n",
    "----"
   ]
  },
  {
   "cell_type": "markdown",
   "id": "293798d8-e111-4898-985e-98ed90710340",
   "metadata": {},
   "source": [
    "### 1. Second Moment Method\n",
    "\n",
    "Suppose $\\mathbb{E}\\left[X_{n}\\right]=\\mu_{n}>0$  and $\\operatorname{Var}\\left[X_{n}\\right]=o\\left(\\mu_{n}^{2}\\right)$. Then  $\\mathbb{P}\\left(X_{n}=0\\right) \\rightarrow 0$ since\n",
    "\n",
    "$$\\mathbb{P}\\left(X_{n}=0\\right) \\leqslant \\mathbb{P}\\left(\\left|X_{n}-\\mu_{n}\\right| \\geqslant \\mu_{n}\\right) \\leqslant \\frac{\\operatorname{Var}\\left[X_{n}\\right]}{\\mu_{n}^{2}} \\rightarrow 0.$$"
   ]
  },
  {
   "cell_type": "markdown",
   "id": "1b99de8d-b74c-4f80-8db4-769fe0b7fdf9",
   "metadata": {},
   "source": [
    "In fact, we have $\\mathbb{P}\\left((1-\\varepsilon) \\mu_{n} \\leqslant X_{n} \\leqslant(1+\\varepsilon) \\mu_{n}\\right) \\rightarrow 1$.\n"
   ]
  },
  {
   "cell_type": "markdown",
   "id": "5dbfc451-6774-46a1-acda-0373acb3daa1",
   "metadata": {},
   "source": [
    "\n",
    "Let  $\\mathcal{P}$  be a property of graphs. \n",
    "\n",
    "> A function  $p^{*}(n)$  is called a **threshold** function for  $\\mathcal{P}$  in the model  $G(n, p)$  if\n",
    "> \n",
    "> $p(n) / p^{*}(n) \\rightarrow 0$  implies that  $\\mathbb{P}(G(n, p(n))$  has  $\\mathcal{P}) \\rightarrow 0$, and $p(n) / p^{*}(n) \\rightarrow \\infty $ implies that $ \\mathbb{P}(G(n, p(n))$  has  $\\mathcal{P}) \\rightarrow 1$."
   ]
  },
  {
   "cell_type": "markdown",
   "id": "3e0ed71c-6247-4897-9fd8-143ef09ad95f",
   "metadata": {},
   "source": [
    "Then we claim that \n",
    "\n",
    "> $n^{-2 / 3}$ is a threshold function for $G(n, p)$ to contain $K_{4}$\n",
    "\n",
    "**Proof.** Let  $X$ denotes the number of $K_{4}$  in  $G(n, p)$. For each set  $S$  of $4$ vertices from  $[n]$, let  $A_{S}$  be the event that  $S$  induces a  $K_{4} $ in  $G(n, p)$ . Then\n",
    "\n",
    "$$\\mu=\\mathbb{E}[X]=\\sum_{S} \\mathbb{P}\\left(A_{S}\\right)=\\left(\\begin{array}{l}\n",
    "n \\\\\n",
    "4\n",
    "\\end{array}\\right) p^{6}=\\frac{n(n-1)(n-2)(n-3)}{4 !} p^{6} \\sim \\frac{n^{4} p^{6}}{24}.$$\n",
    "\n",
    "It immediately follows from Markov's inequality that if $n^{2 / 3} p \\rightarrow 0$ as $n \\rightarrow \\infty$, then $\\mathbb{P}(G(n, p)$ contains a $K_{4}) \\rightarrow 0$.\n",
    "\n",
    "\n",
    "Also we have $\\mathbb{E}\\left[X^{2}\\right]=\\sum_{S} \\sum_{T} \\mathbb{P}\\left(A_{S} \\cap A_{T}\\right) \\text {. }$ Asmpototic analysis shows that $\\mathbb{E}\\left[X^{2}\\right]=\\mu^{2}+o\\left(\\mu^{2}\\right)$, so $\\operatorname{Var}[X]=o\\left(\\mu^{2}\\right)$. Therefore, if $n^{2 / 3} p \\rightarrow \\infty$ as $n \\rightarrow \\infty $, then $\\mathbb{P}(G(n, p)$ contains a $K_{4}) \\rightarrow 1$."
   ]
  },
  {
   "cell_type": "markdown",
   "id": "55cb9b5a-dda2-4ecd-8aff-69c3350e4e9a",
   "metadata": {},
   "source": [
    "### 2. Application: Arithmetic progressions\n",
    "\n",
    "We consider a second example. Let $\\Phi(n, k)$ be the number of $k$-term arithmetic progressions contained in $\\{1,2, \\ldots, n\\}$. Note that \n",
    "\n",
    "$$\\Phi(n, k)=\\sum_{b=1}^{\\left\\lfloor\\frac{n-1}{k-1}\\right\\rfloor} n-(k-1) b \\leq \\sum_{b=1}^{\\left\\lfloor\\frac{n-1}{k-1}\\right\\rfloor} n \\leq \\sum_{b=1}^{n} n=n^{2}.$$\n",
    "\n",
    "This gives  $\\Phi(n, k)=O\\left(n^{2}\\right)$. We also have\n",
    "\n",
    "$$\\Phi(n, k)=\\sum_{b=1}^{\\left\\lfloor\\frac{n-1}{k-1}\\right\\rfloor} n-(k-1) b \\geq \\sum_{b=1}^{\\left\\lfloor\\frac{1}{2} \\cdot \\frac{n-1}{k-1}\\right\\rfloor} n-\\left\\lfloor\\frac{1}{2} \\cdot(n-1)\\right\\rfloor \\geq \\sum_{b=1}^{\\left\\lfloor\\frac{1}{2} \\cdot \\frac{n-1}{k-1}\\right\\rfloor} \\frac{n}{2} \\geq c(k) n^{2}.$$\n",
    "\n",
    "Therefore, we have the following estimation.\n",
    "\n",
    "> $\\Phi(n, k)=\\Theta\\left(n^{2}\\right)$ for fixed $k$.\n",
    "\n",
    "Then we select a random subset $S \\text { from }\\{1,2, \\ldots, n\\}$ by including each element with probability\n",
    "$p$. For an arithmetic progression $A$, $\\mathbb{P}(A \\subseteq S)=p^{k}$  where $|A|=k$. Let  $Y_{i}$  be the corresponding indicator, and then $X=\\sum_{i} Y_{i}$ is the number of  $k$-term arithmetic progressions in $S$. Then we have $\\mathbb{E}(X)=\\Phi(n, k) \\cdot p^{k}=\\Theta\\left(n^{2} p^{k}\\right)$. \n",
    "\n",
    "If  $p \\ll n^{-2 / k}$  then  $\\mathbb{E}(X) \\rightarrow 0$, which by the first moment method implies that  $\\mathbb{P}(X=0) \\rightarrow 1$. If  $p \\gg n^{-2 / k}$, to show $\\mathbb{E}(X) \\rightarrow 0$ we need that  $\\operatorname{var}(X) \\ll \\mathbb{E}(X)^{2}$. We have\n",
    "\n",
    "$$\\operatorname{var}(X)=\\sum_{i=1}^{\\Phi(n, k)} \\operatorname{var}\\left(Y_{i}\\right)+\\sum_{i \\neq j, i, j \\in\\{1, \\ldots, \\Phi(n, k)\\}} \\operatorname{cov}\\left(Y_{i} Y_{j}\\right)$$"
   ]
  },
  {
   "cell_type": "markdown",
   "id": "dfd95fd5-0f3a-4d3f-a1f6-5b4ec8d86c08",
   "metadata": {},
   "source": [
    "and $\\operatorname{var}\\left(Y_{i}\\right)=p^{k}\\left(1-p^{k}\\right) \\leq p^{k}$, which gives $\\sum_{i=1}^{\\Phi(n, k)} \\operatorname{var}\\left(Y_{i}\\right)=O\\left(n^{2} p^{k}\\right)$.\n",
    "\n",
    "For the covariances, note that\n",
    "\n",
    "> Two arithmetic progressions  $A_{i}$  and  $A_{j}$  have no elements in common, we have $\\operatorname{cov}\\left(Y_{i}, Y_{j}\\right)=0$.\n",
    ">\n",
    "> If  $A_{i}$  and  $A_{j}$  overlap in exactly one element, we have  $\\operatorname{cov}\\left(Y_{i}, Y_{j}\\right)=   O\\left(p^{2 k-1}\\right)$, the number of which  is $O\\left(n^{3}\\right)$.\n",
    "> \n",
    "> If  $A_{i}$  and  $A_{j}$  overlap in more than one element, we have  $\\operatorname{cov}\\left(Y_{i}, Y_{j}\\right)=O\\left(p^{2k-2}\\right)$, the number of which  is $O\\left(n^{2}\\right)$."
   ]
  },
  {
   "cell_type": "markdown",
   "id": "9abd4875-122f-4a9b-bfe5-cf1802260a65",
   "metadata": {},
   "source": [
    "Let $p=\\omega(n) n^{-2 / k} $ for some $\\omega(n) \\rightarrow \\infty$. Then $\\operatorname{var}(X)=O\\left(\\omega(n)^{2 k-1}\\right) \\ll \\Theta\\left(\\omega(n)^{2k}\\right) = \\mathbb{E}(X)^{2} $."
   ]
  },
  {
   "cell_type": "markdown",
   "id": "02852a46-c6da-47f6-903b-f9c2a42899ef",
   "metadata": {},
   "source": [
    "### 3. Lovász local lemma"
   ]
  },
  {
   "cell_type": "markdown",
   "id": "a1cbd78b-2fe3-48a7-b686-ccbffb875286",
   "metadata": {},
   "source": [
    "> A digraph  $D$  on  $[n]$ is called a dependency digraph for the events  $A_{1}, \\ldots, A_{n}$  if $\\forall A_{i}$  is independent of $\\left(A_{j}: j \\neq i, i \\not \\rightarrow j\\right)$."
   ]
  },
  {
   "cell_type": "markdown",
   "id": "65828372-18f4-4ad1-95b9-75f1cbca858e",
   "metadata": {},
   "source": [
    "Then we give the following lemma."
   ]
  },
  {
   "cell_type": "markdown",
   "id": "6030a3d7-6251-48a8-95a8-9c71328c85e9",
   "metadata": {},
   "source": [
    "> ( **Local Lemma, general form** ). Let  $D$  be a dependency digraph for the events  $A_{1}, \\ldots, A_{n}$. Suppose that there are real numbers  $0 \\leqslant x_{i}<1$  such that $\\mathbb{P}\\left(A_{i}\\right) \\leqslant x_{i} \\prod_{j: i \\rightarrow j}\\left(1-x_{j}\\right)$ for each  $i$. Then\n",
    "> $$\\mathbb{P}\\left(\\bigcap_{i=1}^{n} A_{i}^{\\mathrm{c}}\\right) \\geqslant \\prod_{i=1}^{n}\\left(1-x_{i}\\right)>0.$$\n"
   ]
  },
  {
   "cell_type": "markdown",
   "id": "af83e24f-0e5f-44d7-855e-bd38177e1951",
   "metadata": {},
   "source": [
    "**Proof.** Since $\\mathbb{P}\\left(A_{i} \\mid \\bigcap_{j \\in S} A_{j}^{\\mathrm{c}}\\right) \\leqslant x_{i}$ for any $i \\notin S$, which can be proved via induction on $|S|$, then\n",
    "\n",
    "$$\\begin{aligned}\n",
    "\\mathbb{P}\\left(\\bigcap_{i=1}^{n} A_{i}^{\\mathrm{c}}\\right) & =\\mathbb{P}\\left(A_{1}^{\\mathrm{c}}\\right) \\mathbb{P}\\left(A_{2}^{\\mathrm{c}} \\mid A_{1}^{\\mathrm{c}}\\right) \\mathbb{P}\\left(A_{3}^{\\mathrm{c}} \\mid A_{1}^{\\mathrm{c}} \\cap A_{2}^{\\mathrm{c}}\\right) \\cdots \\mathbb{P}\\left(A_{n}^{\\mathrm{c}} \\mid \\bigcap_{i=1}^{n-1} A_{i}^{\\mathrm{c}}\\right) \\\\\n",
    "& \\geqslant\\left(1-x_{1}\\right)\\left(1-x_{2}\\right)\\left(1-x_{3}\\right) \\cdots\\left(1-x_{n}\\right) \\\\\n",
    "& =\\prod_{i=1}^{n}\\left(1-x_{i}\\right).\n",
    "\\end{aligned}$$\n",
    "\n",
    "\n",
    "\n",
    "\n"
   ]
  },
  {
   "cell_type": "markdown",
   "id": "f59b6ce4-ee46-412f-b90c-f5655d9cba36",
   "metadata": {},
   "source": [
    "Dependency digraphs are slightly slippery. However, we can construct as many via \n",
    "\n",
    "> **Prop I**. Suppose that $\\left(X_{\\alpha}\\right)_{\\alpha \\in F}$ are independent random variables, s.t.  $A_{i}$, $1\\leq i \\leq n$, is determined by  $(X_{\\alpha}: \\alpha \\in F_{i})$ for some  $F_{i} \\subseteq F$. \n",
    ">\n",
    "> Then the digraph in which, $i \\rightarrow j$  (or  $j \\rightarrow i$  ) iff  $F_{i} \\cap F_{j} \\neq \\emptyset$  is a dependency digraph for  $A_{1}, \\ldots, A_{n}$.\n",
    "\n",
    "Actually, above definitions and properties carry over to graphs.\n",
    "\n",
    "> ( **Local Lemma, Symmetric version** ). Let $ A_{1}, \\ldots, A_{n} $ be events having a dependency digraph  $D$ with all out-degrees at most $d$. If  $\\mathbb{P}\\left(A_{i}\\right) \\leqslant p$  for all  $i$  and $ep  (d+1) \\leqslant 1$, then  $\\mathbb{P}\\left(\\bigcap_{i} A_{i}^{\\mathrm{c}}\\right)>0$.\n",
    "\n",
    "**Proof.** Set  $x_{i}=1 /(d+1)$  for all  $i $. We have  $|\\{j: i \\rightarrow j\\}| \\leqslant d$, and  $(1+1 / d)^{d} \\leqslant e$, so\n",
    "\n",
    "$$x_{i} \\prod_{j: i \\rightarrow j}\\left(1-x_{j}\\right) \\geqslant \\frac{1}{d+1}\\left(\\frac{d}{d+1}\\right)^{d} \\geqslant \\frac{1}{e(d+1)} \\geqslant p \\geqslant \\mathbb{P}\\left(A_{i}\\right),$$\n",
    "\n",
    "then the general form applies."
   ]
  },
  {
   "cell_type": "markdown",
   "id": "25f06c7a-7f83-42a0-97ef-0dd0fe8bdc0a",
   "metadata": {},
   "source": [
    "As an example, we give better results on Ramsey numbers.\n",
    "\n",
    "> If $k\\geq 3$ and $e 2^{1-(\\binom{k}{2})} \\binom{k}{2}\\binom{n}{k-2}\\leq 1$, then $R(k, k)>n$.\n",
    "\n",
    "**Proof.** Colour the edges of  $K_{n}$, each red/blue with probability  $1 / 2$ independently. For each  $S \\subseteq[n]$  with  $|S|=k$, let  $A_{S}$  be the event that the \n",
    "complete graph on S is monochromatic.\n",
    "\n",
    "For the dependency digraph, by **prop I** we may join  $S$  and  $T$  if they share an edge, i.e., if  $|S \\cap T| \\geqslant 2$. The maximum degree  $d$  is\n",
    "\n",
    "$$d=|\\{T:|S \\cap T| \\geqslant 2\\}|<\\binom{k}{2}\\binom{n}{k-2}.$$\n",
    "\n",
    "By assumption  $e p(d+1) \\leqslant 1$, so the local version applies."
   ]
  },
  {
   "cell_type": "markdown",
   "id": "03f5331e",
   "metadata": {},
   "source": [
    "---\n",
    "\n",
    "### Reference\n",
    "\n",
    "1. Noga Alon. The Probabilistic Method.\n",
    "2. Ryan O'Donnell. Analysis of Boolean Functions."
   ]
  },
  {
   "cell_type": "code",
   "execution_count": null,
   "id": "05f9011d-af02-41db-9f41-4e339926d469",
   "metadata": {},
   "outputs": [],
   "source": []
  }
 ],
 "metadata": {
  "kernelspec": {
   "display_name": "Python 3",
   "language": "python",
   "name": "python3"
  },
  "language_info": {
   "codemirror_mode": {
    "name": "ipython",
    "version": 3
   },
   "file_extension": ".py",
   "mimetype": "text/x-python",
   "name": "python",
   "nbconvert_exporter": "python",
   "pygments_lexer": "ipython3",
   "version": "3.8.13"
  }
 },
 "nbformat": 4,
 "nbformat_minor": 5
}
