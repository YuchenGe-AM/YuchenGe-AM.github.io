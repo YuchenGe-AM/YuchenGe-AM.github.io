{
 "cells": [
  {
   "cell_type": "markdown",
   "id": "a4ecbc3a",
   "metadata": {},
   "source": [
    "## [Feb 14] Probabilistic Combinatorics V\n",
    "\n",
    "Presenter: Yuchen Ge  \n",
    "Affiliation: University of Oxford  \n",
    "Contact Email: gycdwwd@gmail.com  \n",
    "Website: https://yuchenge-am.github.io"
   ]
  },
  {
   "cell_type": "markdown",
   "id": "fd5f2a81-37b9-435e-8710-90c1034d79c6",
   "metadata": {},
   "source": [
    "### 1. Component Exploration\n",
    "\n",
    "\n",
    "\n",
    "\n",
    "\n",
    "\n",
    "\n"
   ]
  },
  {
   "cell_type": "markdown",
   "id": "38f818e2-3f62-4b0d-8ea9-56ed57207d70",
   "metadata": {},
   "source": [
    "Recall that for $f_{Z}(x)=\\mathbb{E}\\left[x^{Z}\\right]=\\sum_{k=0}^{\\infty} \\mathbb{P}(Z=k) x^{k}$, we have\n",
    "-  $f_{Z}(0)=\\mathbb{P}(Z=0)$  and  $f_{Z}(1)=1$.\n",
    "-  $f_{Z}^{\\prime}(1)=\\mathbb{E}[Z]$.\n",
    "- If  $\\mathbb{P}(Z \\geqslant 2)>0$, then  $f_{Z}^{\\prime}$  is strictly increasing.\n",
    "\n",
    "For the last, simply note that $f_{Z}^{\\prime \\prime}(x)=\\sum_{k \\geqslant 2} k(k-1) \\mathbb{P}(Z=k) x^{k-2} \\geqslant 0$."
   ]
  },
  {
   "cell_type": "markdown",
   "id": "db79b10b-07b9-42b1-94ae-d1c29f5add11",
   "metadata": {},
   "source": []
  },
  {
   "cell_type": "markdown",
   "id": "d4182142-bb37-46eb-8ba0-fc0859c5b31f",
   "metadata": {},
   "source": []
  },
  {
   "cell_type": "markdown",
   "id": "934f16b4-f05d-498b-bffd-a2dc9863a2f8",
   "metadata": {},
   "source": []
  },
  {
   "cell_type": "markdown",
   "id": "2dec2247-953e-45b7-b30d-9dee26f78856",
   "metadata": {},
   "source": []
  },
  {
   "cell_type": "markdown",
   "id": "ad251672-3422-4307-bb47-e26c01e96caa",
   "metadata": {},
   "source": []
  },
  {
   "cell_type": "markdown",
   "id": "9438465b-21d8-4bda-b4a2-5a4d64bf39e4",
   "metadata": {},
   "source": []
  },
  {
   "cell_type": "markdown",
   "id": "500c15df-2fd2-45f4-a974-287be3cefa17",
   "metadata": {},
   "source": []
  },
  {
   "cell_type": "markdown",
   "id": "79eba2ba-23df-4cda-8d69-d3739c8d6715",
   "metadata": {},
   "source": []
  },
  {
   "cell_type": "code",
   "execution_count": null,
   "id": "061d2836-aee0-485d-8d63-9ef784334c37",
   "metadata": {},
   "outputs": [],
   "source": []
  },
  {
   "cell_type": "code",
   "execution_count": null,
   "id": "baeb0625-eb2c-45a1-8658-6c2c215e5c28",
   "metadata": {},
   "outputs": [],
   "source": []
  },
  {
   "cell_type": "code",
   "execution_count": null,
   "id": "bd378a3b-38fa-4c9a-a8ce-64b89833b7c9",
   "metadata": {},
   "outputs": [],
   "source": []
  },
  {
   "cell_type": "markdown",
   "id": "03f5331e",
   "metadata": {},
   "source": [
    "---\n",
    "\n",
    "### Reference\n"
   ]
  }
 ],
 "metadata": {
  "kernelspec": {
   "display_name": "Python 3",
   "language": "python",
   "name": "python3"
  },
  "language_info": {
   "codemirror_mode": {
    "name": "ipython",
    "version": 3
   },
   "file_extension": ".py",
   "mimetype": "text/x-python",
   "name": "python",
   "nbconvert_exporter": "python",
   "pygments_lexer": "ipython3",
   "version": "3.8.13"
  }
 },
 "nbformat": 4,
 "nbformat_minor": 5
}
