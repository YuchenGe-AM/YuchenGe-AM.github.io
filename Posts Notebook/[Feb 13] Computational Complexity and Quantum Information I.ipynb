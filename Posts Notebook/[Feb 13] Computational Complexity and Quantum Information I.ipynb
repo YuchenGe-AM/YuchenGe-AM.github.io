{
 "cells": [
  {
   "cell_type": "markdown",
   "id": "a4ecbc3a",
   "metadata": {},
   "source": [
    "## [Feb 13] Computational Complexity and Quantum Information I\n",
    "\n",
    "Presenter: Yuchen Ge  \n",
    "Affiliation: University of Oxford  \n",
    "Contact Email: gycdwwd@gmail.com  \n",
    "Website: https://yuchenge-am.github.io"
   ]
  },
  {
   "cell_type": "markdown",
   "id": "4c9f4f87-8543-42fb-9743-918cd46c4d70",
   "metadata": {},
   "source": [
    "---\n",
    "\n",
    "### 1. Complexity Classes concerning TM\n",
    "\n",
    "\n",
    "\n",
    "\n"
   ]
  },
  {
   "cell_type": "markdown",
   "id": "5ac677a3-340d-4a0b-979d-3cd0763d36f7",
   "metadata": {},
   "source": [
    "> A Turing machine (TM) is specified by a triple $(\\Sigma, K, \\delta)$ with the transition function $\\delta: K \\times \\Sigma^{k} \\rightarrow K \\times(\\Sigma \\times\\{\\leftarrow,-, \\rightarrow\\})^{k}$. Here  $\\{ \\text{blank}, \\text{start} \\} \\subseteq \\Sigma$  and $\\{ \\text{START}, \\text{HALT} \\} \\subseteq K$.\n",
    "\n",
    "Then we immediately know that \n",
    "\n",
    "> Let  $M$  be a TM using space  $s(n)$. Then the number of configurations  $\\mathcal{C}_{M}(n)$  of  $M$ is bounded by\n",
    "$$\\mathcal{C}_{M}(n) \\leq\\left|Q\\right| \\cdot n \\cdot s(n) \\cdot\\left|\\Sigma\\right|^{s(n)},$$\n",
    "where  $Q$  and $\\Sigma_{M}$  are the states and alphabet respectively. In particular, when  $s(n)=   \\Omega(\\log n)$  we have  $\\mathcal{C}_{M}(n)=2^{O(s(n))}$.\n",
    "\n",
    "It follows that \n",
    "\n",
    "> If the computation of $M(w)$ exceeds $\\mathcal{C}_{M}(|w|)$ steps, then $M(w)$ will run forever. \n",
    ">\n",
    "> If $s(n)=\\Omega(\\log n)$, then $\\operatorname{DSPACE}(s(n)) \\subseteq \\operatorname{DTIME}\\left(2^{O(s(n))}\\right)$.\n",
    "\n",
    "For completeness, we give\n",
    "\n",
    "> $\\operatorname{DTIME}(s(n)) \\subseteq \\operatorname{DSPACE}(s(n))$. ( TM cannot write on more than one work-tape cell per move )"
   ]
  },
  {
   "cell_type": "markdown",
   "id": "ef478de1-0410-4897-814b-763bcc8121c1",
   "metadata": {},
   "source": [
    "Here follows the significant Hierachy Thm. \n",
    "\n",
    "> Let  $f(n), g(n) \\geq \\log n$  be space constructible functions such that  $f=o(g)$, then\n",
    "$$\\operatorname{DSPACE}(f(n))\\subsetneq\\operatorname{DSPACE}(g(n)) \\text{ and } \\operatorname{NSPACE}(f(n))\\subsetneq\\operatorname{NSPACE}(g(n)).$$\n",
    ">\n",
    "> Let  $f(n), g(n) \\geq \\log n$  be space constructible functions such that  $f\\log f=o(g)$, then\n",
    "$$\\operatorname{DTIME}(f(n))\\subsetneq\\operatorname{DTIME}(g(n)).$$\n",
    "\n",
    "This requires us to consider the UTM (interpreter for a particular programming language).\n",
    "\n",
    "> $\\exists$ a universal TM  $\\mathcal{U}$ s.t. $\\forall$ Tm $M$  and inputs  $x$, run in time  $O\\big(M t \\log t \\big)$, and outputs whatever  $M$  outputs on input  $x$. Here  $t = t(n)$ = the time  $M$  takes before it halts on input $x$.\n",
    ">\n",
    "> $\\exists$ a universal TM  $\\mathcal{U}$ s.t. $\\forall$ Tm $M$  and inputs  $x$, run in space  $O\\big(M t \\big)$, and outputs whatever  $M$  outputs on input  $x$. Here  $t = t(n)$ = the space  $M$  takes before it halts on input $x$.\n",
    "\n",
    "There's no slack! The key intuition behind the difference in slack is that time unlike space is not re-usable. We can overwrite existing cells, but we cannot re-use time. Thus space can be used more efficiently.\n"
   ]
  },
  {
   "cell_type": "markdown",
   "id": "9002a835-f8ac-40f6-9459-0e91296eb4a5",
   "metadata": {},
   "source": [
    "**Proof of UTM.**\n",
    "\n",
    "**Proof of Hierachy Thm.**"
   ]
  },
  {
   "cell_type": "markdown",
   "id": "fe4572fb-7a04-49ea-8df7-5111f06a6639",
   "metadata": {},
   "source": [
    "One immediate example is Path. "
   ]
  },
  {
   "cell_type": "markdown",
   "id": "898ccbad-8323-4a34-8ffb-ca16207f0845",
   "metadata": {},
   "source": [
    "---\n",
    "\n",
    "### 2. Complexity Classes concerning NDTM\n",
    "\n",
    "Nondeterministic Turing machines (NDTMs) are generalisations of the Turing machine model with several transition function  $\\delta_{1}, \\ldots, \\delta_{K}$. A **computational path** is a sequence of choices of transition functions (i.e. integers between $1$ and  $K$  ). NDTMs have a special ACCEPT state.\n",
    "\n",
    "> An NDTM  $M$  decides a language  $\\mathcal{L} \\subseteq\\{0,1\\}^{*}$  if: \n",
    "> - all computational paths reach either the state HALT or the state ACCEPT; \n",
    "> - $\\forall x \\in \\mathcal{L}$, on input  $x$  at least one path reaches the ACCEPT state; \n",
    "> - $\\forall x \\notin \\mathcal{L}$, on input  $x$  no path reaches the ACCEPT state.\n",
    "\n",
    "Then we define \n",
    "\n",
    "> A NDTM $M$  runs in time  $T(n)$  if, for every input  $x \\in\\{0,1\\}^{*}$  and every sequence of nondeterministic choices,  $M$  reaches either the state HALT or the state ACCEPT in at most  $T(|x|)$  steps. \n",
    ">\n",
    "> $\\mathcal{L} \\in  \\operatorname{NTIME}(T(n)) $ if $\\exists$ a NDTM $M$ that runs in time  $O(T(n))$ and decides  $\\mathcal{L}$.\n"
   ]
  },
  {
   "cell_type": "markdown",
   "id": "0262799b-e1b7-4f2b-be16-e4f7053028b1",
   "metadata": {},
   "source": [
    "An important capstone for the following definition is the poly-time reductions. Write FP = $\\{$ poly-time computable $f:\\{0,1\\}^{*} \\rightarrow\\{0,1\\}^{*} \\}$, where $f$  is poly-time computable if $\\exists$ a TM that halts in time $poly(|x|)$  with output  $f(x)$ with input $x$. \n",
    "\n",
    "> $\\mathcal{A} \\leq_{\\mathrm{p}} \\mathcal{B}$  if $\\exists f\\in \\text{FP}$  such that  $w \\in \\mathcal{A}$  iff  $f(w) \\in \\mathcal{B}$. Here  $f$  is called a polynomial-time reduction from $ \\mathcal{A}$  to $ \\mathcal{B}$.\n",
    ">\n",
    "> $\\mathcal{L} \\subseteq \\text{NP}$  if $\\exists$ a polynomial  $p: \\mathbb{N} \\rightarrow \\mathbb{N}$  and a poly-time TM $M$ (verifier) s.t. $\\forall  x \\in\\{0,1\\}^{*}$, $x \\in \\mathcal{L}$  iff $\\exists w \\in\\{0,1\\}^{p(|x|)}$  (certificate/witness) s.t. $ M(x, w)=1$.\n",
    ">\n",
    ">  $\\mathcal{A}$  is NP-hard if, $\\forall  \\mathcal{B} \\in \\mathrm{NP}, \\mathcal{B} \\leq_{\\mathrm{P}} \\mathcal{A}$. $\\mathcal{A}$  is NP-complete if  $\\mathcal{A} \\in \\mathrm{NP}$, and  $\\mathcal{A}$  is NP-hard.\n",
    "\n",
    "The language Composites =  $\\{ lex(N) : N = p \\times q, p, q \\geq 2 \\}$. A certificate is the factorisation $(p, q)$; given $p$ and $q$, it can be checked in time polynomial in the input size (i.e. $poly(log N)$) that $N = pq$."
   ]
  },
  {
   "cell_type": "markdown",
   "id": "990d3f02-f9d1-4ab7-9a45-ddda23b3eef5",
   "metadata": {},
   "source": [
    "The following Thm connects NP and NDTM.\n",
    "\n",
    "> $N P=\\bigcup_{c \\geq 1} \\operatorname{NTIME}\\left(n^{c}\\right) .$ (computational path serves as a certificate)"
   ]
  },
  {
   "cell_type": "markdown",
   "id": "6b7fb0ad-46df-4ef1-b594-b014d71f7a65",
   "metadata": {},
   "source": [
    "Finally,\n",
    "\n",
    "> For any $f: \\mathbb{N} \\rightarrow \\mathbb{N}$  s.t. $ f \\geq \\log n$,\n",
    ">\n",
    "> $$\\operatorname{DTIME}(f(n)) \\subseteq \\operatorname{NTIME}(f(n)) \\subseteq \\operatorname{SPACE}(f(n)) \\subseteq \\operatorname{NSPACE}(f(n)) \\subseteq \\operatorname{DTIME}\\left(2^{O(f(n))}\\right).$$\n"
   ]
  },
  {
   "cell_type": "markdown",
   "id": "12d78558-ab3d-4c87-bdeb-2e9d312ec20c",
   "metadata": {},
   "source": [
    "**Proof.** The first and third inclusions are obvious. The second is based on the exponential-time simulation of NDTMs by DTMs: to iterate through each of these transition functions requires only $O(T)$ space (to store a counter). The final inclusion uses the configuration graph."
   ]
  },
  {
   "cell_type": "markdown",
   "id": "4cbfd7ad-bf4f-423e-bb2d-cf92e827b07c",
   "metadata": {},
   "source": [
    "One immediate example is SAT. "
   ]
  },
  {
   "cell_type": "markdown",
   "id": "2b5d2965-6199-46bb-97f0-48866786070b",
   "metadata": {},
   "source": [
    "---\n",
    "\n",
    "### 3. An Interesting Question"
   ]
  },
  {
   "cell_type": "code",
   "execution_count": null,
   "id": "20eea390-8499-4743-aa71-2906cd67d8e1",
   "metadata": {},
   "outputs": [],
   "source": []
  },
  {
   "cell_type": "code",
   "execution_count": null,
   "id": "0b9e22ee-e729-4b88-a02f-5cddcded5381",
   "metadata": {},
   "outputs": [],
   "source": []
  },
  {
   "cell_type": "markdown",
   "id": "fb0cbc8d-8de5-4fe7-860c-107e04b7257a",
   "metadata": {},
   "source": [
    "---\n",
    "\n",
    "### 4. Quantum Algorithm Basics"
   ]
  },
  {
   "cell_type": "code",
   "execution_count": null,
   "id": "7797524e-39a8-4860-9bcc-f1366c9280f8",
   "metadata": {},
   "outputs": [],
   "source": []
  },
  {
   "cell_type": "code",
   "execution_count": null,
   "id": "cab54a9a-ed95-4723-b87b-b9246d61db46",
   "metadata": {},
   "outputs": [],
   "source": []
  },
  {
   "cell_type": "code",
   "execution_count": null,
   "id": "284b395e-adf5-40cf-b649-a7da49745a11",
   "metadata": {},
   "outputs": [],
   "source": []
  },
  {
   "cell_type": "code",
   "execution_count": null,
   "id": "4ac19226-a994-41a9-b97f-2745fad34943",
   "metadata": {},
   "outputs": [],
   "source": []
  },
  {
   "cell_type": "markdown",
   "id": "03f5331e",
   "metadata": {},
   "source": [
    "---\n",
    "\n",
    "### Reference\n"
   ]
  }
 ],
 "metadata": {
  "kernelspec": {
   "display_name": "Python 3",
   "language": "python",
   "name": "python3"
  },
  "language_info": {
   "codemirror_mode": {
    "name": "ipython",
    "version": 3
   },
   "file_extension": ".py",
   "mimetype": "text/x-python",
   "name": "python",
   "nbconvert_exporter": "python",
   "pygments_lexer": "ipython3",
   "version": "3.8.13"
  }
 },
 "nbformat": 4,
 "nbformat_minor": 5
}
