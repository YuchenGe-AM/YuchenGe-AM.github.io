{
 "cells": [
  {
   "cell_type": "markdown",
   "id": "a4ecbc3a",
   "metadata": {},
   "source": [
    "## [Feb 21] Causal Inference and Transfer Learning\n",
    "\n",
    "Presenter: Yuchen Ge  \n",
    "Affiliation: University of Oxford  \n",
    "Contact Email: gycdwwd@gmail.com  \n",
    "Website: https://yuchenge-am.github.io"
   ]
  },
  {
   "cell_type": "markdown",
   "id": "3c723a98-16e1-4224-997f-2b80431b4d02",
   "metadata": {},
   "source": [
    "---\n",
    "\n",
    "### 1. Minimax Rate\n",
    "\n",
    "Recall that $\\mathrm{PATE} = \\beta^{\\star}=\\mathbb{E}[Y(1)-Y(0)]$, where  $\\mathbb{E}[\\cdot]$  is taken w.r.t. the joint distribution of  $(\\mathbf{X}, Y(0), Y(1))$  over the target population.\n",
    "\n",
    "> The RCT data is $\\mathcal{D}_{c}=\\left\\{\\left(Y_{i}, A_{i}, \\mathbf{X}_{i}, S_{i}=c\\right): i \\in \\mathcal{C}\\right\\}$ where $|\\mathcal{C}|=n_{c}$, according to $(Y(1), Y(0), A, \\mathbf{X}) \\mid S=c$.\n",
    ">\n",
    "> Correspondingly, $\\beta_{c}^{\\star}=\\mathbb{E}[Y(1)-Y(0) \\mid S=c]$."
   ]
  },
  {
   "cell_type": "code",
   "execution_count": null,
   "id": "7766c985-d8c7-4ced-bc81-4b9c82d3b49a",
   "metadata": {},
   "outputs": [],
   "source": []
  },
  {
   "cell_type": "code",
   "execution_count": null,
   "id": "8ba9f6bd-c7fb-416d-94cf-94d8de3fa510",
   "metadata": {},
   "outputs": [],
   "source": []
  },
  {
   "cell_type": "code",
   "execution_count": null,
   "id": "f968e7b6-ba44-42a2-9584-93e8a3a9f873",
   "metadata": {},
   "outputs": [],
   "source": []
  },
  {
   "cell_type": "code",
   "execution_count": null,
   "id": "49a8f393-4f5c-46aa-8b5c-013593f485ae",
   "metadata": {},
   "outputs": [],
   "source": []
  },
  {
   "cell_type": "markdown",
   "id": "65d60b25-d230-45ca-a904-c57e7bcf1f4a",
   "metadata": {},
   "source": [
    "---\n",
    "\n",
    "### 3. Characterizing Learning Transfer"
   ]
  },
  {
   "cell_type": "markdown",
   "id": "46d1bc38-722c-4220-a257-3b6f0ebc79e7",
   "metadata": {},
   "source": [
    "Dataset shift is more specific w.r.t. transfer learning: it deals with the\n",
    "prediction $P(\\mathbf{y} \\mid \\mathbf{x})$ in one given the data in the other(s)."
   ]
  },
  {
   "cell_type": "markdown",
   "id": "6a55cd1b-b807-4bcd-846d-7e24d74cb3f5",
   "metadata": {},
   "source": [
    "---"
   ]
  },
  {
   "cell_type": "markdown",
   "id": "674f2c5c-eeb4-44c2-a77a-0c9787218b95",
   "metadata": {},
   "source": [
    "First we consider dataset shift using **probabilistic models**.\n",
    "\n",
    ">  $P(\\mathbf{y}, \\mathbf{x})=\\int d \\mathbf{r} P(\\mathbf{y}, \\mathbf{x} \\mid \\mathbf{r}) P(\\mathbf{r})$ , which simply means that $\\mathbf{r}$  is never known it needs to be integrated over in order to obtain the distribution for the observable quantities  \\mathbf{y}  and  \\mathbf{x} . Necessarily distributions must also be given for any latent variables."
   ]
  },
  {
   "cell_type": "code",
   "execution_count": null,
   "id": "291ac69c-52df-4b11-a9bb-c47dae76396d",
   "metadata": {},
   "outputs": [],
   "source": []
  },
  {
   "cell_type": "code",
   "execution_count": null,
   "id": "5469a05e-7b46-463c-badb-db29eed23d83",
   "metadata": {},
   "outputs": [],
   "source": []
  },
  {
   "cell_type": "code",
   "execution_count": null,
   "id": "a7782f84-1827-4913-9ced-f04c89a14553",
   "metadata": {},
   "outputs": [],
   "source": []
  },
  {
   "cell_type": "code",
   "execution_count": null,
   "id": "f1e55980-97af-425f-b3e3-8c263c4dfffb",
   "metadata": {},
   "outputs": [],
   "source": []
  },
  {
   "cell_type": "code",
   "execution_count": null,
   "id": "81984336-9b54-4ef2-90ee-923c8ed9e36d",
   "metadata": {},
   "outputs": [],
   "source": []
  },
  {
   "cell_type": "markdown",
   "id": "98f28c99-02ff-45bf-ac85-baba30c40ef6",
   "metadata": {},
   "source": [
    "---\n",
    "\n",
    "### Reference\n",
    "\n",
    "1. Shuxiao Chen. Minimax Rates and Adaptivity in Combining Experimental and Observational Data.\n",
    "2. Qingyuan Zhao. Lecture Notes on Causal Inference. \n",
    "2. Joaquin Quiñonero-Candela. Dataset Shift In Machine Learning.\n",
    "3. Geoff K. Nicholls. Bayes Methods.\n",
    "4. Patrick J. Laub. Hawkes Processes.\n",
    "5. Tomas Björk. An Introduction to Point Processes from a Martingale Point of View."
   ]
  },
  {
   "cell_type": "code",
   "execution_count": null,
   "id": "c0933978-3704-44b8-939b-460c8e7e238e",
   "metadata": {},
   "outputs": [],
   "source": []
  }
 ],
 "metadata": {
  "kernelspec": {
   "display_name": "Python 3",
   "language": "python",
   "name": "python3"
  },
  "language_info": {
   "codemirror_mode": {
    "name": "ipython",
    "version": 3
   },
   "file_extension": ".py",
   "mimetype": "text/x-python",
   "name": "python",
   "nbconvert_exporter": "python",
   "pygments_lexer": "ipython3",
   "version": "3.8.13"
  }
 },
 "nbformat": 4,
 "nbformat_minor": 5
}
