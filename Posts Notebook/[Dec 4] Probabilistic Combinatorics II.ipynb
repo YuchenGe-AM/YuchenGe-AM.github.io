{
 "cells": [
  {
   "cell_type": "markdown",
   "id": "a4ecbc3a",
   "metadata": {},
   "source": [
    "## [Dec 4] Probabilistic Combinatorics II.ipynb\n",
    "\n",
    "Presenter: Yuchen Ge  \n",
    "Affiliation: University of Oxford  \n",
    "Contact Email: gycdwwd@gmail.com  \n",
    "Website: https://yuchenge-am.github.io"
   ]
  },
  {
   "cell_type": "markdown",
   "id": "f716c726",
   "metadata": {},
   "source": [
    "### What you need is that your brain is open. \n",
    "----"
   ]
  },
  {
   "cell_type": "markdown",
   "id": "4fc6b152-e98d-4554-b80a-12d53afacbaf",
   "metadata": {
    "tags": []
   },
   "source": [
    "### 1. Derivatives\n",
    "\n",
    "We say that coordinate  $i \\in[n]$  is pivotal for  $f:\\{-1,1\\}^{n} \\rightarrow   \\{-1,1\\}$  on input  $x$  if  $f(x) \\neq f\\left(x^{\\oplus i}\\right)$. Here \n",
    "\n",
    "$$x^{\\oplus i} = \\left(x_{1}, \\ldots, x_{i-1},-x_{i}, x_{i+1}, \\ldots, x_{n}\\right).$$\n",
    "\n",
    "> The **influence** $\\operatorname{Inf}_{i}[f]$ of coordinate  $i$  on  $f:\\{-1,1\\}^{n} \\rightarrow\\{-1,1\\}$ is \n",
    "> \n",
    "> $$\\underset{x \\sim\\{-1,1\\}^{n}}{\\mathbb{P}}\\left[f(x) \\neq f\\left(x^{\\oplus i}\\right)\\right]=\\underset{x \\sim\\{-1,1\\}^{n}}{\\mathbf{E}}\\left[\\mathrm{D}_{i} f(x)^{2}\\right]$$\n",
    ">\n",
    "> where $D_i f$ is the ith (discrete) derivative operator, since \n",
    ">\n",
    "> $$\\mathrm{D}_{i} f(x)=\\left\\{\\begin{array}{ll} 0 & \\text { if coordinate } i \\text { is not pivotal for } x \\\\ \\pm 1 & \\text { if coordinate } i \\text { is pivotal for } x \\end{array}\\right. .$$\n",
    ">\n",
    "> The **total influence** of  $f:\\{-1,1\\}^{n} \\rightarrow \\mathbb{R}$  is $\\mathbf{I}[f]=\\sum_{i=1}^{n} \\operatorname{Inf}_{i}[f]=\\underset{x}{\\mathbf{E}}\\left[\\|\\nabla f(x)\\|_{2}^{2}\\right]$ where $\\nabla f(x)=\\left(\\mathrm{D}_{1} f(x), \\mathrm{D}_{2} f(x), \\ldots, \\mathrm{D}_{n} f(x)\\right)$.\n",
    ">\n",
    "\n",
    "\n",
    "Explicitly, we can write \n",
    "\n",
    "$$\\mathrm{D}_{i} f(x)=\\frac{f\\left(x^{(i \\mapsto 1)}\\right)-f\\left(x^{(i \\mapsto-1)}\\right)}{2} \\implies \\mathrm{D}_{i} x^{S}=\\left\\{\\begin{array}{ll}\n",
    "x^{S \\backslash\\{i\\}} & \\text { if } i \\in S \\\\\n",
    "0 & \\text { if } i \\notin S\n",
    "\\end{array}\\right. ,$$\n",
    "\n",
    "which follows that \n",
    "\n",
    "> **Thm.** If $\\sum_{S \\subseteq[n]} \\widehat{f}(S) x^{S}$, then \n",
    "> \n",
    "> $$\\mathrm{D}_{i} f(x)=\\sum_{\\substack{S \\subseteq[n] \\\\ S \\ni i}} \\widehat{f}(S) x^{S \\backslash\\{i\\}}.$$ \n",
    ">\n",
    "> **Cor.** $\\operatorname{Inf}_{i}[f]=\\sum_{S \\ni i} \\widehat{f}(S)^{2}$.\n",
    "\n",
    "**Proof.** $D_i$ is a linear operator.\n",
    "\n",
    "Some corollarys are as follows:\n",
    "\n",
    "> **Cor I.** If $f:\\{-1,1\\}^{n} \\rightarrow\\{-1,1\\}$ is monotone, then $\\operatorname{Inf}_{i}[f]=\\widehat{f}(i)$.\n",
    ">\n",
    "> **Cor II.** If $f:\\{-1,1\\}^{n} \\rightarrow \\mathbb{R}$, then $\\mathbf{I}[f]=\\sum_{S \\subseteq[n]}|S| \\widehat{f}(S)^{2}=\\sum_{k=0}^{n} k \\cdot \\mathbf{W}^{k}[f]$. Specially, for  $f:\\{-1,1\\}^{n} \\rightarrow\\{-1,1\\}$, using the spectral sample, $\\mathbf{I}[f]=\\underset{\\mathbf{S} \\sim \\mathcal{S}_{f}}{\\mathbf{E}}[|\\mathbf{S}|]$.\n",
    "\n",
    "**Proof.** Note that $D_i f = (D_i f)^2$ is the $0$-$1$ indicator that $i$ is pivotal for $x$ if $f$ is monotone. Also we already know that $\\operatorname{Var}[f]=\\sum_{k>0} \\mathbf{W}^{k}[f]$.\n"
   ]
  },
  {
   "cell_type": "markdown",
   "id": "c642efb1-303e-4430-8518-df78ce8102a5",
   "metadata": {},
   "source": []
  },
  {
   "cell_type": "markdown",
   "id": "b0daf3be-8c0f-4260-a334-d553eadbbd1a",
   "metadata": {},
   "source": [
    "### 2. Decision Tree and DNF Formula"
   ]
  },
  {
   "cell_type": "markdown",
   "id": "77348a58-5ad2-4717-9839-4355496cd93a",
   "metadata": {},
   "source": []
  },
  {
   "cell_type": "markdown",
   "id": "ceef758c-7eea-47d2-a0ce-c011886ec3e5",
   "metadata": {},
   "source": []
  },
  {
   "cell_type": "markdown",
   "id": "87057339-c15c-409d-8cb3-8e8fb95b32d0",
   "metadata": {},
   "source": [
    "### 3. Crypotography\n",
    "\n",
    "**Cryptography is concerned with constructing functions which are computationally easy to compute but computationally difficult to invert.** \n",
    "\n",
    "Intuitively, for encrypting secret messages, one would like a scheme where it’s easy to take any message $x$ and produce an encrypted version $e(x)$, but where it’s hard for an adversary to compute $x$ given $e(x)$, to learn anything about the encrypted messages, or to predict (“forge”) the encryption of future messages."
   ]
  },
  {
   "cell_type": "markdown",
   "id": "842964fd-77f3-4b15-b4c9-291acf8d6a81",
   "metadata": {},
   "source": []
  },
  {
   "cell_type": "markdown",
   "id": "03f5331e",
   "metadata": {},
   "source": [
    "---\n",
    "\n",
    "### Reference\n",
    "\n",
    "1. Noga Alon. The Probabilistic Method.\n",
    "2. Ryan O'Donnell. Analysis of Boolean Functions."
   ]
  }
 ],
 "metadata": {
  "kernelspec": {
   "display_name": "Python 3",
   "language": "python",
   "name": "python3"
  },
  "language_info": {
   "codemirror_mode": {
    "name": "ipython",
    "version": 3
   },
   "file_extension": ".py",
   "mimetype": "text/x-python",
   "name": "python",
   "nbconvert_exporter": "python",
   "pygments_lexer": "ipython3",
   "version": "3.8.13"
  }
 },
 "nbformat": 4,
 "nbformat_minor": 5
}
