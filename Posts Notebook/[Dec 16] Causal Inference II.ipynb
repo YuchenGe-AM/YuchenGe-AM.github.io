{
 "cells": [
  {
   "cell_type": "markdown",
   "id": "a4ecbc3a",
   "metadata": {},
   "source": [
    "## [Dec 16] Causal Inference II\n",
    "\n",
    "Presenter: Yuchen Ge  \n",
    "Affiliation: University of Oxford  \n",
    "Contact Email: gycdwwd@gmail.com  \n",
    "Website: https://yuchenge-am.github.io"
   ]
  },
  {
   "cell_type": "markdown",
   "id": "f716c726",
   "metadata": {},
   "source": [
    "----"
   ]
  },
  {
   "cell_type": "markdown",
   "id": "79d45131-df1c-4e7f-9329-a94316da777e",
   "metadata": {},
   "source": [
    "### 1. Finite Population CLT"
   ]
  },
  {
   "cell_type": "code",
   "execution_count": null,
   "id": "eb268f20-fe5d-4d90-8854-38068f7b2ea5",
   "metadata": {},
   "outputs": [],
   "source": []
  },
  {
   "cell_type": "code",
   "execution_count": null,
   "id": "4e3929e4-c1cc-46ba-bc91-1133f4d7ac95",
   "metadata": {},
   "outputs": [],
   "source": []
  },
  {
   "cell_type": "code",
   "execution_count": null,
   "id": "2e00c7a1-d111-4ca2-a069-6d54b0adae3e",
   "metadata": {},
   "outputs": [],
   "source": []
  },
  {
   "cell_type": "code",
   "execution_count": null,
   "id": "a5241a45-f7a9-4e15-bd2b-11a5aef3d3a1",
   "metadata": {},
   "outputs": [],
   "source": []
  },
  {
   "cell_type": "code",
   "execution_count": null,
   "id": "05e74d1d-5317-46a3-a696-df55548432e7",
   "metadata": {},
   "outputs": [],
   "source": []
  },
  {
   "cell_type": "code",
   "execution_count": null,
   "id": "babc988a-6d24-4f2a-a16c-f63cf2f1cd27",
   "metadata": {},
   "outputs": [],
   "source": []
  },
  {
   "cell_type": "code",
   "execution_count": null,
   "id": "606d9d01-1249-4912-9461-5f4938fb112d",
   "metadata": {},
   "outputs": [],
   "source": []
  },
  {
   "cell_type": "code",
   "execution_count": null,
   "id": "9f0568b3-4867-4b9a-aa01-8efc5711bb49",
   "metadata": {},
   "outputs": [],
   "source": []
  },
  {
   "cell_type": "code",
   "execution_count": null,
   "id": "60960491",
   "metadata": {},
   "outputs": [],
   "source": []
  },
  {
   "cell_type": "markdown",
   "id": "03f5331e",
   "metadata": {},
   "source": [
    "---\n",
    "\n",
    "### Reference\n",
    "\n",
    "1. Nicole E. PASHLEY. Causal Inference for Multiple Treatments using Fractional Factorial Designs.\n",
    "2. Tirthankar Dasgupta. Causal Inference from $2^K$ Factorial Designs by Using Potential Outcomes.\n",
    "3. Nicole E. Pashley. Note on the Delta Method for Finite Population Inference with Applications to Causal Inference.\n",
    "4. Xinran Li. General Forms of Finite Population Central Limit Theorems with Applications to Causal Inference."
   ]
  }
 ],
 "metadata": {
  "kernelspec": {
   "display_name": "Python 3",
   "language": "python",
   "name": "python3"
  },
  "language_info": {
   "codemirror_mode": {
    "name": "ipython",
    "version": 3
   },
   "file_extension": ".py",
   "mimetype": "text/x-python",
   "name": "python",
   "nbconvert_exporter": "python",
   "pygments_lexer": "ipython3",
   "version": "3.8.13"
  }
 },
 "nbformat": 4,
 "nbformat_minor": 5
}
