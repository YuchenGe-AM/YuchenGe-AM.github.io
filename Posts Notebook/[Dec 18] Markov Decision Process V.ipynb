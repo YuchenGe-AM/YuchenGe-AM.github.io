{
 "cells": [
  {
   "cell_type": "markdown",
   "id": "a4ecbc3a",
   "metadata": {},
   "source": [
    "## [Dec 18] Markov Decision Process V\n",
    "\n",
    "Presenter: Yuchen Ge  \n",
    "Affiliation: University of Oxford  \n",
    "Contact Email: gycdwwd@gmail.com  \n",
    "Website: https://yuchenge-am.github.io"
   ]
  },
  {
   "cell_type": "markdown",
   "id": "f716c726",
   "metadata": {},
   "source": [
    "----"
   ]
  },
  {
   "cell_type": "markdown",
   "id": "c86a5e95-999a-4029-bb66-5fe6047f0c9c",
   "metadata": {},
   "source": [
    "### 1. Indecomposable\n",
    "\n",
    "\n",
    "\n",
    "\n",
    "\n",
    "\n",
    "\n"
   ]
  },
  {
   "cell_type": "markdown",
   "id": "47970f27-e5f3-4891-8c6e-a470d2ade0dc",
   "metadata": {},
   "source": [
    "> A FSC is indecomposable if $\\forall \\epsilon>0$, $\\exists N_{0}$ s.t. $\\forall N \\geq N_{0}$,\n",
    ">\n",
    "> $$\\left|q\\left(s_{N} \\mid \\mathbf{x}, s_{0}\\right) - q\\left(s_{N} \\mid \\mathbf{x}, s_{0}{ }^{\\prime}\\right)\\right| \\leq \\epsilon $$\n",
    "\n",
    "for all  $s_{N}$, $\\mathbf{x}$, $s_{0}$, and  $s_{0}{ }^{\\prime}$. \n",
    "\n",
    "Fix $\\left(x_{1}, x_{2}, \\ldots\\right)$, define\n",
    "\n",
    "$$d_{N}\\left(s_{0}{ }^{\\prime}, s_{0}^{\\prime \\prime}\\right)=\\sum_{s_{N}}\\left|q\\left(s_{N} \\mid s_{0}{ }^{\\prime}\\right)-q\\left(s_{N} \\mid s_{0}{ }^{\\prime \\prime}\\right)\\right|$$"
   ]
  },
  {
   "cell_type": "markdown",
   "id": "c08b24a1-6719-4dda-ad5c-e5ffbca4991d",
   "metadata": {},
   "source": [
    "> **Lemma.** $d_{N}\\left(s_{0}{ }^{\\prime}, s_{0}{ }^{\\prime \\prime}\\right)$ is nonincreasing in  $N$.\n",
    "\n",
    "**Proof.** For  $N \\geq 1$, we have\n",
    "\n",
    "$$\\begin{aligned}\n",
    "d_{N}\\left(s_{0}{ }^{\\prime}, s_{0}{ }^{\\prime \\prime}\\right) & =\\sum_{s_{N}}\\left|q\\left(s_{N} \\mid s_{0}{ }^{\\prime}\\right)-q\\left(s_{N} \\mid s_{0}{ }^{\\prime \\prime}\\right)\\right| =\\sum_{s_{N}}\\left|\\sum_{s_{N-1}} q\\left(s_{N} \\mid s_{N-1}\\right)\\left[q\\left(s_{N-1} \\mid s_{0}{ }^{\\prime}\\right)-q\\left(s_{N-1} \\mid s_{0}{ }^{\\prime \\prime}\\right)\\right]\\right| \\\\\n",
    "& \\leq \\sum_{s_{N}} \\sum_{s_{N-1}} q\\left(s_{N} \\mid s_{N^{\\prime}-1}\\right)\\left|q\\left(s_{N-1} \\mid s_{0}{ }^{\\prime}\\right)-q\\left(s_{N-1} \\mid s_{0}{ }^{\\prime \\prime}\\right)\\right| =\\sum_{s_{N-1}}\\left|q\\left(s_{N-1} \\mid s_{0}{ }^{\\prime}\\right)-q\\left(s_{N-1} \\mid s_{0}{ }^{\\prime \\prime}\\right)\\right| \\\\\n",
    "& =d_{N-1}\\left(s_{0}{ }^{\\prime}, s_{0}{ }^{\\prime \\prime}\\right).\n",
    "\\end{aligned}$$\n"
   ]
  },
  {
   "cell_type": "markdown",
   "id": "131ab663-2a9e-48d2-995f-d4c81b015435",
   "metadata": {},
   "source": [
    "Finally, we prove \n",
    "\n",
    "> **Thm.** An FSC is indecomposable iff $\\exists n$: $\\forall \\mathbf{x}$, $\\exists s_{n}$, s.t.\n",
    ">\n",
    "> $$ q\\left(s_{n} \\mid \\mathbf{x}, s_{0}\\right)>0 \\quad \\text { for all } s_{0}. $$\n",
    "\n",
    "**Proof.** Only one direction is not obvious enough. If, then  $\\delta>0$  such that\n",
    "\n",
    "$ q\\left(s_{n} \\mid \\mathbf{x}, s_{0}\\right) \\geq \\delta $ for all  $s_{0}$, all  $\\mathbf{x}$, and some  $s_{n}$  depending on  $\\mathbf{x}$.\n",
    "\n",
    "\n",
    "\n",
    "\n",
    "It suffices to prove the following \n",
    "\n",
    "\n",
    "> **Lemma.** Suppose $\\exists n>0, \\delta>0$, $\\forall  N \\geq 0$, $\\exists s_{N+n}$ s.t.\n",
    "\n",
    "$$q\\left(s_{N+n} \\mid s_{N}\\right) \\geq \\delta ; \\quad \\text { all values of } s_{N}$$\n",
    "\n",
    "\n",
    "Then  d_{N}\\left(s_{0}{ }^{\\prime}, s_{0}{ }^{\\prime \\prime}\\right)  approaches 0 exponentially with  N  and is bounded by\n",
    "\n",
    "d_{N}\\left(s_{0}{ }^{\\prime}, s_{0}^{\\prime \\prime}\\right) \\leq 2(1-\\delta)^{(N / n)-1}\n",
    "\n",
    "\n",
    "Proof.\n",
    "\n",
    "\\begin{aligned}\n",
    "d_{N+n}\\left(s_{0}{ }^{\\prime}, s_{0}{ }^{\\prime \\prime}\\right) & =\\sum_{s_{N+n}}\\left|q\\left(s_{N+n} \\mid s_{0}{ }^{\\prime}\\right)-q\\left(s_{N+n} \\mid s_{0}{ }^{\\prime \\prime}\\right)\\right| \\\\\n",
    "& =\\sum_{s_{N+n}}\\left|\\sum_{s_{N}} q\\left(s_{N+n} \\mid s_{N}\\right)\\left[q\\left(s_{N} \\mid s_{0}{ }^{\\prime}\\right)-q\\left(s_{N} \\mid s_{0}{ }^{\\prime \\prime}\\right)\\right]\\right|\n",
    "\\end{aligned}\n",
    "\n",
    "\n",
    "Define\n",
    "\n",
    "a\\left(s_{N+n}\\right)=\\min _{s_{N}} q\\left(s_{N+n} \\mid s_{N}\\right)\n",
    "\n",
    "\n",
    "Observing that\n",
    "\n",
    "\\sum_{s_{N}} a\\left(s_{N+n}\\right)\\left[q\\left(s_{N} \\mid s_{0}{ }^{\\prime}\\right)-q\\left(s_{N} \\mid s_{0}^{\\prime \\prime}\\right)\\right]=0\n",
    "\n",
    "we can rewrite  (4.6 .35)  as\n",
    "\n",
    "d_{N+n}\\left(s_{0}{ }^{\\prime}, s_{0}{ }^{\\prime \\prime}\\right)=\\sum_{s_{N+n}}\\left|\\sum_{s_{N}}\\left[q\\left(s_{N+n} \\mid s_{N}\\right)-a\\left(s_{N+n}\\right)\\right]\\left[q\\left(s_{N} \\mid s_{0}{ }^{\\prime}\\right)-q\\left(s_{N} \\mid s_{0}{ }^{\\prime \\prime}\\right)\\right]\\right|\n",
    "\n",
    "\n",
    "Bounding the magnitude of a sum by the sum of the magnitudes and observing that  q\\left(s_{N+n} \\mid s_{N}\\right)-a\\left(s_{N+n}\\right) \\geq 0 , we obtain\n",
    "\n",
    "d_{N+n}\\left(s_{0}{ }^{\\prime}, s_{0}{ }^{\\prime \\prime}\\right) \\leq \\sum_{s_{N+n}} \\sum_{s_{N}}\\left[q\\left(s_{N+n} \\mid s_{N}\\right)-a\\left(s_{N+n}\\right)\\right]\\left|q\\left(s_{N} \\mid s_{0}{ }^{\\prime}\\right)-q\\left(s_{N} \\mid s_{0}{ }^{\\prime \\prime}\\right)\\right|\n",
    "\n",
    "\n",
    "Summing over  s_{N+n} , this becomes\n",
    "\n",
    "\\begin{aligned}\n",
    "d_{N+n}\\left(s_{0}{ }^{\\prime}, s_{0}{ }^{\\prime \\prime}\\right) & \\leq\\left[1-\\sum_{s_{N+n}} a\\left(s_{N+n}\\right)\\right] \\sum_{s_{N}}\\left|q\\left(s_{N} \\mid s_{0}{ }^{\\prime}\\right)-q\\left(s_{N} \\mid s_{0}{ }^{\\prime \\prime}\\right)\\right| \\\\\n",
    "& =\\left[1-\\sum_{s_{N+n}} a\\left(s_{N+n}\\right)\\right] d_{N}\\left(s_{0}{ }^{\\prime}, s_{0}{ }^{\\prime \\prime}\\right)\n",
    "\\end{aligned}\n",
    "\n",
    "\n",
    "By hypothesis,  a\\left(s_{N+n}\\right) \\geq \\delta  for at least one value of  s_{N+n} , and thus\n",
    "\n",
    "d_{N+n}\\left(s_{0}{ }^{\\prime}, s_{0}{ }^{\\prime \\prime}\\right) \\leq(1-\\delta) d_{N}\\left(s_{0}{ }^{\\prime}, s_{0}{ }^{\\prime \\prime}\\right)\n",
    "\n",
    "\n",
    "\n",
    "\n",
    "\n"
   ]
  },
  {
   "cell_type": "markdown",
   "id": "71e90d9a-def7-4504-b65d-f8355c287519",
   "metadata": {},
   "source": []
  },
  {
   "cell_type": "markdown",
   "id": "ea4b6f46-bb64-4c9b-b705-783a2d61c5ac",
   "metadata": {},
   "source": []
  },
  {
   "cell_type": "markdown",
   "id": "03f5331e",
   "metadata": {},
   "source": [
    "---\n",
    "\n",
    "### Reference\n",
    "\n",
    "1. Robert G. Gallager. Information Theory and Reliable Communication."
   ]
  }
 ],
 "metadata": {
  "kernelspec": {
   "display_name": "Python 3",
   "language": "python",
   "name": "python3"
  },
  "language_info": {
   "codemirror_mode": {
    "name": "ipython",
    "version": 3
   },
   "file_extension": ".py",
   "mimetype": "text/x-python",
   "name": "python",
   "nbconvert_exporter": "python",
   "pygments_lexer": "ipython3",
   "version": "3.8.13"
  }
 },
 "nbformat": 4,
 "nbformat_minor": 5
}
