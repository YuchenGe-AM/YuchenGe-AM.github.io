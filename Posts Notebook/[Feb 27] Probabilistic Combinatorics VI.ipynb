{
 "cells": [
  {
   "cell_type": "markdown",
   "id": "a4ecbc3a",
   "metadata": {},
   "source": [
    "## [Feb 27] Probabilistic Combinatorics VI\n",
    "\n",
    "Presenter: Yuchen Ge  \n",
    "Affiliation: University of Oxford  \n",
    "Contact Email: gycdwwd@gmail.com  \n",
    "Website: https://yuchenge-am.github.io"
   ]
  },
  {
   "cell_type": "markdown",
   "id": "fd5f2a81-37b9-435e-8710-90c1034d79c6",
   "metadata": {},
   "source": [
    "---\n",
    "\n",
    "### 1. Some Recap\n",
    "\n",
    "> $\\log n / n$ = critical point of **isolated vertex / connected**.\n",
    ">\n",
    "> $1 / n$  = critical point of **cycles / giant components**.\n",
    "\n",
    "For the frst statement, recall that for $p=\\frac{\\log n+c(n)}{n}$, we have\n",
    "\n",
    "$$ \\mathbb{P}[G(n, p) \\text { contains no isolated vertex }] \\xrightarrow{n \\rightarrow \\infty}\\left\\{\\begin{array}{ll}\n",
    "0 & \\text { if } c(n) \\rightarrow-\\infty \\\\\n",
    "\\exp \\left(-e^{-c}\\right) & \\text { if } c(n) \\rightarrow c \\in \\mathbb{R} \\\\\n",
    "1 & \\text { if } c(n) \\rightarrow \\infty\n",
    "\\end{array}\\right. $$\n",
    "\n",
    "> The critical step is to assume WLOG $|c|\\leq \\log n$ using the monotone property of $p$ w.r.t. \n",
    ">\n",
    "> $$\\mathbb{P}[G(n, p) \\text { contains NO isolated vertex }] \\text{ and } \\mathbb{P}[G(n, p) \\text { contains at least one isolated vertex }].$$\n",
    "\n"
   ]
  },
  {
   "cell_type": "markdown",
   "id": "9901e3a0-30a0-43a6-a2ea-6c1a63b1b593",
   "metadata": {},
   "source": [
    "For  $k \\in[n]$  let  $C_{k}$  denote $\\#$ components of order  $k$  in  $G(n, p)$. With\n",
    "\n",
    "$$\\begin{aligned}\n",
    "\\mathbb{P}\\left[C_{1} \\geq 1\\right] & =\\mathbb{P}[G(n, p) \\text { contains an isolated vertex }] \\\\\n",
    "& \\leq \\mathbb{P}[G(n, p) \\text { is not connected }] \\\\\n",
    "& \\leq \\mathbb{P}\\left[C_{1} \\geq 1\\right]+\\sum_{2 \\leq k \\leq n / 2} \\mathbb{P}\\left[C_{k} \\geq 1\\right]\n",
    "\\end{aligned},$$"
   ]
  },
  {
   "cell_type": "markdown",
   "id": "a4f7bfc6-fa12-4025-8cb0-69a0b30b2400",
   "metadata": {},
   "source": [
    "which follows that if $p \\sim \\log n / n$ then $\\mathbb{P}[G(n, p) \\text { is not connected }]=\\mathbb{P}\\left[C_{1} \\geq 1\\right]+o(1)$. Therefore, we can obtain exactly the same conclusion as containing isolated points. In the next section, we shall study the second statement."
   ]
  },
  {
   "cell_type": "markdown",
   "id": "b0d2c7bb-b8d2-4a1c-93e2-762ab32a9005",
   "metadata": {},
   "source": [
    "\n",
    "### 2. The Phase Transition\n",
    "\n",
    "We already have shown that for fixed $K$,\n",
    "\n",
    "$$\\frac{N_{\\leqslant K}(G)}{n} \\xrightarrow{\\mathrm{p}} \\rho_{\\leqslant K}(c) \\rightarrow \\eta(c) \\text { as } K \\rightarrow \\infty .$$\n",
    "\n",
    "> If  $c>1$, then  $N_{\\leqslant n}(G) / n=1$, while  $\\rho_{\\leqslant n}(c) \\rightarrow \\eta(c)<1$, so we cannot extend the formula to arbitrary  $K=K(n)$. But we can allow  $K$  to grow at some rate.\n",
    "\n",
    "As a matter of fact,\n",
    "\n",
    "> Such $K$ can be $k^{-}=k^{-}(n)$  s.t.  $k^{-} \\rightarrow \\infty$  and  $k^{-} \\leqslant n^{1 / 4}$.\n",
    "\n",
    "Next, we study the early related phasse transition.\n",
    "\n",
    "> $0<c<1$. $\\exists A(c)>0$ s.t. whp every component of  $G(n, c / n)$  has size at most  $A \\log n$.\n",
    "\n",
    "Recall that $R_{t} \\sim \\operatorname{Bin}\\left(u_{t-1}, c / n\\right)$, where  $u_{t-1}=n-(t-1)-y_{t-1}$  depends on the value  $y_{t-1}$  of  $Y_{t-1}$. Here the random $m=\\left|C_{v}\\right|$ is the first time the random walk hits $0$. Since  $u_{t-1} \\leqslant n$, the conditional distribution of  $R_{t}$  is always dominated by a  $\\operatorname{Bin}(n, c / n)$, which follows that distribution. More precisely, we can define independent variables  $R_{t}^{+} \\sim \\operatorname{Bin}(n, c / n)$  s.t.  $R_{t} \\leqslant R_{t}^{+}$. **We shall use $R_{t}^{+}$ to derive some upper bound**. Similarly, we can show that \n",
    "\n",
    "> $c>1$. Then  $\\frac{L_{1}(G)}{n} \\xrightarrow{\\mathrm{p}}   1-\\eta(c)$. Also, there is a constant  $A=A(c)$  s.t.  $L_{2}(G) \\leqslant A \\log n$  holds whp."
   ]
  }
 ],
 "metadata": {
  "kernelspec": {
   "display_name": "Python 3 (ipykernel)",
   "language": "python",
   "name": "python3"
  },
  "language_info": {
   "codemirror_mode": {
    "name": "ipython",
    "version": 3
   },
   "file_extension": ".py",
   "mimetype": "text/x-python",
   "name": "python",
   "nbconvert_exporter": "python",
   "pygments_lexer": "ipython3",
   "version": "3.9.18"
  }
 },
 "nbformat": 4,
 "nbformat_minor": 5
}
