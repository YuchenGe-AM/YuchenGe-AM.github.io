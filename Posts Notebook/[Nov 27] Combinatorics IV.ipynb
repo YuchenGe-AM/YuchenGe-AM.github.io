{
 "cells": [
  {
   "cell_type": "markdown",
   "id": "a4ecbc3a",
   "metadata": {},
   "source": [
    "## [Nov 14] Combinatorics III\n",
    "\n",
    "Presenter: Yuchen Ge  \n",
    "Affiliation: University of Oxford  \n",
    "Contact Email: gycdwwd@gmail.com  \n",
    "Website: https://yuchenge-am.github.io"
   ]
  },
  {
   "cell_type": "markdown",
   "id": "f716c726",
   "metadata": {},
   "source": [
    "### Combinatorics is not a science, it's an attitude.\n",
    "----"
   ]
  },
  {
   "cell_type": "markdown",
   "id": "84415a27-a1c5-4c74-a504-98f6cb14a1b8",
   "metadata": {},
   "source": [
    "### 1. Intersecting Families.\n",
    "\n",
    "Recall\n",
    "\n",
    "> ( **Erdös-Ko-Rado** ) For  $r \\leq n / 2$, if  $\\mathcal{A} \\subseteq[n]^{(r)}$  is intersecting then  $|\\mathcal{A}| \\leq\\left(\\begin{array}{l}n-1 \\\\ r-1\\end{array}\\right)$.\n",
    "\n",
    "\n",
    "We would like to generalize by setting that $\\mathcal{A} \\subseteq \\mathcal{P}(n)$  is $t$-intersecting if $|A \\cap B| \\geq t \\text {, for all } A, B \\in \\mathcal{A}$.\n",
    "\n",
    "> **Thm.** Let  $1<t \\leq k$. $\\exists n_{0}=n_{0}(k, t)$ $\\forall n>n_{0}$  $ \\bigg( \\mathcal{A} \\subseteq[n]^{(k)}$  is  $t$-intersecting $\\implies |\\mathcal{A}| \\leq\\left(\\begin{array}{c} n-t \\\\ k-t \\end{array}\\right) \\bigg).$\n",
    "\n",
    "with equality iff  $\\mathcal{A}$ is of the form  $\\left\\{A \\in[n]^{(k)}: T \\subseteq A\\right\\}$, where  $T$  is a $t$-element subset of  $[n]$.\n",
    "\n",
    "**Proof.** WLOG, assume $\\mathcal{A}$  is maximal and so $\\exists A, B \\in \\mathcal{A}$  with  $|A \\cap B|=t$. If  $A \\cap B \\subseteq C$, for all  $C \\in \\mathcal{A}$, then  |\\mathcal{A}| \\leq\\left(\\begin{array}{c}n-t \\\\ k-t\\end{array}\\right)  as required.\n",
    "\n",
    "So suppose that there exists  C \\in \\mathcal{A}  with  A \\cap B \\not \\subset C . Every  D \\in \\mathcal{A}  must have at least  t+1  elements in  A \\cup B \\cup C . Thus\n",
    "\n",
    "|\\mathcal{A}| \\leq\\left(\\begin{array}{c}\n",
    "|A \\cup B \\cup C| \\\\\n",
    "t+1\n",
    "\\end{array}\\right)\\left(\\begin{array}{c}\n",
    "n \\\\\n",
    "k-t-1\n",
    "\\end{array}\\right) \\leq(3 k)^{t+1} n^{k-t-1}<\\left(\\begin{array}{c}\n",
    "n-t \\\\\n",
    "k-t\n",
    "\\end{array}\\right)\n",
    "\n",
    "provided  n  is large enough.Theorem 17.\n",
    "\n",
    "\n",
    "### 2. multilinearization trick\n",
    "\n",
    "\n",
    "\n",
    "\n",
    "\n",
    "\n",
    "\n",
    "\n",
    "\n",
    "\n",
    "\n",
    "\n",
    "\n",
    "\n",
    "\n",
    "\n",
    "\n"
   ]
  },
  {
   "cell_type": "markdown",
   "id": "03f5331e",
   "metadata": {},
   "source": [
    "---\n",
    "\n",
    "### Reference\n",
    "\n",
    "1. Béla Bollobás. Modern Graph Theory.\n",
    "2. Béla Bollobás. Combinatorics: set systems, hypergraphs, families of vectors, and combinatorial probability."
   ]
  }
 ],
 "metadata": {
  "kernelspec": {
   "display_name": "Python 3",
   "language": "python",
   "name": "python3"
  },
  "language_info": {
   "codemirror_mode": {
    "name": "ipython",
    "version": 3
   },
   "file_extension": ".py",
   "mimetype": "text/x-python",
   "name": "python",
   "nbconvert_exporter": "python",
   "pygments_lexer": "ipython3",
   "version": "3.8.13"
  }
 },
 "nbformat": 4,
 "nbformat_minor": 5
}
