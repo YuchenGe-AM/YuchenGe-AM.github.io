{
 "cells": [
  {
   "cell_type": "markdown",
   "id": "a4ecbc3a",
   "metadata": {},
   "source": [
    "## [Nov 14] Combinatorics III\n",
    "\n",
    "Presenter: Yuchen Ge  \n",
    "Affiliation: University of Oxford  \n",
    "Contact Email: gycdwwd@gmail.com  \n",
    "Website: https://yuchenge-am.github.io"
   ]
  },
  {
   "cell_type": "markdown",
   "id": "f716c726",
   "metadata": {},
   "source": [
    "### Combinatorics is not a science, it's an attitude.\n",
    "----"
   ]
  },
  {
   "cell_type": "markdown",
   "id": "84415a27-a1c5-4c74-a504-98f6cb14a1b8",
   "metadata": {},
   "source": [
    "### 1. Intersecting Families.\n",
    "\n",
    "Recall\n",
    "\n",
    "> ( **Erdös-Ko-Rado** ) For  $r \\leq n / 2$, if  $\\mathcal{A} \\subseteq[n]^{(r)}$  is intersecting then  $|\\mathcal{A}| \\leq\\left(\\begin{array}{l}n-1 \\\\ r-1\\end{array}\\right)$.\n",
    "\n",
    "We would like to generalize by setting that $\\mathcal{A} \\subseteq \\mathcal{P}(n)$  is $t$-intersecting if $|A \\cap B| \\geq t \\text {, for all } A, B \\in \\mathcal{A}$.\n",
    "\n",
    "> **Thm I.** Let  $1<t \\leq k$. $\\exists n_{0}=n_{0}(k, t)$ $\\forall n>n_{0}$  $ \\bigg( \\mathcal{A} \\subseteq[n]^{(k)}$  is  $t$-intersecting $\\implies |\\mathcal{A}| \\leq\\left(\\begin{array}{c} n-t \\\\ k-t \\end{array}\\right) \\bigg)$ with equality iff  $\\mathcal{A}$ is of the form  $\\left\\{A \\in[n]^{(k)}: T \\subseteq A\\right\\}$, where  $T$  is a $t$-element subset of  $[n]$.\n",
    ">\n",
    ">\n",
    "> **Thm II.** ( **Fisher's Inequality** ) Suppose $\\mathcal{A} \\subseteq \\mathcal{P}(n)$  s.t.  $|A \\cap B|=k\\geq 1$.  $\\forall A \\neq B \\in \\mathcal{A}$. Then  $|\\mathcal{A}| \\leq n$.\n",
    "> \n",
    "\n",
    "**Proof.** For the first: WLOG, assume $\\mathcal{A}$  is maximal, which follows that $\\exists A, B \\in \\mathcal{A}$  with  $|A \\cap B|=t$. If  $A \\cap B \\subseteq C$, $\\forall C \\in \\mathcal{A}$, then  $|\\mathcal{A}| \\leq\\left(\\begin{array}{c}n-t \\\\ k-t\\end{array}\\right)$. So suppose that $\\exists C \\in \\mathcal{A}$  with  $A \\cap B \\not \\subset C$. Every  $D \\in \\mathcal{A}$  must have at least  $t+1$  elements in  $A \\cup B \\cup C$. Thus when $n$  is large enough:\n",
    "\n",
    "$$|\\mathcal{A}| \\leq\\left(\\begin{array}{c}\n",
    "|A \\cup B \\cup C| \\\\\n",
    "t+1\n",
    "\\end{array}\\right)\\left(\\begin{array}{c}\n",
    "n \\\\\n",
    "k-t-1\n",
    "\\end{array}\\right) \\leq(3 k)^{t+1} n^{k-t-1}<\\left(\\begin{array}{c}\n",
    "n-t \\\\\n",
    "k-t\n",
    "\\end{array}\\right).$$\n",
    "\n",
    "\n",
    "For the second: if $\\exists  A \\in \\mathcal{A}$  with  $|A|=k$, then  $A \\subseteq B$  $\\forall  B \\in \\mathcal{A}$ , and $\\{B \\backslash A: B \\in \\mathcal{A}\\}$ consists of pairwise disjoint sets, and so  $|\\mathcal{A}| \\leq n$. Otherwise assume that  $|A|>k$,  $\\forall  A \\in \\mathcal{A}$. Then we claim that $\\left\\{\\chi_{A}: A \\in \\mathcal{A}\\right\\}$  are linearly independent, which follows that $|\\mathcal{A}|=\\left|\\left\\{\\chi_{A}: A \\in \\mathcal{A}\\right\\}\\right| \\leq \\operatorname{dim}\\left(\\mathbb{R}^{n}\\right)=n$.\n",
    "\n",
    "So suppose that  \\sum_{A \\in \\mathcal{A}} \\lambda_{A} \\chi_{A}=0 . For any  B \\in \\mathcal{A} , since  \\left\\langle\\chi_{A}, \\chi_{B}\\right\\rangle=\\mid A \\cap   B \\mid=k  for  A \\neq B  and  \\left\\langle\\chi_{B}, \\chi_{B}\\right\\rangle=|B| , we have\n",
    "\n",
    "0=\\left\\langle\\sum_{A \\in \\mathcal{A}} \\lambda_{A} \\chi_{A}, \\chi_{B}\\right\\rangle=\\lambda_{B}|B|+\\sum_{A \\neq B} \\lambda_{A} k=\\lambda_{B}(|B|-k)+\\Lambda k,\n",
    "\n",
    "where  \\Lambda=\\sum_{A \\in \\mathcal{A}} \\lambda_{A} . Thus (noting that  |B|>k  )\n",
    "\n",
    "\\lambda_{B}=-\\frac{k \\Lambda}{|B|-k} .\n",
    "\n",
    "\n",
    "If  \\Lambda=0 , then  \\lambda_{B}=0  for all  B \\in \\mathcal{A} . If  \\Lambda \\neq 0 , then  \\Lambda  and  \\lambda_{B}  have opposite sign. But this holds for any  B \\in \\mathcal{A} , which is impossible since  \\Lambda=\\sum_{B \\in \\mathcal{A}} \\lambda_{B} . We conclude that the vectors  \\chi_{A}  are linearly independent, as required.\n",
    "\n",
    "\n",
    "\n",
    "### 2. multilinearization trick\n",
    "\n",
    "\n",
    "\n",
    "\n",
    "\n",
    "\n",
    "\n",
    "\n",
    "\n",
    "\n",
    "\n",
    "\n",
    "\n",
    "\n",
    "\n",
    "\n",
    "\n"
   ]
  },
  {
   "cell_type": "code",
   "execution_count": null,
   "id": "da45d7c6-a982-42a7-8bf0-c438b1787081",
   "metadata": {},
   "outputs": [],
   "source": []
  },
  {
   "cell_type": "code",
   "execution_count": null,
   "id": "53941621-8721-4e82-81c7-c673c8b9bb28",
   "metadata": {},
   "outputs": [],
   "source": []
  },
  {
   "cell_type": "markdown",
   "id": "56553ba9-2252-4ed5-b51f-f5969d9a428c",
   "metadata": {},
   "source": [
    "### 3. Flows, Connectivity and Matchings\n",
    "\n",
    "Consider a digraph $\\vec{G}=(V, \\vec{E})$"
   ]
  },
  {
   "cell_type": "code",
   "execution_count": null,
   "id": "291850bc-d8f8-4639-aba2-890a987136bf",
   "metadata": {},
   "outputs": [],
   "source": []
  },
  {
   "cell_type": "code",
   "execution_count": null,
   "id": "a93a99cb-f1f5-4ebd-a011-f03a5211f78a",
   "metadata": {},
   "outputs": [],
   "source": []
  },
  {
   "cell_type": "markdown",
   "id": "03f5331e",
   "metadata": {},
   "source": [
    "---\n",
    "\n",
    "### Reference\n",
    "\n",
    "1. Béla Bollobás. Modern Graph Theory.\n",
    "2. Béla Bollobás. Combinatorics: set systems, hypergraphs, families of vectors, and combinatorial probability."
   ]
  }
 ],
 "metadata": {
  "kernelspec": {
   "display_name": "Python 3",
   "language": "python",
   "name": "python3"
  },
  "language_info": {
   "codemirror_mode": {
    "name": "ipython",
    "version": 3
   },
   "file_extension": ".py",
   "mimetype": "text/x-python",
   "name": "python",
   "nbconvert_exporter": "python",
   "pygments_lexer": "ipython3",
   "version": "3.8.13"
  }
 },
 "nbformat": 4,
 "nbformat_minor": 5
}
