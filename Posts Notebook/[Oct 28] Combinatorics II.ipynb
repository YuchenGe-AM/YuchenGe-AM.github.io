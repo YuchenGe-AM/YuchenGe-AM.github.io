{
 "cells": [
  {
   "cell_type": "markdown",
   "id": "a4ecbc3a",
   "metadata": {},
   "source": [
    "## [Oct 28] Combinatorics II\n",
    "\n",
    "Presenter: Yuchen Ge  \n",
    "Affiliation: University of Oxford  \n",
    "Contact Email: gycdwwd@gmail.com  \n",
    "Website: https://yuchenge-am.github.io"
   ]
  },
  {
   "cell_type": "markdown",
   "id": "f716c726",
   "metadata": {},
   "source": [
    "### Combinatorics is not a science, it's an attitude.\n",
    "----"
   ]
  },
  {
   "cell_type": "markdown",
   "id": "ef270289",
   "metadata": {},
   "source": [
    "### 1. ( Vertex ) Colouring"
   ]
  },
  {
   "cell_type": "markdown",
   "id": "28b76304",
   "metadata": {},
   "source": [
    "> $\\chi(G)$ = the least $k$ for which $G$ is $k$-colourable.\n",
    "\n",
    "We would like to study the **upper and lower bounds** of $\\chi(G)$.\n",
    "\n",
    "First we give some feelings about coloring.\n",
    "\n",
    "> **Observation I:** $G_1$ and $G_2$ are graphs s.t. $V(G_1) \\cap V(G_2) = W$ and $G_1[W]$ and $G_2[W]$ are complete. Then \n",
    "> \n",
    "> $$\\chi(G_1 \\cup G_2) = \\max\\{\\chi(G_1), \\chi(G_2)\\}.$$\n",
    ">\n",
    "> **Observation II:**  $\\chi(G) \\leq 2$ iff $G$ is bipartite ( consider $\\{v : c(v) = 1\\}$ and $\\{v : c(v) = 2\\}$ ) iff $G$ contains no odd cycles.\n",
    "\n",
    "**Proof.** Only the last \"**iff**\" of Observation II is nontrivial, which can be seen through induction on $G$.\n",
    "\n",
    "In general, finding the chromatic number of a graph is very hard. However, we may provide some bounds on coloring.\n",
    "\n",
    "> **Thm I.** $\\Delta(G)+1 \\geq  \\chi(G) \\geq \\max\\{\\omega(G), \\frac{|G|}{\\alpha(G)}\\}$.                       \n",
    "> **Thm II.** If $G$ is connected with $\\Delta(G) \\leq d$ and $\\delta(G) < d$. Then $\\chi(G) \\leq d$.\n",
    "\n",
    "**Proof.** For Thm I, The first follows from the greedy algorithm, wheareas the second follows from the definitions of the clique number and independence number. Thm II relies on the following observation ( a direct consequence of the existence of the spanning tree ): **if $G$ is connected graph with $n$ vertices $v \\in V(G)$. Then we may order the vertices as $v_1, \\dots, v_{n-1}, v_n = v$ so that each vertex other than $v$ has at least one neighbour coming after it**.\n",
    "\n",
    "We won’t need this **Thm II** in the proof of the famous **Brooks’ Theorem**, but it encapsulates one key idea of that proof.\n",
    "\n",
    "> ( **Brooks' Theorem** ) Let $G$ be connected which is neither an odd cycle nor a complete graph, then $\\chi(G) \\leq \\Delta(G)$.\n",
    "\n",
    "**Proof.** For $\\Delta(G) \\leq 2$ the result is easy as the graph is either a cycle or a path. \n",
    "\n",
    "So suppose $\\Delta(G) \\geq 3$. It is convenient to restate the result slightly as follows: let $G$ be connected with $\\Delta(G) \\leq d$ which does not contain $K_{d+1}$. Then $\\chi(G) \\leq d$. Since **a connected graph with maximum degree $d$ that contains $K_{d+1}$ must be $K_{d+1}$**, this restatement applied with $d = \\Delta(G)$ implies the theorem. We prove the restated result by induction on $n = |G|$. \n",
    "\n",
    "Specifically, we discuss through the cutvertex. If some cutvertex exists, induction applies. If there esists no cutvertex, we can find neighbours $x$ and $y$ of $v$ s.t. $xy \\notin E(G)$. ( Here we assume there esixt some vertex $v$ with degree $d$, since otherwise we may apply Thm I. ) After that, we discuss if $G − x − y$ is connected. If connected, then we may prove by ordering the vertices. If not, we prove by partitioning $V(G)-\\{x,y\\}$ and then do some induction."
   ]
  },
  {
   "cell_type": "markdown",
   "id": "7ad06b07-9e0e-4878-9dc9-12186d21b991",
   "metadata": {},
   "source": [
    "---"
   ]
  },
  {
   "cell_type": "markdown",
   "id": "5feab2fe-ec3d-45d2-9df2-e635fb2e38d4",
   "metadata": {},
   "source": []
  },
  {
   "cell_type": "markdown",
   "id": "37bdcc4e",
   "metadata": {},
   "source": [
    "### 2. ( Edge ) Colouring \n",
    "\n",
    "A function $f : E(G) \\rightarrow [k]$ is a **proper edge-colouring** of $G$ if edges that meet always receive distinct colours. The edge-chromatic number $\\chi'(G)$ is the smallest $k$ such that $G$ has such an edge-colouring.\n",
    "\n",
    "> **Prop.** If $e(G) > 0$, then $\\Delta(G) \\leq \\chi'(G) \\leq 2\\Delta(G) - 1$.\n",
    "\n",
    "**Proof.** For the upper bound, simply apply the greedy algorithm to colour the edges. For an specific edge, the number of colours unavailable is at most \n",
    "\n",
    "$$d(u) - 1 + d(v) - 1 \\leq 2\\Delta(G) - 2.$$\n",
    "\n",
    "\n",
    "Also we have the amazing theorem below, which can be argued by induction on $m = e(G)$. Specifically, the proof involves a ‘colour chasing’ argument. ( More precisely, the proof combines two simple colour chasing arguments in a clever way. )\n",
    "\n",
    "> **Thm.** ( **Vizing’s Theorem** ) $\\chi'(G) = \\Delta(G)$ or $\\Delta(G) + 1$.\n"
   ]
  },
  {
   "cell_type": "markdown",
   "id": "b596334d-0c45-4b44-9df6-5a8092fc26b3",
   "metadata": {},
   "source": [
    "### 3. Extra: Symmetric chains and Kruskal-Katona Theorem"
   ]
  },
  {
   "cell_type": "markdown",
   "id": "c4af2f93-6c97-40d2-965b-7b97427b5643",
   "metadata": {},
   "source": [
    "A chain $C_1 \\subseteq C_2 \\subseteq \\dots \\subseteq C_m$ in $\\mathcal{P}(n)$ is symmetric if $|C_{i+1}| = |C_i| + 1$,\n",
    "for all $i$, and $|C_1| + |C_m| = n$. We saw that $\\mathcal{P}(n)$ can be partitioned into $\\binom{n}{\\lceil\\frac{n}{2}\\rceil}$ chains, but the chains we obtained could be asymmetric by **induction on $n$**.\n"
   ]
  },
  {
   "cell_type": "markdown",
   "id": "9dc1b3f2-d176-483a-b8ce-de85faa74180",
   "metadata": {},
   "source": [
    "Then we move on to the **Kruskal-Katona Theorem**.\n",
    "\n",
    "> $A<_{\\text{lex}} B$ if $A \\neq B$ and $\\min (A \\Delta B) \\in A$.\n",
    ">\n",
    "> $A<_{\\text{colex}}B$ if $A \\neq B$ and $\\max (A \\Delta B) \\in B$.\n",
    ">\n",
    "> ( **Kruskal-Katona Theorem** ) Let $\\mathcal{F} \\subseteq [n]^{(r)}$ and let $\\mathcal{A}$ be the family consisting of the first $|\\mathcal{F}|$ elements of $[n]^{(r)}$ in colexicographic order. Then $|\\partial \\mathcal{F}| \\geq |\\partial \\mathcal{A}|$.\n",
    "\n",
    "For this, we define the compression operator $C_{ij}$ for a set system with distinct $i, j \\in [n]$ via the elementwise operation on $A\\in \\mathcal{P}([n])$:\n",
    "\n",
    "$$C_{ij}(A) = \n",
    "\\begin{cases} \n",
    "(A \\setminus j) \\cup i & \\text{if } i \\notin A, j \\in A \\\\\n",
    "A & \\text{otherwise}\n",
    "\\end{cases}$$\n",
    "\n",
    "It's clear that \n",
    "\n",
    "> **Lemma I.** For $1 \\leq i < j \\leq n$ and $\\mathcal{F} \\subseteq [n]^{(r)}$. we have $| \\partial C_{ij}(\\mathcal{F}) | \\leq | \\partial \\mathcal{F} |$. ( shadows are minimized by taking initial segments of colex )\n",
    ">\n",
    "> **Lemma II.** Let  $U, V \\subseteq[n]$  be disjoint sets with  $|U|=|V|$. Suppose that  $\\mathcal{F} \\subseteq[n]^{(r)}$  satisfies $\\forall u \\in U \\exists v \\in V$  s.t.  $\\mathcal{F}$  is  $(U \\backslash u, V \\backslash v)$-compressed. Then $\\left|\\partial C_{U V}(\\mathcal{F})\\right| \\leq|\\partial \\mathcal{F}|$. ( a family $\\mathcal{A}$ is $(U, V)$-compressed if $C_{U V}(\\mathcal{A})=\\mathcal{A}$ )\n",
    "\n",
    "\n",
    "**Proof of Kruskal-Katona.** Let $\\mathcal{A} \\subseteq[n]^{(r)}$  satisfy\n",
    "-  $|\\mathcal{A}|=|\\mathcal{F}|$\n",
    "-  $|\\partial \\mathcal{A}| \\leq|\\partial \\mathcal{F}|$\n",
    "-  $\\sum_{A \\in \\mathcal{A}} \\sum_{i \\in A} 2^{i}$  is minimal.\n",
    "\n",
    "Let $\\Lambda=\\{(U, V):|U|=|V|>0, U \\cap V=\\emptyset, \\max U<\\max V\\}$.\n",
    "\n",
    "\n",
    "If  $\\mathcal{A}$  is  $(U, V)$-compressed for all  $(U, V) \\in \\Lambda$  then  $\\mathcal{A}$  is an initial segment of colex: if  $A \\in \\mathcal{A}$  and  $B<_{\\text {colex }} A$  then  $\\max (B \\backslash A)<\\max (A \\backslash B)$  and so  $\\mathcal{A}$  is  $(B \\backslash A, A \\backslash B)$-compressed, which implies  $C_{B \\backslash A, A \\backslash B}(A)=B \\in \\mathcal{A}$.\n",
    "\n",
    "Otherwise, pick  $(U, V) \\in \\Lambda$  such that  $\\mathcal{A}$  is not  $(U, V)$-compressed and  $|U|$  is minimal. Then  $\\mathcal{A}$  is  $(U \\backslash u, V \\backslash \\min V)$-compressed for all  $u \\in U$, and so by Lemma we have  $\\left|\\partial C_{U V}(\\mathcal{A})\\right| \\leq|\\partial \\mathcal{A}|$. But $ C_{U V}(\\mathcal{A})$  has strictly smaller weight than  $\\mathcal{A} $, which contradicts the minimality of the weight of  $\\mathcal{A}$."
   ]
  },
  {
   "cell_type": "markdown",
   "id": "03f5331e",
   "metadata": {},
   "source": [
    "---\n",
    "\n",
    "### Reference\n",
    "\n",
    "1. Geoffrey Grimmett. Probability on Graphs."
   ]
  }
 ],
 "metadata": {
  "kernelspec": {
   "display_name": "Python 3",
   "language": "python",
   "name": "python3"
  },
  "language_info": {
   "codemirror_mode": {
    "name": "ipython",
    "version": 3
   },
   "file_extension": ".py",
   "mimetype": "text/x-python",
   "name": "python",
   "nbconvert_exporter": "python",
   "pygments_lexer": "ipython3",
   "version": "3.8.13"
  }
 },
 "nbformat": 4,
 "nbformat_minor": 5
}
