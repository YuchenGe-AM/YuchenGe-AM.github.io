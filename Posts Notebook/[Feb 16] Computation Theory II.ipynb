{
 "cells": [
  {
   "cell_type": "markdown",
   "id": "a4ecbc3a",
   "metadata": {},
   "source": [
    "## [Feb 16] Computation Theory II\n",
    "\n",
    "Presenter: Yuchen Ge  \n",
    "Affiliation: University of Oxford  \n",
    "Contact Email: gycdwwd@gmail.com  \n",
    "Website: https://yuchenge-am.github.io"
   ]
  },
  {
   "cell_type": "markdown",
   "id": "4c9f4f87-8543-42fb-9743-918cd46c4d70",
   "metadata": {},
   "source": [
    "---"
   ]
  },
  {
   "cell_type": "markdown",
   "id": "d7098d57-b283-4d8e-83d7-44bca4d20b61",
   "metadata": {},
   "source": [
    "### 1. Postulates of Quantum Mechanics"
   ]
  },
  {
   "cell_type": "markdown",
   "id": "e7c78b92-5f24-44e3-95bc-888dcc6f6273",
   "metadata": {},
   "source": [
    "Recall some postulates. $\\mathscr{H}$ is a complex Hilbert space. \n",
    "\n",
    "> Physical states of the system = unit vectors $\\in \\mathscr{H}$. $\\big($ state vectors are identified up to a phase $\\big)$\n",
    "\n",
    "For example, qubit $=\\mathbb{C}^{2}$. By phase identification,  $z=x_1 |0\\rangle + (x_2+ix_3) |1\\rangle $ with $x_{1}^{2}+x_{2}^{2}+x_{3}^{2}=1$, in a Bloch sphere.\n",
    "\n",
    "\n",
    "\n",
    "\n",
    "\n",
    "\n",
    "\n",
    "\n",
    "\n"
   ]
  },
  {
   "cell_type": "markdown",
   "id": "58674fe1-4a59-47c3-9d09-3aee4c768f6a",
   "metadata": {},
   "source": [
    "> The **observable** $A$ is a self-adjoint operators, which follows that $A=\\sum_{i} \\lambda_{i} E_{i}$, where $\\lambda_{i} $ are the different eigenvalues and $E_i$ is the **orthogonal** projection onto the subspace spanned by the eigenvectors corresponding to the eigenvalue $\\lambda_i$.\n",
    ">\n",
    "> A **density matrice** $\\rho$ is a positive operator of trace $1$, which follows that $\\rho=\\sum_{i} \\lambda_{i}\\left|x_{i}\\right\\rangle\\left\\langle x_{i}\\right|$ where $\\left|x_{i}\\right\\rangle$ are orthomnormal vectors, and $\\lambda_{i} \\geq 0, \\Sigma_{i} \\lambda_{i}=1$. $\\big($ Use the spectral theorem and then do Gram–Schmidt procedure for eigenvectors corresponding to $\\lambda_i$, $\\forall i$ $\\big)$\n",
    ">"
   ]
  },
  {
   "cell_type": "markdown",
   "id": "031c7dd9-4d7c-4ad0-b653-c99d041d7c4e",
   "metadata": {},
   "source": [
    "We observe that\n",
    "\n",
    "> $\\{ \\text{density matrices} \\}$ form a convex set s.t. $\\{ \\text{extreme points} \\}$ = $\\{\\text{pure states of the form } |x\\rangle\\langle x|\\}$.\n",
    "\n",
    "**Proof.** It suffices that a pure state is an extreme point. Assume that $p=\\lambda \\rho_{1}+(1-\\lambda) \\rho_{2}$, then $p=\\lambda p \\rho_{1} p+(1-\\lambda) p \\rho_{2} p$ enforces that \n",
    "\n",
    "$$ 1 = \\left\\langle p, p\\right\\rangle = \\operatorname{Tr} p^2 = \\lambda \\operatorname{Tr} p \\rho_{1} p +  (1-\\lambda) \\operatorname{Tr} p \\rho_{2} p = \\lambda \\left\\langle p, \\rho_{1}\\right\\rangle + (1-\\lambda) \\left\\langle p, \\rho_{2}\\right\\rangle  \\leq 1,$$ \n",
    "\n",
    "using the Schwarz inequality with the fact that $\\langle p, p\\rangle=1$  and  $\\left\\langle\\rho_{i}, \\rho_{i}\\right\\rangle \\leq 1$. In the Schwarz inequality, the equality holds iff $p = c \\rho_i$. Taking the trace we get $c=1$.\n",
    "\n",
    "Quantum mechanics is not deterministic.\n",
    "\n",
    "> Let $ \\mathscr{X}$  be finite and $\\forall x \\in \\mathscr{X}$, $\\exists V_{x} \\in B(\\mathscr{H})$ s.t.  $\\sum_{x} V_{x}^{*} V_{x}=I$. \n",
    ">\n",
    "> If the measurement is performed in a state $\\rho$, then the outcome  $x \\in \\mathscr{X}$  appears with probability  $\\operatorname{Tr} V_{x} \\rho V_{x}^{*}$  and after the measurement the state of the system is\n",
    "> $$\\frac{V_{x} \\rho V_{x}^{*}}{\\operatorname{Tr} V_{x} \\rho V_{x}^{*}}.$$\n",
    "\n",
    "\n",
    "\n",
    "\n"
   ]
  },
  {
   "cell_type": "markdown",
   "id": "db5affdf-87e8-4415-ab66-853ff1bdd3f5",
   "metadata": {},
   "source": [
    "A particular case is the measurement of observable $A$  with spectral decomposition  $\\sum_{i} \\lambda_{i} E_{i}$. $\\big($ one may use the identification $\\sum_{i} \\lambda_{i} E_{i} =\\sum_{i} \\lambda_{i}\\left|x_{i}\\right\\rangle\\left\\langle x_{i}\\right|$ to show that $E_i$ is self-adjoint $\\big)$ In this case  $\\mathscr{X}=\\left\\{\\lambda_{i}\\right\\}$  is the set of eigenvalues and  $V_{i}=E_{i}$. Then the expectation of the random outcome is  \n",
    "\n",
    "$$ \\sum_{i}\\lambda_i \\operatorname{Tr} (V_i\\rho V_i^*) = \\sum_{i}\\lambda_i \\operatorname{Tr} (\\rho E_i) = \\operatorname{Tr} \\rho A.$$ \n",
    "\n",
    "> The functional  $A \\mapsto \\operatorname{Tr} \\rho A$  is linear and has two important properties: if $A \\geq 0$, then $\\operatorname{Tr} \\rho A \\geq 0$;  $\\operatorname{Tr} \\rho I=1$. Conversely, if the two properties hold, $\\exists$ a density matrix  $\\rho_{\\varphi}$  s.t. $\\varphi(A)=\\operatorname{Tr} \\rho_{\\varphi} A$.\n"
   ]
  },
  {
   "cell_type": "markdown",
   "id": "e0c3fe7d-af3d-4a6a-9ca5-186125ee132a",
   "metadata": {},
   "source": [
    "For any $2 \\times 2$ self-adjoint matrix , We write $A_{\\left(x_{0}, x\\right)}:=x_{0} \\sigma_{0}+x_{1} \\sigma_{1}+x_{2} \\sigma_{2}+x_{3} \\sigma_{3} = x_{0} \\sigma_{0}+x \\cdot \\sigma $ where\n",
    "\n",
    "$$ \\sigma_{1}=\\left[\\begin{array}{ll}\n",
    "0 & 1 \\\\\n",
    "1 & 0\n",
    "\\end{array}\\right], \\quad \\sigma_{2}=\\left[\\begin{array}{cc}\n",
    "0 & -\\mathrm{i} \\\\\n",
    "\\mathrm{i} & 0\n",
    "\\end{array}\\right], \\quad \\sigma_{3}=\\left[\\begin{array}{cc}\n",
    "1 & 0 \\\\\n",
    "0 & -1\n",
    "\\end{array}\\right].\n",
    "$$\n",
    "\n",
    "The eigenprojections of the Pauli matrix $\\sigma_{i}$  are $\\left(I \\pm \\sigma_{i}\\right) / 2 $. Then for $i\\neq j$, \n",
    "\n",
    "$$ \\operatorname{Tr}\\left(\\frac{I \\pm \\sigma_{i}}{2} \\frac{I \\pm \\sigma_{j}}{2}\\right)=\\frac{1}{2} \\implies \\text{The eigenbasis of $\\sigma_i$ is complementary to the eigenbasis of $\\sigma_j$.}\n",
    "$$\n",
    "\n",
    "\n",
    "Then we particularly consider \n",
    "\n",
    "$$ \\frac{1}{2}\\left[\\begin{array}{cc}\n",
    "1+x_{3} & x_{1}-\\mathrm{i} x_{2} \\\\\n",
    "x_{1}+\\mathrm{i} x_{2} & 1-x_{3}\n",
    "\\end{array}\\right] = \\frac{1}{2}\\left(\\sigma_{0}+x \\cdot \\sigma\\right),$$\n",
    "\n",
    "where $\\|x\\| \\leq 1$, $x$ is called **Bloch vector**. Clearly, this is a density matrix iff $x_{1}^{2}+x_{2}^{2}+x_{3}^{2} \\leq 1$, and extreme points of the ball correspond to pure state. "
   ]
  },
  {
   "cell_type": "markdown",
   "id": "84e0b205-e959-43f8-8220-256900550183",
   "metadata": {},
   "source": [
    "Then for any unitary $U=\\exp (\\mathrm{i} t n \\cdot \\sigma)=\\cos t(n \\cdot \\sigma)+\\mathrm{i} \\sin t(n \\cdot \\sigma)$ $\\big($ use $\\sigma_i^2=-1$ $\\big)$, we have\n",
    "\n",
    "$$ \\begin{aligned}\n",
    "s^{\\prime} \\cdot \\sigma & =U(s \\cdot \\sigma) U^{\\dagger} \\\\\n",
    "& =(\\mathbf{1}+i t(n \\cdot \\sigma)+\\ldots)(s \\cdot \\sigma)(\\mathbf{1}-i t(n \\cdot \\sigma)+\\ldots),\n",
    "\\end{aligned}\n",
    "$$\n",
    "\n",
    "which to the first order in $t$ gives that $s^{\\prime} \\cdot \\sigma= (s + 2 t \\times n ) \\cdot \\sigma$, i.e. rotation of $s$ about the axis $n$ through the angle $2t$."
   ]
  },
  {
   "cell_type": "markdown",
   "id": "23e8c0ca-9e36-451f-ae8d-b4812628638c",
   "metadata": {},
   "source": [
    "---"
   ]
  },
  {
   "cell_type": "markdown",
   "id": "bdb2638b-8575-4fae-8bce-b1446a5e61fc",
   "metadata": {},
   "source": [
    "Then we consider composite system,\n",
    "\n",
    "> Assume that  $\\mathscr{H}_{1}$  and  $\\mathscr{H}_{2}$  are finite dimensional Hilbert spaces. Let  $\\left\\{e_{j}: j \\in J\\right\\}$  be an orthonormal basis of  $\\mathscr{H}_{1}$  and  $\\left\\{f_{i}: i \\in I\\right\\}$  be an orthonormal basis of  $\\mathscr{H}_{2}$. Assume that\n",
    "$\\Phi=\\sum_{i, j} w_{i j} e_{j} \\otimes f_{i}$, then\n",
    "> $$\\begin{aligned}\n",
    "\\left\\langle\\Phi,\\left(E_{k l} \\otimes I\\right) \\Phi\\right\\rangle & =\\left\\langle\\sum_{i, j} w_{i j} e_{j} \\otimes f_{i},\\left(E_{k l} \\otimes I\\right) \\sum_{t, u} w_{t u} e_{u} \\otimes f_{t}\\right\\rangle \\\\\n",
    "& =\\sum_{i, j} \\sum_{t, u} \\bar{w}_{i j} w_{t u}\\left\\langle e_{j}, E_{k l} e_{u}\\right\\rangle\\left\\langle f_{i}, f_{t}\\right\\rangle \\\\\n",
    "& =\\sum_{i, j} \\sum_{t, u} \\bar{w}_{i j} w_{t u} \\delta_{l u} \\delta_{j k} \\delta_{i t}=\\sum_{i} \\bar{w}_{i k} w_{i l}.\n",
    "\\end{aligned}$$\n",
    ">\n",
    "> It follows that $\\left\\langle\\Phi,\\left(E_{k l} \\otimes I\\right) \\Phi\\right\\rangle=\\operatorname{Tr} E_{k l}\\left(W^{*} W\\right) \\implies \\langle\\Phi,(A \\otimes I) \\Phi\\rangle=\\operatorname{Tr} A\\left(W^{*} W\\right).$\n",
    ">\n",
    ">  The argument contains the reduced density of  $|\\Phi\\rangle\\langle\\Phi|$  on the first system; it is  $W^{*} W$. One computes similarly the reduced density on the second subsystem, which is  $\\left(W W^{*}\\right)^{T}$.\n",
    "\n",
    "\n",
    "\n",
    "\n"
   ]
  },
  {
   "cell_type": "markdown",
   "id": "49d4cce5-5c3a-45d4-b133-b4e3c3e01a9f",
   "metadata": {},
   "source": [
    "This lemma shows a natural way from state vectors to density matrices. $\\exists \\rho_1$ and $\\rho_2$ (reduced density matrices) s.t.\n",
    "\n",
    "$$ \\operatorname{Tr}(A \\otimes I) \\rho=\\operatorname{Tr} A \\rho_{1} \\text{ and } \\operatorname{Tr}(I \\otimes B) \\rho=\\operatorname{Tr} B \\rho_{2}.\n",
    "$$\n",
    "\n",
    "Specifically, we write $A \\otimes I=\\left(X_{i j}\\right)_{i, j}$ where $X_{i j}=A_{i j} I_{n}$ ,and $I \\otimes B=\\left(X_{i j}\\right)_{i, j}$ where $X_{i j}=\\delta_{i j} B$. Also write $\\rho=\\left(\\rho_{i j}\\right)_{i, j}$. Then we have \n",
    "\n",
    "$$ \\operatorname{Tr}(A \\otimes I) \\rho=\\sum_{i, j} A_{i j} \\operatorname{Tr} I \\rho_{ji}=\\sum_{i, j} A_{i j} \\operatorname{Tr} \\rho_{ji} \\text{ and } \\operatorname{Tr}(I \\otimes B) \\rho = \\sum_{i,j} \\delta_{ij} \\operatorname{Tr} B \\rho_{j i}  = \\sum_{i} \\operatorname{Tr} B \\rho_{i i}.\n",
    "$$\n",
    "\n",
    "It follows that \n",
    "\n",
    "> $\\left(\\rho_{1}\\right)_{i j}=\\operatorname{Tr} \\rho_{i j}$ and similarly $\\rho_{2}=\\sum_{i=1} \\rho_{i i}$.\n"
   ]
  },
  {
   "cell_type": "markdown",
   "id": "06f313b9-3ca2-4dc1-ba2c-f12a3a371bf1",
   "metadata": {},
   "source": [
    "---"
   ]
  },
  {
   "cell_type": "markdown",
   "id": "9e3e012d-f341-4205-a885-4aa8cfb8f7ae",
   "metadata": {},
   "source": [
    "The next postulate tells about the time development of a closed quantum system.\n",
    "\n",
    "> For statistical operator, $\\rho_{t}=U(t, s) \\rho_{s} U(t, s)^{*}$ s.t. $U(t, s) U(s, r)=U(t, r)$. \n",
    ">\n",
    "> The first-order approximation of the unitary  $U(s, t)$  is the Hamiltonian, i.e. $U(t+\\Delta t, t)=I-\\frac{\\mathrm{i}}{\\hbar} H(t) \\Delta t$.\n",
    "\n",
    "If the Hamiltonian is time independent, then $U(s, t)=\\exp \\left(-\\frac{\\mathrm{i}}{\\hbar}(s-t) H\\right)$. For example,\n",
    "\n",
    "$$V:|i\\rangle \\mapsto \\frac{1}{\\sqrt{n}} \\sum_{j=0}^{n-1} \\omega^{i j}|j\\rangle \\quad\\left(\\omega=e^{2 \\pi \\mathrm{i} / n}\\right)$$\n",
    "\n",
    "is a unitary and it is called quantum Fourier transform. As a special case, The Hadamard gate is the unitary operator\n",
    "\n",
    "$$ U_{H}:=\\frac{1}{\\sqrt{2}}\\left[\\begin{array}{cc}\n",
    "1 & 1 \\\\\n",
    "1 & -1\n",
    "\\end{array}\\right].$$\n",
    "\n",
    "Therefore, \n",
    "$$U_{c-N O T}:=\\left[\\begin{array}{llll}\n",
    "1 & 0 & 0 & 0 \\\\\n",
    "0 & 1 & 0 & 0 \\\\\n",
    "0 & 0 & 0 & 1 \\\\\n",
    "0 & 0 & 1 & 0\n",
    "\\end{array}\\right] \\implies (U_H \\otimes I_2)U_{C-NOT} = \\frac{1}{\\sqrt{2}} \\begin{bmatrix}\n",
    "    1 & 0 & 1 & 0 \\\\\n",
    "    0 & 1 & 0 & 1 \\\\\n",
    "    0 & 1 & 0 & -1 \\\\\n",
    "    1 & 0 & -1 & 0\n",
    "\\end{bmatrix},$$\n",
    "\n",
    "which moves the standard basis $|00\\rangle,|01\\rangle,|10\\rangle,|11\\rangle$ into the **Bell basis**, which follows that $\\exists$ an orthonormal product basis s.t. any Bell basis is complementary to it."
   ]
  },
  {
   "cell_type": "markdown",
   "id": "9660b194-9477-4e3c-aa34-a8c720c01a88",
   "metadata": {},
   "source": [
    "---"
   ]
  },
  {
   "cell_type": "markdown",
   "id": "0472e5dc-6201-4a2a-8535-0b43e567ac4b",
   "metadata": {},
   "source": [
    "### 2. State Transformation"
   ]
  },
  {
   "cell_type": "markdown",
   "id": "1dd09db1-8b61-411f-9300-43ce435a675a",
   "metadata": {},
   "source": [
    "Assume that  $\\mathscr{H}$ has a statistical operator  $\\rho $. When the quantum system is not closed, it is coupled to another system called environment. The environment has a Hilbert space  $\\mathscr{H}_{e}$ with  $\\rho_{e}$. \n",
    "\n",
    "Before interaction the total system has density  $\\rho_{e} \\otimes \\rho$. The dynamical change caused by the interaction is implemented by a unitary, and  $U\\left(\\rho_{e} \\otimes \\rho\\right) U^{*}$  is the new statistical operator and the reduced density  $\\tilde{\\rho}$  is the new statistical operator."
   ]
  },
  {
   "cell_type": "markdown",
   "id": "3eb176b1-8bf8-4aa0-9379-df190a8c51fe",
   "metadata": {},
   "source": [
    "Suppose $\\rho_{e} = \\left(z_{k} \\overline{z_{l}}\\right)_{k l}$ where $\\sum_{k}\\left|z_{k}\\right|^{2}=1$, and $U=\\left(U_{i j}\\right)_{i, j}$  is a unitary. Then we have $\\sum_{i} U_{i k}^{*} U_{i l}=\\delta_{k l} I$.\n"
   ]
  },
  {
   "cell_type": "markdown",
   "id": "0b1e7652-cfc5-43d4-b2e2-2ed114318789",
   "metadata": {},
   "source": [
    "It's clear then \n",
    "\n",
    "$$\\begin{aligned}\n",
    "\\tilde{\\rho} & =\\operatorname{Tr}_{1}\\left(U\\left(\\rho_{e} \\otimes \\rho\\right) U^{*}\\right)=\\sum_{i}\\left(U\\left(\\rho_{e} \\otimes \\rho\\right) U^{*}\\right)_{i i}=\\sum_{i, k, l} U_{i k}\\left(\\rho_{e} \\otimes \\rho\\right)_{k l}\\left(U^{*}\\right)_{l i} \\\\\n",
    "& =\\sum_{i, k, l} U_{i k}\\left(z_{k} \\bar{z}_{l} \\rho\\right)\\left(U_{i l}\\right)^{*}=\\sum_{i}\\left(\\sum_{k} z_{k} U_{i k}\\right) \\rho\\left(\\sum_{l} z_{l} U_{i l}\\right)^{*}=\\sum_{i} A_{i} \\rho A_{i}^{*},\n",
    "\\end{aligned}$$\n",
    "\n",
    "where $A_{i}:=\\sum_{k} z_{k} U_{i k}$. Therefore,\n",
    "\n",
    "> Any state transformation  $\\rho \\mapsto \\mathscr{E}(\\rho)$ can be written in the form\n",
    ">\n",
    "> $$\\mathscr{E}(\\rho)=\\sum_{p} A_{p} \\rho A_{p}^{*}$$\n",
    ">\n",
    "> where $A_{i}:=\\sum_{k} z_{k} U_{i k}$. Conversely, all linear mappings of this form are state transformations by solving the equations $A_{i}:=\\sum_{k} z_{k} U_{i k}$.\n",
    "\n",
    "\n",
    "The coefficients  $A_{p}$  in the **operator-sum representation** are called the **operation elements** of the state transformation $\\big($ also named quantum/state operation, channeling transformation, and etc $\\big)$. A linear mapping  $\\mathscr{E}$  is **completely positive** if  $\\mathscr{E} \\otimes i d_{n} $ is positivity preserving for the identical mapping  $i d_{n}: M_{n}(\\mathbb{C}) \\rightarrow M_{n}(\\mathbb{C})$.\n",
    "\n",
    "> **Thm.** Let  $\\mathscr{E}: M_{n}(\\mathbb{C}) \\rightarrow M_{k}(\\mathbb{C})$  be a linear mapping. Then  $\\mathscr{E}$  is completely positive iff it admits a representation $\\mathscr{E}(A)=\\sum_{u} V_{u} A V_{u}^{*}$ by means of some linear operators  $V_{u}: \\mathbb{C}^{n} \\rightarrow \\mathbb{C}^{k}$."
   ]
  },
  {
   "cell_type": "markdown",
   "id": "2045b14c-14df-4eeb-8da1-4e7400953e25",
   "metadata": {},
   "source": [
    "It follows that a state transformation is completely positive, and the operator-sum representation is also called **Kraus representation**. Note that this representation is not unique"
   ]
  },
  {
   "cell_type": "markdown",
   "id": "85e36cba-2e54-483d-8a85-6d7272342268",
   "metadata": {},
   "source": [
    "---"
   ]
  },
  {
   "cell_type": "markdown",
   "id": "f6bc8386-399a-4f1d-aaea-b079dc2ce944",
   "metadata": {},
   "source": [
    "### 3. Entanglement\n",
    "\n",
    "Let  $\\operatorname{dim} \\mathscr{H}_{A}=\\operatorname{dim} \\mathscr{H}_{B}=n$. A pure state  $|\\Phi\\rangle\\langle\\Phi|$  on the Hilbert space  $\\mathscr{H}_{A} \\otimes \\mathscr{H}_{B}$  is called maximally entangled if the following equivalent conditions hold:\n",
    "\n",
    "- The reduced densities are maximally mixed states.\n",
    "- When the vector  $|\\Phi\\rangle$  is written in the form $\\Psi=\\sum_{k} \\sqrt{p_{k}} g_{k} \\otimes h_{k}$ $\\big($ $g_k$ and $h_k$ are pairwise orthogonal and normalized $\\big)$, then  $p_{k}=n^{-1}$  for every  $1 \\leq k   \\leq n$.\n",
    "- $\\exists$ an orthonormal product basis s.t.  $|\\Phi\\rangle$  is complementary to it. ( **use quantum Fourier transform** since it moves the standard basis to a complementary basis )"
   ]
  },
  {
   "cell_type": "markdown",
   "id": "3e47a189-c176-46e0-a73a-55d8aac46a17",
   "metadata": {},
   "source": [
    "It suffices we prove the following."
   ]
  },
  {
   "cell_type": "markdown",
   "id": "eb969c57-bff9-41d4-83da-2f5c1c2cae31",
   "metadata": {},
   "source": [
    "> ( **Schmidt decomposition** ) Any unit $\\Psi \\in \\mathscr{H}_{A B}$  can be written as $\\Psi=\\sum_{k} \\sqrt{p_{k}} g_{k} \\otimes h_{k},$ where $g_{k} \\in \\mathscr{H}_{A}$  and  $h_{k} \\in \\mathscr{H}_{B}$  are pairwise orthogonal and normalized; moreover  $\\left(p_{k}\\right)$  is a probability distribution.\n",
    "\n",
    "**Proof.** Define a conjugate-linear mapping  $\\Lambda: \\mathscr{H}_{A} \\rightarrow \\mathscr{H}_{B}$  as\n",
    "\n",
    "$$\\langle\\Lambda \\alpha, \\beta\\rangle=\\langle\\Psi, \\alpha \\otimes \\beta\\rangle$$\n",
    "\n",
    "for every vector $\\alpha \\in \\mathscr{H}_{A}$  and  $\\beta \\in \\mathscr{H}_{B}$. Consider  $\\Psi=\\sum_{i, j} c_{i j} e_{i} \\otimes f_{j}$, then\n",
    "\n",
    "$$\\left\\langle\\Lambda e_{i}, f_{j}\\right\\rangle=\\overline{c_{i j}}$$\n",
    "\n",
    "and the adjoint  $\\Lambda^{*}$  is determined by\n",
    "\n",
    "$$\\left\\langle\\Lambda^{*} f_{j}, e_{i}\\right\\rangle=\\overline{c_{i j}}$$\n",
    "\n",
    "The reduced density matrix  $\\rho_{A}$  of the vector state  $|\\Psi\\rangle$  is  $\\Lambda^{*} \\Lambda$ since\n",
    "\n",
    "$$\\langle\\Psi \\mid \\big(\\mid e_{k}\\rangle\\langle e_{\\ell} \\mid \\otimes I\\big) \\mid \\Psi\\rangle=\\operatorname{Tr} \\Lambda^{*} \\Lambda\\left|e_{k}\\right\\rangle\\left\\langle e_{\\ell}\\right|$$\n",
    "\n",
    "for every  $k$  and  $\\ell$. ( use $\\sum_i \\mid f_i \\rangle \\langle f_i \\mid=I$ )\n",
    "Choose now the orthonormal vectors  $g_{k}$  such that they are eigenvectors of $ \\rho_{A}$  with corresponding non-zero eigenvalues  $p_{k}$, $\\rho_{A} g_{k}=p_{k} g_{k}$. Then\n",
    "\n",
    "$$h_{k}:=\\frac{1}{\\sqrt{p_{k}}}\\left|\\Lambda g_{k}\\right\\rangle$$\n",
    "\n",
    "is a family of pairwise orthogonal unit vectors. Now\n",
    "\n",
    "$$\\left\\langle\\Psi, g_{k} \\otimes h_{\\ell}\\right\\rangle=\\left\\langle\\Lambda g_{k}, h_{\\ell}\\right\\rangle=\\frac{1}{\\sqrt{p_{\\ell}}}\\left\\langle\\Lambda g_{k}, \\Lambda g_{\\ell}\\right\\rangle=\\frac{1}{\\sqrt{p_{\\ell}}}\\left\\langle g_{\\ell}, \\Lambda^{*} \\Lambda g_{k}\\right\\rangle=\\delta_{k, \\ell} \\sqrt{p_{\\ell}}$$\n",
    "\n",
    "and we arrive at the orthogonal expansion."
   ]
  },
  {
   "cell_type": "markdown",
   "id": "03f5331e",
   "metadata": {},
   "source": [
    "---\n",
    "\n",
    "### Reference\n",
    "\n",
    "1. Dénes Petz. Quantum Information Theory and Quantum Statistics."
   ]
  }
 ],
 "metadata": {
  "kernelspec": {
   "display_name": "Python 3",
   "language": "python",
   "name": "python3"
  },
  "language_info": {
   "codemirror_mode": {
    "name": "ipython",
    "version": 3
   },
   "file_extension": ".py",
   "mimetype": "text/x-python",
   "name": "python",
   "nbconvert_exporter": "python",
   "pygments_lexer": "ipython3",
   "version": "3.8.13"
  }
 },
 "nbformat": 4,
 "nbformat_minor": 5
}
