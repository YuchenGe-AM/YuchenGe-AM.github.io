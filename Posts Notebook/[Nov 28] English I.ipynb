{
 "cells": [
  {
   "cell_type": "markdown",
   "id": "8b8f090c-0d86-40be-9530-a68498ff13bc",
   "metadata": {},
   "source": [
    "## [Nov 28] English I\n",
    "\n",
    "Presenter: Yuchen Ge  \n",
    "Affiliation: University of Oxford  \n",
    "Contact Email: gycdwwd@gmail.com  \n",
    "Website: https://yuchenge-am.github.io"
   ]
  },
  {
   "cell_type": "markdown",
   "id": "4f654684-bbf6-45a0-8303-f797c46bd1ba",
   "metadata": {},
   "source": [
    "- [ ] An outlet for anger 释放\n",
    "- [ ] Wallowed to one’s self-righteousness 沉浸于\n",
    "- [ ] Tenacity is the bridge to success 坚韧\n",
    "- [ ] Impugn the veracity of the story 质疑真实性"
   ]
  },
  {
   "cell_type": "markdown",
   "id": "0df9678c-c8a7-4e39-b88e-e8bb5d7b6fce",
   "metadata": {},
   "source": [
    "- [ ] Hot sandwich or bagel 圈\n",
    "- [ ] Put up a condo 公寓\n",
    "- [ ] Curl up in a little ball by the fire place 蜷缩\n",
    "- [ ] Lacrosse tournament 曲棍球\n",
    "- [ ] With real intent 意图\n",
    "- [ ] Tee up the ball for a shot 开球\n",
    "- [ ] Get crazy nuanced 细致\n",
    "- [ ] Transpire in the scene 传播\n",
    "- [ ] Placeholder, checkmark.  占位符，对号\n",
    "- [ ] Come away with some nuggets of gold 带走一些金块\n",
    "- [ ] Silver platter 银盘\n",
    "- [ ] Sit back on your laurel 桂冠\n",
    "- [ ] Do sprints 短跑\n",
    "- [ ] Dial back 拨回\n",
    "- [ ] Nothing does you quite like you 没有什么能像你一样对我产生影响"
   ]
  },
  {
   "cell_type": "markdown",
   "id": "3c542cde-7102-4003-b60f-005b0581bc0c",
   "metadata": {},
   "source": [
    "- [ ] Communal area 公共区域\n",
    "- [ ] The en-suite cleaning rota 轮值\n",
    "- [ ] Keep eyes peeled 睁大\n",
    "- [ ] Time lapse this 延时摄影\n",
    "- [ ] Find my niche 定位\n",
    "- [ ] Paintings galore 琳琅满目\n",
    "- [ ] Slump to a defeat 跌\n",
    "- [ ] Coiled extension rails 卷绕式延伸导轨"
   ]
  },
  {
   "cell_type": "markdown",
   "id": "ef9a399b-061e-4341-96b3-c85a921dc588",
   "metadata": {},
   "source": [
    "- [ ] Erection dysfunction, eating disorder \n",
    "- [ ] misty dream 绮梦\n",
    "- [ ] a bust of jade 翡翠\n",
    "- [ ] a fierce battle \n",
    "- [ ] a nefarious purpose 有企图\n",
    "- [ ] Bode the doom 兆头\n",
    "- [ ] Sensationalism and demagoguery 煽情与蛊惑\n",
    "- [ ] Good vibes 氛围\n",
    "- [ ] From fahrenheit to Celsius 华氏 摄氏\n",
    "- [ ] Power trip 绊倒 "
   ]
  },
  {
   "cell_type": "markdown",
   "id": "f44001b7-a6e5-4ba9-ab4a-07abaf7b51c0",
   "metadata": {},
   "source": [
    "---"
   ]
  },
  {
   "cell_type": "markdown",
   "id": "43f80442-1456-461e-bd34-5b1820a12ab4",
   "metadata": {},
   "source": [
    "### 粤语\n",
    "\n",
    "- [ ] Lei hao liang zai 你好靓仔\n",
    "- [ ] Lei hao liang lui 你好靓女\n",
    "- [ ] Si juo fan mei a   吃了饭吗 Si juo 吃了 Mei a 没啊\n",
    "- [ ] Bin liang zai juo（过去）变靓仔了\n",
    "- [ ] Yao liang juo 又靓了\n",
    "- [ ] Lei yi gin sang(-) cen de lei hao liang 你这一件衣服衬得你好靓\n",
    "- [ ] Yao 有 Mou 没有 Hai 是 Lei yao mou sai lou 你有没有弟弟\n",
    "- [ ] Sailou 弟弟 Gou (-) 哥哥 Ziezie 姐姐 Muimui 妹妹\n",
    "- [ ] Mei ye dou bei lei gong sai le 什么都被你说全了\n",
    "- [ ] Mei ye lei ga 什么来的\n",
    "- [ ] Hai dou 正在\n",
    "- [ ] sin mu sin 会不会 hai mu hai 是不是\n",
    "- [ ] O mou zi 我不知道 O tie mu min 我听不明白\n",
    "- [ ] Lei gong mei a 你讲什么 Hai mei yi si 是什么意思\n",
    "\n",
    "### 韩语\n",
    "\n",
    "- [ ] Majiang 没错\n"
   ]
  }
 ],
 "metadata": {
  "kernelspec": {
   "display_name": "Python 3",
   "language": "python",
   "name": "python3"
  },
  "language_info": {
   "codemirror_mode": {
    "name": "ipython",
    "version": 3
   },
   "file_extension": ".py",
   "mimetype": "text/x-python",
   "name": "python",
   "nbconvert_exporter": "python",
   "pygments_lexer": "ipython3",
   "version": "3.8.13"
  }
 },
 "nbformat": 4,
 "nbformat_minor": 5
}
