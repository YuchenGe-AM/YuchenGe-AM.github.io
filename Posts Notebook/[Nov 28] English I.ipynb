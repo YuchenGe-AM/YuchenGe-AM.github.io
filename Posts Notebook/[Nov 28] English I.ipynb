{
 "cells": [
  {
   "cell_type": "markdown",
   "id": "8b8f090c-0d86-40be-9530-a68498ff13bc",
   "metadata": {},
   "source": [
    "## [Nov 28] English I\n",
    "\n",
    "Presenter: Yuchen Ge  \n",
    "Affiliation: University of Oxford  \n",
    "Contact Email: gycdwwd@gmail.com  \n",
    "Website: https://yuchenge-am.github.io"
   ]
  },
  {
   "cell_type": "markdown",
   "id": "4f654684-bbf6-45a0-8303-f797c46bd1ba",
   "metadata": {},
   "source": [
    "- [ ] An outlet for anger 释放\n",
    "- [ ] Wallowed to one’s self-righteousness 沉浸于\n",
    "- [ ] Tenacity is the bridge to success 坚韧\n",
    "- [ ] Impugn the veracity of the story 质疑真实性"
   ]
  },
  {
   "cell_type": "markdown",
   "id": "0df9678c-c8a7-4e39-b88e-e8bb5d7b6fce",
   "metadata": {},
   "source": [
    "- [ ] Hot sandwich or bagel 圈\n",
    "- [ ] Put up a condo 公寓\n",
    "- [ ] Curl up in a little ball by the fire place 蜷缩\n",
    "- [ ] Lacrosse tournament 曲棍球\n",
    "- [ ] With real intent 意图\n",
    "- [ ] Tee up the ball for a shot 开球\n",
    "- [ ] Get crazy nuanced \n",
    "- [ ] Transpire in the scene\n",
    "- [ ] Placeholder, checkmark.  \n",
    "- [ ] Come away with some nuggets of gold\n",
    "- [ ] Silver platter \n",
    "- [ ] Sit back on your laurel \n",
    "- [ ] Do sprints \n",
    "- [ ] Dial back\n",
    "- [ ] Nothing does you quite like you"
   ]
  },
  {
   "cell_type": "markdown",
   "id": "3c542cde-7102-4003-b60f-005b0581bc0c",
   "metadata": {},
   "source": [
    "- [ ] Communal area\n",
    "- [ ] The en-suite cleaning rota\n",
    "- [ ] Keep eyes peeled\n",
    "- [ ] Time lapse this\n",
    "- [ ] Find my niche \n",
    "- [ ] Paintings galore \n",
    "- [ ] Slump to a defeat\n",
    "- [ ] Coiled extension rails"
   ]
  },
  {
   "cell_type": "markdown",
   "id": "ef9a399b-061e-4341-96b3-c85a921dc588",
   "metadata": {},
   "source": [
    "- [ ] Erection dysfunction, eating disorder \n",
    "- [ ] misty dream\n",
    "- [ ] a bust of jade\n",
    "- [ ] a fierce battle \n",
    "- [ ] a nefarious purpose\n",
    "- [ ] Bode the doom\n",
    "- [ ] Sensationalism and demagoguery \n",
    "- [ ] Good vibes\n",
    "- [ ] From fahrenheit to Celsius\n",
    "- [ ] Power trip "
   ]
  }
 ],
 "metadata": {
  "kernelspec": {
   "display_name": "Python 3",
   "language": "python",
   "name": "python3"
  },
  "language_info": {
   "codemirror_mode": {
    "name": "ipython",
    "version": 3
   },
   "file_extension": ".py",
   "mimetype": "text/x-python",
   "name": "python",
   "nbconvert_exporter": "python",
   "pygments_lexer": "ipython3",
   "version": "3.8.13"
  }
 },
 "nbformat": 4,
 "nbformat_minor": 5
}
