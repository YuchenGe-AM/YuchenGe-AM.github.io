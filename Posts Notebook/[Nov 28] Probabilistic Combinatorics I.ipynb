{
 "cells": [
  {
   "cell_type": "markdown",
   "id": "a4ecbc3a",
   "metadata": {},
   "source": [
    "## [Nov 28] Probabilistic Combinatorics I\n",
    "\n",
    "Presenter: Yuchen Ge  \n",
    "Affiliation: University of Oxford  \n",
    "Contact Email: gycdwwd@gmail.com  \n",
    "Website: https://yuchenge-am.github.io"
   ]
  },
  {
   "cell_type": "markdown",
   "id": "f716c726",
   "metadata": {},
   "source": [
    "### What you need is that your brain is open. \n",
    "----"
   ]
  },
  {
   "cell_type": "markdown",
   "id": "4fc6b152-e98d-4554-b80a-12d53afacbaf",
   "metadata": {},
   "source": [
    "### 1. Ramsey Number \n",
    "\n",
    "We shall give a sketch of how probabilsitic methods can be applied.\n",
    "\n",
    "> **Thm I.** If $\\left(\\begin{array}{l} n \\\\ k \\end{array}\\right) \\cdot 2^{1-\\left(\\begin{array}{l} k \\\\ 2 \\end{array}\\right)}<1$, then $R(k, k)>n$.\n",
    "\n",
    "**Proof.** Consider a random two-coloring of the edges of  $K_{n}$. Fix set  $R$  of  $k$  vertices, let $A_{R}$ be the event that the induced subgraph of  $K_{n}$ on  $R$  is monochromatic. Clearly, $\\mathbb{P}\\left[A_{R}\\right]=2^{1-\\left(\\begin{array}{l}k \\\\ 2\\end{array}\\right)}$, which follows that $\\mathbb{P}(\\bigvee_{R} A_{R}) \\leq  \\left(\\begin{array}{l}n \\\\ k\\end{array}\\right) 2^{1-\\left(\\begin{array}{l}k \\\\ 2\\end{array}\\right)}<1$."
   ]
  },
  {
   "cell_type": "markdown",
   "id": "d25d9503-491b-459d-8b9e-59de13253c20",
   "metadata": {},
   "source": [
    "### 2. Tournament \n",
    "\n",
    "> **Thm I.** If  $\\left(\\begin{array}{l}n \\\\ k\\end{array}\\right)\\left(1-2^{-k}\\right)^{n-k}<1$, then there is a tournament $T$ on  $K_n$ s.t. $S_{k}$ holds. ( a tournament $T$ is an orientation of the edges of $K_n$ : $T$ has the property $S_k$ if $\\forall$ k Players, there is one that beats them all )\n",
    "\n",
    "**Proof.** Consider a random tournament on $[n]$. Let  $A_{K}$  be the event that there is no vertex that beats all the members of  $K$. Clearly, $ \\mathbb{P}\\left[A_{K}\\right]=\\left(1-2^{-k}\\right)^{n-k}$, which follows the conclusion.\n",
    "\n",
    "\n",
    "\n",
    "\n"
   ]
  },
  {
   "cell_type": "markdown",
   "id": "db0ba3d3-87be-403e-bd2c-731276d41f45",
   "metadata": {
    "jp-MarkdownHeadingCollapsed": true,
    "tags": []
   },
   "source": [
    "### 3. Erdos–Ko–Rado\n",
    "\n",
    "Recall that \n",
    "\n",
    "> Assume $n \\geq 2 k$, and let  $\\mathcal{F}$  be an intersecting family of  $k$-element subsets of $[n]$, the Erdós-Ko-Rado theorem shows that  $|\\mathcal{F}| \\leq\\left(\\begin{array}{l}n-1 \\\\ k-1\\end{array}\\right)$. \n",
    "\n",
    "We may give a short proof due to Katona (1972).\n",
    "\n",
    "**Proof.** Directly observe that \n",
    "\n",
    "> **Lemma.** For  $s \\in [n]$, set  $A_{s}=\\{s, s+1, \\ldots, s+k-1\\}$, where addition is modulo $n$. Then  $\\mathcal{F}$  can contain at most  $k$  of the sets  $A_{s}$.\n",
    "\n",
    "Let a permutation  $\\sigma$  of  $[n]$  and  $i \\in [n]$  be chosen randomly, uniformly and independently and set  $A=\\{\\sigma(i), \\sigma(i+1), \\ldots, \\sigma(i+k-1)\\}$, addition modulo  $n$. Conditioning on any choice of $\\sigma$, the lemma gives  $\\mathbb{P}[A \\in \\mathcal{F}] \\leq k / n$. Hence  $\\mathbb{P}[A \\in \\mathcal{F}] \\leq k / n$. But  $A$  is uniformly chosen from all  $k$-sets so\n",
    "\n",
    "$$\\frac{k}{n} \\geq \\mathbb{P}[A \\in \\mathcal{F}]=\\frac{|\\mathcal{F}|}{\\left(\\begin{array}{l} n \\\\ k \\end{array}\\right)} \\implies |\\mathcal{F}| \\leq \\frac{k}{n}\\left(\\begin{array}{l} n \\\\ k \\end{array}\\right)=\\left(\\begin{array}{l} n-1 \\\\ k-1 \\end{array}\\right).$$ \n",
    "\n"
   ]
  },
  {
   "cell_type": "markdown",
   "id": "d6c1b72c-a3cf-4c5f-bf48-f46532eacf81",
   "metadata": {},
   "source": [
    "### 4. Balancing Vectors\n",
    "\n",
    "\n",
    "\n",
    "\n",
    "\n",
    "\n",
    "\n"
   ]
  },
  {
   "cell_type": "markdown",
   "id": "c33d22a9-94c5-4bd6-9df0-2d493eacc3d6",
   "metadata": {},
   "source": [
    "### 5. Boolean Functions\n",
    "\n",
    "A Boolean function $f:\\mathbb{F}_2^{n} \\rightarrow \\mathbb{F}_2$ maps astring into a bit. Most frequently, we shall adopt the form $ f:\\{-1,1\\}^{n} \\rightarrow\\{-1,1\\} $.\n",
    "\n",
    "> Every function  $f:\\{-1,1\\}^{n} \\rightarrow \\mathbb{R}$  can be uniquely expressed as $f(x)=\\sum_{S \\subseteq[n]} \\widehat{f}(S) x^{S} = \\sum_{S \\subseteq[n]} \\widehat{f}(S) \\chi_{S}$. ( in words, any $f$ can be represented as a linear combination of logical parity functions $\\chi_{S}:\\{-1,1\\}^{n} \\rightarrow \\{-1,1\\}$ )\n",
    "\n",
    "**Proof.** Note that for $a=\\left(a_{1}, \\ldots, a_{n}\\right) \\in\\{-1,1\\}^{n}$, the indicator polynomial is $1_{\\{a\\}}(x)=\\left(\\frac{1+a_{1} x_{1}}{2}\\right)\\left(\\frac{1+a_{2} x_{2}}{2}\\right) \\cdots\\left(\\frac{1+a_{n} x_{n}}{2}\\right)$ and $x_i^k=x_i$ on ."
   ]
  },
  {
   "cell_type": "markdown",
   "id": "36ff0538-505d-42a0-b747-52625894f917",
   "metadata": {},
   "source": [
    "Next we shall assume that $f:\\{-1,1\\}^{n} \\rightarrow \\mathbb{R}$. Then we define $\\langle f, g\\rangle = \\underset{x \\sim\\{-1,1\\}^{n}}{\\mathbf{E}}[f(x) g(x)] = 2^{-n} \\sum_{x \\in\\{-1,1\\}^{n}} f(x) g(x)$.\n",
    "\n",
    "> **Prop I.** $\\chi_{S}(x) \\chi_{T}(x)=\\chi_{S \\triangle T}(x)$.\n",
    ">\n",
    "> **Prop II.** From Prop I, we have $$\\mathbf{E}\\left[\\chi_{S}(\\boldsymbol{x})\\right]=\\mathbf{E}\\left[\\prod_{i \\in S} \\boldsymbol{x}_{i}\\right]=\\left\\{\\begin{array}{ll}1 & \\text { if } S=\\varnothing \\\\ 0 & \\text { if } S \\neq \\varnothing\\end{array}\\right. \\implies \\left\\langle\\chi_{S}, \\chi_{T}\\right\\rangle=\\left\\{\\begin{array}{ll}\n",
    "1 & \\text { if } S=T \\\\ 0 & \\text { if } S \\neq T \\end{array}\\right. .$$\n",
    "\n",
    "It follows from the propositions that we have $\\langle f, f\\rangle=\\underset{\\boldsymbol{x} \\sim\\{-1,1]^{n}}{\\mathbf{E}}\\left[f(\\boldsymbol{x})^{2}\\right]=\\sum_{S \\subseteq[n]} \\widehat{f}(S)^{2}$ ( **Parseval’s Theorem** ) and $\\langle f, g\\rangle=\\underset{x \\sim\\{-1,1\\}^{n}}{\\mathbf{E}}[f(x) g(x)]=\\sum_{S \\subseteq[n]} \\widehat{f}(S) \\widehat{g}(S)$ ( **Plancherel’s Theorem** ). The expectation and variation is naturally defined and has the following property:\n",
    "\n",
    "> **Prop I.** $\\mathbf{E}[f]=\\langle f, 1\\rangle=\\widehat{ f} (\\varnothing)$. Moreover if $f\\in\\{-1,1\\}$, then $\\mathbf{E}[f]=\\mathbb{P }(f=1)-\\mathbb{P}(f=-1)$.\n",
    ">\n",
    "> **Prop II.** $\\operatorname{Var}[f] =\\mathbf{E}\\left[f^{2}\\right]-\\mathbf{E}[f]^{2}=\\sum_{S \\neq \\varnothing} \\widehat{f}(S)^{2}$\n",
    "\n",
    "The (Fourier) weight of  $f:\\{-1,1\\}^{n} \\rightarrow \\mathbb{R}$  on set  $S$  is the squared Fourier coefficient, $\\widehat{f}(S)^{2}$. Then the **spectral sample** for  $f$, denoted  $S_{f}$, is the probability distribution on $\\mathcal{P} [n]$  in which the set  $S$  has probability  $\\widehat{f}(S)^{2}$. We write  $\\boldsymbol{S} \\sim \\mathcal{S}_{f}$  for a draw from this distribution.\n",
    "\n",
    "Next we use $\\mathbb{F}_2^{n}$ instead of $\\{-1,1\\}^{n}$. For  $S \\subseteq[n]$  we define  $\\chi_{S}: \\mathbb{F}_{2}^{n} \\rightarrow \\mathbb{R}$  by\n",
    "\n",
    "$$\\chi_{S}(x)=\\prod_{i \\in S} \\chi\\left(x_{i}\\right)=(-1)^{\\sum_{i \\in S} x_{i}},$$\n",
    "\n",
    "which immediately follows that $\\chi_{S}(x+y)=\\chi_{S}(x) \\chi_{S}(y)$ and for $f: \\mathbb{F}_{2}^{n} \\rightarrow \\mathbb{R}$, it makes sense $f(x)=\\sum_{S \\subseteq[n]} \\widehat{f}(S) \\chi_{S}(x)$."
   ]
  },
  {
   "cell_type": "markdown",
   "id": "8b1796e9-31fd-4ea6-8d67-b233cc2081f4",
   "metadata": {},
   "source": [
    "A density function on the Hamming cube  $\\mathbb{F}_{2}^{n}$  is a nonnegative function  $\\varphi: \\mathbb{F}_{2}^{n} \\rightarrow \\mathbb{R}^{\\geq 0}$  satisfying $\\underset{\\boldsymbol{x} \\sim \\mathbb{F}_{2}^{n}}{\\mathbf{E}}[\\varphi(\\boldsymbol{x})]=1$. Then we know \n",
    "\n",
    "$$ \\underset{\\boldsymbol{y} \\sim \\varphi}{\\mathbf{E}}[g(\\boldsymbol{y})]=\\langle\\varphi, g\\rangle=\\underset{\\boldsymbol{x} \\sim \\mathbb{F}_{2}^{n}}{\\mathbf{E}}[\\varphi(\\boldsymbol{x}) g(\\boldsymbol{x})]. $$\n"
   ]
  },
  {
   "cell_type": "markdown",
   "id": "9dc5390b-f3ad-48fe-95f8-5803bb02df83",
   "metadata": {},
   "source": []
  },
  {
   "cell_type": "markdown",
   "id": "71f06f23-642f-4d9b-99b6-5b430f361795",
   "metadata": {},
   "source": []
  },
  {
   "cell_type": "code",
   "execution_count": null,
   "id": "46e50464-7b48-42b2-8212-d32302fc9e11",
   "metadata": {},
   "outputs": [],
   "source": []
  },
  {
   "cell_type": "markdown",
   "id": "03f5331e",
   "metadata": {},
   "source": [
    "---\n",
    "\n",
    "### Reference\n",
    "\n",
    "1. Noga Alon. The Probabilistic Method.\n",
    "2. Ryan O'Donnell. Analysis of Boolean Functions."
   ]
  }
 ],
 "metadata": {
  "kernelspec": {
   "display_name": "Python 3",
   "language": "python",
   "name": "python3"
  },
  "language_info": {
   "codemirror_mode": {
    "name": "ipython",
    "version": 3
   },
   "file_extension": ".py",
   "mimetype": "text/x-python",
   "name": "python",
   "nbconvert_exporter": "python",
   "pygments_lexer": "ipython3",
   "version": "3.8.13"
  }
 },
 "nbformat": 4,
 "nbformat_minor": 5
}
