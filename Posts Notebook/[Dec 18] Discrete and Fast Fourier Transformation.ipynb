{
 "cells": [
  {
   "cell_type": "markdown",
   "id": "a4ecbc3a",
   "metadata": {
    "tags": []
   },
   "source": [
    "## [Dec 18] Discrete and Fast Fourier Transformation\n",
    "\n",
    "Presenter: Yuchen Ge  \n",
    "Affiliation: University of Oxford  \n",
    "Contact Email: gycdwwd@gmail.com  \n",
    "Website: https://yuchenge-am.github.io"
   ]
  },
  {
   "cell_type": "markdown",
   "id": "f716c726",
   "metadata": {},
   "source": [
    "----"
   ]
  },
  {
   "cell_type": "markdown",
   "id": "c86a5e95-999a-4029-bb66-5fe6047f0c9c",
   "metadata": {},
   "source": [
    "### 1. An Intuitive Understanding\n",
    "\n",
    "We may derive ( Discrete ) Fourier transformation from Fourier series as below.\n",
    "\n",
    "Recall that for Fourier series, we have\n",
    "\n",
    "$$ X[k] =\\frac{1}{T} \\int_{-T/2}^{T/2} \\bigg/ \\int_{0}^{T} x(t) e^{-i k \\omega_{0} t} d t \\quad \\text{and} \\quad x(t) =\\sum_{k=-\\infty}^{\\infty} X[k] e^{i k \\omega_{0} t}. $$\n",
    "\n",
    "where $\\omega_{0}=\\frac{2 \\pi}{T}$."
   ]
  },
  {
   "cell_type": "markdown",
   "id": "47970f27-e5f3-4891-8c6e-a470d2ade0dc",
   "metadata": {},
   "source": [
    "> ( **FT** ) $X(\\omega) := \\int_{-\\infty}^{\\infty} x(t) e^{-i \\omega t} d t \\implies x(t) = \\frac{1}{2 \\pi} \\int_{-\\infty}^{\\infty} X(\\omega) e^{i \\omega t} d \\omega$.\n",
    "\n",
    "**Proof.** As $T\\to \\infty$, the discrete Fourier spectrum becomes continuous and hence the summation becomes integral, which follows the conclusion by changing $X[k]$ with $TX[k]$.\n",
    "\n",
    "> **Remark:** $X$ gives a frequency representation of $x$.\n",
    "\n",
    "> ( **DFT** ) $X[k]=\\sum_{n=0}^{N-1} x[n] e^{-i k \\omega_{0} n} \\implies x[n]=\\frac{1}{N} \\sum_{k=0}^{N-1} X[k] e^{i k \\omega_{0} n}$ where $\\omega_{0}=\\frac{2 \\pi}{N}$.\n",
    "\n",
    "**Proof.** Observe that $[\\omega^{-k l}]^* [\\omega^{-k l}]= nI_n$, where $\\omega=e^{2 i \\pi / N}$.\n",
    "\n",
    "The **FFT** algorithm is simply the DFT with $N = 2^{r}$ since when $N = 2^{r}$ matrix multiplciation may be decoposed into sparse matrices matrix multiplication.\n",
    "\n",
    "\n",
    "\n"
   ]
  },
  {
   "cell_type": "markdown",
   "id": "a9bd79d6-c5d0-4eeb-a1bb-cd6c8a180398",
   "metadata": {},
   "source": [
    "Here follow some examples.\n",
    "\n",
    "> $x(t) e^{i \\omega_{0} t} \\leftrightarrow X\\left(\\omega-\\omega_{0}\\right)$.\n",
    ">\n",
    "> $X(t) \\leftrightarrow 2\\pi x(-\\omega)$.\n",
    ">\n",
    "> $\\delta(t) \\leftrightarrow 1 \\implies 1 \\leftrightarrow 2\\pi \\delta(\\omega)$.\n",
    "\n",
    "Therefore, Frequency Domain representation,  $X(\\omega)$, gives amplitude of the real and imaginary parts of the sinusoid at each frequency."
   ]
  },
  {
   "cell_type": "markdown",
   "id": "03f5331e",
   "metadata": {},
   "source": [
    "---\n",
    "\n",
    "### Reference\n",
    "\n",
    "1. Paul Heckbert. Fourier Transforms and the Fast Fourier Transform (FFT) Algorithm."
   ]
  }
 ],
 "metadata": {
  "kernelspec": {
   "display_name": "Python 3",
   "language": "python",
   "name": "python3"
  },
  "language_info": {
   "codemirror_mode": {
    "name": "ipython",
    "version": 3
   },
   "file_extension": ".py",
   "mimetype": "text/x-python",
   "name": "python",
   "nbconvert_exporter": "python",
   "pygments_lexer": "ipython3",
   "version": "3.8.13"
  }
 },
 "nbformat": 4,
 "nbformat_minor": 5
}
