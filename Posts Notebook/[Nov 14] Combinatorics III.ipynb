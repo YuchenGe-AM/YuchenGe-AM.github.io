{
 "cells": [
  {
   "cell_type": "markdown",
   "id": "a4ecbc3a",
   "metadata": {},
   "source": [
    "## [Nov 14] Combinatorics III\n",
    "\n",
    "Presenter: Yuchen Ge  \n",
    "Affiliation: University of Oxford  \n",
    "Contact Email: gycdwwd@gmail.com  \n",
    "Website: https://yuchenge-am.github.io"
   ]
  },
  {
   "cell_type": "markdown",
   "id": "f716c726",
   "metadata": {},
   "source": [
    "### Combinatorics is not a science, it's an attitude.\n",
    "----"
   ]
  },
  {
   "cell_type": "markdown",
   "id": "ef270289",
   "metadata": {},
   "source": [
    "### 1. Hypergraph"
   ]
  },
  {
   "cell_type": "markdown",
   "id": "e6978b3c-0316-4cf9-a897-2a89d67f5fcc",
   "metadata": {},
   "source": [
    "> A hypergraph is a pair $(V, E)$, where $V$ is a set of vertices, and $E$ is a set of **hyperedges**.\n",
    ">\n",
    "> An r-uniform hypergraph is a hypergraph with $E \\subseteq V^{(r)}$.\n",
    "\n",
    "Isomorphism is defined just as expected. \n",
    "\n",
    "> Let  $H$  be an $r$-uniform hypergraph. An  $r$-uniform hypergraph $G$  is $H$-saturated if  $G$  does not contain a copy of $H$, but adding any edge to  $G$  makes the resulting hypergraph contain a copy of  $H$."
   ]
  },
  {
   "cell_type": "markdown",
   "id": "474fea9c-3587-4422-9758-76c03136fcab",
   "metadata": {},
   "source": [
    "Suprisingly, Bollobás determined the minimum number precisely.\n",
    "\n",
    "First recall \n",
    "> **( Two Families Theorem )** Let  $A_{1}, \\ldots, A_{k}$  and  $B_{1}, \\ldots, B_{k}$  be finite sets s.t. $\\forall i$, $A_{i} \\cap B_{i}=\\emptyset$ and, $\\forall i \\neq j$, $A_{i} \\cap B_{j} \\neq \\emptyset$. Then\n",
    "$$\\sum_{i=1}^{k}\\binom{\\left|A_{i}\\right|+\\left|B_{i}\\right|}{ \\left|A_{i}\\right|}^{-1} \\leq 1.$$\n",
    "\n",
    "It follows that \n",
    "\n",
    "> **Thm**. Let  $G$  be an  $r$-uniform hypergraph with vertex set $[n]$ s.t. adding any edge to $G$ creates a copy of  $K_{r+s}^{(r)}$. Then  $G $ has at least $\\binom{n}{r} - \\binom{n-s}{r}$ edges.\n",
    "\n",
    "**Proof.** Let $\\mathcal{A}=\\left\\{A_{1}, \\ldots, A_{m}\\right\\} \\subset [n]^{(r)}$ be the non-edges of $G$. For each  $i$, there is an  $(r+s)$-element set  $K_{i} \\supset A_{i}$ such that adding  $A_{i}$ to  $\\mathcal{G}$ creates a copy of  $K_{r+s}^{(r)}$  with vertex set  $K_{i}$. Let  $B_{i}=[n] \\backslash K_{i}$. Then it satisfies the conditions in the **Two Families Theorem**, which follows that\n",
    "$$ m \\leq \\binom{r+(n-r-s)}{r} = \\binom{n-s}{r}. $$\n",
    "\n",
    "The above bound is sharp: **we can take the $r$-uniform hypergraph with vertex class  $[n]$  and edges  $\\left\\{F \\in[n]^{(r)}: F \\cap[s] \\neq \\emptyset\\right\\}$**."
   ]
  },
  {
   "cell_type": "markdown",
   "id": "0fd191c4-ed3e-4092-9004-ebc427bb72ea",
   "metadata": {},
   "source": [
    "Also, we prove the **sunflower lemma**:\n",
    "\n",
    "> For each  $k>0$, $r>0$, there is an integer  $f(k, r) \\leq k !(r-1)^{k}$  s.t. if a set system  $W$  of  $k$-sets is of cardinality greater than  $f(k, r)$, then  $W$  contains a sunflower of size  $r$.\n",
    "\n",
    "**Proof.** It's clear that $f(1, r) \\leq r-1$. In the general case, suppose $W$  has no sunflower with  $r$  sets. Then consider  $A_{1}, A_{2}, \\ldots, A_{t} \\in W$  to be a maximal collection of pairwise disjoint sets, which follows that $t<r$.\n",
    "\n",
    "Let  $A=A_{1} \\cup A_{2} \\cup \\cdots \\cup A_{t}$, and we know $|A| \\leq k t \\leq k(r-1)$. Define  $W_{a}$  for some  $a \\in A$  to be $W_{a}=\\{S \\backslash\\{a\\} \\mid a \\in S, S \\in W\\}$.\n",
    "\n",
    "\n",
    "Then  $W_{a}$  is a set system, and by induction every sunflower of  $W_{a}$  corresponds to a sunflower of  $W$, simply by adding back  $a$  to every set. Therefore  since $W$  has no sunflower of size  $r$, $|W_{a}|\\leq f(k-1, r)-1$.\n",
    "\n",
    "Since every set  $S \\in W$  intersects with one of the  $A_{i}$'s, it intersects with  $A$, and so it corresponds to at least one of the sets in a  $W_{a}$:\n",
    "\n",
    "$$|W| \\leq \\sum_{a \\in A}\\left|W_{a}\\right| \\leq|A|(f(k-1, r)-1) \\leq k(r-1) f(k-1, r)-|A| \\leq k(r-1) f(k-1, r)-1 .$$\n",
    "\n",
    "Therefore, the theorem follows.\n"
   ]
  },
  {
   "cell_type": "markdown",
   "id": "3b6ad2d1-b2d8-4745-b7ab-3ccd5ca53435",
   "metadata": {},
   "source": [
    "---"
   ]
  },
  {
   "cell_type": "markdown",
   "id": "84415a27-a1c5-4c74-a504-98f6cb14a1b8",
   "metadata": {},
   "source": [
    "### 2. Multigraph\n",
    "\n",
    "> A multigraph is $(V, E, \\phi)$ where  $V$  and  $E$  are finite sets, and  $\\phi: E \\rightarrow \\binom{V}{2} \\cup \\binom{V}{1}$  encodes the ends ( or end for a loop ) of an edge  $e \\in E$.\n",
    "\n",
    "Then we know that \n",
    "\n",
    "> $G^{*}$  is always connected.\n",
    "> \n",
    "> If $G$  is connected, then $G^{*}$  has one face for every vertex of  $G$, and $(G^{*})^{*} \\equiv G$. \n",
    "\n",
    "Note that the dual of a connected simple graph may be a multigraph.\n",
    "\n",
    "\n",
    "> A map is a connected bridgeless plane (multi-)graph. ( therefore, its dual has no loops )\n",
    "\n",
    "One of the most famous problems in graph theory, posed in 1852, is: can the faces of every map be coloured with 4 colours so that faces sharing an edge get different colours?\n",
    "\n",
    "Taking duals, this is equivalent to asking whether every planar (simple) graph  G  has  $\\chi(G) \\leqslant 4$. The answer is **yes** which is known as **the Four Colour Theorem**."
   ]
  },
  {
   "cell_type": "markdown",
   "id": "03f5331e",
   "metadata": {},
   "source": [
    "---\n",
    "\n",
    "### Reference\n",
    "\n",
    "1. Béla Bollobás. Modern Graph Theory.\n",
    "2. Béla Bollobás. Combinatorics: set systems, hypergraphs, families of vectors, and combinatorial probability."
   ]
  }
 ],
 "metadata": {
  "kernelspec": {
   "display_name": "Python 3",
   "language": "python",
   "name": "python3"
  },
  "language_info": {
   "codemirror_mode": {
    "name": "ipython",
    "version": 3
   },
   "file_extension": ".py",
   "mimetype": "text/x-python",
   "name": "python",
   "nbconvert_exporter": "python",
   "pygments_lexer": "ipython3",
   "version": "3.8.13"
  }
 },
 "nbformat": 4,
 "nbformat_minor": 5
}
