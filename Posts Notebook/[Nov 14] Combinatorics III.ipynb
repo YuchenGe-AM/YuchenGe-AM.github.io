{
 "cells": [
  {
   "cell_type": "markdown",
   "id": "a4ecbc3a",
   "metadata": {},
   "source": [
    "## [Nov 14] Combinatorics III\n",
    "\n",
    "Presenter: Yuchen Ge  \n",
    "Affiliation: University of Oxford  \n",
    "Contact Email: gycdwwd@gmail.com  \n",
    "Website: https://yuchenge-am.github.io"
   ]
  },
  {
   "cell_type": "markdown",
   "id": "f716c726",
   "metadata": {},
   "source": [
    "### Combinatorics is not a science, it's an attitude.\n",
    "----"
   ]
  },
  {
   "cell_type": "markdown",
   "id": "ef270289",
   "metadata": {},
   "source": [
    "### 1. Hypergraph"
   ]
  },
  {
   "cell_type": "markdown",
   "id": "e6978b3c-0316-4cf9-a897-2a89d67f5fcc",
   "metadata": {},
   "source": [
    "> A hypergraph is a pair $(V, E)$, where $V$ is a set of vertices, and $E$ is a set of **hyperedges**.\n",
    ">\n",
    "> An r-uniform hypergraph is a hypergraph with $E \\subseteq V^{(r)}$.\n",
    "\n",
    "Isomorphism is defined just as expected. \n",
    "\n",
    "> Let  $H$  be an $r$-uniform hypergraph. An  $r$-uniform hypergraph $G$  is $H$-saturated if  $G$  does not contain a copy of $H$, but adding any edge to  $G$  makes the resulting hypergraph contain a copy of  $H$."
   ]
  },
  {
   "cell_type": "markdown",
   "id": "474fea9c-3587-4422-9758-76c03136fcab",
   "metadata": {},
   "source": [
    "Suprisingly, Bollobás determined the minimum number precisely.\n",
    "\n",
    "First recall \n",
    "> **( Two Families Theorem )** Let  $A_{1}, \\ldots, A_{k}$  and  $B_{1}, \\ldots, B_{k}$  be finite sets s.t. $\\forall i$, $A_{i} \\cap B_{i}=\\emptyset$ and, $\\forall i \\neq j$, $A_{i} \\cap B_{j} \\neq \\emptyset$. Then\n",
    "$$\\sum_{i=1}^{k}\\binom{\\left|A_{i}\\right|+\\left|B_{i}\\right|}{ \\left|A_{i}\\right|}^{-1} \\leq 1.$$\n",
    "\n",
    "It follows that \n",
    "\n",
    "> **Thm**. Let  $G$  be an  $r$-uniform hypergraph with vertex set $[n]$ s.t. adding any edge to $G$ creates a copy of  $K_{r+s}^{(r)}$. Then  $G $ has at least $\\binom{n}{r} - \\binom{n-s}{r}$ edges.\n",
    "\n",
    "**Proof.** Let $\\mathcal{A}=\\left\\{A_{1}, \\ldots, A_{m}\\right\\} \\subset [n]^{(r)}$ be the non-edges of $G$. For each  $i$, there is an  $(r+s)$-element set  $K_{i} \\supset A_{i}$ such that adding  $A_{i}$ to  $\\mathcal{G}$ creates a copy of  $K_{r+s}^{(r)}$  with vertex set  $K_{i}$. Let  $B_{i}=[n] \\backslash K_{i}$. Then it satisfies the conditions in the **Two Families Theorem**, which follows that\n",
    "$$ m \\leq \\binom{r+(n-r-s)}{r} = \\binom{n-s}{r}. $$\n",
    "\n",
    "The above bound is sharp: **we can take the $r$-uniform hypergraph with vertex class  $[n]$  and edges  $\\left\\{F \\in[n]^{(r)}: F \\cap[s] \\neq \\emptyset\\right\\}$**."
   ]
  },
  {
   "cell_type": "markdown",
   "id": "84415a27-a1c5-4c74-a504-98f6cb14a1b8",
   "metadata": {},
   "source": [
    "### 2. Multigraph\n",
    "\n",
    "> A multigraph is $(V, E, \\phi)$ where  $V$  and  $E$  are finite sets, and  $\\phi: E \\rightarrow \\binom{V}{2} \\cup \\binom{V}{1}$  encodes the ends ( or end for a loop ) of an edge  $e \\in E$.\n",
    "\n",
    "Then we know that \n",
    "\n",
    "> $G^{*}$  is always connected.\n",
    "> \n",
    "> If $G$  is connected, then $G^{*}$  has one face for every vertex of  $G$, and $(G^{*})^{*} \\equiv G$. \n",
    "\n",
    "Note that the dual of a connected simple graph may be a multigraph.\n",
    "\n",
    "\n",
    "> A map is a connected bridgeless plane (multi-)graph. ( therefore, its dual has no loops )\n",
    "\n",
    "One of the most famous problems in graph theory, posed in 1852, is: can the faces of every map be coloured with 4 colours so that faces sharing an edge get different colours?\n",
    "\n",
    "Taking duals, this is equivalent to asking whether every planar (simple) graph  G  has  $\\chi(G) \\leqslant 4$. The answer is **yes** which is known as **the Four Colour Theorem**."
   ]
  },
  {
   "cell_type": "markdown",
   "id": "03f5331e",
   "metadata": {},
   "source": [
    "---\n",
    "\n",
    "### Reference\n",
    "\n",
    "1. Geoffrey Grimmett. Probability on Graphs."
   ]
  }
 ],
 "metadata": {
  "kernelspec": {
   "display_name": "Python 3",
   "language": "python",
   "name": "python3"
  },
  "language_info": {
   "codemirror_mode": {
    "name": "ipython",
    "version": 3
   },
   "file_extension": ".py",
   "mimetype": "text/x-python",
   "name": "python",
   "nbconvert_exporter": "python",
   "pygments_lexer": "ipython3",
   "version": "3.8.13"
  }
 },
 "nbformat": 4,
 "nbformat_minor": 5
}
