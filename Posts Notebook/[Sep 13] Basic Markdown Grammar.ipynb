{
 "cells": [
  {
   "cell_type": "markdown",
   "id": "92ba45c2",
   "metadata": {},
   "source": [
    "## [Sep 13] Basic Markdown Grammar\n",
    "\n",
    "Presenter: Yuchen Ge  \n",
    "Affiliation: University of Oxford  \n",
    "Contact Email: gycdwwd@gmail.com  \n",
    "Website: https://yuchenge-am.github.io"
   ]
  },
  {
   "cell_type": "markdown",
   "id": "d5baa376",
   "metadata": {},
   "source": [
    "<xmp>\n",
    "## [Sep 13] Bais Markdown Grammar\n",
    "\n",
    "Presenter: Yuchen Ge  \n",
    "Affiliation: University of Oxford  \n",
    "Contact Email: gycdwwd@gmail.com  \n",
    "Website: https://yuchenge-am.github.io\n",
    "</xmp>"
   ]
  },
  {
   "cell_type": "markdown",
   "id": "c0c595f9",
   "metadata": {},
   "source": [
    "----"
   ]
  },
  {
   "cell_type": "markdown",
   "id": "57039666",
   "metadata": {},
   "source": [
    "**index**\n",
    "\n",
    "1. [Some examples](#Some_examples)\n",
    "2. [I'm an inline-style link](https://www.google.com)"
   ]
  },
  {
   "cell_type": "markdown",
   "id": "7b2e1fe6",
   "metadata": {},
   "source": [
    "<xmp>\n",
    "**index**\n",
    "    \n",
    "1. [Some examples](#Some_examples)\n",
    "2. Draw Commutative Diagram(#Draw-Commutative-Diagram)\n",
    "3. [I'm an inline-style link](https://www.google.com)   \n",
    "</xmp>"
   ]
  },
  {
   "cell_type": "markdown",
   "id": "79cc8071",
   "metadata": {},
   "source": [
    "---"
   ]
  },
  {
   "cell_type": "markdown",
   "id": "ce767c00",
   "metadata": {},
   "source": [
    "### 1. Some examples <a id='Some_examples'></a>\n",
    "\n",
    "#### Quotes \n",
    "> **Def 1.** Oh this is so `simple` \n",
    "\n",
    "[I'm an inline-style link](https://www.google.com)\n",
    "\n",
    "1. Item 1\n",
    "    1. Subitem\n",
    "    2. Subitem 2\n",
    "    \n",
    "- Bullet Point 1\n",
    "    - Sub Bullet Point\n",
    "    - Sub Bullet Point 2\n",
    "    \n",
    "    \n",
    "<div>\n",
    "    <img src=\"images/path.jpg\" alt=\"Drawing\" style=\"width: 300px;\">\n",
    "</div>"
   ]
  },
  {
   "cell_type": "markdown",
   "id": "abb8eefd",
   "metadata": {},
   "source": [
    "<xmp>\n",
    "### 1. Some examples <a id='Some_examples'></a>\n",
    "\n",
    "#### Quotes \n",
    "> **Def 1.** Oh this is so `simple` \n",
    "\n",
    "[I'm an inline-style link](https://www.google.com)\n",
    "\n",
    "1. Item 1\n",
    "    1. Subitem\n",
    "    2. Subitem 2\n",
    "    \n",
    "- Bullet Point 1\n",
    "    - Sub Bullet Point\n",
    "    - Sub Bullet Point 2\n",
    "    \n",
    "    \n",
    "<div>\n",
    "    <img src=\"images/path.jpg\" alt=\"Drawing\" style=\"width: 300px;\">\n",
    "</div>\n",
    "\n",
    "</xmp>"
   ]
  },
  {
   "cell_type": "markdown",
   "id": "0ffd29ea-26be-4f49-ad84-ea47841b3c98",
   "metadata": {},
   "source": [
    "---"
   ]
  },
  {
   "cell_type": "markdown",
   "id": "8fb2d7ba-6583-43bc-a91b-a91c67eb0c15",
   "metadata": {},
   "source": [
    "### 2. Draw Commutative Diagram <a id='Draw-Commutative-Diagram'></a>\n",
    "\n",
    "Please refer to https://tikzcd.yichuanshen.de in which one first draws a picture and the corresponding **tikzde code** shall be generated.\n",
    "\n",
    "<code class=\"language-tikzcd\">[Tikzcd codes of Natural Transformation](https://tikzcd.yichuanshen.de/#N4Igdg9gJgpgziAXAbVABwnAlgFyxMJZABgBpiBdUkANwEMAbAVxiRADEAKAQQEoQAvqXSZc+QigCM5KrUYs2AcR78hI7HgJEyk2fWatEHTgCFVwkBg3ii03dX0Kjys4NkwoAc3hFQAMwAnCABbJDIQHAgkaRAGOgAjGAYABVFNCViYPxwQB3lDCJVBC0CQpAAmakikAGY8gzYcU3N-INDEcOrESrkGoy4-FpBS9piuut6nEGVBtwEgA)\n",
    "\\begin{tikzcd}\n",
    "    F(A) \\arrow[r, \"t(A)\"] \\arrow[d, \"F(f)\"] & G(A) \\arrow[d, \"G(f)\"] \\\\\n",
    "    F(B) \\arrow[r, \"t(B)\"] & G(B)\n",
    "\\end{tikzcd}\n",
    "</code>\n",
    "</xmp>"
   ]
  }
 ],
 "metadata": {
  "kernelspec": {
   "display_name": "Python 3",
   "language": "python",
   "name": "python3"
  },
  "language_info": {
   "codemirror_mode": {
    "name": "ipython",
    "version": 3
   },
   "file_extension": ".py",
   "mimetype": "text/x-python",
   "name": "python",
   "nbconvert_exporter": "python",
   "pygments_lexer": "ipython3",
   "version": "3.8.13"
  }
 },
 "nbformat": 4,
 "nbformat_minor": 5
}
